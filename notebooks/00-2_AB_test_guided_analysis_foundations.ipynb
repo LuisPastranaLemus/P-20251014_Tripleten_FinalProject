{
 "cells": [
  {
   "cell_type": "markdown",
   "id": "9acf1cab",
   "metadata": {},
   "source": [
    "### 🎯 __Project Objectives: A/B Test — “recommender_system_test”__\n",
    "\n",
    "The main objective of this second phase of the data analysis project is to evaluate the impact of implementing a new recommendation system on the behavior of users of an international online store, through the analysis of a controlled A/B test.\n",
    "\n",
    "Specifically, the objectives are:\n",
    "\n",
    "1. Measure and compare the performance of the new checkout funnel (group B) against the current funnel (group A), using key conversion metrics within the user journey:\n",
    "\n",
    "    - Product page views (product_page)\n",
    "    - Add to cart events (product_cart)\n",
    "    - Completed purchases (purchase)\n",
    "\n",
    "2. Validate whether the new recommendation system improves sales funnel conversion by at least 10% at each stage, within 14 days of user registration, as established in the business hypothesis.\n",
    "\n",
    "3. Verify the consistency and quality of the collected data to ensure the analysis is statistically reliable and representative of the selected audience (15% of new users in the EU region).\n",
    "\n",
    "4. Apply appropriate statistical methods (such as hypothesis testing and significance analysis) to determine whether the observed differences between groups A and B are attributable to the new recommendation system and not due to chance.\n",
    "\n",
    "5. Communicate actionable findings that allow the product team to decide whether the new checkout funnel should be implemented widely or requires additional adjustments before full deployment."
   ]
  },
  {
   "cell_type": "markdown",
   "id": "dd2fd989",
   "metadata": {},
   "source": [
    "#### __Technical Description__\n",
    "\n",
    "- Test Name: __recommender_system_test__\n",
    "- Groups: A (control), B (new checkout funnel)\n",
    "- Launch Date: 2020-12-07\n",
    "- Date new users stopped: 2020-12-21\n",
    "- End Date: 2021-01-01\n",
    "- Audience: __15% of new__ users from the _EU region_\n",
    "- Test Purpose: To test changes related to the introduction of an improved recommendation system\n",
    "- Expected Outcome: __Within 14 days of enrollment__, users will show improved conversion rates for product page views (the product_page event), adding items to the shopping cart (product_cart), and purchases (purchase). At each stage of the `product_page → product_cart → purchase` __funnel__, there will be _at least a 10% increase_.\n",
    "- Expected number of test participants: 6,000\n",
    "\n",
    "\n",
    "####  __Data Description__\n",
    "\n",
    "`ab_project_marketing_events_us.csv` (the marketing events calendar for 2020)\n",
    "\n",
    "- `name`: the name of the marketing event\n",
    "- `regions`: regions where the advertising campaign will be run\n",
    "- `start_dt`: the campaign start date\n",
    "- `finish_dt`: the campaign end date\n",
    "\n",
    "`final_ab_new_users_upd_us.csv` (all users who registered in the online store from December 7 to 21, 2020)\n",
    "\n",
    "- `user_id`: user identification\n",
    "- `first_date`: Date of enrollment\n",
    "- `region`: location\n",
    "- `device`: Device used for enrollment\n",
    "\n",
    "`final_ab_events_upd_us.csv` (all new user events from December 7, 2020, to January 1, 2021)\n",
    "\n",
    "- `user_id`: user identification\n",
    "- `event_dt`: Date and time of the event\n",
    "- `event_name`: Name of the event type\n",
    "- `details`: Additional information about the event (e.g., the total order in USD for purchase events)\n",
    "\n",
    "`final_ab_participants_upd_us.csv` (a table with data on test participants)\n",
    "\n",
    "- `user_id`: user identification\n",
    "- `ab_test`: Name of the test\n",
    "- `group`: The test group the user belonged to"
   ]
  },
  {
   "cell_type": "markdown",
   "id": "84f9d0ca",
   "metadata": {},
   "source": [
    "### 💻 __1. Notebook Libraries and Customization__"
   ]
  },
  {
   "cell_type": "code",
   "execution_count": 1,
   "id": "68d7a683",
   "metadata": {},
   "outputs": [],
   "source": [
    "import datetime as dt\n",
    "from datetime import datetime\n",
    "from IPython.display import display, HTML\n",
    "from matplotlib import pyplot as plt\n",
    "import numpy as np\n",
    "import pandas as pd\n",
    "import plotly.express as px\n",
    "import plotly.graph_objects as go\n",
    "import re\n",
    "from scipy import stats as st\n",
    "from statsmodels.stats.proportion import proportions_ztest\n",
    "import unicodedata"
   ]
  },
  {
   "cell_type": "markdown",
   "id": "459e8995",
   "metadata": {},
   "source": [
    "### 💻 __2. Functions__"
   ]
  },
  {
   "cell_type": "code",
   "execution_count": 2,
   "id": "c78ce549",
   "metadata": {},
   "outputs": [],
   "source": [
    "# Function to normalize string formatting in object-type columns\n",
    "def normalize_string_format(df, include=None, exclude=None):\n",
    "    \"\"\"\n",
    "    Standardizes text formatting for object-type (string) columns in a DataFrame.\n",
    "\n",
    "    Operations performed:\n",
    "    - Converts text to lowercase\n",
    "    - Strips leading/trailing whitespace\n",
    "    - Replaces punctuation with spaces\n",
    "    - Collapses spaces into underscores\n",
    "    - Removes redundant underscores\n",
    "    - Adds unicode normalization to remove accents and special characters.\n",
    "\n",
    "    Parameters:\n",
    "    df (DataFrame): The input DataFrame.\n",
    "    include (list, optional): Specific columns to apply formatting to. If None, applies to all except those in 'exclude'.\n",
    "    exclude (list, optional): Columns to skip.\n",
    "\n",
    "    Returns:\n",
    "    DataFrame: Updated DataFrame with normalized string formats.\n",
    "    \"\"\"\n",
    "\n",
    "    if exclude is None:\n",
    "        exclude = []\n",
    "\n",
    "    if include is None:\n",
    "        available_columns = [col for col in df.columns if col not in exclude]\n",
    "    else:\n",
    "        available_columns = [col for col in include if col not in exclude]\n",
    "\n",
    "    def clean_text(text):\n",
    "        if isinstance(text, str):\n",
    "            text = unicodedata.normalize('NFKD', text).encode('ascii', 'ignore').decode('utf-8')\n",
    "            text = (text\n",
    "                    # .lower()\n",
    "                    .strip())\n",
    "            text = re.sub(r'[^\\w\\s.]', ' ', text)    # Replaces all characters other than letters, numbers, or spaces with a space\n",
    "            text = re.sub(r'\\s+', '_', text)        # Replace one or more consecutive spaces with an underscore \"_\"\n",
    "            text = re.sub(r'__+', '_', text)        # Replaces multiple consecutive underscores with a single \"_\"\n",
    "            text = re.sub(r'_(?=\\s|$)', '', text)   # Removes underscores that are just before a space or at the end of the text\n",
    "            text = re.sub(r'__+', '_', text)        # Replaces double underscores with single underscores\n",
    "        return text\n",
    "\n",
    "    for column in available_columns:\n",
    "        if df[column].dtype in ['object', 'string']:\n",
    "            df[column] = df[column].apply(clean_text)\n",
    "\n",
    "    return df\n",
    "\n",
    "# Function to identify non-standard missing values in object-type columns\n",
    "def check_existing_missing_values(df):\n",
    "    \"\"\"\n",
    "    Checks object-type columns in a DataFrame for non-standard missing values.\n",
    "\n",
    "    Parameters:\n",
    "    df (DataFrame): The dataset to inspect.\n",
    "\n",
    "    Output:\n",
    "    Displays the number of non-standard missing entries per column and the matched values.\n",
    "    \"\"\"\n",
    "\n",
    "    # Common non-standard representations of missing values\n",
    "    missing_values = ['', ' ', 'N/A', 'none', 'None','null', 'NULL', 'NaN', 'nan', 'NAN', 'nat', 'NaT']\n",
    "\n",
    "    display(HTML(f\"<h4>Scanning for Non-Standard Missing Values</h4>\"))\n",
    "\n",
    "    for column in df.columns:\n",
    "\n",
    "        matches = df[df[column].isin(missing_values)][column].unique()\n",
    "\n",
    "        if df[column].isin(missing_values).any() and matches.size > 0:\n",
    "            count = df[column].isin(missing_values).sum()\n",
    "            display(\n",
    "                HTML(f\"> Missing values in column <i>'{column}'</i>: <b>{count}</b>\"))\n",
    "            display(\n",
    "                HTML(f\"&emsp;Matched non-standard values: {list(matches)}\"))\n",
    "        else:\n",
    "            display(\n",
    "                HTML(f\"> Missing values in column <i>'{column}'</i>: None\"))\n",
    "\n",
    "    print()\n",
    "\n",
    "    return None\n",
    "\n",
    "# Function to standardize non-standard missing values to pd.NA\n",
    "def replace_missing_values(df, include=None, exclude=None):\n",
    "    \"\"\"\n",
    "    Replaces common non-standard missing value entries in object-type columns with pd.NA.\n",
    "\n",
    "    Parameters:\n",
    "    df (DataFrame): The input dataset.\n",
    "    include (list, optional): List of columns to include. If None, all columns except those in 'exclude' are considered.\n",
    "    exclude (list, optional): List of columns to exclude from replacement.\n",
    "\n",
    "    Returns:\n",
    "    DataFrame: Updated DataFrame with non-standard missing values replaced by pd.NA.\n",
    "    \"\"\"\n",
    "\n",
    "    missing_values = ['', ' ', 'N/A', 'none', 'None', 'null', 'NULL', 'NaN', 'nan', 'NAN', 'nat', 'NaT']\n",
    "\n",
    "    if exclude is None:\n",
    "        exclude = []\n",
    "\n",
    "    if include is None:\n",
    "        available_columns = [col for col in df.columns if col not in exclude]\n",
    "    else:\n",
    "        available_columns = [col for col in include if col not in exclude]\n",
    "\n",
    "    for column in available_columns:\n",
    "        if df[column].dtype in ['object', 'string'] and df[column].isin(missing_values).any():\n",
    "            df.loc[:, column] = df[column].replace(missing_values, pd.NA)\n",
    "\n",
    "    return df\n",
    "\n",
    "# function for displaying the percentage of mising values in a Dataset\n",
    "def missing_values_rate(df, include=None, exclude=None):\n",
    "    \n",
    "    \"\"\"\n",
    "    Displays the percentage of missing values for specified columns in a DataFrame.\n",
    "\n",
    "    Parameters:\n",
    "    ----------\n",
    "    df : pandas.DataFrame\n",
    "        The DataFrame to analyze.\n",
    "\n",
    "    include : list, optional\n",
    "        List of column names to include in the analysis. If None, all columns not in `exclude` are considered.\n",
    "\n",
    "    exclude : list, optional\n",
    "        List of column names to exclude from the analysis. Default is an empty list.\n",
    "\n",
    "    Returns:\n",
    "    -------\n",
    "    None\n",
    "        Displays HTML output in a Jupyter Notebook environment.\n",
    "    \"\"\"\n",
    "    \n",
    "    if exclude is None:\n",
    "        exclude = []\n",
    "\n",
    "    if include is None:\n",
    "        available_columns = [col for col in df.columns if col not in exclude]\n",
    "    else:\n",
    "        available_columns = [col for col in include if col not in exclude]\n",
    "\n",
    "    for column in available_columns:\n",
    "        total_values = len(df[column])\n",
    "        if total_values == 0:\n",
    "            percentage = 0\n",
    "        else:\n",
    "            missing_values = df[column].isna().sum()\n",
    "            percentage = (missing_values / total_values) * 100\n",
    "\n",
    "        display(HTML(f\"> Percentage of missing values for column <i>'{column}'</i>: <b>{percentage:.2f}</b> %<br>\"))\n",
    "        display(HTML(f\">    Total values: {df[column].shape[0]}<br>   > Missing values: {df[column].isna().sum()}<br><br>\"))\n",
    "\n",
    "# Funnel detect sequence\n",
    "def detect_irregular_funnel_sequences(df_events, user_col='user_id', event_col='event_name', date_col='event_dt', time_col='event_tm'):\n",
    "    \"\"\"\n",
    "    Detects users whose sequence of events by date does not follow the logical order of the funnel,\n",
    "    allowing incomplete but ordered sequences.\n",
    "\n",
    "    Returns:\n",
    "    - df_users_irregular: DataFrame with columns:\n",
    "    - user_id\n",
    "    - event_date: Date of the event group\n",
    "    - event_sequence: Ordered list of tuples (timestamp, event)\n",
    "    \"\"\"\n",
    "    \n",
    "    expected_order = ['login', 'product_page', 'product_cart', 'purchase']\n",
    "    df_events = df_events.copy()\n",
    "\n",
    "    # Combine date and time into a complete datetime \n",
    "    df_events['event_timestamp'] = df_events.apply(lambda row: datetime.combine(row[date_col], row[time_col]), axis=1) \n",
    "\n",
    "    # Sort by user, date and time \n",
    "    df_sorted = df_events.sort_values(by=[user_col, date_col, 'event_timestamp']) \n",
    "\n",
    "    irregular_records = [] \n",
    "\n",
    "    # Group by user and date \n",
    "    for (user_id, event_date), group in df_sorted.groupby([user_col, date_col]):\n",
    "        funnel_events = group[group[event_col].isin(expected_order)] \n",
    "\n",
    "        # Generate list of tuples (timestamp, event) \n",
    "        event_sequence = list(zip(funnel_events['event_timestamp'].tolist(), funnel_events[event_col].tolist())) \n",
    "\n",
    "        # Check if the sequence is ordered according to the funnel \n",
    "        last_index = -1 \n",
    "        for _, e in event_sequence:\n",
    "            current_index = expected_order.index(e) \n",
    "            if current_index < last_index:\n",
    "                irregular_records.append({'user_id': user_id, 'event_date': event_date, 'event_sequence': event_sequence}) \n",
    "                break \n",
    "            last_index = current_index \n",
    "\n",
    "    df_users_irregular = pd.DataFrame(irregular_records) \n",
    "    return df_users_irregular\n",
    "\n",
    "# Plot pie or donut chart\n",
    "# plot_pie_chart(df_users_testAB, 'region', 'user_id', color_map=color_map, unique_values=True)\n",
    "def plot_pie_chart_plotlypx(df, category_col, value_col, color_map=None, labels=True, title=None, unique_values=False):\n",
    "    \"\"\"\n",
    "    Generates a pie chart using Plotly Express.\n",
    "\n",
    "    Parameters:\n",
    "\n",
    "    - df: Input DataFrame\n",
    "    - category_col: Column with categories (pie labels)\n",
    "    - value_col: Column with values (proportions)\n",
    "    - color_map: dictionary (color map by category) or list (sequence of colors)\n",
    "    - labels: bool, if True shows labels as percentages\n",
    "    - title: chart title text (None uses generic title)\n",
    "    \"\"\"\n",
    "    \n",
    "    if unique_values:\n",
    "        df_plot = (\n",
    "            df[[category_col, value_col]]\n",
    "            .drop_duplicates()\n",
    "            .groupby(category_col, observed=True)[value_col]\n",
    "            .nunique()\n",
    "            .reset_index(name='count')\n",
    "        )\n",
    "    else:\n",
    "        df_plot = (\n",
    "            df[[category_col, value_col]]\n",
    "            .groupby(category_col, observed=True)[value_col]\n",
    "            .count()\n",
    "            .reset_index(name='count')\n",
    "        )   \n",
    "    \n",
    "    # Create chart based on color_map type\n",
    "    if isinstance(color_map, dict):\n",
    "        fig = px.pie(\n",
    "            df_plot,\n",
    "            names=category_col,\n",
    "            values='count',\n",
    "            color=category_col,\n",
    "            color_discrete_map=color_map,\n",
    "            hole=0.0 # for full pie (adjustable if you want a donut-like pie)\n",
    "        )\n",
    "    elif isinstance(color_map, list):\n",
    "        fig = px.pie(\n",
    "            df_plot,\n",
    "            names=category_col,\n",
    "            values='count',\n",
    "            color=category_col,\n",
    "            color_discrete_sequence=color_map,\n",
    "            hole=0.0 # for full pie (adjustable if you want a donut-like pie)\n",
    "        )\n",
    "    else:\n",
    "        fig = px.pie(\n",
    "            df_plot,\n",
    "            names=category_col,\n",
    "            values='count',\n",
    "            color=category_col,\n",
    "            hole=0.0 # for full pie (adjustable if you want a donut-like pie)\n",
    "        )\n",
    "\n",
    "    fig.update_traces(textinfo='percent+label' if labels else 'none')\n",
    "    fig.update_layout(title_text=title if title else \"Distribution by Category\", title_x=0.5)\n",
    "    fig.show()\n",
    "\n",
    "# Function to plot a horizontal bar chart using Plotly Express\n",
    "def plot_horizontal_bar_plotpx(df, x: str, y: str, hue: str | None = None,         # categorical column for grouping (like hue in seaborn)\n",
    "                               title: str = '', xlabel: str = '', ylabel: str = '', sort: bool = True, height: int = 500, width: int = 1200, color: str = 'grey'):\n",
    "    \"\"\"\n",
    "    Plots a horizontal bar chart with Plotly Express.\n",
    "\n",
    "    Parameters:\n",
    "    - df (DataFrame): Input DataFrame.\n",
    "    - x (str): Column name for x-axis values (numeric).\n",
    "    - y (str): Column name for y-axis categories.\n",
    "    - hue (str, optional): Column for coloring/grouping (categorical).\n",
    "    - title (str): Chart title.\n",
    "    - xlabel (str): X-axis label.\n",
    "    - ylabel (str): Y-axis label.\n",
    "    - sort (bool): If True, sorts bars by x descending.\n",
    "    - height (int): Figure height.\n",
    "    - width (int): Figure width.\n",
    "    \"\"\"\n",
    "\n",
    "    data = df.copy()\n",
    "    if sort:\n",
    "        data = data.sort_values(by=x, ascending=True)\n",
    "        \n",
    "    if hue:\n",
    "        fig = px.bar(\n",
    "            data,\n",
    "            x=x,\n",
    "            y=y,\n",
    "            orientation='h',\n",
    "            color=hue,             # uses categoric columns\n",
    "            title=title,\n",
    "            height=height,\n",
    "            width=width\n",
    "        )\n",
    "    else:\n",
    "        fig = px.bar(\n",
    "            data,\n",
    "            x=x,\n",
    "            y=y,\n",
    "            title=title,\n",
    "            height=height,\n",
    "            width=width,\n",
    "            color_discrete_sequence=[color]\n",
    "        )\n",
    "\n",
    "    fig.update_layout(\n",
    "        xaxis_title=xlabel,\n",
    "        yaxis_title=ylabel,\n",
    "        template='plotly_white'\n",
    "    )\n",
    "\n",
    "    fig.show()\n"
   ]
  },
  {
   "cell_type": "markdown",
   "id": "ec65a8d9",
   "metadata": {},
   "source": [
    "### 🔁 __3. Data Loading__"
   ]
  },
  {
   "cell_type": "code",
   "execution_count": 3,
   "id": "cff38e39",
   "metadata": {},
   "outputs": [],
   "source": [
    "df_mkt_events = pd.read_csv('../data/raw/ab_project_marketing_events_us.csv', sep=',', header='infer', keep_default_na=False)\n",
    "df_user_events = pd.read_csv('../data/raw/final_ab_events_upd_us.csv', sep=',', header='infer', keep_default_na=False)\n",
    "df_users_registration = pd.read_csv('../data/raw/final_ab_new_users_upd_us.csv', sep=',', header='infer', keep_default_na=False)\n",
    "df_user_test = pd.read_csv('../data/raw/final_ab_participants_upd_us.csv', sep=',', header='infer', keep_default_na=False)"
   ]
  },
  {
   "cell_type": "markdown",
   "id": "8e2b4ba0",
   "metadata": {},
   "source": [
    "### 🧹 __4. Data Cleanup__"
   ]
  },
  {
   "cell_type": "markdown",
   "id": "01ec43c3",
   "metadata": {},
   "source": [
    "##### **4.1** Data Overview"
   ]
  },
  {
   "cell_type": "code",
   "execution_count": 4,
   "id": "61e45f3e",
   "metadata": {},
   "outputs": [
    {
     "name": "stdout",
     "output_type": "stream",
     "text": [
      "<class 'pandas.core.frame.DataFrame'>\n",
      "RangeIndex: 14 entries, 0 to 13\n",
      "Data columns (total 4 columns):\n",
      " #   Column     Non-Null Count  Dtype \n",
      "---  ------     --------------  ----- \n",
      " 0   name       14 non-null     object\n",
      " 1   regions    14 non-null     object\n",
      " 2   start_dt   14 non-null     object\n",
      " 3   finish_dt  14 non-null     object\n",
      "dtypes: object(4)\n",
      "memory usage: 576.0+ bytes\n"
     ]
    }
   ],
   "source": [
    "df_mkt_events.info()"
   ]
  },
  {
   "cell_type": "code",
   "execution_count": 5,
   "id": "dd3f2235",
   "metadata": {},
   "outputs": [
    {
     "name": "stdout",
     "output_type": "stream",
     "text": [
      "<class 'pandas.core.frame.DataFrame'>\n",
      "RangeIndex: 423761 entries, 0 to 423760\n",
      "Data columns (total 4 columns):\n",
      " #   Column      Non-Null Count   Dtype \n",
      "---  ------      --------------   ----- \n",
      " 0   user_id     423761 non-null  object\n",
      " 1   event_dt    423761 non-null  object\n",
      " 2   event_name  423761 non-null  object\n",
      " 3   details     423761 non-null  object\n",
      "dtypes: object(4)\n",
      "memory usage: 12.9+ MB\n"
     ]
    }
   ],
   "source": [
    "df_user_events.info()"
   ]
  },
  {
   "cell_type": "code",
   "execution_count": 6,
   "id": "bc6c8655",
   "metadata": {},
   "outputs": [
    {
     "name": "stdout",
     "output_type": "stream",
     "text": [
      "<class 'pandas.core.frame.DataFrame'>\n",
      "RangeIndex: 58703 entries, 0 to 58702\n",
      "Data columns (total 4 columns):\n",
      " #   Column      Non-Null Count  Dtype \n",
      "---  ------      --------------  ----- \n",
      " 0   user_id     58703 non-null  object\n",
      " 1   first_date  58703 non-null  object\n",
      " 2   region      58703 non-null  object\n",
      " 3   device      58703 non-null  object\n",
      "dtypes: object(4)\n",
      "memory usage: 1.8+ MB\n"
     ]
    }
   ],
   "source": [
    "df_users_registration.info()"
   ]
  },
  {
   "cell_type": "code",
   "execution_count": 7,
   "id": "699a8c75",
   "metadata": {},
   "outputs": [
    {
     "name": "stdout",
     "output_type": "stream",
     "text": [
      "<class 'pandas.core.frame.DataFrame'>\n",
      "RangeIndex: 14525 entries, 0 to 14524\n",
      "Data columns (total 3 columns):\n",
      " #   Column   Non-Null Count  Dtype \n",
      "---  ------   --------------  ----- \n",
      " 0   user_id  14525 non-null  object\n",
      " 1   group    14525 non-null  object\n",
      " 2   ab_test  14525 non-null  object\n",
      "dtypes: object(3)\n",
      "memory usage: 340.6+ KB\n"
     ]
    }
   ],
   "source": [
    "df_user_test.info()"
   ]
  },
  {
   "cell_type": "markdown",
   "id": "b609aeae",
   "metadata": {},
   "source": [
    "##### **4.2** Standardization of column heading formats (Lower case, snake case)"
   ]
  },
  {
   "cell_type": "code",
   "execution_count": 8,
   "id": "c4f33693",
   "metadata": {},
   "outputs": [
    {
     "data": {
      "application/vnd.microsoft.datawrangler.viewer.v0+json": {
       "columns": [
        {
         "name": "index",
         "rawType": "int64",
         "type": "integer"
        },
        {
         "name": "name",
         "rawType": "object",
         "type": "string"
        },
        {
         "name": "regions",
         "rawType": "object",
         "type": "string"
        },
        {
         "name": "start_dt",
         "rawType": "object",
         "type": "string"
        },
        {
         "name": "finish_dt",
         "rawType": "object",
         "type": "string"
        }
       ],
       "ref": "9b0d9f94-47f7-47d6-b990-350a98d2ba35",
       "rows": [
        [
         "0",
         "Christmas_New_Year_Promo",
         "EU_N.America",
         "2020-12-25",
         "2021-01-03"
        ],
        [
         "1",
         "St._Valentine_s_Day_Giveaway",
         "EU_CIS_APAC_N.America",
         "2020-02-14",
         "2020-02-16"
        ],
        [
         "2",
         "St._Patric_s_Day_Promo",
         "EU_N.America",
         "2020-03-17",
         "2020-03-19"
        ],
        [
         "3",
         "Easter_Promo",
         "EU_CIS_APAC_N.America",
         "2020-04-12",
         "2020-04-19"
        ],
        [
         "4",
         "4th_of_July_Promo",
         "N.America",
         "2020-07-04",
         "2020-07-11"
        ],
        [
         "5",
         "Black_Friday_Ads_Campaign",
         "EU_CIS_APAC_N.America",
         "2020-11-26",
         "2020-12-01"
        ],
        [
         "6",
         "Chinese_New_Year_Promo",
         "APAC",
         "2020-01-25",
         "2020-02-07"
        ],
        [
         "7",
         "Labor_day_May_1st_Ads_Campaign",
         "EU_CIS_APAC",
         "2020-05-01",
         "2020-05-03"
        ],
        [
         "8",
         "International_Women_s_Day_Promo",
         "EU_CIS_APAC",
         "2020-03-08",
         "2020-03-10"
        ],
        [
         "9",
         "Victory_Day_CIS_May_9th_Event",
         "CIS",
         "2020-05-09",
         "2020-05-11"
        ],
        [
         "10",
         "CIS_New_Year_Gift_Lottery",
         "CIS",
         "2020-12-30",
         "2021-01-07"
        ],
        [
         "11",
         "Dragon_Boat_Festival_Giveaway",
         "APAC",
         "2020-06-25",
         "2020-07-01"
        ],
        [
         "12",
         "Single_s_Day_Gift_Promo",
         "APAC",
         "2020-11-11",
         "2020-11-12"
        ],
        [
         "13",
         "Chinese_Moon_Festival",
         "APAC",
         "2020-10-01",
         "2020-10-07"
        ]
       ],
       "shape": {
        "columns": 4,
        "rows": 14
       }
      },
      "text/html": [
       "<div>\n",
       "<style scoped>\n",
       "    .dataframe tbody tr th:only-of-type {\n",
       "        vertical-align: middle;\n",
       "    }\n",
       "\n",
       "    .dataframe tbody tr th {\n",
       "        vertical-align: top;\n",
       "    }\n",
       "\n",
       "    .dataframe thead th {\n",
       "        text-align: right;\n",
       "    }\n",
       "</style>\n",
       "<table border=\"1\" class=\"dataframe\">\n",
       "  <thead>\n",
       "    <tr style=\"text-align: right;\">\n",
       "      <th></th>\n",
       "      <th>name</th>\n",
       "      <th>regions</th>\n",
       "      <th>start_dt</th>\n",
       "      <th>finish_dt</th>\n",
       "    </tr>\n",
       "  </thead>\n",
       "  <tbody>\n",
       "    <tr>\n",
       "      <th>0</th>\n",
       "      <td>Christmas_New_Year_Promo</td>\n",
       "      <td>EU_N.America</td>\n",
       "      <td>2020-12-25</td>\n",
       "      <td>2021-01-03</td>\n",
       "    </tr>\n",
       "    <tr>\n",
       "      <th>1</th>\n",
       "      <td>St._Valentine_s_Day_Giveaway</td>\n",
       "      <td>EU_CIS_APAC_N.America</td>\n",
       "      <td>2020-02-14</td>\n",
       "      <td>2020-02-16</td>\n",
       "    </tr>\n",
       "    <tr>\n",
       "      <th>2</th>\n",
       "      <td>St._Patric_s_Day_Promo</td>\n",
       "      <td>EU_N.America</td>\n",
       "      <td>2020-03-17</td>\n",
       "      <td>2020-03-19</td>\n",
       "    </tr>\n",
       "    <tr>\n",
       "      <th>3</th>\n",
       "      <td>Easter_Promo</td>\n",
       "      <td>EU_CIS_APAC_N.America</td>\n",
       "      <td>2020-04-12</td>\n",
       "      <td>2020-04-19</td>\n",
       "    </tr>\n",
       "    <tr>\n",
       "      <th>4</th>\n",
       "      <td>4th_of_July_Promo</td>\n",
       "      <td>N.America</td>\n",
       "      <td>2020-07-04</td>\n",
       "      <td>2020-07-11</td>\n",
       "    </tr>\n",
       "    <tr>\n",
       "      <th>5</th>\n",
       "      <td>Black_Friday_Ads_Campaign</td>\n",
       "      <td>EU_CIS_APAC_N.America</td>\n",
       "      <td>2020-11-26</td>\n",
       "      <td>2020-12-01</td>\n",
       "    </tr>\n",
       "    <tr>\n",
       "      <th>6</th>\n",
       "      <td>Chinese_New_Year_Promo</td>\n",
       "      <td>APAC</td>\n",
       "      <td>2020-01-25</td>\n",
       "      <td>2020-02-07</td>\n",
       "    </tr>\n",
       "    <tr>\n",
       "      <th>7</th>\n",
       "      <td>Labor_day_May_1st_Ads_Campaign</td>\n",
       "      <td>EU_CIS_APAC</td>\n",
       "      <td>2020-05-01</td>\n",
       "      <td>2020-05-03</td>\n",
       "    </tr>\n",
       "    <tr>\n",
       "      <th>8</th>\n",
       "      <td>International_Women_s_Day_Promo</td>\n",
       "      <td>EU_CIS_APAC</td>\n",
       "      <td>2020-03-08</td>\n",
       "      <td>2020-03-10</td>\n",
       "    </tr>\n",
       "    <tr>\n",
       "      <th>9</th>\n",
       "      <td>Victory_Day_CIS_May_9th_Event</td>\n",
       "      <td>CIS</td>\n",
       "      <td>2020-05-09</td>\n",
       "      <td>2020-05-11</td>\n",
       "    </tr>\n",
       "    <tr>\n",
       "      <th>10</th>\n",
       "      <td>CIS_New_Year_Gift_Lottery</td>\n",
       "      <td>CIS</td>\n",
       "      <td>2020-12-30</td>\n",
       "      <td>2021-01-07</td>\n",
       "    </tr>\n",
       "    <tr>\n",
       "      <th>11</th>\n",
       "      <td>Dragon_Boat_Festival_Giveaway</td>\n",
       "      <td>APAC</td>\n",
       "      <td>2020-06-25</td>\n",
       "      <td>2020-07-01</td>\n",
       "    </tr>\n",
       "    <tr>\n",
       "      <th>12</th>\n",
       "      <td>Single_s_Day_Gift_Promo</td>\n",
       "      <td>APAC</td>\n",
       "      <td>2020-11-11</td>\n",
       "      <td>2020-11-12</td>\n",
       "    </tr>\n",
       "    <tr>\n",
       "      <th>13</th>\n",
       "      <td>Chinese_Moon_Festival</td>\n",
       "      <td>APAC</td>\n",
       "      <td>2020-10-01</td>\n",
       "      <td>2020-10-07</td>\n",
       "    </tr>\n",
       "  </tbody>\n",
       "</table>\n",
       "</div>"
      ],
      "text/plain": [
       "                               name                regions    start_dt  \\\n",
       "0          Christmas_New_Year_Promo           EU_N.America  2020-12-25   \n",
       "1      St._Valentine_s_Day_Giveaway  EU_CIS_APAC_N.America  2020-02-14   \n",
       "2            St._Patric_s_Day_Promo           EU_N.America  2020-03-17   \n",
       "3                      Easter_Promo  EU_CIS_APAC_N.America  2020-04-12   \n",
       "4                 4th_of_July_Promo              N.America  2020-07-04   \n",
       "5         Black_Friday_Ads_Campaign  EU_CIS_APAC_N.America  2020-11-26   \n",
       "6            Chinese_New_Year_Promo                   APAC  2020-01-25   \n",
       "7    Labor_day_May_1st_Ads_Campaign            EU_CIS_APAC  2020-05-01   \n",
       "8   International_Women_s_Day_Promo            EU_CIS_APAC  2020-03-08   \n",
       "9     Victory_Day_CIS_May_9th_Event                    CIS  2020-05-09   \n",
       "10        CIS_New_Year_Gift_Lottery                    CIS  2020-12-30   \n",
       "11    Dragon_Boat_Festival_Giveaway                   APAC  2020-06-25   \n",
       "12          Single_s_Day_Gift_Promo                   APAC  2020-11-11   \n",
       "13            Chinese_Moon_Festival                   APAC  2020-10-01   \n",
       "\n",
       "     finish_dt  \n",
       "0   2021-01-03  \n",
       "1   2020-02-16  \n",
       "2   2020-03-19  \n",
       "3   2020-04-19  \n",
       "4   2020-07-11  \n",
       "5   2020-12-01  \n",
       "6   2020-02-07  \n",
       "7   2020-05-03  \n",
       "8   2020-03-10  \n",
       "9   2020-05-11  \n",
       "10  2021-01-07  \n",
       "11  2020-07-01  \n",
       "12  2020-11-12  \n",
       "13  2020-10-07  "
      ]
     },
     "execution_count": 8,
     "metadata": {},
     "output_type": "execute_result"
    }
   ],
   "source": [
    "df_mkt_events = normalize_string_format(df_mkt_events, exclude=['start_dt', 'finish_dt'])\n",
    "df_mkt_events"
   ]
  },
  {
   "cell_type": "code",
   "execution_count": 9,
   "id": "dafd8ba8",
   "metadata": {},
   "outputs": [
    {
     "data": {
      "application/vnd.microsoft.datawrangler.viewer.v0+json": {
       "columns": [
        {
         "name": "index",
         "rawType": "int64",
         "type": "integer"
        },
        {
         "name": "user_id",
         "rawType": "object",
         "type": "string"
        },
        {
         "name": "first_date",
         "rawType": "object",
         "type": "string"
        },
        {
         "name": "region",
         "rawType": "object",
         "type": "string"
        },
        {
         "name": "device",
         "rawType": "object",
         "type": "string"
        }
       ],
       "ref": "f0c543e1-b742-4431-8648-c1ca28d831f3",
       "rows": [
        [
         "0",
         "D72A72121175D8BE",
         "2020-12-07",
         "EU",
         "PC"
        ],
        [
         "1",
         "F1C668619DFE6E65",
         "2020-12-07",
         "N.America",
         "Android"
        ],
        [
         "2",
         "2E1BF1D4C37EA01F",
         "2020-12-07",
         "EU",
         "PC"
        ],
        [
         "3",
         "50734A22C0C63768",
         "2020-12-07",
         "EU",
         "iPhone"
        ],
        [
         "4",
         "E1BDDCE0DAFA2679",
         "2020-12-07",
         "N.America",
         "iPhone"
        ],
        [
         "5",
         "137119F5A9E69421",
         "2020-12-07",
         "N.America",
         "iPhone"
        ],
        [
         "6",
         "62F0C741CC42D0CC",
         "2020-12-07",
         "APAC",
         "iPhone"
        ],
        [
         "7",
         "8942E64218C9A1ED",
         "2020-12-07",
         "EU",
         "PC"
        ],
        [
         "8",
         "499AFACF904BBAE3",
         "2020-12-07",
         "N.America",
         "iPhone"
        ],
        [
         "9",
         "FFCEA1179C253104",
         "2020-12-07",
         "EU",
         "Android"
        ],
        [
         "10",
         "5EB159DA9DC94DBA",
         "2020-12-07",
         "APAC",
         "PC"
        ],
        [
         "11",
         "084A22B980BA8169",
         "2020-12-07",
         "EU",
         "Android"
        ],
        [
         "12",
         "8ACC2420471B31E4",
         "2020-12-07",
         "EU",
         "PC"
        ],
        [
         "13",
         "5BE017E9C8CC42F8",
         "2020-12-07",
         "EU",
         "Android"
        ],
        [
         "14",
         "7B6452F081F49504",
         "2020-12-07",
         "EU",
         "iPhone"
        ],
        [
         "15",
         "0FC21E6F8FAA8DEC",
         "2020-12-07",
         "EU",
         "PC"
        ],
        [
         "16",
         "9CD9F34546DF254C",
         "2020-12-07",
         "N.America",
         "iPhone"
        ],
        [
         "17",
         "96F27A054B191457",
         "2020-12-07",
         "EU",
         "iPhone"
        ],
        [
         "18",
         "1FD7660FDF94CA1F",
         "2020-12-07",
         "EU",
         "Android"
        ],
        [
         "19",
         "DD4352CDCF8C3D57",
         "2020-12-07",
         "EU",
         "Android"
        ],
        [
         "20",
         "E6AF85675078215D",
         "2020-12-07",
         "EU",
         "Android"
        ],
        [
         "21",
         "CF3A409ADCA5F68F",
         "2020-12-07",
         "EU",
         "iPhone"
        ],
        [
         "22",
         "831887FE7F2D6CBA",
         "2020-12-07",
         "EU",
         "Android"
        ],
        [
         "23",
         "AD8BFC204C0F14E4",
         "2020-12-07",
         "EU",
         "Android"
        ],
        [
         "24",
         "18BFE6138D1740ED",
         "2020-12-07",
         "APAC",
         "iPhone"
        ],
        [
         "25",
         "6B2F726BFD5F8220",
         "2020-12-07",
         "EU",
         "Android"
        ],
        [
         "26",
         "5C31FA76D6418867",
         "2020-12-07",
         "CIS",
         "PC"
        ],
        [
         "27",
         "160121894010711F",
         "2020-12-07",
         "N.America",
         "iPhone"
        ],
        [
         "28",
         "7713F4DD96975E70",
         "2020-12-07",
         "EU",
         "Android"
        ],
        [
         "29",
         "BEB37715AACF53B0",
         "2020-12-07",
         "EU",
         "Android"
        ],
        [
         "30",
         "BA9A0549BDF2DC7D",
         "2020-12-07",
         "EU",
         "PC"
        ],
        [
         "31",
         "C99BCDCDA7C0A2B5",
         "2020-12-07",
         "EU",
         "PC"
        ],
        [
         "32",
         "914FF952E23F1E75",
         "2020-12-07",
         "EU",
         "PC"
        ],
        [
         "33",
         "C297F41C2EAB90F9",
         "2020-12-07",
         "EU",
         "iPhone"
        ],
        [
         "34",
         "5DFA5DCA1EAB4A61",
         "2020-12-07",
         "EU",
         "PC"
        ],
        [
         "35",
         "B5FA27F582227197",
         "2020-12-07",
         "N.America",
         "Mac"
        ],
        [
         "36",
         "26D11E1624C22789",
         "2020-12-07",
         "EU",
         "iPhone"
        ],
        [
         "37",
         "756030430BF8A8ED",
         "2020-12-07",
         "EU",
         "Mac"
        ],
        [
         "38",
         "4CB179C7F847320B",
         "2020-12-07",
         "EU",
         "iPhone"
        ],
        [
         "39",
         "29C92313A98B1176",
         "2020-12-07",
         "APAC",
         "Android"
        ],
        [
         "40",
         "F9DA742C045C0540",
         "2020-12-07",
         "EU",
         "Android"
        ],
        [
         "41",
         "718AE30161496626",
         "2020-12-07",
         "CIS",
         "Android"
        ],
        [
         "42",
         "12E224E9F736290C",
         "2020-12-07",
         "CIS",
         "Android"
        ],
        [
         "43",
         "A92195E3CFB83DBD",
         "2020-12-07",
         "EU",
         "Android"
        ],
        [
         "44",
         "7D1BFB181017EB46",
         "2020-12-07",
         "CIS",
         "PC"
        ],
        [
         "45",
         "72293AD2DCF3D634",
         "2020-12-07",
         "EU",
         "PC"
        ],
        [
         "46",
         "E2E76A8B3389127C",
         "2020-12-07",
         "EU",
         "iPhone"
        ],
        [
         "47",
         "CDC3949A0F713D89",
         "2020-12-07",
         "EU",
         "PC"
        ],
        [
         "48",
         "C8D792687FC90372",
         "2020-12-07",
         "EU",
         "PC"
        ],
        [
         "49",
         "10B478AFB18AFF23",
         "2020-12-07",
         "EU",
         "PC"
        ]
       ],
       "shape": {
        "columns": 4,
        "rows": 58703
       }
      },
      "text/html": [
       "<div>\n",
       "<style scoped>\n",
       "    .dataframe tbody tr th:only-of-type {\n",
       "        vertical-align: middle;\n",
       "    }\n",
       "\n",
       "    .dataframe tbody tr th {\n",
       "        vertical-align: top;\n",
       "    }\n",
       "\n",
       "    .dataframe thead th {\n",
       "        text-align: right;\n",
       "    }\n",
       "</style>\n",
       "<table border=\"1\" class=\"dataframe\">\n",
       "  <thead>\n",
       "    <tr style=\"text-align: right;\">\n",
       "      <th></th>\n",
       "      <th>user_id</th>\n",
       "      <th>first_date</th>\n",
       "      <th>region</th>\n",
       "      <th>device</th>\n",
       "    </tr>\n",
       "  </thead>\n",
       "  <tbody>\n",
       "    <tr>\n",
       "      <th>0</th>\n",
       "      <td>D72A72121175D8BE</td>\n",
       "      <td>2020-12-07</td>\n",
       "      <td>EU</td>\n",
       "      <td>PC</td>\n",
       "    </tr>\n",
       "    <tr>\n",
       "      <th>1</th>\n",
       "      <td>F1C668619DFE6E65</td>\n",
       "      <td>2020-12-07</td>\n",
       "      <td>N.America</td>\n",
       "      <td>Android</td>\n",
       "    </tr>\n",
       "    <tr>\n",
       "      <th>2</th>\n",
       "      <td>2E1BF1D4C37EA01F</td>\n",
       "      <td>2020-12-07</td>\n",
       "      <td>EU</td>\n",
       "      <td>PC</td>\n",
       "    </tr>\n",
       "    <tr>\n",
       "      <th>3</th>\n",
       "      <td>50734A22C0C63768</td>\n",
       "      <td>2020-12-07</td>\n",
       "      <td>EU</td>\n",
       "      <td>iPhone</td>\n",
       "    </tr>\n",
       "    <tr>\n",
       "      <th>4</th>\n",
       "      <td>E1BDDCE0DAFA2679</td>\n",
       "      <td>2020-12-07</td>\n",
       "      <td>N.America</td>\n",
       "      <td>iPhone</td>\n",
       "    </tr>\n",
       "    <tr>\n",
       "      <th>...</th>\n",
       "      <td>...</td>\n",
       "      <td>...</td>\n",
       "      <td>...</td>\n",
       "      <td>...</td>\n",
       "    </tr>\n",
       "    <tr>\n",
       "      <th>58698</th>\n",
       "      <td>1DB53B933257165D</td>\n",
       "      <td>2020-12-20</td>\n",
       "      <td>EU</td>\n",
       "      <td>Android</td>\n",
       "    </tr>\n",
       "    <tr>\n",
       "      <th>58699</th>\n",
       "      <td>538643EB4527ED03</td>\n",
       "      <td>2020-12-20</td>\n",
       "      <td>EU</td>\n",
       "      <td>Mac</td>\n",
       "    </tr>\n",
       "    <tr>\n",
       "      <th>58700</th>\n",
       "      <td>7ADEE837D5D8CBBD</td>\n",
       "      <td>2020-12-20</td>\n",
       "      <td>EU</td>\n",
       "      <td>PC</td>\n",
       "    </tr>\n",
       "    <tr>\n",
       "      <th>58701</th>\n",
       "      <td>1C7D23927835213F</td>\n",
       "      <td>2020-12-20</td>\n",
       "      <td>EU</td>\n",
       "      <td>iPhone</td>\n",
       "    </tr>\n",
       "    <tr>\n",
       "      <th>58702</th>\n",
       "      <td>8F04273BB2860229</td>\n",
       "      <td>2020-12-20</td>\n",
       "      <td>EU</td>\n",
       "      <td>Android</td>\n",
       "    </tr>\n",
       "  </tbody>\n",
       "</table>\n",
       "<p>58703 rows × 4 columns</p>\n",
       "</div>"
      ],
      "text/plain": [
       "                user_id  first_date     region   device\n",
       "0      D72A72121175D8BE  2020-12-07         EU       PC\n",
       "1      F1C668619DFE6E65  2020-12-07  N.America  Android\n",
       "2      2E1BF1D4C37EA01F  2020-12-07         EU       PC\n",
       "3      50734A22C0C63768  2020-12-07         EU   iPhone\n",
       "4      E1BDDCE0DAFA2679  2020-12-07  N.America   iPhone\n",
       "...                 ...         ...        ...      ...\n",
       "58698  1DB53B933257165D  2020-12-20         EU  Android\n",
       "58699  538643EB4527ED03  2020-12-20         EU      Mac\n",
       "58700  7ADEE837D5D8CBBD  2020-12-20         EU       PC\n",
       "58701  1C7D23927835213F  2020-12-20         EU   iPhone\n",
       "58702  8F04273BB2860229  2020-12-20         EU  Android\n",
       "\n",
       "[58703 rows x 4 columns]"
      ]
     },
     "execution_count": 9,
     "metadata": {},
     "output_type": "execute_result"
    }
   ],
   "source": [
    "df_users_registration = normalize_string_format(df_users_registration, include=['region', 'device'])\n",
    "df_users_registration"
   ]
  },
  {
   "cell_type": "markdown",
   "id": "610e2d7e",
   "metadata": {},
   "source": [
    "##### **4.3** Explicit Duplicate Removal"
   ]
  },
  {
   "cell_type": "code",
   "execution_count": 10,
   "id": "781efbde",
   "metadata": {},
   "outputs": [
    {
     "data": {
      "text/html": [
       "> Explicit duplicates in <i>df_mkt_events</i>: <b>0</b>"
      ],
      "text/plain": [
       "<IPython.core.display.HTML object>"
      ]
     },
     "metadata": {},
     "output_type": "display_data"
    },
    {
     "name": "stdout",
     "output_type": "stream",
     "text": [
      "\n"
     ]
    },
    {
     "data": {
      "text/html": [
       "> Explicit duplicates in <i>df_users_registration</i>: <b>0</b>"
      ],
      "text/plain": [
       "<IPython.core.display.HTML object>"
      ]
     },
     "metadata": {},
     "output_type": "display_data"
    },
    {
     "name": "stdout",
     "output_type": "stream",
     "text": [
      "\n"
     ]
    },
    {
     "data": {
      "text/html": [
       "> Explicit duplicates in <i>df_user_events</i>: <b>0</b>"
      ],
      "text/plain": [
       "<IPython.core.display.HTML object>"
      ]
     },
     "metadata": {},
     "output_type": "display_data"
    },
    {
     "name": "stdout",
     "output_type": "stream",
     "text": [
      "\n"
     ]
    },
    {
     "data": {
      "text/html": [
       "> Explicit duplicates in <i>df_user_test</i>: <b>0</b>"
      ],
      "text/plain": [
       "<IPython.core.display.HTML object>"
      ]
     },
     "metadata": {},
     "output_type": "display_data"
    }
   ],
   "source": [
    "display(HTML(f\"> Explicit duplicates in <i>df_mkt_events</i>: <b>{df_mkt_events.duplicated().sum()}</b>\"))\n",
    "print()\n",
    "display(HTML(f\"> Explicit duplicates in <i>df_users_registration</i>: <b>{df_users_registration.duplicated().sum()}</b>\"))\n",
    "print()\n",
    "display(HTML(f\"> Explicit duplicates in <i>df_user_events</i>: <b>{df_user_events.duplicated().sum()}</b>\"))\n",
    "print()\n",
    "display(HTML(f\"> Explicit duplicates in <i>df_user_test</i>: <b>{df_user_test.duplicated().sum()}</b>\"))"
   ]
  },
  {
   "cell_type": "code",
   "execution_count": 11,
   "id": "a4adbbd7",
   "metadata": {},
   "outputs": [
    {
     "name": "stdout",
     "output_type": "stream",
     "text": [
      "            user_id group                  ab_test\n",
      "0  D1ABA3E2887B6A73     A  recommender_system_test\n",
      "1  A7A3664BD6242119     A  recommender_system_test\n",
      "2  DABC14FDDFADD29E     A  recommender_system_test\n",
      "3  04988C5DF189632E     A  recommender_system_test\n",
      "4  4FF2998A348C484F     A  recommender_system_test\n"
     ]
    }
   ],
   "source": [
    "print(df_user_test.head())"
   ]
  },
  {
   "cell_type": "code",
   "execution_count": 12,
   "id": "db202688",
   "metadata": {},
   "outputs": [
    {
     "name": "stdout",
     "output_type": "stream",
     "text": [
      "                user_id group            ab_test\n",
      "14520  1D302F8688B91781     B  interface_eu_test\n",
      "14521  3DE51B726983B657     A  interface_eu_test\n",
      "14522  F501F79D332BE86C     A  interface_eu_test\n",
      "14523  63FBE257B05F2245     A  interface_eu_test\n",
      "14524  79F9ABFB029CF724     B  interface_eu_test\n"
     ]
    }
   ],
   "source": [
    "print(df_user_test.tail())"
   ]
  },
  {
   "cell_type": "markdown",
   "id": "263a3de8",
   "metadata": {},
   "source": [
    "##### **4.4** Missing Value Analysis"
   ]
  },
  {
   "cell_type": "code",
   "execution_count": 13,
   "id": "68a0c72c",
   "metadata": {},
   "outputs": [
    {
     "data": {
      "text/html": [
       "<h4>Scanning for Non-Standard Missing Values</h4>"
      ],
      "text/plain": [
       "<IPython.core.display.HTML object>"
      ]
     },
     "metadata": {},
     "output_type": "display_data"
    },
    {
     "data": {
      "text/html": [
       "> Missing values in column <i>'name'</i>: None"
      ],
      "text/plain": [
       "<IPython.core.display.HTML object>"
      ]
     },
     "metadata": {},
     "output_type": "display_data"
    },
    {
     "data": {
      "text/html": [
       "> Missing values in column <i>'regions'</i>: None"
      ],
      "text/plain": [
       "<IPython.core.display.HTML object>"
      ]
     },
     "metadata": {},
     "output_type": "display_data"
    },
    {
     "data": {
      "text/html": [
       "> Missing values in column <i>'start_dt'</i>: None"
      ],
      "text/plain": [
       "<IPython.core.display.HTML object>"
      ]
     },
     "metadata": {},
     "output_type": "display_data"
    },
    {
     "data": {
      "text/html": [
       "> Missing values in column <i>'finish_dt'</i>: None"
      ],
      "text/plain": [
       "<IPython.core.display.HTML object>"
      ]
     },
     "metadata": {},
     "output_type": "display_data"
    },
    {
     "name": "stdout",
     "output_type": "stream",
     "text": [
      "\n"
     ]
    }
   ],
   "source": [
    "check_existing_missing_values(df_mkt_events)"
   ]
  },
  {
   "cell_type": "code",
   "execution_count": 14,
   "id": "e2ce962b",
   "metadata": {},
   "outputs": [
    {
     "data": {
      "text/html": [
       "<h4>Scanning for Non-Standard Missing Values</h4>"
      ],
      "text/plain": [
       "<IPython.core.display.HTML object>"
      ]
     },
     "metadata": {},
     "output_type": "display_data"
    },
    {
     "data": {
      "text/html": [
       "> Missing values in column <i>'user_id'</i>: None"
      ],
      "text/plain": [
       "<IPython.core.display.HTML object>"
      ]
     },
     "metadata": {},
     "output_type": "display_data"
    },
    {
     "data": {
      "text/html": [
       "> Missing values in column <i>'first_date'</i>: None"
      ],
      "text/plain": [
       "<IPython.core.display.HTML object>"
      ]
     },
     "metadata": {},
     "output_type": "display_data"
    },
    {
     "data": {
      "text/html": [
       "> Missing values in column <i>'region'</i>: None"
      ],
      "text/plain": [
       "<IPython.core.display.HTML object>"
      ]
     },
     "metadata": {},
     "output_type": "display_data"
    },
    {
     "data": {
      "text/html": [
       "> Missing values in column <i>'device'</i>: None"
      ],
      "text/plain": [
       "<IPython.core.display.HTML object>"
      ]
     },
     "metadata": {},
     "output_type": "display_data"
    },
    {
     "name": "stdout",
     "output_type": "stream",
     "text": [
      "\n"
     ]
    }
   ],
   "source": [
    "check_existing_missing_values(df_users_registration)"
   ]
  },
  {
   "cell_type": "code",
   "execution_count": 15,
   "id": "71d576f7",
   "metadata": {},
   "outputs": [
    {
     "data": {
      "text/html": [
       "<h4>Scanning for Non-Standard Missing Values</h4>"
      ],
      "text/plain": [
       "<IPython.core.display.HTML object>"
      ]
     },
     "metadata": {},
     "output_type": "display_data"
    },
    {
     "data": {
      "text/html": [
       "> Missing values in column <i>'user_id'</i>: None"
      ],
      "text/plain": [
       "<IPython.core.display.HTML object>"
      ]
     },
     "metadata": {},
     "output_type": "display_data"
    },
    {
     "data": {
      "text/html": [
       "> Missing values in column <i>'event_dt'</i>: None"
      ],
      "text/plain": [
       "<IPython.core.display.HTML object>"
      ]
     },
     "metadata": {},
     "output_type": "display_data"
    },
    {
     "data": {
      "text/html": [
       "> Missing values in column <i>'event_name'</i>: None"
      ],
      "text/plain": [
       "<IPython.core.display.HTML object>"
      ]
     },
     "metadata": {},
     "output_type": "display_data"
    },
    {
     "data": {
      "text/html": [
       "> Missing values in column <i>'details'</i>: <b>363447</b>"
      ],
      "text/plain": [
       "<IPython.core.display.HTML object>"
      ]
     },
     "metadata": {},
     "output_type": "display_data"
    },
    {
     "data": {
      "text/html": [
       "&emsp;Matched non-standard values: ['']"
      ],
      "text/plain": [
       "<IPython.core.display.HTML object>"
      ]
     },
     "metadata": {},
     "output_type": "display_data"
    },
    {
     "name": "stdout",
     "output_type": "stream",
     "text": [
      "\n"
     ]
    }
   ],
   "source": [
    "check_existing_missing_values(df_user_events)"
   ]
  },
  {
   "cell_type": "code",
   "execution_count": 16,
   "id": "2df27677",
   "metadata": {},
   "outputs": [
    {
     "data": {
      "text/html": [
       "<h4>Scanning for Non-Standard Missing Values</h4>"
      ],
      "text/plain": [
       "<IPython.core.display.HTML object>"
      ]
     },
     "metadata": {},
     "output_type": "display_data"
    },
    {
     "data": {
      "text/html": [
       "> Missing values in column <i>'user_id'</i>: None"
      ],
      "text/plain": [
       "<IPython.core.display.HTML object>"
      ]
     },
     "metadata": {},
     "output_type": "display_data"
    },
    {
     "data": {
      "text/html": [
       "> Missing values in column <i>'group'</i>: None"
      ],
      "text/plain": [
       "<IPython.core.display.HTML object>"
      ]
     },
     "metadata": {},
     "output_type": "display_data"
    },
    {
     "data": {
      "text/html": [
       "> Missing values in column <i>'ab_test'</i>: None"
      ],
      "text/plain": [
       "<IPython.core.display.HTML object>"
      ]
     },
     "metadata": {},
     "output_type": "display_data"
    },
    {
     "name": "stdout",
     "output_type": "stream",
     "text": [
      "\n"
     ]
    }
   ],
   "source": [
    "check_existing_missing_values(df_user_test)"
   ]
  },
  {
   "cell_type": "code",
   "execution_count": 17,
   "id": "ed86e0fb",
   "metadata": {},
   "outputs": [
    {
     "data": {
      "application/vnd.microsoft.datawrangler.viewer.v0+json": {
       "columns": [
        {
         "name": "index",
         "rawType": "int64",
         "type": "integer"
        },
        {
         "name": "user_id",
         "rawType": "object",
         "type": "string"
        },
        {
         "name": "event_dt",
         "rawType": "object",
         "type": "string"
        },
        {
         "name": "event_name",
         "rawType": "object",
         "type": "string"
        },
        {
         "name": "details",
         "rawType": "object",
         "type": "unknown"
        }
       ],
       "ref": "f14fc373-a152-4936-bc45-4b421f160307",
       "rows": [
        [
         "0",
         "E1BDDCE0DAFA2679",
         "2020-12-07 20:22:03",
         "purchase",
         "99.99"
        ],
        [
         "1",
         "7B6452F081F49504",
         "2020-12-07 09:22:53",
         "purchase",
         "9.99"
        ],
        [
         "2",
         "9CD9F34546DF254C",
         "2020-12-07 12:59:29",
         "purchase",
         "4.99"
        ],
        [
         "3",
         "96F27A054B191457",
         "2020-12-07 04:02:40",
         "purchase",
         "4.99"
        ],
        [
         "4",
         "1FD7660FDF94CA1F",
         "2020-12-07 10:15:09",
         "purchase",
         "4.99"
        ],
        [
         "5",
         "831887FE7F2D6CBA",
         "2020-12-07 06:50:29",
         "purchase",
         "4.99"
        ],
        [
         "6",
         "6B2F726BFD5F8220",
         "2020-12-07 11:27:42",
         "purchase",
         "4.99"
        ],
        [
         "7",
         "BEB37715AACF53B0",
         "2020-12-07 04:26:15",
         "purchase",
         "4.99"
        ],
        [
         "8",
         "B5FA27F582227197",
         "2020-12-07 01:46:37",
         "purchase",
         "4.99"
        ],
        [
         "9",
         "A92195E3CFB83DBD",
         "2020-12-07 00:32:07",
         "purchase",
         "4.99"
        ],
        [
         "10",
         "E2E76A8B3389127C",
         "2020-12-07 15:39:32",
         "purchase",
         "4.99"
        ],
        [
         "11",
         "354D653172FF2A2D",
         "2020-12-07 15:45:11",
         "purchase",
         "4.99"
        ],
        [
         "12",
         "7FCD34F47C13A9AC",
         "2020-12-07 22:06:13",
         "purchase",
         "9.99"
        ],
        [
         "13",
         "0313C457F07C339E",
         "2020-12-07 13:10:48",
         "purchase",
         "9.99"
        ],
        [
         "14",
         "214902A9BAAF3422",
         "2020-12-07 19:31:44",
         "purchase",
         "4.99"
        ],
        [
         "15",
         "AE6B95B9A7C6380E",
         "2020-12-07 19:09:12",
         "purchase",
         "4.99"
        ],
        [
         "16",
         "EC9AFCC18F1CF6D9",
         "2020-12-07 19:19:00",
         "purchase",
         "4.99"
        ],
        [
         "17",
         "3C5DD0288AC4FE23",
         "2020-12-07 19:42:40",
         "purchase",
         "4.99"
        ],
        [
         "18",
         "649ECF69EC552A56",
         "2020-12-07 06:19:31",
         "purchase",
         "4.99"
        ],
        [
         "19",
         "9C31B4124B3AE217",
         "2020-12-07 21:38:36",
         "purchase",
         "4.99"
        ],
        [
         "20",
         "5C4BA5C457BC114A",
         "2020-12-07 05:37:13",
         "purchase",
         "9.99"
        ],
        [
         "21",
         "FCD216B91578B8DC",
         "2020-12-07 18:24:41",
         "purchase",
         "99.99"
        ],
        [
         "22",
         "435506A7A2265BBD",
         "2020-12-07 11:53:57",
         "purchase",
         "4.99"
        ],
        [
         "23",
         "909B249EB165910F",
         "2020-12-07 07:06:01",
         "purchase",
         "9.99"
        ],
        [
         "24",
         "ED61425DAC3E345C",
         "2020-12-07 01:03:27",
         "purchase",
         "4.99"
        ],
        [
         "25",
         "C39E95E709714A06",
         "2020-12-07 09:07:20",
         "purchase",
         "4.99"
        ],
        [
         "26",
         "DE83B085136CBF2D",
         "2020-12-07 20:10:44",
         "purchase",
         "99.99"
        ],
        [
         "27",
         "F42CA236F49AB93B",
         "2020-12-07 21:50:34",
         "purchase",
         "4.99"
        ],
        [
         "28",
         "AA77BDA8996FE1B8",
         "2020-12-07 08:24:41",
         "purchase",
         "9.99"
        ],
        [
         "29",
         "5E9543D6EB27D7D7",
         "2020-12-07 21:37:33",
         "purchase",
         "4.99"
        ],
        [
         "30",
         "78B3AFBB700310CC",
         "2020-12-07 23:44:09",
         "purchase",
         "4.99"
        ],
        [
         "31",
         "80CEAF824A1F3E28",
         "2020-12-07 15:54:06",
         "purchase",
         "499.99"
        ],
        [
         "32",
         "5EB044CECD378F75",
         "2020-12-07 02:50:18",
         "purchase",
         "4.99"
        ],
        [
         "33",
         "C0A95CA2E9CC8009",
         "2020-12-07 03:37:41",
         "purchase",
         "4.99"
        ],
        [
         "34",
         "992ADF277CCE9349",
         "2020-12-07 12:05:45",
         "purchase",
         "4.99"
        ],
        [
         "35",
         "37034BF58CD3A95B",
         "2020-12-07 19:36:07",
         "purchase",
         "99.99"
        ],
        [
         "36",
         "2765321AC15BA00A",
         "2020-12-07 08:57:39",
         "purchase",
         "4.99"
        ],
        [
         "37",
         "834A37293A8F21BA",
         "2020-12-07 05:12:03",
         "purchase",
         "4.99"
        ],
        [
         "38",
         "24FA9BADBEB3014D",
         "2020-12-07 01:59:36",
         "purchase",
         "99.99"
        ],
        [
         "39",
         "831958A1EA95370E",
         "2020-12-07 21:36:32",
         "purchase",
         "4.99"
        ],
        [
         "40",
         "68262C0CCF7073D4",
         "2020-12-07 13:40:49",
         "purchase",
         "4.99"
        ],
        [
         "41",
         "F2BE35774F63059B",
         "2020-12-07 05:23:18",
         "purchase",
         "4.99"
        ],
        [
         "42",
         "6D052E09A94F0725",
         "2020-12-07 02:54:36",
         "purchase",
         "9.99"
        ],
        [
         "43",
         "A10C24F7E7CCC96D",
         "2020-12-07 02:37:27",
         "purchase",
         "4.99"
        ],
        [
         "44",
         "C07713CA2E28F7E7",
         "2020-12-07 02:26:09",
         "purchase",
         "4.99"
        ],
        [
         "45",
         "E24F2C1DD2EEFA5A",
         "2020-12-07 12:52:24",
         "purchase",
         "4.99"
        ],
        [
         "46",
         "C559BDC13A3A4A2C",
         "2020-12-07 15:34:23",
         "purchase",
         "4.99"
        ],
        [
         "47",
         "5C31C0607EFC3C98",
         "2020-12-07 20:19:32",
         "purchase",
         "4.99"
        ],
        [
         "48",
         "690C65E0DE49B940",
         "2020-12-07 13:26:18",
         "purchase",
         "4.99"
        ],
        [
         "49",
         "56AF59723683AC41",
         "2020-12-07 08:59:38",
         "purchase",
         "9.99"
        ]
       ],
       "shape": {
        "columns": 4,
        "rows": 423761
       }
      },
      "text/html": [
       "<div>\n",
       "<style scoped>\n",
       "    .dataframe tbody tr th:only-of-type {\n",
       "        vertical-align: middle;\n",
       "    }\n",
       "\n",
       "    .dataframe tbody tr th {\n",
       "        vertical-align: top;\n",
       "    }\n",
       "\n",
       "    .dataframe thead th {\n",
       "        text-align: right;\n",
       "    }\n",
       "</style>\n",
       "<table border=\"1\" class=\"dataframe\">\n",
       "  <thead>\n",
       "    <tr style=\"text-align: right;\">\n",
       "      <th></th>\n",
       "      <th>user_id</th>\n",
       "      <th>event_dt</th>\n",
       "      <th>event_name</th>\n",
       "      <th>details</th>\n",
       "    </tr>\n",
       "  </thead>\n",
       "  <tbody>\n",
       "    <tr>\n",
       "      <th>0</th>\n",
       "      <td>E1BDDCE0DAFA2679</td>\n",
       "      <td>2020-12-07 20:22:03</td>\n",
       "      <td>purchase</td>\n",
       "      <td>99.99</td>\n",
       "    </tr>\n",
       "    <tr>\n",
       "      <th>1</th>\n",
       "      <td>7B6452F081F49504</td>\n",
       "      <td>2020-12-07 09:22:53</td>\n",
       "      <td>purchase</td>\n",
       "      <td>9.99</td>\n",
       "    </tr>\n",
       "    <tr>\n",
       "      <th>2</th>\n",
       "      <td>9CD9F34546DF254C</td>\n",
       "      <td>2020-12-07 12:59:29</td>\n",
       "      <td>purchase</td>\n",
       "      <td>4.99</td>\n",
       "    </tr>\n",
       "    <tr>\n",
       "      <th>3</th>\n",
       "      <td>96F27A054B191457</td>\n",
       "      <td>2020-12-07 04:02:40</td>\n",
       "      <td>purchase</td>\n",
       "      <td>4.99</td>\n",
       "    </tr>\n",
       "    <tr>\n",
       "      <th>4</th>\n",
       "      <td>1FD7660FDF94CA1F</td>\n",
       "      <td>2020-12-07 10:15:09</td>\n",
       "      <td>purchase</td>\n",
       "      <td>4.99</td>\n",
       "    </tr>\n",
       "    <tr>\n",
       "      <th>...</th>\n",
       "      <td>...</td>\n",
       "      <td>...</td>\n",
       "      <td>...</td>\n",
       "      <td>...</td>\n",
       "    </tr>\n",
       "    <tr>\n",
       "      <th>423756</th>\n",
       "      <td>245E85F65C358E08</td>\n",
       "      <td>2020-12-30 19:35:55</td>\n",
       "      <td>login</td>\n",
       "      <td>&lt;NA&gt;</td>\n",
       "    </tr>\n",
       "    <tr>\n",
       "      <th>423757</th>\n",
       "      <td>9385A108F5A0A7A7</td>\n",
       "      <td>2020-12-30 10:54:15</td>\n",
       "      <td>login</td>\n",
       "      <td>&lt;NA&gt;</td>\n",
       "    </tr>\n",
       "    <tr>\n",
       "      <th>423758</th>\n",
       "      <td>DB650B7559AC6EAC</td>\n",
       "      <td>2020-12-30 10:59:09</td>\n",
       "      <td>login</td>\n",
       "      <td>&lt;NA&gt;</td>\n",
       "    </tr>\n",
       "    <tr>\n",
       "      <th>423759</th>\n",
       "      <td>F80C9BDDEA02E53C</td>\n",
       "      <td>2020-12-30 09:53:39</td>\n",
       "      <td>login</td>\n",
       "      <td>&lt;NA&gt;</td>\n",
       "    </tr>\n",
       "    <tr>\n",
       "      <th>423760</th>\n",
       "      <td>7AEC61159B672CC5</td>\n",
       "      <td>2020-12-30 11:36:13</td>\n",
       "      <td>login</td>\n",
       "      <td>&lt;NA&gt;</td>\n",
       "    </tr>\n",
       "  </tbody>\n",
       "</table>\n",
       "<p>423761 rows × 4 columns</p>\n",
       "</div>"
      ],
      "text/plain": [
       "                 user_id             event_dt event_name details\n",
       "0       E1BDDCE0DAFA2679  2020-12-07 20:22:03   purchase   99.99\n",
       "1       7B6452F081F49504  2020-12-07 09:22:53   purchase    9.99\n",
       "2       9CD9F34546DF254C  2020-12-07 12:59:29   purchase    4.99\n",
       "3       96F27A054B191457  2020-12-07 04:02:40   purchase    4.99\n",
       "4       1FD7660FDF94CA1F  2020-12-07 10:15:09   purchase    4.99\n",
       "...                  ...                  ...        ...     ...\n",
       "423756  245E85F65C358E08  2020-12-30 19:35:55      login    <NA>\n",
       "423757  9385A108F5A0A7A7  2020-12-30 10:54:15      login    <NA>\n",
       "423758  DB650B7559AC6EAC  2020-12-30 10:59:09      login    <NA>\n",
       "423759  F80C9BDDEA02E53C  2020-12-30 09:53:39      login    <NA>\n",
       "423760  7AEC61159B672CC5  2020-12-30 11:36:13      login    <NA>\n",
       "\n",
       "[423761 rows x 4 columns]"
      ]
     },
     "execution_count": 17,
     "metadata": {},
     "output_type": "execute_result"
    }
   ],
   "source": [
    "# Handling missing values\n",
    "df_user_events = replace_missing_values(df_user_events, include=['details'])\n",
    "df_user_events"
   ]
  },
  {
   "cell_type": "code",
   "execution_count": 18,
   "id": "300b5055",
   "metadata": {},
   "outputs": [
    {
     "data": {
      "text/html": [
       "> Percentage of missing values for column <i>'details'</i>: <b>85.77</b> %<br>"
      ],
      "text/plain": [
       "<IPython.core.display.HTML object>"
      ]
     },
     "metadata": {},
     "output_type": "display_data"
    },
    {
     "data": {
      "text/html": [
       ">    Total values: 423761<br>   > Missing values: 363447<br><br>"
      ],
      "text/plain": [
       "<IPython.core.display.HTML object>"
      ]
     },
     "metadata": {},
     "output_type": "display_data"
    }
   ],
   "source": [
    "missing_values_rate(df_user_events, include=['details'])"
   ]
  },
  {
   "cell_type": "markdown",
   "id": "de577175",
   "metadata": {},
   "source": [
    "`LSPL`\n",
    "__Note:__\n",
    "\n",
    "Missing values will not be imputated with any values, due missing values belong to other events than purchase and makes no sense to impute them with arbitrary values, because this would introduce noise or false data into the analysis.\n",
    "\n",
    "- Do not impute: Correct, NaNs indicate that the information is not applicable.\n",
    "- Safe quantitative operations: Correct, Pandas ignores NaNs in calculations.\n",
    "- This keeps your analysis clean and consistent for each stage of the funnel."
   ]
  },
  {
   "cell_type": "markdown",
   "id": "8c6168a9",
   "metadata": {},
   "source": [
    "##### **4.5** Casting Datatypes"
   ]
  },
  {
   "cell_type": "code",
   "execution_count": 19,
   "id": "741e035d",
   "metadata": {},
   "outputs": [
    {
     "data": {
      "application/vnd.microsoft.datawrangler.viewer.v0+json": {
       "columns": [
        {
         "name": "index",
         "rawType": "int64",
         "type": "integer"
        },
        {
         "name": "name",
         "rawType": "object",
         "type": "string"
        },
        {
         "name": "regions",
         "rawType": "object",
         "type": "string"
        },
        {
         "name": "start_dt",
         "rawType": "object",
         "type": "unknown"
        },
        {
         "name": "finish_dt",
         "rawType": "object",
         "type": "unknown"
        }
       ],
       "ref": "ef682c3e-bc3b-4790-b1c5-fd92e1693f82",
       "rows": [
        [
         "0",
         "Christmas_New_Year_Promo",
         "EU_N.America",
         "2020-12-25",
         "2021-01-03"
        ],
        [
         "1",
         "St._Valentine_s_Day_Giveaway",
         "EU_CIS_APAC_N.America",
         "2020-02-14",
         "2020-02-16"
        ],
        [
         "2",
         "St._Patric_s_Day_Promo",
         "EU_N.America",
         "2020-03-17",
         "2020-03-19"
        ],
        [
         "3",
         "Easter_Promo",
         "EU_CIS_APAC_N.America",
         "2020-04-12",
         "2020-04-19"
        ],
        [
         "4",
         "4th_of_July_Promo",
         "N.America",
         "2020-07-04",
         "2020-07-11"
        ],
        [
         "5",
         "Black_Friday_Ads_Campaign",
         "EU_CIS_APAC_N.America",
         "2020-11-26",
         "2020-12-01"
        ],
        [
         "6",
         "Chinese_New_Year_Promo",
         "APAC",
         "2020-01-25",
         "2020-02-07"
        ],
        [
         "7",
         "Labor_day_May_1st_Ads_Campaign",
         "EU_CIS_APAC",
         "2020-05-01",
         "2020-05-03"
        ],
        [
         "8",
         "International_Women_s_Day_Promo",
         "EU_CIS_APAC",
         "2020-03-08",
         "2020-03-10"
        ],
        [
         "9",
         "Victory_Day_CIS_May_9th_Event",
         "CIS",
         "2020-05-09",
         "2020-05-11"
        ],
        [
         "10",
         "CIS_New_Year_Gift_Lottery",
         "CIS",
         "2020-12-30",
         "2021-01-07"
        ],
        [
         "11",
         "Dragon_Boat_Festival_Giveaway",
         "APAC",
         "2020-06-25",
         "2020-07-01"
        ],
        [
         "12",
         "Single_s_Day_Gift_Promo",
         "APAC",
         "2020-11-11",
         "2020-11-12"
        ],
        [
         "13",
         "Chinese_Moon_Festival",
         "APAC",
         "2020-10-01",
         "2020-10-07"
        ]
       ],
       "shape": {
        "columns": 4,
        "rows": 14
       }
      },
      "text/html": [
       "<div>\n",
       "<style scoped>\n",
       "    .dataframe tbody tr th:only-of-type {\n",
       "        vertical-align: middle;\n",
       "    }\n",
       "\n",
       "    .dataframe tbody tr th {\n",
       "        vertical-align: top;\n",
       "    }\n",
       "\n",
       "    .dataframe thead th {\n",
       "        text-align: right;\n",
       "    }\n",
       "</style>\n",
       "<table border=\"1\" class=\"dataframe\">\n",
       "  <thead>\n",
       "    <tr style=\"text-align: right;\">\n",
       "      <th></th>\n",
       "      <th>name</th>\n",
       "      <th>regions</th>\n",
       "      <th>start_dt</th>\n",
       "      <th>finish_dt</th>\n",
       "    </tr>\n",
       "  </thead>\n",
       "  <tbody>\n",
       "    <tr>\n",
       "      <th>0</th>\n",
       "      <td>Christmas_New_Year_Promo</td>\n",
       "      <td>EU_N.America</td>\n",
       "      <td>2020-12-25</td>\n",
       "      <td>2021-01-03</td>\n",
       "    </tr>\n",
       "    <tr>\n",
       "      <th>1</th>\n",
       "      <td>St._Valentine_s_Day_Giveaway</td>\n",
       "      <td>EU_CIS_APAC_N.America</td>\n",
       "      <td>2020-02-14</td>\n",
       "      <td>2020-02-16</td>\n",
       "    </tr>\n",
       "    <tr>\n",
       "      <th>2</th>\n",
       "      <td>St._Patric_s_Day_Promo</td>\n",
       "      <td>EU_N.America</td>\n",
       "      <td>2020-03-17</td>\n",
       "      <td>2020-03-19</td>\n",
       "    </tr>\n",
       "    <tr>\n",
       "      <th>3</th>\n",
       "      <td>Easter_Promo</td>\n",
       "      <td>EU_CIS_APAC_N.America</td>\n",
       "      <td>2020-04-12</td>\n",
       "      <td>2020-04-19</td>\n",
       "    </tr>\n",
       "    <tr>\n",
       "      <th>4</th>\n",
       "      <td>4th_of_July_Promo</td>\n",
       "      <td>N.America</td>\n",
       "      <td>2020-07-04</td>\n",
       "      <td>2020-07-11</td>\n",
       "    </tr>\n",
       "    <tr>\n",
       "      <th>5</th>\n",
       "      <td>Black_Friday_Ads_Campaign</td>\n",
       "      <td>EU_CIS_APAC_N.America</td>\n",
       "      <td>2020-11-26</td>\n",
       "      <td>2020-12-01</td>\n",
       "    </tr>\n",
       "    <tr>\n",
       "      <th>6</th>\n",
       "      <td>Chinese_New_Year_Promo</td>\n",
       "      <td>APAC</td>\n",
       "      <td>2020-01-25</td>\n",
       "      <td>2020-02-07</td>\n",
       "    </tr>\n",
       "    <tr>\n",
       "      <th>7</th>\n",
       "      <td>Labor_day_May_1st_Ads_Campaign</td>\n",
       "      <td>EU_CIS_APAC</td>\n",
       "      <td>2020-05-01</td>\n",
       "      <td>2020-05-03</td>\n",
       "    </tr>\n",
       "    <tr>\n",
       "      <th>8</th>\n",
       "      <td>International_Women_s_Day_Promo</td>\n",
       "      <td>EU_CIS_APAC</td>\n",
       "      <td>2020-03-08</td>\n",
       "      <td>2020-03-10</td>\n",
       "    </tr>\n",
       "    <tr>\n",
       "      <th>9</th>\n",
       "      <td>Victory_Day_CIS_May_9th_Event</td>\n",
       "      <td>CIS</td>\n",
       "      <td>2020-05-09</td>\n",
       "      <td>2020-05-11</td>\n",
       "    </tr>\n",
       "    <tr>\n",
       "      <th>10</th>\n",
       "      <td>CIS_New_Year_Gift_Lottery</td>\n",
       "      <td>CIS</td>\n",
       "      <td>2020-12-30</td>\n",
       "      <td>2021-01-07</td>\n",
       "    </tr>\n",
       "    <tr>\n",
       "      <th>11</th>\n",
       "      <td>Dragon_Boat_Festival_Giveaway</td>\n",
       "      <td>APAC</td>\n",
       "      <td>2020-06-25</td>\n",
       "      <td>2020-07-01</td>\n",
       "    </tr>\n",
       "    <tr>\n",
       "      <th>12</th>\n",
       "      <td>Single_s_Day_Gift_Promo</td>\n",
       "      <td>APAC</td>\n",
       "      <td>2020-11-11</td>\n",
       "      <td>2020-11-12</td>\n",
       "    </tr>\n",
       "    <tr>\n",
       "      <th>13</th>\n",
       "      <td>Chinese_Moon_Festival</td>\n",
       "      <td>APAC</td>\n",
       "      <td>2020-10-01</td>\n",
       "      <td>2020-10-07</td>\n",
       "    </tr>\n",
       "  </tbody>\n",
       "</table>\n",
       "</div>"
      ],
      "text/plain": [
       "                               name                regions    start_dt  \\\n",
       "0          Christmas_New_Year_Promo           EU_N.America  2020-12-25   \n",
       "1      St._Valentine_s_Day_Giveaway  EU_CIS_APAC_N.America  2020-02-14   \n",
       "2            St._Patric_s_Day_Promo           EU_N.America  2020-03-17   \n",
       "3                      Easter_Promo  EU_CIS_APAC_N.America  2020-04-12   \n",
       "4                 4th_of_July_Promo              N.America  2020-07-04   \n",
       "5         Black_Friday_Ads_Campaign  EU_CIS_APAC_N.America  2020-11-26   \n",
       "6            Chinese_New_Year_Promo                   APAC  2020-01-25   \n",
       "7    Labor_day_May_1st_Ads_Campaign            EU_CIS_APAC  2020-05-01   \n",
       "8   International_Women_s_Day_Promo            EU_CIS_APAC  2020-03-08   \n",
       "9     Victory_Day_CIS_May_9th_Event                    CIS  2020-05-09   \n",
       "10        CIS_New_Year_Gift_Lottery                    CIS  2020-12-30   \n",
       "11    Dragon_Boat_Festival_Giveaway                   APAC  2020-06-25   \n",
       "12          Single_s_Day_Gift_Promo                   APAC  2020-11-11   \n",
       "13            Chinese_Moon_Festival                   APAC  2020-10-01   \n",
       "\n",
       "     finish_dt  \n",
       "0   2021-01-03  \n",
       "1   2020-02-16  \n",
       "2   2020-03-19  \n",
       "3   2020-04-19  \n",
       "4   2020-07-11  \n",
       "5   2020-12-01  \n",
       "6   2020-02-07  \n",
       "7   2020-05-03  \n",
       "8   2020-03-10  \n",
       "9   2020-05-11  \n",
       "10  2021-01-07  \n",
       "11  2020-07-01  \n",
       "12  2020-11-12  \n",
       "13  2020-10-07  "
      ]
     },
     "execution_count": 19,
     "metadata": {},
     "output_type": "execute_result"
    }
   ],
   "source": [
    "# Cast to datetime\n",
    "df_mkt_events['start_dt'] = pd.to_datetime(df_mkt_events['start_dt'], errors='coerce').dt.date\n",
    "df_mkt_events['finish_dt'] = pd.to_datetime(df_mkt_events['finish_dt'], errors='coerce').dt.date\n",
    "df_mkt_events"
   ]
  },
  {
   "cell_type": "code",
   "execution_count": 20,
   "id": "9629d958",
   "metadata": {},
   "outputs": [
    {
     "data": {
      "application/vnd.microsoft.datawrangler.viewer.v0+json": {
       "columns": [
        {
         "name": "index",
         "rawType": "int64",
         "type": "integer"
        },
        {
         "name": "user_id",
         "rawType": "object",
         "type": "string"
        },
        {
         "name": "first_date",
         "rawType": "object",
         "type": "unknown"
        },
        {
         "name": "region",
         "rawType": "object",
         "type": "string"
        },
        {
         "name": "device",
         "rawType": "object",
         "type": "string"
        }
       ],
       "ref": "5cec51f4-2175-4d01-aedb-82b9bd91fbf9",
       "rows": [
        [
         "0",
         "D72A72121175D8BE",
         "2020-12-07",
         "EU",
         "PC"
        ],
        [
         "1",
         "F1C668619DFE6E65",
         "2020-12-07",
         "N.America",
         "Android"
        ],
        [
         "2",
         "2E1BF1D4C37EA01F",
         "2020-12-07",
         "EU",
         "PC"
        ],
        [
         "3",
         "50734A22C0C63768",
         "2020-12-07",
         "EU",
         "iPhone"
        ],
        [
         "4",
         "E1BDDCE0DAFA2679",
         "2020-12-07",
         "N.America",
         "iPhone"
        ],
        [
         "5",
         "137119F5A9E69421",
         "2020-12-07",
         "N.America",
         "iPhone"
        ],
        [
         "6",
         "62F0C741CC42D0CC",
         "2020-12-07",
         "APAC",
         "iPhone"
        ],
        [
         "7",
         "8942E64218C9A1ED",
         "2020-12-07",
         "EU",
         "PC"
        ],
        [
         "8",
         "499AFACF904BBAE3",
         "2020-12-07",
         "N.America",
         "iPhone"
        ],
        [
         "9",
         "FFCEA1179C253104",
         "2020-12-07",
         "EU",
         "Android"
        ],
        [
         "10",
         "5EB159DA9DC94DBA",
         "2020-12-07",
         "APAC",
         "PC"
        ],
        [
         "11",
         "084A22B980BA8169",
         "2020-12-07",
         "EU",
         "Android"
        ],
        [
         "12",
         "8ACC2420471B31E4",
         "2020-12-07",
         "EU",
         "PC"
        ],
        [
         "13",
         "5BE017E9C8CC42F8",
         "2020-12-07",
         "EU",
         "Android"
        ],
        [
         "14",
         "7B6452F081F49504",
         "2020-12-07",
         "EU",
         "iPhone"
        ],
        [
         "15",
         "0FC21E6F8FAA8DEC",
         "2020-12-07",
         "EU",
         "PC"
        ],
        [
         "16",
         "9CD9F34546DF254C",
         "2020-12-07",
         "N.America",
         "iPhone"
        ],
        [
         "17",
         "96F27A054B191457",
         "2020-12-07",
         "EU",
         "iPhone"
        ],
        [
         "18",
         "1FD7660FDF94CA1F",
         "2020-12-07",
         "EU",
         "Android"
        ],
        [
         "19",
         "DD4352CDCF8C3D57",
         "2020-12-07",
         "EU",
         "Android"
        ],
        [
         "20",
         "E6AF85675078215D",
         "2020-12-07",
         "EU",
         "Android"
        ],
        [
         "21",
         "CF3A409ADCA5F68F",
         "2020-12-07",
         "EU",
         "iPhone"
        ],
        [
         "22",
         "831887FE7F2D6CBA",
         "2020-12-07",
         "EU",
         "Android"
        ],
        [
         "23",
         "AD8BFC204C0F14E4",
         "2020-12-07",
         "EU",
         "Android"
        ],
        [
         "24",
         "18BFE6138D1740ED",
         "2020-12-07",
         "APAC",
         "iPhone"
        ],
        [
         "25",
         "6B2F726BFD5F8220",
         "2020-12-07",
         "EU",
         "Android"
        ],
        [
         "26",
         "5C31FA76D6418867",
         "2020-12-07",
         "CIS",
         "PC"
        ],
        [
         "27",
         "160121894010711F",
         "2020-12-07",
         "N.America",
         "iPhone"
        ],
        [
         "28",
         "7713F4DD96975E70",
         "2020-12-07",
         "EU",
         "Android"
        ],
        [
         "29",
         "BEB37715AACF53B0",
         "2020-12-07",
         "EU",
         "Android"
        ],
        [
         "30",
         "BA9A0549BDF2DC7D",
         "2020-12-07",
         "EU",
         "PC"
        ],
        [
         "31",
         "C99BCDCDA7C0A2B5",
         "2020-12-07",
         "EU",
         "PC"
        ],
        [
         "32",
         "914FF952E23F1E75",
         "2020-12-07",
         "EU",
         "PC"
        ],
        [
         "33",
         "C297F41C2EAB90F9",
         "2020-12-07",
         "EU",
         "iPhone"
        ],
        [
         "34",
         "5DFA5DCA1EAB4A61",
         "2020-12-07",
         "EU",
         "PC"
        ],
        [
         "35",
         "B5FA27F582227197",
         "2020-12-07",
         "N.America",
         "Mac"
        ],
        [
         "36",
         "26D11E1624C22789",
         "2020-12-07",
         "EU",
         "iPhone"
        ],
        [
         "37",
         "756030430BF8A8ED",
         "2020-12-07",
         "EU",
         "Mac"
        ],
        [
         "38",
         "4CB179C7F847320B",
         "2020-12-07",
         "EU",
         "iPhone"
        ],
        [
         "39",
         "29C92313A98B1176",
         "2020-12-07",
         "APAC",
         "Android"
        ],
        [
         "40",
         "F9DA742C045C0540",
         "2020-12-07",
         "EU",
         "Android"
        ],
        [
         "41",
         "718AE30161496626",
         "2020-12-07",
         "CIS",
         "Android"
        ],
        [
         "42",
         "12E224E9F736290C",
         "2020-12-07",
         "CIS",
         "Android"
        ],
        [
         "43",
         "A92195E3CFB83DBD",
         "2020-12-07",
         "EU",
         "Android"
        ],
        [
         "44",
         "7D1BFB181017EB46",
         "2020-12-07",
         "CIS",
         "PC"
        ],
        [
         "45",
         "72293AD2DCF3D634",
         "2020-12-07",
         "EU",
         "PC"
        ],
        [
         "46",
         "E2E76A8B3389127C",
         "2020-12-07",
         "EU",
         "iPhone"
        ],
        [
         "47",
         "CDC3949A0F713D89",
         "2020-12-07",
         "EU",
         "PC"
        ],
        [
         "48",
         "C8D792687FC90372",
         "2020-12-07",
         "EU",
         "PC"
        ],
        [
         "49",
         "10B478AFB18AFF23",
         "2020-12-07",
         "EU",
         "PC"
        ]
       ],
       "shape": {
        "columns": 4,
        "rows": 58703
       }
      },
      "text/html": [
       "<div>\n",
       "<style scoped>\n",
       "    .dataframe tbody tr th:only-of-type {\n",
       "        vertical-align: middle;\n",
       "    }\n",
       "\n",
       "    .dataframe tbody tr th {\n",
       "        vertical-align: top;\n",
       "    }\n",
       "\n",
       "    .dataframe thead th {\n",
       "        text-align: right;\n",
       "    }\n",
       "</style>\n",
       "<table border=\"1\" class=\"dataframe\">\n",
       "  <thead>\n",
       "    <tr style=\"text-align: right;\">\n",
       "      <th></th>\n",
       "      <th>user_id</th>\n",
       "      <th>first_date</th>\n",
       "      <th>region</th>\n",
       "      <th>device</th>\n",
       "    </tr>\n",
       "  </thead>\n",
       "  <tbody>\n",
       "    <tr>\n",
       "      <th>0</th>\n",
       "      <td>D72A72121175D8BE</td>\n",
       "      <td>2020-12-07</td>\n",
       "      <td>EU</td>\n",
       "      <td>PC</td>\n",
       "    </tr>\n",
       "    <tr>\n",
       "      <th>1</th>\n",
       "      <td>F1C668619DFE6E65</td>\n",
       "      <td>2020-12-07</td>\n",
       "      <td>N.America</td>\n",
       "      <td>Android</td>\n",
       "    </tr>\n",
       "    <tr>\n",
       "      <th>2</th>\n",
       "      <td>2E1BF1D4C37EA01F</td>\n",
       "      <td>2020-12-07</td>\n",
       "      <td>EU</td>\n",
       "      <td>PC</td>\n",
       "    </tr>\n",
       "    <tr>\n",
       "      <th>3</th>\n",
       "      <td>50734A22C0C63768</td>\n",
       "      <td>2020-12-07</td>\n",
       "      <td>EU</td>\n",
       "      <td>iPhone</td>\n",
       "    </tr>\n",
       "    <tr>\n",
       "      <th>4</th>\n",
       "      <td>E1BDDCE0DAFA2679</td>\n",
       "      <td>2020-12-07</td>\n",
       "      <td>N.America</td>\n",
       "      <td>iPhone</td>\n",
       "    </tr>\n",
       "    <tr>\n",
       "      <th>...</th>\n",
       "      <td>...</td>\n",
       "      <td>...</td>\n",
       "      <td>...</td>\n",
       "      <td>...</td>\n",
       "    </tr>\n",
       "    <tr>\n",
       "      <th>58698</th>\n",
       "      <td>1DB53B933257165D</td>\n",
       "      <td>2020-12-20</td>\n",
       "      <td>EU</td>\n",
       "      <td>Android</td>\n",
       "    </tr>\n",
       "    <tr>\n",
       "      <th>58699</th>\n",
       "      <td>538643EB4527ED03</td>\n",
       "      <td>2020-12-20</td>\n",
       "      <td>EU</td>\n",
       "      <td>Mac</td>\n",
       "    </tr>\n",
       "    <tr>\n",
       "      <th>58700</th>\n",
       "      <td>7ADEE837D5D8CBBD</td>\n",
       "      <td>2020-12-20</td>\n",
       "      <td>EU</td>\n",
       "      <td>PC</td>\n",
       "    </tr>\n",
       "    <tr>\n",
       "      <th>58701</th>\n",
       "      <td>1C7D23927835213F</td>\n",
       "      <td>2020-12-20</td>\n",
       "      <td>EU</td>\n",
       "      <td>iPhone</td>\n",
       "    </tr>\n",
       "    <tr>\n",
       "      <th>58702</th>\n",
       "      <td>8F04273BB2860229</td>\n",
       "      <td>2020-12-20</td>\n",
       "      <td>EU</td>\n",
       "      <td>Android</td>\n",
       "    </tr>\n",
       "  </tbody>\n",
       "</table>\n",
       "<p>58703 rows × 4 columns</p>\n",
       "</div>"
      ],
      "text/plain": [
       "                user_id  first_date     region   device\n",
       "0      D72A72121175D8BE  2020-12-07         EU       PC\n",
       "1      F1C668619DFE6E65  2020-12-07  N.America  Android\n",
       "2      2E1BF1D4C37EA01F  2020-12-07         EU       PC\n",
       "3      50734A22C0C63768  2020-12-07         EU   iPhone\n",
       "4      E1BDDCE0DAFA2679  2020-12-07  N.America   iPhone\n",
       "...                 ...         ...        ...      ...\n",
       "58698  1DB53B933257165D  2020-12-20         EU  Android\n",
       "58699  538643EB4527ED03  2020-12-20         EU      Mac\n",
       "58700  7ADEE837D5D8CBBD  2020-12-20         EU       PC\n",
       "58701  1C7D23927835213F  2020-12-20         EU   iPhone\n",
       "58702  8F04273BB2860229  2020-12-20         EU  Android\n",
       "\n",
       "[58703 rows x 4 columns]"
      ]
     },
     "execution_count": 20,
     "metadata": {},
     "output_type": "execute_result"
    }
   ],
   "source": [
    "df_users_registration['first_date'] = pd.to_datetime(df_users_registration['first_date'], errors='coerce').dt.date\n",
    "df_users_registration"
   ]
  },
  {
   "cell_type": "code",
   "execution_count": 21,
   "id": "84202fe6",
   "metadata": {},
   "outputs": [
    {
     "data": {
      "application/vnd.microsoft.datawrangler.viewer.v0+json": {
       "columns": [
        {
         "name": "index",
         "rawType": "int64",
         "type": "integer"
        },
        {
         "name": "user_id",
         "rawType": "object",
         "type": "string"
        },
        {
         "name": "event_dt",
         "rawType": "datetime64[ns]",
         "type": "datetime"
        },
        {
         "name": "event_name",
         "rawType": "object",
         "type": "string"
        },
        {
         "name": "details",
         "rawType": "object",
         "type": "unknown"
        }
       ],
       "ref": "aaf8cb02-e82f-4691-bce2-3d019c49fd81",
       "rows": [
        [
         "0",
         "E1BDDCE0DAFA2679",
         "2020-12-07 20:22:03",
         "purchase",
         "99.99"
        ],
        [
         "1",
         "7B6452F081F49504",
         "2020-12-07 09:22:53",
         "purchase",
         "9.99"
        ],
        [
         "2",
         "9CD9F34546DF254C",
         "2020-12-07 12:59:29",
         "purchase",
         "4.99"
        ],
        [
         "3",
         "96F27A054B191457",
         "2020-12-07 04:02:40",
         "purchase",
         "4.99"
        ],
        [
         "4",
         "1FD7660FDF94CA1F",
         "2020-12-07 10:15:09",
         "purchase",
         "4.99"
        ],
        [
         "5",
         "831887FE7F2D6CBA",
         "2020-12-07 06:50:29",
         "purchase",
         "4.99"
        ],
        [
         "6",
         "6B2F726BFD5F8220",
         "2020-12-07 11:27:42",
         "purchase",
         "4.99"
        ],
        [
         "7",
         "BEB37715AACF53B0",
         "2020-12-07 04:26:15",
         "purchase",
         "4.99"
        ],
        [
         "8",
         "B5FA27F582227197",
         "2020-12-07 01:46:37",
         "purchase",
         "4.99"
        ],
        [
         "9",
         "A92195E3CFB83DBD",
         "2020-12-07 00:32:07",
         "purchase",
         "4.99"
        ],
        [
         "10",
         "E2E76A8B3389127C",
         "2020-12-07 15:39:32",
         "purchase",
         "4.99"
        ],
        [
         "11",
         "354D653172FF2A2D",
         "2020-12-07 15:45:11",
         "purchase",
         "4.99"
        ],
        [
         "12",
         "7FCD34F47C13A9AC",
         "2020-12-07 22:06:13",
         "purchase",
         "9.99"
        ],
        [
         "13",
         "0313C457F07C339E",
         "2020-12-07 13:10:48",
         "purchase",
         "9.99"
        ],
        [
         "14",
         "214902A9BAAF3422",
         "2020-12-07 19:31:44",
         "purchase",
         "4.99"
        ],
        [
         "15",
         "AE6B95B9A7C6380E",
         "2020-12-07 19:09:12",
         "purchase",
         "4.99"
        ],
        [
         "16",
         "EC9AFCC18F1CF6D9",
         "2020-12-07 19:19:00",
         "purchase",
         "4.99"
        ],
        [
         "17",
         "3C5DD0288AC4FE23",
         "2020-12-07 19:42:40",
         "purchase",
         "4.99"
        ],
        [
         "18",
         "649ECF69EC552A56",
         "2020-12-07 06:19:31",
         "purchase",
         "4.99"
        ],
        [
         "19",
         "9C31B4124B3AE217",
         "2020-12-07 21:38:36",
         "purchase",
         "4.99"
        ],
        [
         "20",
         "5C4BA5C457BC114A",
         "2020-12-07 05:37:13",
         "purchase",
         "9.99"
        ],
        [
         "21",
         "FCD216B91578B8DC",
         "2020-12-07 18:24:41",
         "purchase",
         "99.99"
        ],
        [
         "22",
         "435506A7A2265BBD",
         "2020-12-07 11:53:57",
         "purchase",
         "4.99"
        ],
        [
         "23",
         "909B249EB165910F",
         "2020-12-07 07:06:01",
         "purchase",
         "9.99"
        ],
        [
         "24",
         "ED61425DAC3E345C",
         "2020-12-07 01:03:27",
         "purchase",
         "4.99"
        ],
        [
         "25",
         "C39E95E709714A06",
         "2020-12-07 09:07:20",
         "purchase",
         "4.99"
        ],
        [
         "26",
         "DE83B085136CBF2D",
         "2020-12-07 20:10:44",
         "purchase",
         "99.99"
        ],
        [
         "27",
         "F42CA236F49AB93B",
         "2020-12-07 21:50:34",
         "purchase",
         "4.99"
        ],
        [
         "28",
         "AA77BDA8996FE1B8",
         "2020-12-07 08:24:41",
         "purchase",
         "9.99"
        ],
        [
         "29",
         "5E9543D6EB27D7D7",
         "2020-12-07 21:37:33",
         "purchase",
         "4.99"
        ],
        [
         "30",
         "78B3AFBB700310CC",
         "2020-12-07 23:44:09",
         "purchase",
         "4.99"
        ],
        [
         "31",
         "80CEAF824A1F3E28",
         "2020-12-07 15:54:06",
         "purchase",
         "499.99"
        ],
        [
         "32",
         "5EB044CECD378F75",
         "2020-12-07 02:50:18",
         "purchase",
         "4.99"
        ],
        [
         "33",
         "C0A95CA2E9CC8009",
         "2020-12-07 03:37:41",
         "purchase",
         "4.99"
        ],
        [
         "34",
         "992ADF277CCE9349",
         "2020-12-07 12:05:45",
         "purchase",
         "4.99"
        ],
        [
         "35",
         "37034BF58CD3A95B",
         "2020-12-07 19:36:07",
         "purchase",
         "99.99"
        ],
        [
         "36",
         "2765321AC15BA00A",
         "2020-12-07 08:57:39",
         "purchase",
         "4.99"
        ],
        [
         "37",
         "834A37293A8F21BA",
         "2020-12-07 05:12:03",
         "purchase",
         "4.99"
        ],
        [
         "38",
         "24FA9BADBEB3014D",
         "2020-12-07 01:59:36",
         "purchase",
         "99.99"
        ],
        [
         "39",
         "831958A1EA95370E",
         "2020-12-07 21:36:32",
         "purchase",
         "4.99"
        ],
        [
         "40",
         "68262C0CCF7073D4",
         "2020-12-07 13:40:49",
         "purchase",
         "4.99"
        ],
        [
         "41",
         "F2BE35774F63059B",
         "2020-12-07 05:23:18",
         "purchase",
         "4.99"
        ],
        [
         "42",
         "6D052E09A94F0725",
         "2020-12-07 02:54:36",
         "purchase",
         "9.99"
        ],
        [
         "43",
         "A10C24F7E7CCC96D",
         "2020-12-07 02:37:27",
         "purchase",
         "4.99"
        ],
        [
         "44",
         "C07713CA2E28F7E7",
         "2020-12-07 02:26:09",
         "purchase",
         "4.99"
        ],
        [
         "45",
         "E24F2C1DD2EEFA5A",
         "2020-12-07 12:52:24",
         "purchase",
         "4.99"
        ],
        [
         "46",
         "C559BDC13A3A4A2C",
         "2020-12-07 15:34:23",
         "purchase",
         "4.99"
        ],
        [
         "47",
         "5C31C0607EFC3C98",
         "2020-12-07 20:19:32",
         "purchase",
         "4.99"
        ],
        [
         "48",
         "690C65E0DE49B940",
         "2020-12-07 13:26:18",
         "purchase",
         "4.99"
        ],
        [
         "49",
         "56AF59723683AC41",
         "2020-12-07 08:59:38",
         "purchase",
         "9.99"
        ]
       ],
       "shape": {
        "columns": 4,
        "rows": 423761
       }
      },
      "text/html": [
       "<div>\n",
       "<style scoped>\n",
       "    .dataframe tbody tr th:only-of-type {\n",
       "        vertical-align: middle;\n",
       "    }\n",
       "\n",
       "    .dataframe tbody tr th {\n",
       "        vertical-align: top;\n",
       "    }\n",
       "\n",
       "    .dataframe thead th {\n",
       "        text-align: right;\n",
       "    }\n",
       "</style>\n",
       "<table border=\"1\" class=\"dataframe\">\n",
       "  <thead>\n",
       "    <tr style=\"text-align: right;\">\n",
       "      <th></th>\n",
       "      <th>user_id</th>\n",
       "      <th>event_dt</th>\n",
       "      <th>event_name</th>\n",
       "      <th>details</th>\n",
       "    </tr>\n",
       "  </thead>\n",
       "  <tbody>\n",
       "    <tr>\n",
       "      <th>0</th>\n",
       "      <td>E1BDDCE0DAFA2679</td>\n",
       "      <td>2020-12-07 20:22:03</td>\n",
       "      <td>purchase</td>\n",
       "      <td>99.99</td>\n",
       "    </tr>\n",
       "    <tr>\n",
       "      <th>1</th>\n",
       "      <td>7B6452F081F49504</td>\n",
       "      <td>2020-12-07 09:22:53</td>\n",
       "      <td>purchase</td>\n",
       "      <td>9.99</td>\n",
       "    </tr>\n",
       "    <tr>\n",
       "      <th>2</th>\n",
       "      <td>9CD9F34546DF254C</td>\n",
       "      <td>2020-12-07 12:59:29</td>\n",
       "      <td>purchase</td>\n",
       "      <td>4.99</td>\n",
       "    </tr>\n",
       "    <tr>\n",
       "      <th>3</th>\n",
       "      <td>96F27A054B191457</td>\n",
       "      <td>2020-12-07 04:02:40</td>\n",
       "      <td>purchase</td>\n",
       "      <td>4.99</td>\n",
       "    </tr>\n",
       "    <tr>\n",
       "      <th>4</th>\n",
       "      <td>1FD7660FDF94CA1F</td>\n",
       "      <td>2020-12-07 10:15:09</td>\n",
       "      <td>purchase</td>\n",
       "      <td>4.99</td>\n",
       "    </tr>\n",
       "    <tr>\n",
       "      <th>...</th>\n",
       "      <td>...</td>\n",
       "      <td>...</td>\n",
       "      <td>...</td>\n",
       "      <td>...</td>\n",
       "    </tr>\n",
       "    <tr>\n",
       "      <th>423756</th>\n",
       "      <td>245E85F65C358E08</td>\n",
       "      <td>2020-12-30 19:35:55</td>\n",
       "      <td>login</td>\n",
       "      <td>&lt;NA&gt;</td>\n",
       "    </tr>\n",
       "    <tr>\n",
       "      <th>423757</th>\n",
       "      <td>9385A108F5A0A7A7</td>\n",
       "      <td>2020-12-30 10:54:15</td>\n",
       "      <td>login</td>\n",
       "      <td>&lt;NA&gt;</td>\n",
       "    </tr>\n",
       "    <tr>\n",
       "      <th>423758</th>\n",
       "      <td>DB650B7559AC6EAC</td>\n",
       "      <td>2020-12-30 10:59:09</td>\n",
       "      <td>login</td>\n",
       "      <td>&lt;NA&gt;</td>\n",
       "    </tr>\n",
       "    <tr>\n",
       "      <th>423759</th>\n",
       "      <td>F80C9BDDEA02E53C</td>\n",
       "      <td>2020-12-30 09:53:39</td>\n",
       "      <td>login</td>\n",
       "      <td>&lt;NA&gt;</td>\n",
       "    </tr>\n",
       "    <tr>\n",
       "      <th>423760</th>\n",
       "      <td>7AEC61159B672CC5</td>\n",
       "      <td>2020-12-30 11:36:13</td>\n",
       "      <td>login</td>\n",
       "      <td>&lt;NA&gt;</td>\n",
       "    </tr>\n",
       "  </tbody>\n",
       "</table>\n",
       "<p>423761 rows × 4 columns</p>\n",
       "</div>"
      ],
      "text/plain": [
       "                 user_id            event_dt event_name details\n",
       "0       E1BDDCE0DAFA2679 2020-12-07 20:22:03   purchase   99.99\n",
       "1       7B6452F081F49504 2020-12-07 09:22:53   purchase    9.99\n",
       "2       9CD9F34546DF254C 2020-12-07 12:59:29   purchase    4.99\n",
       "3       96F27A054B191457 2020-12-07 04:02:40   purchase    4.99\n",
       "4       1FD7660FDF94CA1F 2020-12-07 10:15:09   purchase    4.99\n",
       "...                  ...                 ...        ...     ...\n",
       "423756  245E85F65C358E08 2020-12-30 19:35:55      login    <NA>\n",
       "423757  9385A108F5A0A7A7 2020-12-30 10:54:15      login    <NA>\n",
       "423758  DB650B7559AC6EAC 2020-12-30 10:59:09      login    <NA>\n",
       "423759  F80C9BDDEA02E53C 2020-12-30 09:53:39      login    <NA>\n",
       "423760  7AEC61159B672CC5 2020-12-30 11:36:13      login    <NA>\n",
       "\n",
       "[423761 rows x 4 columns]"
      ]
     },
     "execution_count": 21,
     "metadata": {},
     "output_type": "execute_result"
    }
   ],
   "source": [
    "df_user_events['event_dt'] = pd.to_datetime(df_user_events['event_dt'], errors='coerce')\n",
    "df_user_events"
   ]
  },
  {
   "cell_type": "code",
   "execution_count": 22,
   "id": "aed994a7",
   "metadata": {},
   "outputs": [
    {
     "data": {
      "application/vnd.microsoft.datawrangler.viewer.v0+json": {
       "columns": [
        {
         "name": "index",
         "rawType": "int64",
         "type": "integer"
        },
        {
         "name": "name",
         "rawType": "object",
         "type": "string"
        },
        {
         "name": "regions",
         "rawType": "category",
         "type": "unknown"
        },
        {
         "name": "start_dt",
         "rawType": "object",
         "type": "unknown"
        },
        {
         "name": "finish_dt",
         "rawType": "object",
         "type": "unknown"
        }
       ],
       "ref": "218a0e12-a157-48a3-8db9-b6724b0e90a8",
       "rows": [
        [
         "0",
         "Christmas_New_Year_Promo",
         "EU_N.America",
         "2020-12-25",
         "2021-01-03"
        ],
        [
         "1",
         "St._Valentine_s_Day_Giveaway",
         "EU_CIS_APAC_N.America",
         "2020-02-14",
         "2020-02-16"
        ],
        [
         "2",
         "St._Patric_s_Day_Promo",
         "EU_N.America",
         "2020-03-17",
         "2020-03-19"
        ],
        [
         "3",
         "Easter_Promo",
         "EU_CIS_APAC_N.America",
         "2020-04-12",
         "2020-04-19"
        ],
        [
         "4",
         "4th_of_July_Promo",
         "N.America",
         "2020-07-04",
         "2020-07-11"
        ],
        [
         "5",
         "Black_Friday_Ads_Campaign",
         "EU_CIS_APAC_N.America",
         "2020-11-26",
         "2020-12-01"
        ],
        [
         "6",
         "Chinese_New_Year_Promo",
         "APAC",
         "2020-01-25",
         "2020-02-07"
        ],
        [
         "7",
         "Labor_day_May_1st_Ads_Campaign",
         "EU_CIS_APAC",
         "2020-05-01",
         "2020-05-03"
        ],
        [
         "8",
         "International_Women_s_Day_Promo",
         "EU_CIS_APAC",
         "2020-03-08",
         "2020-03-10"
        ],
        [
         "9",
         "Victory_Day_CIS_May_9th_Event",
         "CIS",
         "2020-05-09",
         "2020-05-11"
        ],
        [
         "10",
         "CIS_New_Year_Gift_Lottery",
         "CIS",
         "2020-12-30",
         "2021-01-07"
        ],
        [
         "11",
         "Dragon_Boat_Festival_Giveaway",
         "APAC",
         "2020-06-25",
         "2020-07-01"
        ],
        [
         "12",
         "Single_s_Day_Gift_Promo",
         "APAC",
         "2020-11-11",
         "2020-11-12"
        ],
        [
         "13",
         "Chinese_Moon_Festival",
         "APAC",
         "2020-10-01",
         "2020-10-07"
        ]
       ],
       "shape": {
        "columns": 4,
        "rows": 14
       }
      },
      "text/html": [
       "<div>\n",
       "<style scoped>\n",
       "    .dataframe tbody tr th:only-of-type {\n",
       "        vertical-align: middle;\n",
       "    }\n",
       "\n",
       "    .dataframe tbody tr th {\n",
       "        vertical-align: top;\n",
       "    }\n",
       "\n",
       "    .dataframe thead th {\n",
       "        text-align: right;\n",
       "    }\n",
       "</style>\n",
       "<table border=\"1\" class=\"dataframe\">\n",
       "  <thead>\n",
       "    <tr style=\"text-align: right;\">\n",
       "      <th></th>\n",
       "      <th>name</th>\n",
       "      <th>regions</th>\n",
       "      <th>start_dt</th>\n",
       "      <th>finish_dt</th>\n",
       "    </tr>\n",
       "  </thead>\n",
       "  <tbody>\n",
       "    <tr>\n",
       "      <th>0</th>\n",
       "      <td>Christmas_New_Year_Promo</td>\n",
       "      <td>EU_N.America</td>\n",
       "      <td>2020-12-25</td>\n",
       "      <td>2021-01-03</td>\n",
       "    </tr>\n",
       "    <tr>\n",
       "      <th>1</th>\n",
       "      <td>St._Valentine_s_Day_Giveaway</td>\n",
       "      <td>EU_CIS_APAC_N.America</td>\n",
       "      <td>2020-02-14</td>\n",
       "      <td>2020-02-16</td>\n",
       "    </tr>\n",
       "    <tr>\n",
       "      <th>2</th>\n",
       "      <td>St._Patric_s_Day_Promo</td>\n",
       "      <td>EU_N.America</td>\n",
       "      <td>2020-03-17</td>\n",
       "      <td>2020-03-19</td>\n",
       "    </tr>\n",
       "    <tr>\n",
       "      <th>3</th>\n",
       "      <td>Easter_Promo</td>\n",
       "      <td>EU_CIS_APAC_N.America</td>\n",
       "      <td>2020-04-12</td>\n",
       "      <td>2020-04-19</td>\n",
       "    </tr>\n",
       "    <tr>\n",
       "      <th>4</th>\n",
       "      <td>4th_of_July_Promo</td>\n",
       "      <td>N.America</td>\n",
       "      <td>2020-07-04</td>\n",
       "      <td>2020-07-11</td>\n",
       "    </tr>\n",
       "    <tr>\n",
       "      <th>5</th>\n",
       "      <td>Black_Friday_Ads_Campaign</td>\n",
       "      <td>EU_CIS_APAC_N.America</td>\n",
       "      <td>2020-11-26</td>\n",
       "      <td>2020-12-01</td>\n",
       "    </tr>\n",
       "    <tr>\n",
       "      <th>6</th>\n",
       "      <td>Chinese_New_Year_Promo</td>\n",
       "      <td>APAC</td>\n",
       "      <td>2020-01-25</td>\n",
       "      <td>2020-02-07</td>\n",
       "    </tr>\n",
       "    <tr>\n",
       "      <th>7</th>\n",
       "      <td>Labor_day_May_1st_Ads_Campaign</td>\n",
       "      <td>EU_CIS_APAC</td>\n",
       "      <td>2020-05-01</td>\n",
       "      <td>2020-05-03</td>\n",
       "    </tr>\n",
       "    <tr>\n",
       "      <th>8</th>\n",
       "      <td>International_Women_s_Day_Promo</td>\n",
       "      <td>EU_CIS_APAC</td>\n",
       "      <td>2020-03-08</td>\n",
       "      <td>2020-03-10</td>\n",
       "    </tr>\n",
       "    <tr>\n",
       "      <th>9</th>\n",
       "      <td>Victory_Day_CIS_May_9th_Event</td>\n",
       "      <td>CIS</td>\n",
       "      <td>2020-05-09</td>\n",
       "      <td>2020-05-11</td>\n",
       "    </tr>\n",
       "    <tr>\n",
       "      <th>10</th>\n",
       "      <td>CIS_New_Year_Gift_Lottery</td>\n",
       "      <td>CIS</td>\n",
       "      <td>2020-12-30</td>\n",
       "      <td>2021-01-07</td>\n",
       "    </tr>\n",
       "    <tr>\n",
       "      <th>11</th>\n",
       "      <td>Dragon_Boat_Festival_Giveaway</td>\n",
       "      <td>APAC</td>\n",
       "      <td>2020-06-25</td>\n",
       "      <td>2020-07-01</td>\n",
       "    </tr>\n",
       "    <tr>\n",
       "      <th>12</th>\n",
       "      <td>Single_s_Day_Gift_Promo</td>\n",
       "      <td>APAC</td>\n",
       "      <td>2020-11-11</td>\n",
       "      <td>2020-11-12</td>\n",
       "    </tr>\n",
       "    <tr>\n",
       "      <th>13</th>\n",
       "      <td>Chinese_Moon_Festival</td>\n",
       "      <td>APAC</td>\n",
       "      <td>2020-10-01</td>\n",
       "      <td>2020-10-07</td>\n",
       "    </tr>\n",
       "  </tbody>\n",
       "</table>\n",
       "</div>"
      ],
      "text/plain": [
       "                               name                regions    start_dt  \\\n",
       "0          Christmas_New_Year_Promo           EU_N.America  2020-12-25   \n",
       "1      St._Valentine_s_Day_Giveaway  EU_CIS_APAC_N.America  2020-02-14   \n",
       "2            St._Patric_s_Day_Promo           EU_N.America  2020-03-17   \n",
       "3                      Easter_Promo  EU_CIS_APAC_N.America  2020-04-12   \n",
       "4                 4th_of_July_Promo              N.America  2020-07-04   \n",
       "5         Black_Friday_Ads_Campaign  EU_CIS_APAC_N.America  2020-11-26   \n",
       "6            Chinese_New_Year_Promo                   APAC  2020-01-25   \n",
       "7    Labor_day_May_1st_Ads_Campaign            EU_CIS_APAC  2020-05-01   \n",
       "8   International_Women_s_Day_Promo            EU_CIS_APAC  2020-03-08   \n",
       "9     Victory_Day_CIS_May_9th_Event                    CIS  2020-05-09   \n",
       "10        CIS_New_Year_Gift_Lottery                    CIS  2020-12-30   \n",
       "11    Dragon_Boat_Festival_Giveaway                   APAC  2020-06-25   \n",
       "12          Single_s_Day_Gift_Promo                   APAC  2020-11-11   \n",
       "13            Chinese_Moon_Festival                   APAC  2020-10-01   \n",
       "\n",
       "     finish_dt  \n",
       "0   2021-01-03  \n",
       "1   2020-02-16  \n",
       "2   2020-03-19  \n",
       "3   2020-04-19  \n",
       "4   2020-07-11  \n",
       "5   2020-12-01  \n",
       "6   2020-02-07  \n",
       "7   2020-05-03  \n",
       "8   2020-03-10  \n",
       "9   2020-05-11  \n",
       "10  2021-01-07  \n",
       "11  2020-07-01  \n",
       "12  2020-11-12  \n",
       "13  2020-10-07  "
      ]
     },
     "execution_count": 22,
     "metadata": {},
     "output_type": "execute_result"
    }
   ],
   "source": [
    "# Cast to category\n",
    "df_mkt_events['regions'] = df_mkt_events['regions'].astype('category')\n",
    "df_mkt_events"
   ]
  },
  {
   "cell_type": "code",
   "execution_count": 23,
   "id": "fe9cc949",
   "metadata": {},
   "outputs": [
    {
     "data": {
      "application/vnd.microsoft.datawrangler.viewer.v0+json": {
       "columns": [
        {
         "name": "index",
         "rawType": "int64",
         "type": "integer"
        },
        {
         "name": "user_id",
         "rawType": "object",
         "type": "string"
        },
        {
         "name": "first_date",
         "rawType": "object",
         "type": "unknown"
        },
        {
         "name": "region",
         "rawType": "category",
         "type": "unknown"
        },
        {
         "name": "device",
         "rawType": "category",
         "type": "unknown"
        }
       ],
       "ref": "879af69c-d75a-42d2-ba49-e94f5c27116f",
       "rows": [
        [
         "0",
         "D72A72121175D8BE",
         "2020-12-07",
         "EU",
         "PC"
        ],
        [
         "1",
         "F1C668619DFE6E65",
         "2020-12-07",
         "N.America",
         "Android"
        ],
        [
         "2",
         "2E1BF1D4C37EA01F",
         "2020-12-07",
         "EU",
         "PC"
        ],
        [
         "3",
         "50734A22C0C63768",
         "2020-12-07",
         "EU",
         "iPhone"
        ],
        [
         "4",
         "E1BDDCE0DAFA2679",
         "2020-12-07",
         "N.America",
         "iPhone"
        ],
        [
         "5",
         "137119F5A9E69421",
         "2020-12-07",
         "N.America",
         "iPhone"
        ],
        [
         "6",
         "62F0C741CC42D0CC",
         "2020-12-07",
         "APAC",
         "iPhone"
        ],
        [
         "7",
         "8942E64218C9A1ED",
         "2020-12-07",
         "EU",
         "PC"
        ],
        [
         "8",
         "499AFACF904BBAE3",
         "2020-12-07",
         "N.America",
         "iPhone"
        ],
        [
         "9",
         "FFCEA1179C253104",
         "2020-12-07",
         "EU",
         "Android"
        ],
        [
         "10",
         "5EB159DA9DC94DBA",
         "2020-12-07",
         "APAC",
         "PC"
        ],
        [
         "11",
         "084A22B980BA8169",
         "2020-12-07",
         "EU",
         "Android"
        ],
        [
         "12",
         "8ACC2420471B31E4",
         "2020-12-07",
         "EU",
         "PC"
        ],
        [
         "13",
         "5BE017E9C8CC42F8",
         "2020-12-07",
         "EU",
         "Android"
        ],
        [
         "14",
         "7B6452F081F49504",
         "2020-12-07",
         "EU",
         "iPhone"
        ],
        [
         "15",
         "0FC21E6F8FAA8DEC",
         "2020-12-07",
         "EU",
         "PC"
        ],
        [
         "16",
         "9CD9F34546DF254C",
         "2020-12-07",
         "N.America",
         "iPhone"
        ],
        [
         "17",
         "96F27A054B191457",
         "2020-12-07",
         "EU",
         "iPhone"
        ],
        [
         "18",
         "1FD7660FDF94CA1F",
         "2020-12-07",
         "EU",
         "Android"
        ],
        [
         "19",
         "DD4352CDCF8C3D57",
         "2020-12-07",
         "EU",
         "Android"
        ],
        [
         "20",
         "E6AF85675078215D",
         "2020-12-07",
         "EU",
         "Android"
        ],
        [
         "21",
         "CF3A409ADCA5F68F",
         "2020-12-07",
         "EU",
         "iPhone"
        ],
        [
         "22",
         "831887FE7F2D6CBA",
         "2020-12-07",
         "EU",
         "Android"
        ],
        [
         "23",
         "AD8BFC204C0F14E4",
         "2020-12-07",
         "EU",
         "Android"
        ],
        [
         "24",
         "18BFE6138D1740ED",
         "2020-12-07",
         "APAC",
         "iPhone"
        ],
        [
         "25",
         "6B2F726BFD5F8220",
         "2020-12-07",
         "EU",
         "Android"
        ],
        [
         "26",
         "5C31FA76D6418867",
         "2020-12-07",
         "CIS",
         "PC"
        ],
        [
         "27",
         "160121894010711F",
         "2020-12-07",
         "N.America",
         "iPhone"
        ],
        [
         "28",
         "7713F4DD96975E70",
         "2020-12-07",
         "EU",
         "Android"
        ],
        [
         "29",
         "BEB37715AACF53B0",
         "2020-12-07",
         "EU",
         "Android"
        ],
        [
         "30",
         "BA9A0549BDF2DC7D",
         "2020-12-07",
         "EU",
         "PC"
        ],
        [
         "31",
         "C99BCDCDA7C0A2B5",
         "2020-12-07",
         "EU",
         "PC"
        ],
        [
         "32",
         "914FF952E23F1E75",
         "2020-12-07",
         "EU",
         "PC"
        ],
        [
         "33",
         "C297F41C2EAB90F9",
         "2020-12-07",
         "EU",
         "iPhone"
        ],
        [
         "34",
         "5DFA5DCA1EAB4A61",
         "2020-12-07",
         "EU",
         "PC"
        ],
        [
         "35",
         "B5FA27F582227197",
         "2020-12-07",
         "N.America",
         "Mac"
        ],
        [
         "36",
         "26D11E1624C22789",
         "2020-12-07",
         "EU",
         "iPhone"
        ],
        [
         "37",
         "756030430BF8A8ED",
         "2020-12-07",
         "EU",
         "Mac"
        ],
        [
         "38",
         "4CB179C7F847320B",
         "2020-12-07",
         "EU",
         "iPhone"
        ],
        [
         "39",
         "29C92313A98B1176",
         "2020-12-07",
         "APAC",
         "Android"
        ],
        [
         "40",
         "F9DA742C045C0540",
         "2020-12-07",
         "EU",
         "Android"
        ],
        [
         "41",
         "718AE30161496626",
         "2020-12-07",
         "CIS",
         "Android"
        ],
        [
         "42",
         "12E224E9F736290C",
         "2020-12-07",
         "CIS",
         "Android"
        ],
        [
         "43",
         "A92195E3CFB83DBD",
         "2020-12-07",
         "EU",
         "Android"
        ],
        [
         "44",
         "7D1BFB181017EB46",
         "2020-12-07",
         "CIS",
         "PC"
        ],
        [
         "45",
         "72293AD2DCF3D634",
         "2020-12-07",
         "EU",
         "PC"
        ],
        [
         "46",
         "E2E76A8B3389127C",
         "2020-12-07",
         "EU",
         "iPhone"
        ],
        [
         "47",
         "CDC3949A0F713D89",
         "2020-12-07",
         "EU",
         "PC"
        ],
        [
         "48",
         "C8D792687FC90372",
         "2020-12-07",
         "EU",
         "PC"
        ],
        [
         "49",
         "10B478AFB18AFF23",
         "2020-12-07",
         "EU",
         "PC"
        ]
       ],
       "shape": {
        "columns": 4,
        "rows": 58703
       }
      },
      "text/html": [
       "<div>\n",
       "<style scoped>\n",
       "    .dataframe tbody tr th:only-of-type {\n",
       "        vertical-align: middle;\n",
       "    }\n",
       "\n",
       "    .dataframe tbody tr th {\n",
       "        vertical-align: top;\n",
       "    }\n",
       "\n",
       "    .dataframe thead th {\n",
       "        text-align: right;\n",
       "    }\n",
       "</style>\n",
       "<table border=\"1\" class=\"dataframe\">\n",
       "  <thead>\n",
       "    <tr style=\"text-align: right;\">\n",
       "      <th></th>\n",
       "      <th>user_id</th>\n",
       "      <th>first_date</th>\n",
       "      <th>region</th>\n",
       "      <th>device</th>\n",
       "    </tr>\n",
       "  </thead>\n",
       "  <tbody>\n",
       "    <tr>\n",
       "      <th>0</th>\n",
       "      <td>D72A72121175D8BE</td>\n",
       "      <td>2020-12-07</td>\n",
       "      <td>EU</td>\n",
       "      <td>PC</td>\n",
       "    </tr>\n",
       "    <tr>\n",
       "      <th>1</th>\n",
       "      <td>F1C668619DFE6E65</td>\n",
       "      <td>2020-12-07</td>\n",
       "      <td>N.America</td>\n",
       "      <td>Android</td>\n",
       "    </tr>\n",
       "    <tr>\n",
       "      <th>2</th>\n",
       "      <td>2E1BF1D4C37EA01F</td>\n",
       "      <td>2020-12-07</td>\n",
       "      <td>EU</td>\n",
       "      <td>PC</td>\n",
       "    </tr>\n",
       "    <tr>\n",
       "      <th>3</th>\n",
       "      <td>50734A22C0C63768</td>\n",
       "      <td>2020-12-07</td>\n",
       "      <td>EU</td>\n",
       "      <td>iPhone</td>\n",
       "    </tr>\n",
       "    <tr>\n",
       "      <th>4</th>\n",
       "      <td>E1BDDCE0DAFA2679</td>\n",
       "      <td>2020-12-07</td>\n",
       "      <td>N.America</td>\n",
       "      <td>iPhone</td>\n",
       "    </tr>\n",
       "    <tr>\n",
       "      <th>...</th>\n",
       "      <td>...</td>\n",
       "      <td>...</td>\n",
       "      <td>...</td>\n",
       "      <td>...</td>\n",
       "    </tr>\n",
       "    <tr>\n",
       "      <th>58698</th>\n",
       "      <td>1DB53B933257165D</td>\n",
       "      <td>2020-12-20</td>\n",
       "      <td>EU</td>\n",
       "      <td>Android</td>\n",
       "    </tr>\n",
       "    <tr>\n",
       "      <th>58699</th>\n",
       "      <td>538643EB4527ED03</td>\n",
       "      <td>2020-12-20</td>\n",
       "      <td>EU</td>\n",
       "      <td>Mac</td>\n",
       "    </tr>\n",
       "    <tr>\n",
       "      <th>58700</th>\n",
       "      <td>7ADEE837D5D8CBBD</td>\n",
       "      <td>2020-12-20</td>\n",
       "      <td>EU</td>\n",
       "      <td>PC</td>\n",
       "    </tr>\n",
       "    <tr>\n",
       "      <th>58701</th>\n",
       "      <td>1C7D23927835213F</td>\n",
       "      <td>2020-12-20</td>\n",
       "      <td>EU</td>\n",
       "      <td>iPhone</td>\n",
       "    </tr>\n",
       "    <tr>\n",
       "      <th>58702</th>\n",
       "      <td>8F04273BB2860229</td>\n",
       "      <td>2020-12-20</td>\n",
       "      <td>EU</td>\n",
       "      <td>Android</td>\n",
       "    </tr>\n",
       "  </tbody>\n",
       "</table>\n",
       "<p>58703 rows × 4 columns</p>\n",
       "</div>"
      ],
      "text/plain": [
       "                user_id  first_date     region   device\n",
       "0      D72A72121175D8BE  2020-12-07         EU       PC\n",
       "1      F1C668619DFE6E65  2020-12-07  N.America  Android\n",
       "2      2E1BF1D4C37EA01F  2020-12-07         EU       PC\n",
       "3      50734A22C0C63768  2020-12-07         EU   iPhone\n",
       "4      E1BDDCE0DAFA2679  2020-12-07  N.America   iPhone\n",
       "...                 ...         ...        ...      ...\n",
       "58698  1DB53B933257165D  2020-12-20         EU  Android\n",
       "58699  538643EB4527ED03  2020-12-20         EU      Mac\n",
       "58700  7ADEE837D5D8CBBD  2020-12-20         EU       PC\n",
       "58701  1C7D23927835213F  2020-12-20         EU   iPhone\n",
       "58702  8F04273BB2860229  2020-12-20         EU  Android\n",
       "\n",
       "[58703 rows x 4 columns]"
      ]
     },
     "execution_count": 23,
     "metadata": {},
     "output_type": "execute_result"
    }
   ],
   "source": [
    "df_users_registration['region'] = df_users_registration['region'].astype('category')\n",
    "df_users_registration['device'] = df_users_registration['device'].astype('category')\n",
    "df_users_registration"
   ]
  },
  {
   "cell_type": "code",
   "execution_count": 24,
   "id": "6c1f942d",
   "metadata": {},
   "outputs": [
    {
     "data": {
      "application/vnd.microsoft.datawrangler.viewer.v0+json": {
       "columns": [
        {
         "name": "index",
         "rawType": "int64",
         "type": "integer"
        },
        {
         "name": "user_id",
         "rawType": "object",
         "type": "string"
        },
        {
         "name": "event_dt",
         "rawType": "datetime64[ns]",
         "type": "datetime"
        },
        {
         "name": "event_name",
         "rawType": "category",
         "type": "unknown"
        },
        {
         "name": "details",
         "rawType": "object",
         "type": "unknown"
        }
       ],
       "ref": "9c2629da-bd2a-4eb1-92f1-f4846d2e817e",
       "rows": [
        [
         "0",
         "E1BDDCE0DAFA2679",
         "2020-12-07 20:22:03",
         "purchase",
         "99.99"
        ],
        [
         "1",
         "7B6452F081F49504",
         "2020-12-07 09:22:53",
         "purchase",
         "9.99"
        ],
        [
         "2",
         "9CD9F34546DF254C",
         "2020-12-07 12:59:29",
         "purchase",
         "4.99"
        ],
        [
         "3",
         "96F27A054B191457",
         "2020-12-07 04:02:40",
         "purchase",
         "4.99"
        ],
        [
         "4",
         "1FD7660FDF94CA1F",
         "2020-12-07 10:15:09",
         "purchase",
         "4.99"
        ],
        [
         "5",
         "831887FE7F2D6CBA",
         "2020-12-07 06:50:29",
         "purchase",
         "4.99"
        ],
        [
         "6",
         "6B2F726BFD5F8220",
         "2020-12-07 11:27:42",
         "purchase",
         "4.99"
        ],
        [
         "7",
         "BEB37715AACF53B0",
         "2020-12-07 04:26:15",
         "purchase",
         "4.99"
        ],
        [
         "8",
         "B5FA27F582227197",
         "2020-12-07 01:46:37",
         "purchase",
         "4.99"
        ],
        [
         "9",
         "A92195E3CFB83DBD",
         "2020-12-07 00:32:07",
         "purchase",
         "4.99"
        ],
        [
         "10",
         "E2E76A8B3389127C",
         "2020-12-07 15:39:32",
         "purchase",
         "4.99"
        ],
        [
         "11",
         "354D653172FF2A2D",
         "2020-12-07 15:45:11",
         "purchase",
         "4.99"
        ],
        [
         "12",
         "7FCD34F47C13A9AC",
         "2020-12-07 22:06:13",
         "purchase",
         "9.99"
        ],
        [
         "13",
         "0313C457F07C339E",
         "2020-12-07 13:10:48",
         "purchase",
         "9.99"
        ],
        [
         "14",
         "214902A9BAAF3422",
         "2020-12-07 19:31:44",
         "purchase",
         "4.99"
        ],
        [
         "15",
         "AE6B95B9A7C6380E",
         "2020-12-07 19:09:12",
         "purchase",
         "4.99"
        ],
        [
         "16",
         "EC9AFCC18F1CF6D9",
         "2020-12-07 19:19:00",
         "purchase",
         "4.99"
        ],
        [
         "17",
         "3C5DD0288AC4FE23",
         "2020-12-07 19:42:40",
         "purchase",
         "4.99"
        ],
        [
         "18",
         "649ECF69EC552A56",
         "2020-12-07 06:19:31",
         "purchase",
         "4.99"
        ],
        [
         "19",
         "9C31B4124B3AE217",
         "2020-12-07 21:38:36",
         "purchase",
         "4.99"
        ],
        [
         "20",
         "5C4BA5C457BC114A",
         "2020-12-07 05:37:13",
         "purchase",
         "9.99"
        ],
        [
         "21",
         "FCD216B91578B8DC",
         "2020-12-07 18:24:41",
         "purchase",
         "99.99"
        ],
        [
         "22",
         "435506A7A2265BBD",
         "2020-12-07 11:53:57",
         "purchase",
         "4.99"
        ],
        [
         "23",
         "909B249EB165910F",
         "2020-12-07 07:06:01",
         "purchase",
         "9.99"
        ],
        [
         "24",
         "ED61425DAC3E345C",
         "2020-12-07 01:03:27",
         "purchase",
         "4.99"
        ],
        [
         "25",
         "C39E95E709714A06",
         "2020-12-07 09:07:20",
         "purchase",
         "4.99"
        ],
        [
         "26",
         "DE83B085136CBF2D",
         "2020-12-07 20:10:44",
         "purchase",
         "99.99"
        ],
        [
         "27",
         "F42CA236F49AB93B",
         "2020-12-07 21:50:34",
         "purchase",
         "4.99"
        ],
        [
         "28",
         "AA77BDA8996FE1B8",
         "2020-12-07 08:24:41",
         "purchase",
         "9.99"
        ],
        [
         "29",
         "5E9543D6EB27D7D7",
         "2020-12-07 21:37:33",
         "purchase",
         "4.99"
        ],
        [
         "30",
         "78B3AFBB700310CC",
         "2020-12-07 23:44:09",
         "purchase",
         "4.99"
        ],
        [
         "31",
         "80CEAF824A1F3E28",
         "2020-12-07 15:54:06",
         "purchase",
         "499.99"
        ],
        [
         "32",
         "5EB044CECD378F75",
         "2020-12-07 02:50:18",
         "purchase",
         "4.99"
        ],
        [
         "33",
         "C0A95CA2E9CC8009",
         "2020-12-07 03:37:41",
         "purchase",
         "4.99"
        ],
        [
         "34",
         "992ADF277CCE9349",
         "2020-12-07 12:05:45",
         "purchase",
         "4.99"
        ],
        [
         "35",
         "37034BF58CD3A95B",
         "2020-12-07 19:36:07",
         "purchase",
         "99.99"
        ],
        [
         "36",
         "2765321AC15BA00A",
         "2020-12-07 08:57:39",
         "purchase",
         "4.99"
        ],
        [
         "37",
         "834A37293A8F21BA",
         "2020-12-07 05:12:03",
         "purchase",
         "4.99"
        ],
        [
         "38",
         "24FA9BADBEB3014D",
         "2020-12-07 01:59:36",
         "purchase",
         "99.99"
        ],
        [
         "39",
         "831958A1EA95370E",
         "2020-12-07 21:36:32",
         "purchase",
         "4.99"
        ],
        [
         "40",
         "68262C0CCF7073D4",
         "2020-12-07 13:40:49",
         "purchase",
         "4.99"
        ],
        [
         "41",
         "F2BE35774F63059B",
         "2020-12-07 05:23:18",
         "purchase",
         "4.99"
        ],
        [
         "42",
         "6D052E09A94F0725",
         "2020-12-07 02:54:36",
         "purchase",
         "9.99"
        ],
        [
         "43",
         "A10C24F7E7CCC96D",
         "2020-12-07 02:37:27",
         "purchase",
         "4.99"
        ],
        [
         "44",
         "C07713CA2E28F7E7",
         "2020-12-07 02:26:09",
         "purchase",
         "4.99"
        ],
        [
         "45",
         "E24F2C1DD2EEFA5A",
         "2020-12-07 12:52:24",
         "purchase",
         "4.99"
        ],
        [
         "46",
         "C559BDC13A3A4A2C",
         "2020-12-07 15:34:23",
         "purchase",
         "4.99"
        ],
        [
         "47",
         "5C31C0607EFC3C98",
         "2020-12-07 20:19:32",
         "purchase",
         "4.99"
        ],
        [
         "48",
         "690C65E0DE49B940",
         "2020-12-07 13:26:18",
         "purchase",
         "4.99"
        ],
        [
         "49",
         "56AF59723683AC41",
         "2020-12-07 08:59:38",
         "purchase",
         "9.99"
        ]
       ],
       "shape": {
        "columns": 4,
        "rows": 423761
       }
      },
      "text/html": [
       "<div>\n",
       "<style scoped>\n",
       "    .dataframe tbody tr th:only-of-type {\n",
       "        vertical-align: middle;\n",
       "    }\n",
       "\n",
       "    .dataframe tbody tr th {\n",
       "        vertical-align: top;\n",
       "    }\n",
       "\n",
       "    .dataframe thead th {\n",
       "        text-align: right;\n",
       "    }\n",
       "</style>\n",
       "<table border=\"1\" class=\"dataframe\">\n",
       "  <thead>\n",
       "    <tr style=\"text-align: right;\">\n",
       "      <th></th>\n",
       "      <th>user_id</th>\n",
       "      <th>event_dt</th>\n",
       "      <th>event_name</th>\n",
       "      <th>details</th>\n",
       "    </tr>\n",
       "  </thead>\n",
       "  <tbody>\n",
       "    <tr>\n",
       "      <th>0</th>\n",
       "      <td>E1BDDCE0DAFA2679</td>\n",
       "      <td>2020-12-07 20:22:03</td>\n",
       "      <td>purchase</td>\n",
       "      <td>99.99</td>\n",
       "    </tr>\n",
       "    <tr>\n",
       "      <th>1</th>\n",
       "      <td>7B6452F081F49504</td>\n",
       "      <td>2020-12-07 09:22:53</td>\n",
       "      <td>purchase</td>\n",
       "      <td>9.99</td>\n",
       "    </tr>\n",
       "    <tr>\n",
       "      <th>2</th>\n",
       "      <td>9CD9F34546DF254C</td>\n",
       "      <td>2020-12-07 12:59:29</td>\n",
       "      <td>purchase</td>\n",
       "      <td>4.99</td>\n",
       "    </tr>\n",
       "    <tr>\n",
       "      <th>3</th>\n",
       "      <td>96F27A054B191457</td>\n",
       "      <td>2020-12-07 04:02:40</td>\n",
       "      <td>purchase</td>\n",
       "      <td>4.99</td>\n",
       "    </tr>\n",
       "    <tr>\n",
       "      <th>4</th>\n",
       "      <td>1FD7660FDF94CA1F</td>\n",
       "      <td>2020-12-07 10:15:09</td>\n",
       "      <td>purchase</td>\n",
       "      <td>4.99</td>\n",
       "    </tr>\n",
       "    <tr>\n",
       "      <th>...</th>\n",
       "      <td>...</td>\n",
       "      <td>...</td>\n",
       "      <td>...</td>\n",
       "      <td>...</td>\n",
       "    </tr>\n",
       "    <tr>\n",
       "      <th>423756</th>\n",
       "      <td>245E85F65C358E08</td>\n",
       "      <td>2020-12-30 19:35:55</td>\n",
       "      <td>login</td>\n",
       "      <td>&lt;NA&gt;</td>\n",
       "    </tr>\n",
       "    <tr>\n",
       "      <th>423757</th>\n",
       "      <td>9385A108F5A0A7A7</td>\n",
       "      <td>2020-12-30 10:54:15</td>\n",
       "      <td>login</td>\n",
       "      <td>&lt;NA&gt;</td>\n",
       "    </tr>\n",
       "    <tr>\n",
       "      <th>423758</th>\n",
       "      <td>DB650B7559AC6EAC</td>\n",
       "      <td>2020-12-30 10:59:09</td>\n",
       "      <td>login</td>\n",
       "      <td>&lt;NA&gt;</td>\n",
       "    </tr>\n",
       "    <tr>\n",
       "      <th>423759</th>\n",
       "      <td>F80C9BDDEA02E53C</td>\n",
       "      <td>2020-12-30 09:53:39</td>\n",
       "      <td>login</td>\n",
       "      <td>&lt;NA&gt;</td>\n",
       "    </tr>\n",
       "    <tr>\n",
       "      <th>423760</th>\n",
       "      <td>7AEC61159B672CC5</td>\n",
       "      <td>2020-12-30 11:36:13</td>\n",
       "      <td>login</td>\n",
       "      <td>&lt;NA&gt;</td>\n",
       "    </tr>\n",
       "  </tbody>\n",
       "</table>\n",
       "<p>423761 rows × 4 columns</p>\n",
       "</div>"
      ],
      "text/plain": [
       "                 user_id            event_dt event_name details\n",
       "0       E1BDDCE0DAFA2679 2020-12-07 20:22:03   purchase   99.99\n",
       "1       7B6452F081F49504 2020-12-07 09:22:53   purchase    9.99\n",
       "2       9CD9F34546DF254C 2020-12-07 12:59:29   purchase    4.99\n",
       "3       96F27A054B191457 2020-12-07 04:02:40   purchase    4.99\n",
       "4       1FD7660FDF94CA1F 2020-12-07 10:15:09   purchase    4.99\n",
       "...                  ...                 ...        ...     ...\n",
       "423756  245E85F65C358E08 2020-12-30 19:35:55      login    <NA>\n",
       "423757  9385A108F5A0A7A7 2020-12-30 10:54:15      login    <NA>\n",
       "423758  DB650B7559AC6EAC 2020-12-30 10:59:09      login    <NA>\n",
       "423759  F80C9BDDEA02E53C 2020-12-30 09:53:39      login    <NA>\n",
       "423760  7AEC61159B672CC5 2020-12-30 11:36:13      login    <NA>\n",
       "\n",
       "[423761 rows x 4 columns]"
      ]
     },
     "execution_count": 24,
     "metadata": {},
     "output_type": "execute_result"
    }
   ],
   "source": [
    "df_user_events['event_name'] = df_user_events['event_name'].astype('category')\n",
    "df_user_events"
   ]
  },
  {
   "cell_type": "code",
   "execution_count": 25,
   "id": "113a0138",
   "metadata": {},
   "outputs": [
    {
     "data": {
      "application/vnd.microsoft.datawrangler.viewer.v0+json": {
       "columns": [
        {
         "name": "index",
         "rawType": "int64",
         "type": "integer"
        },
        {
         "name": "user_id",
         "rawType": "object",
         "type": "string"
        },
        {
         "name": "group",
         "rawType": "category",
         "type": "unknown"
        },
        {
         "name": "ab_test",
         "rawType": "category",
         "type": "unknown"
        }
       ],
       "ref": "de99e959-bcb6-4873-bd9e-f5b5605d2ae6",
       "rows": [
        [
         "0",
         "D1ABA3E2887B6A73",
         "A",
         "recommender_system_test"
        ],
        [
         "1",
         "A7A3664BD6242119",
         "A",
         "recommender_system_test"
        ],
        [
         "2",
         "DABC14FDDFADD29E",
         "A",
         "recommender_system_test"
        ],
        [
         "3",
         "04988C5DF189632E",
         "A",
         "recommender_system_test"
        ],
        [
         "4",
         "4FF2998A348C484F",
         "A",
         "recommender_system_test"
        ],
        [
         "5",
         "7473E0943673C09E",
         "A",
         "recommender_system_test"
        ],
        [
         "6",
         "C46FE336D240A054",
         "A",
         "recommender_system_test"
        ],
        [
         "7",
         "92CB588012C10D3D",
         "A",
         "recommender_system_test"
        ],
        [
         "8",
         "B3A2485649E4A012",
         "A",
         "recommender_system_test"
        ],
        [
         "9",
         "66FC298441D50783",
         "A",
         "recommender_system_test"
        ],
        [
         "10",
         "CD74C3D22FFC09C2",
         "B",
         "recommender_system_test"
        ],
        [
         "11",
         "19F4A16B875E04EE",
         "A",
         "recommender_system_test"
        ],
        [
         "12",
         "80A2F277C571443C",
         "A",
         "recommender_system_test"
        ],
        [
         "13",
         "50AA023EF325BCA1",
         "B",
         "recommender_system_test"
        ],
        [
         "14",
         "C716AF018B3D96F5",
         "A",
         "recommender_system_test"
        ],
        [
         "15",
         "EAFB9027A27D510C",
         "B",
         "recommender_system_test"
        ],
        [
         "16",
         "5C374D874B09B2D9",
         "A",
         "recommender_system_test"
        ],
        [
         "17",
         "5D5E6EE92AF6E9E0",
         "B",
         "recommender_system_test"
        ],
        [
         "18",
         "8DD7CC271D8CD039",
         "A",
         "recommender_system_test"
        ],
        [
         "19",
         "0F1FF07B3788976D",
         "A",
         "recommender_system_test"
        ],
        [
         "20",
         "03FBDF999D5B81B8",
         "A",
         "recommender_system_test"
        ],
        [
         "21",
         "52E7B7DC39F52987",
         "B",
         "recommender_system_test"
        ],
        [
         "22",
         "65F225074FEC2C03",
         "A",
         "recommender_system_test"
        ],
        [
         "23",
         "E0B12CEF93FA04B1",
         "A",
         "recommender_system_test"
        ],
        [
         "24",
         "3EE1210D1AB593C6",
         "A",
         "recommender_system_test"
        ],
        [
         "25",
         "0CA61E320CBC8D4F",
         "A",
         "recommender_system_test"
        ],
        [
         "26",
         "FC3F3E4DA7C85F88",
         "A",
         "recommender_system_test"
        ],
        [
         "27",
         "FE2AF0E94DBD470E",
         "A",
         "recommender_system_test"
        ],
        [
         "28",
         "76326F7A53D2008C",
         "B",
         "recommender_system_test"
        ],
        [
         "29",
         "FA6DAE0DFED333DB",
         "A",
         "recommender_system_test"
        ],
        [
         "30",
         "53720C4F36308F66",
         "A",
         "recommender_system_test"
        ],
        [
         "31",
         "4142705E10CCAF47",
         "A",
         "recommender_system_test"
        ],
        [
         "32",
         "3D6EB94C6C2A7804",
         "A",
         "recommender_system_test"
        ],
        [
         "33",
         "6D399D5D2832CD40",
         "A",
         "recommender_system_test"
        ],
        [
         "34",
         "D6479D2D2511094C",
         "A",
         "recommender_system_test"
        ],
        [
         "35",
         "EEF5EFB2D5915CF1",
         "A",
         "recommender_system_test"
        ],
        [
         "36",
         "C5AD06762E628169",
         "A",
         "recommender_system_test"
        ],
        [
         "37",
         "3ED90BE0DC2A3FD3",
         "B",
         "recommender_system_test"
        ],
        [
         "38",
         "E5AAA57C73A05E27",
         "B",
         "recommender_system_test"
        ],
        [
         "39",
         "DA84B03F1D02D13E",
         "B",
         "recommender_system_test"
        ],
        [
         "40",
         "948AADCBA0AD33FC",
         "B",
         "recommender_system_test"
        ],
        [
         "41",
         "938495416CBB307C",
         "A",
         "recommender_system_test"
        ],
        [
         "42",
         "ECB7F5A1A2E1D00F",
         "A",
         "recommender_system_test"
        ],
        [
         "43",
         "1D1E59B3A1B377AA",
         "A",
         "recommender_system_test"
        ],
        [
         "44",
         "87C4963DF01E3B3C",
         "B",
         "recommender_system_test"
        ],
        [
         "45",
         "B7AD6966E5557BE0",
         "A",
         "recommender_system_test"
        ],
        [
         "46",
         "38B78992508A9283",
         "B",
         "recommender_system_test"
        ],
        [
         "47",
         "0386BA6137787A24",
         "A",
         "recommender_system_test"
        ],
        [
         "48",
         "D7DB81E99D5AE29F",
         "A",
         "recommender_system_test"
        ],
        [
         "49",
         "086399E3A5AD93B8",
         "A",
         "recommender_system_test"
        ]
       ],
       "shape": {
        "columns": 3,
        "rows": 14525
       }
      },
      "text/html": [
       "<div>\n",
       "<style scoped>\n",
       "    .dataframe tbody tr th:only-of-type {\n",
       "        vertical-align: middle;\n",
       "    }\n",
       "\n",
       "    .dataframe tbody tr th {\n",
       "        vertical-align: top;\n",
       "    }\n",
       "\n",
       "    .dataframe thead th {\n",
       "        text-align: right;\n",
       "    }\n",
       "</style>\n",
       "<table border=\"1\" class=\"dataframe\">\n",
       "  <thead>\n",
       "    <tr style=\"text-align: right;\">\n",
       "      <th></th>\n",
       "      <th>user_id</th>\n",
       "      <th>group</th>\n",
       "      <th>ab_test</th>\n",
       "    </tr>\n",
       "  </thead>\n",
       "  <tbody>\n",
       "    <tr>\n",
       "      <th>0</th>\n",
       "      <td>D1ABA3E2887B6A73</td>\n",
       "      <td>A</td>\n",
       "      <td>recommender_system_test</td>\n",
       "    </tr>\n",
       "    <tr>\n",
       "      <th>1</th>\n",
       "      <td>A7A3664BD6242119</td>\n",
       "      <td>A</td>\n",
       "      <td>recommender_system_test</td>\n",
       "    </tr>\n",
       "    <tr>\n",
       "      <th>2</th>\n",
       "      <td>DABC14FDDFADD29E</td>\n",
       "      <td>A</td>\n",
       "      <td>recommender_system_test</td>\n",
       "    </tr>\n",
       "    <tr>\n",
       "      <th>3</th>\n",
       "      <td>04988C5DF189632E</td>\n",
       "      <td>A</td>\n",
       "      <td>recommender_system_test</td>\n",
       "    </tr>\n",
       "    <tr>\n",
       "      <th>4</th>\n",
       "      <td>4FF2998A348C484F</td>\n",
       "      <td>A</td>\n",
       "      <td>recommender_system_test</td>\n",
       "    </tr>\n",
       "    <tr>\n",
       "      <th>...</th>\n",
       "      <td>...</td>\n",
       "      <td>...</td>\n",
       "      <td>...</td>\n",
       "    </tr>\n",
       "    <tr>\n",
       "      <th>14520</th>\n",
       "      <td>1D302F8688B91781</td>\n",
       "      <td>B</td>\n",
       "      <td>interface_eu_test</td>\n",
       "    </tr>\n",
       "    <tr>\n",
       "      <th>14521</th>\n",
       "      <td>3DE51B726983B657</td>\n",
       "      <td>A</td>\n",
       "      <td>interface_eu_test</td>\n",
       "    </tr>\n",
       "    <tr>\n",
       "      <th>14522</th>\n",
       "      <td>F501F79D332BE86C</td>\n",
       "      <td>A</td>\n",
       "      <td>interface_eu_test</td>\n",
       "    </tr>\n",
       "    <tr>\n",
       "      <th>14523</th>\n",
       "      <td>63FBE257B05F2245</td>\n",
       "      <td>A</td>\n",
       "      <td>interface_eu_test</td>\n",
       "    </tr>\n",
       "    <tr>\n",
       "      <th>14524</th>\n",
       "      <td>79F9ABFB029CF724</td>\n",
       "      <td>B</td>\n",
       "      <td>interface_eu_test</td>\n",
       "    </tr>\n",
       "  </tbody>\n",
       "</table>\n",
       "<p>14525 rows × 3 columns</p>\n",
       "</div>"
      ],
      "text/plain": [
       "                user_id group                  ab_test\n",
       "0      D1ABA3E2887B6A73     A  recommender_system_test\n",
       "1      A7A3664BD6242119     A  recommender_system_test\n",
       "2      DABC14FDDFADD29E     A  recommender_system_test\n",
       "3      04988C5DF189632E     A  recommender_system_test\n",
       "4      4FF2998A348C484F     A  recommender_system_test\n",
       "...                 ...   ...                      ...\n",
       "14520  1D302F8688B91781     B        interface_eu_test\n",
       "14521  3DE51B726983B657     A        interface_eu_test\n",
       "14522  F501F79D332BE86C     A        interface_eu_test\n",
       "14523  63FBE257B05F2245     A        interface_eu_test\n",
       "14524  79F9ABFB029CF724     B        interface_eu_test\n",
       "\n",
       "[14525 rows x 3 columns]"
      ]
     },
     "execution_count": 25,
     "metadata": {},
     "output_type": "execute_result"
    }
   ],
   "source": [
    "df_user_test['group'] = df_user_test['group'].astype('category')\n",
    "df_user_test['ab_test'] = df_user_test['ab_test'].astype('category')\n",
    "df_user_test"
   ]
  },
  {
   "cell_type": "code",
   "execution_count": 26,
   "id": "e71ba54d",
   "metadata": {},
   "outputs": [
    {
     "data": {
      "application/vnd.microsoft.datawrangler.viewer.v0+json": {
       "columns": [
        {
         "name": "index",
         "rawType": "object",
         "type": "string"
        },
        {
         "name": "0",
         "rawType": "object",
         "type": "unknown"
        }
       ],
       "ref": "946fc4ad-01f6-48f2-b61d-63a77845a6fe",
       "rows": [
        [
         "name",
         "object"
        ],
        [
         "regions",
         "category"
        ],
        [
         "start_dt",
         "object"
        ],
        [
         "finish_dt",
         "object"
        ]
       ],
       "shape": {
        "columns": 1,
        "rows": 4
       }
      },
      "text/plain": [
       "name           object\n",
       "regions      category\n",
       "start_dt       object\n",
       "finish_dt      object\n",
       "dtype: object"
      ]
     },
     "execution_count": 26,
     "metadata": {},
     "output_type": "execute_result"
    }
   ],
   "source": [
    "# Check dtypes\n",
    "df_mkt_events.dtypes"
   ]
  },
  {
   "cell_type": "code",
   "execution_count": 27,
   "id": "314a09c3",
   "metadata": {},
   "outputs": [
    {
     "data": {
      "application/vnd.microsoft.datawrangler.viewer.v0+json": {
       "columns": [
        {
         "name": "index",
         "rawType": "object",
         "type": "string"
        },
        {
         "name": "0",
         "rawType": "object",
         "type": "unknown"
        }
       ],
       "ref": "7cffb6eb-004a-45eb-9d2c-fb01688acf76",
       "rows": [
        [
         "user_id",
         "object"
        ],
        [
         "first_date",
         "object"
        ],
        [
         "region",
         "category"
        ],
        [
         "device",
         "category"
        ]
       ],
       "shape": {
        "columns": 1,
        "rows": 4
       }
      },
      "text/plain": [
       "user_id         object\n",
       "first_date      object\n",
       "region        category\n",
       "device        category\n",
       "dtype: object"
      ]
     },
     "execution_count": 27,
     "metadata": {},
     "output_type": "execute_result"
    }
   ],
   "source": [
    "df_users_registration.dtypes"
   ]
  },
  {
   "cell_type": "code",
   "execution_count": 28,
   "id": "4ab717f6",
   "metadata": {},
   "outputs": [
    {
     "data": {
      "application/vnd.microsoft.datawrangler.viewer.v0+json": {
       "columns": [
        {
         "name": "index",
         "rawType": "object",
         "type": "string"
        },
        {
         "name": "0",
         "rawType": "object",
         "type": "unknown"
        }
       ],
       "ref": "2b67895d-eb78-40b8-a15e-556e5ef83cfc",
       "rows": [
        [
         "user_id",
         "object"
        ],
        [
         "event_dt",
         "datetime64[ns]"
        ],
        [
         "event_name",
         "category"
        ],
        [
         "details",
         "object"
        ]
       ],
       "shape": {
        "columns": 1,
        "rows": 4
       }
      },
      "text/plain": [
       "user_id               object\n",
       "event_dt      datetime64[ns]\n",
       "event_name          category\n",
       "details               object\n",
       "dtype: object"
      ]
     },
     "execution_count": 28,
     "metadata": {},
     "output_type": "execute_result"
    }
   ],
   "source": [
    "df_user_events.dtypes"
   ]
  },
  {
   "cell_type": "code",
   "execution_count": 29,
   "id": "ea2c8871",
   "metadata": {},
   "outputs": [
    {
     "data": {
      "application/vnd.microsoft.datawrangler.viewer.v0+json": {
       "columns": [
        {
         "name": "index",
         "rawType": "object",
         "type": "string"
        },
        {
         "name": "0",
         "rawType": "object",
         "type": "unknown"
        }
       ],
       "ref": "390ff6fb-3145-4c4e-9465-33f865eef798",
       "rows": [
        [
         "user_id",
         "object"
        ],
        [
         "group",
         "category"
        ],
        [
         "ab_test",
         "category"
        ]
       ],
       "shape": {
        "columns": 1,
        "rows": 3
       }
      },
      "text/plain": [
       "user_id      object\n",
       "group      category\n",
       "ab_test    category\n",
       "dtype: object"
      ]
     },
     "execution_count": 29,
     "metadata": {},
     "output_type": "execute_result"
    }
   ],
   "source": [
    "df_user_test.dtypes"
   ]
  },
  {
   "cell_type": "markdown",
   "id": "3b243264",
   "metadata": {},
   "source": [
    "### ⚙️ **5. Feature Engineering**"
   ]
  },
  {
   "cell_type": "code",
   "execution_count": 30,
   "id": "50d8d3ba",
   "metadata": {},
   "outputs": [
    {
     "data": {
      "application/vnd.microsoft.datawrangler.viewer.v0+json": {
       "columns": [
        {
         "name": "index",
         "rawType": "int64",
         "type": "integer"
        },
        {
         "name": "user_id",
         "rawType": "object",
         "type": "string"
        },
        {
         "name": "event_dt",
         "rawType": "datetime64[ns]",
         "type": "datetime"
        },
        {
         "name": "event_name",
         "rawType": "category",
         "type": "unknown"
        },
        {
         "name": "details",
         "rawType": "object",
         "type": "unknown"
        },
        {
         "name": "first_date",
         "rawType": "object",
         "type": "unknown"
        },
        {
         "name": "region",
         "rawType": "category",
         "type": "unknown"
        },
        {
         "name": "device",
         "rawType": "category",
         "type": "unknown"
        }
       ],
       "ref": "dcf27c88-282a-4c26-9909-4df87250cd3c",
       "rows": [
        [
         "0",
         "E1BDDCE0DAFA2679",
         "2020-12-07 20:22:03",
         "purchase",
         "99.99",
         "2020-12-07",
         "N.America",
         "iPhone"
        ],
        [
         "1",
         "7B6452F081F49504",
         "2020-12-07 09:22:53",
         "purchase",
         "9.99",
         "2020-12-07",
         "EU",
         "iPhone"
        ],
        [
         "2",
         "9CD9F34546DF254C",
         "2020-12-07 12:59:29",
         "purchase",
         "4.99",
         "2020-12-07",
         "N.America",
         "iPhone"
        ],
        [
         "3",
         "96F27A054B191457",
         "2020-12-07 04:02:40",
         "purchase",
         "4.99",
         "2020-12-07",
         "EU",
         "iPhone"
        ],
        [
         "4",
         "1FD7660FDF94CA1F",
         "2020-12-07 10:15:09",
         "purchase",
         "4.99",
         "2020-12-07",
         "EU",
         "Android"
        ],
        [
         "5",
         "831887FE7F2D6CBA",
         "2020-12-07 06:50:29",
         "purchase",
         "4.99",
         "2020-12-07",
         "EU",
         "Android"
        ],
        [
         "6",
         "6B2F726BFD5F8220",
         "2020-12-07 11:27:42",
         "purchase",
         "4.99",
         "2020-12-07",
         "EU",
         "Android"
        ],
        [
         "7",
         "BEB37715AACF53B0",
         "2020-12-07 04:26:15",
         "purchase",
         "4.99",
         "2020-12-07",
         "EU",
         "Android"
        ],
        [
         "8",
         "B5FA27F582227197",
         "2020-12-07 01:46:37",
         "purchase",
         "4.99",
         "2020-12-07",
         "N.America",
         "Mac"
        ],
        [
         "9",
         "A92195E3CFB83DBD",
         "2020-12-07 00:32:07",
         "purchase",
         "4.99",
         "2020-12-07",
         "EU",
         "Android"
        ],
        [
         "10",
         "E2E76A8B3389127C",
         "2020-12-07 15:39:32",
         "purchase",
         "4.99",
         "2020-12-07",
         "EU",
         "iPhone"
        ],
        [
         "11",
         "354D653172FF2A2D",
         "2020-12-07 15:45:11",
         "purchase",
         "4.99",
         "2020-12-07",
         "EU",
         "Mac"
        ],
        [
         "12",
         "7FCD34F47C13A9AC",
         "2020-12-07 22:06:13",
         "purchase",
         "9.99",
         "2020-12-07",
         "EU",
         "PC"
        ],
        [
         "13",
         "0313C457F07C339E",
         "2020-12-07 13:10:48",
         "purchase",
         "9.99",
         "2020-12-07",
         "EU",
         "Mac"
        ],
        [
         "14",
         "214902A9BAAF3422",
         "2020-12-07 19:31:44",
         "purchase",
         "4.99",
         "2020-12-07",
         "EU",
         "Android"
        ],
        [
         "15",
         "AE6B95B9A7C6380E",
         "2020-12-07 19:09:12",
         "purchase",
         "4.99",
         "2020-12-07",
         "N.America",
         "Android"
        ],
        [
         "16",
         "EC9AFCC18F1CF6D9",
         "2020-12-07 19:19:00",
         "purchase",
         "4.99",
         "2020-12-07",
         "EU",
         "Mac"
        ],
        [
         "17",
         "3C5DD0288AC4FE23",
         "2020-12-07 19:42:40",
         "purchase",
         "4.99",
         "2020-12-07",
         "EU",
         "PC"
        ],
        [
         "18",
         "649ECF69EC552A56",
         "2020-12-07 06:19:31",
         "purchase",
         "4.99",
         "2020-12-07",
         "EU",
         "Mac"
        ],
        [
         "19",
         "9C31B4124B3AE217",
         "2020-12-07 21:38:36",
         "purchase",
         "4.99",
         "2020-12-07",
         "EU",
         "PC"
        ],
        [
         "20",
         "5C4BA5C457BC114A",
         "2020-12-07 05:37:13",
         "purchase",
         "9.99",
         "2020-12-07",
         "EU",
         "iPhone"
        ],
        [
         "21",
         "FCD216B91578B8DC",
         "2020-12-07 18:24:41",
         "purchase",
         "99.99",
         "2020-12-07",
         "N.America",
         "PC"
        ],
        [
         "22",
         "435506A7A2265BBD",
         "2020-12-07 11:53:57",
         "purchase",
         "4.99",
         "2020-12-07",
         "EU",
         "PC"
        ],
        [
         "23",
         "909B249EB165910F",
         "2020-12-07 07:06:01",
         "purchase",
         "9.99",
         "2020-12-07",
         "N.America",
         "iPhone"
        ],
        [
         "24",
         "ED61425DAC3E345C",
         "2020-12-07 01:03:27",
         "purchase",
         "4.99",
         "2020-12-07",
         "N.America",
         "Mac"
        ],
        [
         "25",
         "C39E95E709714A06",
         "2020-12-07 09:07:20",
         "purchase",
         "4.99",
         "2020-12-07",
         "EU",
         "Android"
        ],
        [
         "26",
         "DE83B085136CBF2D",
         "2020-12-07 20:10:44",
         "purchase",
         "99.99",
         "2020-12-07",
         "EU",
         "Mac"
        ],
        [
         "27",
         "F42CA236F49AB93B",
         "2020-12-07 21:50:34",
         "purchase",
         "4.99",
         "2020-12-07",
         "N.America",
         "PC"
        ],
        [
         "28",
         "AA77BDA8996FE1B8",
         "2020-12-07 08:24:41",
         "purchase",
         "9.99",
         "2020-12-07",
         "N.America",
         "Android"
        ],
        [
         "29",
         "5E9543D6EB27D7D7",
         "2020-12-07 21:37:33",
         "purchase",
         "4.99",
         "2020-12-07",
         "APAC",
         "PC"
        ],
        [
         "30",
         "78B3AFBB700310CC",
         "2020-12-07 23:44:09",
         "purchase",
         "4.99",
         "2020-12-07",
         "EU",
         "PC"
        ],
        [
         "31",
         "80CEAF824A1F3E28",
         "2020-12-07 15:54:06",
         "purchase",
         "499.99",
         "2020-12-07",
         "EU",
         "Android"
        ],
        [
         "32",
         "5EB044CECD378F75",
         "2020-12-07 02:50:18",
         "purchase",
         "4.99",
         "2020-12-07",
         "EU",
         "Android"
        ],
        [
         "33",
         "C0A95CA2E9CC8009",
         "2020-12-07 03:37:41",
         "purchase",
         "4.99",
         "2020-12-07",
         "EU",
         "PC"
        ],
        [
         "34",
         "992ADF277CCE9349",
         "2020-12-07 12:05:45",
         "purchase",
         "4.99",
         "2020-12-07",
         "N.America",
         "Mac"
        ],
        [
         "35",
         "37034BF58CD3A95B",
         "2020-12-07 19:36:07",
         "purchase",
         "99.99",
         "2020-12-07",
         "EU",
         "Mac"
        ],
        [
         "36",
         "2765321AC15BA00A",
         "2020-12-07 08:57:39",
         "purchase",
         "4.99",
         "2020-12-07",
         "EU",
         "Mac"
        ],
        [
         "37",
         "834A37293A8F21BA",
         "2020-12-07 05:12:03",
         "purchase",
         "4.99",
         "2020-12-07",
         "EU",
         "iPhone"
        ],
        [
         "38",
         "24FA9BADBEB3014D",
         "2020-12-07 01:59:36",
         "purchase",
         "99.99",
         "2020-12-07",
         "N.America",
         "Android"
        ],
        [
         "39",
         "831958A1EA95370E",
         "2020-12-07 21:36:32",
         "purchase",
         "4.99",
         "2020-12-07",
         "N.America",
         "iPhone"
        ],
        [
         "40",
         "68262C0CCF7073D4",
         "2020-12-07 13:40:49",
         "purchase",
         "4.99",
         "2020-12-07",
         "EU",
         "Android"
        ],
        [
         "41",
         "F2BE35774F63059B",
         "2020-12-07 05:23:18",
         "purchase",
         "4.99",
         "2020-12-07",
         "EU",
         "Android"
        ],
        [
         "42",
         "6D052E09A94F0725",
         "2020-12-07 02:54:36",
         "purchase",
         "9.99",
         "2020-12-07",
         "EU",
         "PC"
        ],
        [
         "43",
         "A10C24F7E7CCC96D",
         "2020-12-07 02:37:27",
         "purchase",
         "4.99",
         "2020-12-07",
         "EU",
         "PC"
        ],
        [
         "44",
         "C07713CA2E28F7E7",
         "2020-12-07 02:26:09",
         "purchase",
         "4.99",
         "2020-12-07",
         "CIS",
         "Android"
        ],
        [
         "45",
         "E24F2C1DD2EEFA5A",
         "2020-12-07 12:52:24",
         "purchase",
         "4.99",
         "2020-12-07",
         "EU",
         "PC"
        ],
        [
         "46",
         "C559BDC13A3A4A2C",
         "2020-12-07 15:34:23",
         "purchase",
         "4.99",
         "2020-12-07",
         "EU",
         "iPhone"
        ],
        [
         "47",
         "5C31C0607EFC3C98",
         "2020-12-07 20:19:32",
         "purchase",
         "4.99",
         "2020-12-07",
         "EU",
         "iPhone"
        ],
        [
         "48",
         "690C65E0DE49B940",
         "2020-12-07 13:26:18",
         "purchase",
         "4.99",
         "2020-12-07",
         "EU",
         "Android"
        ],
        [
         "49",
         "56AF59723683AC41",
         "2020-12-07 08:59:38",
         "purchase",
         "9.99",
         "2020-12-07",
         "EU",
         "Android"
        ]
       ],
       "shape": {
        "columns": 7,
        "rows": 423761
       }
      },
      "text/html": [
       "<div>\n",
       "<style scoped>\n",
       "    .dataframe tbody tr th:only-of-type {\n",
       "        vertical-align: middle;\n",
       "    }\n",
       "\n",
       "    .dataframe tbody tr th {\n",
       "        vertical-align: top;\n",
       "    }\n",
       "\n",
       "    .dataframe thead th {\n",
       "        text-align: right;\n",
       "    }\n",
       "</style>\n",
       "<table border=\"1\" class=\"dataframe\">\n",
       "  <thead>\n",
       "    <tr style=\"text-align: right;\">\n",
       "      <th></th>\n",
       "      <th>user_id</th>\n",
       "      <th>event_dt</th>\n",
       "      <th>event_name</th>\n",
       "      <th>details</th>\n",
       "      <th>first_date</th>\n",
       "      <th>region</th>\n",
       "      <th>device</th>\n",
       "    </tr>\n",
       "  </thead>\n",
       "  <tbody>\n",
       "    <tr>\n",
       "      <th>0</th>\n",
       "      <td>E1BDDCE0DAFA2679</td>\n",
       "      <td>2020-12-07 20:22:03</td>\n",
       "      <td>purchase</td>\n",
       "      <td>99.99</td>\n",
       "      <td>2020-12-07</td>\n",
       "      <td>N.America</td>\n",
       "      <td>iPhone</td>\n",
       "    </tr>\n",
       "    <tr>\n",
       "      <th>1</th>\n",
       "      <td>7B6452F081F49504</td>\n",
       "      <td>2020-12-07 09:22:53</td>\n",
       "      <td>purchase</td>\n",
       "      <td>9.99</td>\n",
       "      <td>2020-12-07</td>\n",
       "      <td>EU</td>\n",
       "      <td>iPhone</td>\n",
       "    </tr>\n",
       "    <tr>\n",
       "      <th>2</th>\n",
       "      <td>9CD9F34546DF254C</td>\n",
       "      <td>2020-12-07 12:59:29</td>\n",
       "      <td>purchase</td>\n",
       "      <td>4.99</td>\n",
       "      <td>2020-12-07</td>\n",
       "      <td>N.America</td>\n",
       "      <td>iPhone</td>\n",
       "    </tr>\n",
       "    <tr>\n",
       "      <th>3</th>\n",
       "      <td>96F27A054B191457</td>\n",
       "      <td>2020-12-07 04:02:40</td>\n",
       "      <td>purchase</td>\n",
       "      <td>4.99</td>\n",
       "      <td>2020-12-07</td>\n",
       "      <td>EU</td>\n",
       "      <td>iPhone</td>\n",
       "    </tr>\n",
       "    <tr>\n",
       "      <th>4</th>\n",
       "      <td>1FD7660FDF94CA1F</td>\n",
       "      <td>2020-12-07 10:15:09</td>\n",
       "      <td>purchase</td>\n",
       "      <td>4.99</td>\n",
       "      <td>2020-12-07</td>\n",
       "      <td>EU</td>\n",
       "      <td>Android</td>\n",
       "    </tr>\n",
       "    <tr>\n",
       "      <th>...</th>\n",
       "      <td>...</td>\n",
       "      <td>...</td>\n",
       "      <td>...</td>\n",
       "      <td>...</td>\n",
       "      <td>...</td>\n",
       "      <td>...</td>\n",
       "      <td>...</td>\n",
       "    </tr>\n",
       "    <tr>\n",
       "      <th>423756</th>\n",
       "      <td>245E85F65C358E08</td>\n",
       "      <td>2020-12-30 19:35:55</td>\n",
       "      <td>login</td>\n",
       "      <td>&lt;NA&gt;</td>\n",
       "      <td>2020-12-07</td>\n",
       "      <td>EU</td>\n",
       "      <td>Android</td>\n",
       "    </tr>\n",
       "    <tr>\n",
       "      <th>423757</th>\n",
       "      <td>9385A108F5A0A7A7</td>\n",
       "      <td>2020-12-30 10:54:15</td>\n",
       "      <td>login</td>\n",
       "      <td>&lt;NA&gt;</td>\n",
       "      <td>2020-12-07</td>\n",
       "      <td>EU</td>\n",
       "      <td>PC</td>\n",
       "    </tr>\n",
       "    <tr>\n",
       "      <th>423758</th>\n",
       "      <td>DB650B7559AC6EAC</td>\n",
       "      <td>2020-12-30 10:59:09</td>\n",
       "      <td>login</td>\n",
       "      <td>&lt;NA&gt;</td>\n",
       "      <td>2020-12-07</td>\n",
       "      <td>EU</td>\n",
       "      <td>Android</td>\n",
       "    </tr>\n",
       "    <tr>\n",
       "      <th>423759</th>\n",
       "      <td>F80C9BDDEA02E53C</td>\n",
       "      <td>2020-12-30 09:53:39</td>\n",
       "      <td>login</td>\n",
       "      <td>&lt;NA&gt;</td>\n",
       "      <td>2020-12-07</td>\n",
       "      <td>EU</td>\n",
       "      <td>iPhone</td>\n",
       "    </tr>\n",
       "    <tr>\n",
       "      <th>423760</th>\n",
       "      <td>7AEC61159B672CC5</td>\n",
       "      <td>2020-12-30 11:36:13</td>\n",
       "      <td>login</td>\n",
       "      <td>&lt;NA&gt;</td>\n",
       "      <td>2020-12-07</td>\n",
       "      <td>EU</td>\n",
       "      <td>iPhone</td>\n",
       "    </tr>\n",
       "  </tbody>\n",
       "</table>\n",
       "<p>423761 rows × 7 columns</p>\n",
       "</div>"
      ],
      "text/plain": [
       "                 user_id            event_dt event_name details  first_date  \\\n",
       "0       E1BDDCE0DAFA2679 2020-12-07 20:22:03   purchase   99.99  2020-12-07   \n",
       "1       7B6452F081F49504 2020-12-07 09:22:53   purchase    9.99  2020-12-07   \n",
       "2       9CD9F34546DF254C 2020-12-07 12:59:29   purchase    4.99  2020-12-07   \n",
       "3       96F27A054B191457 2020-12-07 04:02:40   purchase    4.99  2020-12-07   \n",
       "4       1FD7660FDF94CA1F 2020-12-07 10:15:09   purchase    4.99  2020-12-07   \n",
       "...                  ...                 ...        ...     ...         ...   \n",
       "423756  245E85F65C358E08 2020-12-30 19:35:55      login    <NA>  2020-12-07   \n",
       "423757  9385A108F5A0A7A7 2020-12-30 10:54:15      login    <NA>  2020-12-07   \n",
       "423758  DB650B7559AC6EAC 2020-12-30 10:59:09      login    <NA>  2020-12-07   \n",
       "423759  F80C9BDDEA02E53C 2020-12-30 09:53:39      login    <NA>  2020-12-07   \n",
       "423760  7AEC61159B672CC5 2020-12-30 11:36:13      login    <NA>  2020-12-07   \n",
       "\n",
       "           region   device  \n",
       "0       N.America   iPhone  \n",
       "1              EU   iPhone  \n",
       "2       N.America   iPhone  \n",
       "3              EU   iPhone  \n",
       "4              EU  Android  \n",
       "...           ...      ...  \n",
       "423756         EU  Android  \n",
       "423757         EU       PC  \n",
       "423758         EU  Android  \n",
       "423759         EU   iPhone  \n",
       "423760         EU   iPhone  \n",
       "\n",
       "[423761 rows x 7 columns]"
      ]
     },
     "execution_count": 30,
     "metadata": {},
     "output_type": "execute_result"
    }
   ],
   "source": [
    "df_users = df_user_events.merge(df_users_registration, on='user_id', how='left')\n",
    "df_users"
   ]
  },
  {
   "cell_type": "code",
   "execution_count": 31,
   "id": "48eb7200",
   "metadata": {},
   "outputs": [
    {
     "data": {
      "application/vnd.microsoft.datawrangler.viewer.v0+json": {
       "columns": [
        {
         "name": "index",
         "rawType": "int64",
         "type": "integer"
        },
        {
         "name": "user_id",
         "rawType": "object",
         "type": "string"
        },
        {
         "name": "event_dt",
         "rawType": "object",
         "type": "unknown"
        },
        {
         "name": "event_name",
         "rawType": "category",
         "type": "unknown"
        },
        {
         "name": "details",
         "rawType": "object",
         "type": "unknown"
        },
        {
         "name": "first_date",
         "rawType": "object",
         "type": "unknown"
        },
        {
         "name": "region",
         "rawType": "category",
         "type": "unknown"
        },
        {
         "name": "device",
         "rawType": "category",
         "type": "unknown"
        },
        {
         "name": "event_tm",
         "rawType": "object",
         "type": "unknown"
        }
       ],
       "ref": "099b36bd-6ff6-4eff-9ebc-3dfc692c627d",
       "rows": [
        [
         "0",
         "E1BDDCE0DAFA2679",
         "2020-12-07",
         "purchase",
         "99.99",
         "2020-12-07",
         "N.America",
         "iPhone",
         "20:22:03"
        ],
        [
         "1",
         "7B6452F081F49504",
         "2020-12-07",
         "purchase",
         "9.99",
         "2020-12-07",
         "EU",
         "iPhone",
         "09:22:53"
        ],
        [
         "2",
         "9CD9F34546DF254C",
         "2020-12-07",
         "purchase",
         "4.99",
         "2020-12-07",
         "N.America",
         "iPhone",
         "12:59:29"
        ],
        [
         "3",
         "96F27A054B191457",
         "2020-12-07",
         "purchase",
         "4.99",
         "2020-12-07",
         "EU",
         "iPhone",
         "04:02:40"
        ],
        [
         "4",
         "1FD7660FDF94CA1F",
         "2020-12-07",
         "purchase",
         "4.99",
         "2020-12-07",
         "EU",
         "Android",
         "10:15:09"
        ],
        [
         "5",
         "831887FE7F2D6CBA",
         "2020-12-07",
         "purchase",
         "4.99",
         "2020-12-07",
         "EU",
         "Android",
         "06:50:29"
        ],
        [
         "6",
         "6B2F726BFD5F8220",
         "2020-12-07",
         "purchase",
         "4.99",
         "2020-12-07",
         "EU",
         "Android",
         "11:27:42"
        ],
        [
         "7",
         "BEB37715AACF53B0",
         "2020-12-07",
         "purchase",
         "4.99",
         "2020-12-07",
         "EU",
         "Android",
         "04:26:15"
        ],
        [
         "8",
         "B5FA27F582227197",
         "2020-12-07",
         "purchase",
         "4.99",
         "2020-12-07",
         "N.America",
         "Mac",
         "01:46:37"
        ],
        [
         "9",
         "A92195E3CFB83DBD",
         "2020-12-07",
         "purchase",
         "4.99",
         "2020-12-07",
         "EU",
         "Android",
         "00:32:07"
        ],
        [
         "10",
         "E2E76A8B3389127C",
         "2020-12-07",
         "purchase",
         "4.99",
         "2020-12-07",
         "EU",
         "iPhone",
         "15:39:32"
        ],
        [
         "11",
         "354D653172FF2A2D",
         "2020-12-07",
         "purchase",
         "4.99",
         "2020-12-07",
         "EU",
         "Mac",
         "15:45:11"
        ],
        [
         "12",
         "7FCD34F47C13A9AC",
         "2020-12-07",
         "purchase",
         "9.99",
         "2020-12-07",
         "EU",
         "PC",
         "22:06:13"
        ],
        [
         "13",
         "0313C457F07C339E",
         "2020-12-07",
         "purchase",
         "9.99",
         "2020-12-07",
         "EU",
         "Mac",
         "13:10:48"
        ],
        [
         "14",
         "214902A9BAAF3422",
         "2020-12-07",
         "purchase",
         "4.99",
         "2020-12-07",
         "EU",
         "Android",
         "19:31:44"
        ],
        [
         "15",
         "AE6B95B9A7C6380E",
         "2020-12-07",
         "purchase",
         "4.99",
         "2020-12-07",
         "N.America",
         "Android",
         "19:09:12"
        ],
        [
         "16",
         "EC9AFCC18F1CF6D9",
         "2020-12-07",
         "purchase",
         "4.99",
         "2020-12-07",
         "EU",
         "Mac",
         "19:19:00"
        ],
        [
         "17",
         "3C5DD0288AC4FE23",
         "2020-12-07",
         "purchase",
         "4.99",
         "2020-12-07",
         "EU",
         "PC",
         "19:42:40"
        ],
        [
         "18",
         "649ECF69EC552A56",
         "2020-12-07",
         "purchase",
         "4.99",
         "2020-12-07",
         "EU",
         "Mac",
         "06:19:31"
        ],
        [
         "19",
         "9C31B4124B3AE217",
         "2020-12-07",
         "purchase",
         "4.99",
         "2020-12-07",
         "EU",
         "PC",
         "21:38:36"
        ],
        [
         "20",
         "5C4BA5C457BC114A",
         "2020-12-07",
         "purchase",
         "9.99",
         "2020-12-07",
         "EU",
         "iPhone",
         "05:37:13"
        ],
        [
         "21",
         "FCD216B91578B8DC",
         "2020-12-07",
         "purchase",
         "99.99",
         "2020-12-07",
         "N.America",
         "PC",
         "18:24:41"
        ],
        [
         "22",
         "435506A7A2265BBD",
         "2020-12-07",
         "purchase",
         "4.99",
         "2020-12-07",
         "EU",
         "PC",
         "11:53:57"
        ],
        [
         "23",
         "909B249EB165910F",
         "2020-12-07",
         "purchase",
         "9.99",
         "2020-12-07",
         "N.America",
         "iPhone",
         "07:06:01"
        ],
        [
         "24",
         "ED61425DAC3E345C",
         "2020-12-07",
         "purchase",
         "4.99",
         "2020-12-07",
         "N.America",
         "Mac",
         "01:03:27"
        ],
        [
         "25",
         "C39E95E709714A06",
         "2020-12-07",
         "purchase",
         "4.99",
         "2020-12-07",
         "EU",
         "Android",
         "09:07:20"
        ],
        [
         "26",
         "DE83B085136CBF2D",
         "2020-12-07",
         "purchase",
         "99.99",
         "2020-12-07",
         "EU",
         "Mac",
         "20:10:44"
        ],
        [
         "27",
         "F42CA236F49AB93B",
         "2020-12-07",
         "purchase",
         "4.99",
         "2020-12-07",
         "N.America",
         "PC",
         "21:50:34"
        ],
        [
         "28",
         "AA77BDA8996FE1B8",
         "2020-12-07",
         "purchase",
         "9.99",
         "2020-12-07",
         "N.America",
         "Android",
         "08:24:41"
        ],
        [
         "29",
         "5E9543D6EB27D7D7",
         "2020-12-07",
         "purchase",
         "4.99",
         "2020-12-07",
         "APAC",
         "PC",
         "21:37:33"
        ],
        [
         "30",
         "78B3AFBB700310CC",
         "2020-12-07",
         "purchase",
         "4.99",
         "2020-12-07",
         "EU",
         "PC",
         "23:44:09"
        ],
        [
         "31",
         "80CEAF824A1F3E28",
         "2020-12-07",
         "purchase",
         "499.99",
         "2020-12-07",
         "EU",
         "Android",
         "15:54:06"
        ],
        [
         "32",
         "5EB044CECD378F75",
         "2020-12-07",
         "purchase",
         "4.99",
         "2020-12-07",
         "EU",
         "Android",
         "02:50:18"
        ],
        [
         "33",
         "C0A95CA2E9CC8009",
         "2020-12-07",
         "purchase",
         "4.99",
         "2020-12-07",
         "EU",
         "PC",
         "03:37:41"
        ],
        [
         "34",
         "992ADF277CCE9349",
         "2020-12-07",
         "purchase",
         "4.99",
         "2020-12-07",
         "N.America",
         "Mac",
         "12:05:45"
        ],
        [
         "35",
         "37034BF58CD3A95B",
         "2020-12-07",
         "purchase",
         "99.99",
         "2020-12-07",
         "EU",
         "Mac",
         "19:36:07"
        ],
        [
         "36",
         "2765321AC15BA00A",
         "2020-12-07",
         "purchase",
         "4.99",
         "2020-12-07",
         "EU",
         "Mac",
         "08:57:39"
        ],
        [
         "37",
         "834A37293A8F21BA",
         "2020-12-07",
         "purchase",
         "4.99",
         "2020-12-07",
         "EU",
         "iPhone",
         "05:12:03"
        ],
        [
         "38",
         "24FA9BADBEB3014D",
         "2020-12-07",
         "purchase",
         "99.99",
         "2020-12-07",
         "N.America",
         "Android",
         "01:59:36"
        ],
        [
         "39",
         "831958A1EA95370E",
         "2020-12-07",
         "purchase",
         "4.99",
         "2020-12-07",
         "N.America",
         "iPhone",
         "21:36:32"
        ],
        [
         "40",
         "68262C0CCF7073D4",
         "2020-12-07",
         "purchase",
         "4.99",
         "2020-12-07",
         "EU",
         "Android",
         "13:40:49"
        ],
        [
         "41",
         "F2BE35774F63059B",
         "2020-12-07",
         "purchase",
         "4.99",
         "2020-12-07",
         "EU",
         "Android",
         "05:23:18"
        ],
        [
         "42",
         "6D052E09A94F0725",
         "2020-12-07",
         "purchase",
         "9.99",
         "2020-12-07",
         "EU",
         "PC",
         "02:54:36"
        ],
        [
         "43",
         "A10C24F7E7CCC96D",
         "2020-12-07",
         "purchase",
         "4.99",
         "2020-12-07",
         "EU",
         "PC",
         "02:37:27"
        ],
        [
         "44",
         "C07713CA2E28F7E7",
         "2020-12-07",
         "purchase",
         "4.99",
         "2020-12-07",
         "CIS",
         "Android",
         "02:26:09"
        ],
        [
         "45",
         "E24F2C1DD2EEFA5A",
         "2020-12-07",
         "purchase",
         "4.99",
         "2020-12-07",
         "EU",
         "PC",
         "12:52:24"
        ],
        [
         "46",
         "C559BDC13A3A4A2C",
         "2020-12-07",
         "purchase",
         "4.99",
         "2020-12-07",
         "EU",
         "iPhone",
         "15:34:23"
        ],
        [
         "47",
         "5C31C0607EFC3C98",
         "2020-12-07",
         "purchase",
         "4.99",
         "2020-12-07",
         "EU",
         "iPhone",
         "20:19:32"
        ],
        [
         "48",
         "690C65E0DE49B940",
         "2020-12-07",
         "purchase",
         "4.99",
         "2020-12-07",
         "EU",
         "Android",
         "13:26:18"
        ],
        [
         "49",
         "56AF59723683AC41",
         "2020-12-07",
         "purchase",
         "9.99",
         "2020-12-07",
         "EU",
         "Android",
         "08:59:38"
        ]
       ],
       "shape": {
        "columns": 8,
        "rows": 423761
       }
      },
      "text/html": [
       "<div>\n",
       "<style scoped>\n",
       "    .dataframe tbody tr th:only-of-type {\n",
       "        vertical-align: middle;\n",
       "    }\n",
       "\n",
       "    .dataframe tbody tr th {\n",
       "        vertical-align: top;\n",
       "    }\n",
       "\n",
       "    .dataframe thead th {\n",
       "        text-align: right;\n",
       "    }\n",
       "</style>\n",
       "<table border=\"1\" class=\"dataframe\">\n",
       "  <thead>\n",
       "    <tr style=\"text-align: right;\">\n",
       "      <th></th>\n",
       "      <th>user_id</th>\n",
       "      <th>event_dt</th>\n",
       "      <th>event_name</th>\n",
       "      <th>details</th>\n",
       "      <th>first_date</th>\n",
       "      <th>region</th>\n",
       "      <th>device</th>\n",
       "      <th>event_tm</th>\n",
       "    </tr>\n",
       "  </thead>\n",
       "  <tbody>\n",
       "    <tr>\n",
       "      <th>0</th>\n",
       "      <td>E1BDDCE0DAFA2679</td>\n",
       "      <td>2020-12-07</td>\n",
       "      <td>purchase</td>\n",
       "      <td>99.99</td>\n",
       "      <td>2020-12-07</td>\n",
       "      <td>N.America</td>\n",
       "      <td>iPhone</td>\n",
       "      <td>20:22:03</td>\n",
       "    </tr>\n",
       "    <tr>\n",
       "      <th>1</th>\n",
       "      <td>7B6452F081F49504</td>\n",
       "      <td>2020-12-07</td>\n",
       "      <td>purchase</td>\n",
       "      <td>9.99</td>\n",
       "      <td>2020-12-07</td>\n",
       "      <td>EU</td>\n",
       "      <td>iPhone</td>\n",
       "      <td>09:22:53</td>\n",
       "    </tr>\n",
       "    <tr>\n",
       "      <th>2</th>\n",
       "      <td>9CD9F34546DF254C</td>\n",
       "      <td>2020-12-07</td>\n",
       "      <td>purchase</td>\n",
       "      <td>4.99</td>\n",
       "      <td>2020-12-07</td>\n",
       "      <td>N.America</td>\n",
       "      <td>iPhone</td>\n",
       "      <td>12:59:29</td>\n",
       "    </tr>\n",
       "    <tr>\n",
       "      <th>3</th>\n",
       "      <td>96F27A054B191457</td>\n",
       "      <td>2020-12-07</td>\n",
       "      <td>purchase</td>\n",
       "      <td>4.99</td>\n",
       "      <td>2020-12-07</td>\n",
       "      <td>EU</td>\n",
       "      <td>iPhone</td>\n",
       "      <td>04:02:40</td>\n",
       "    </tr>\n",
       "    <tr>\n",
       "      <th>4</th>\n",
       "      <td>1FD7660FDF94CA1F</td>\n",
       "      <td>2020-12-07</td>\n",
       "      <td>purchase</td>\n",
       "      <td>4.99</td>\n",
       "      <td>2020-12-07</td>\n",
       "      <td>EU</td>\n",
       "      <td>Android</td>\n",
       "      <td>10:15:09</td>\n",
       "    </tr>\n",
       "    <tr>\n",
       "      <th>...</th>\n",
       "      <td>...</td>\n",
       "      <td>...</td>\n",
       "      <td>...</td>\n",
       "      <td>...</td>\n",
       "      <td>...</td>\n",
       "      <td>...</td>\n",
       "      <td>...</td>\n",
       "      <td>...</td>\n",
       "    </tr>\n",
       "    <tr>\n",
       "      <th>423756</th>\n",
       "      <td>245E85F65C358E08</td>\n",
       "      <td>2020-12-30</td>\n",
       "      <td>login</td>\n",
       "      <td>&lt;NA&gt;</td>\n",
       "      <td>2020-12-07</td>\n",
       "      <td>EU</td>\n",
       "      <td>Android</td>\n",
       "      <td>19:35:55</td>\n",
       "    </tr>\n",
       "    <tr>\n",
       "      <th>423757</th>\n",
       "      <td>9385A108F5A0A7A7</td>\n",
       "      <td>2020-12-30</td>\n",
       "      <td>login</td>\n",
       "      <td>&lt;NA&gt;</td>\n",
       "      <td>2020-12-07</td>\n",
       "      <td>EU</td>\n",
       "      <td>PC</td>\n",
       "      <td>10:54:15</td>\n",
       "    </tr>\n",
       "    <tr>\n",
       "      <th>423758</th>\n",
       "      <td>DB650B7559AC6EAC</td>\n",
       "      <td>2020-12-30</td>\n",
       "      <td>login</td>\n",
       "      <td>&lt;NA&gt;</td>\n",
       "      <td>2020-12-07</td>\n",
       "      <td>EU</td>\n",
       "      <td>Android</td>\n",
       "      <td>10:59:09</td>\n",
       "    </tr>\n",
       "    <tr>\n",
       "      <th>423759</th>\n",
       "      <td>F80C9BDDEA02E53C</td>\n",
       "      <td>2020-12-30</td>\n",
       "      <td>login</td>\n",
       "      <td>&lt;NA&gt;</td>\n",
       "      <td>2020-12-07</td>\n",
       "      <td>EU</td>\n",
       "      <td>iPhone</td>\n",
       "      <td>09:53:39</td>\n",
       "    </tr>\n",
       "    <tr>\n",
       "      <th>423760</th>\n",
       "      <td>7AEC61159B672CC5</td>\n",
       "      <td>2020-12-30</td>\n",
       "      <td>login</td>\n",
       "      <td>&lt;NA&gt;</td>\n",
       "      <td>2020-12-07</td>\n",
       "      <td>EU</td>\n",
       "      <td>iPhone</td>\n",
       "      <td>11:36:13</td>\n",
       "    </tr>\n",
       "  </tbody>\n",
       "</table>\n",
       "<p>423761 rows × 8 columns</p>\n",
       "</div>"
      ],
      "text/plain": [
       "                 user_id    event_dt event_name details  first_date  \\\n",
       "0       E1BDDCE0DAFA2679  2020-12-07   purchase   99.99  2020-12-07   \n",
       "1       7B6452F081F49504  2020-12-07   purchase    9.99  2020-12-07   \n",
       "2       9CD9F34546DF254C  2020-12-07   purchase    4.99  2020-12-07   \n",
       "3       96F27A054B191457  2020-12-07   purchase    4.99  2020-12-07   \n",
       "4       1FD7660FDF94CA1F  2020-12-07   purchase    4.99  2020-12-07   \n",
       "...                  ...         ...        ...     ...         ...   \n",
       "423756  245E85F65C358E08  2020-12-30      login    <NA>  2020-12-07   \n",
       "423757  9385A108F5A0A7A7  2020-12-30      login    <NA>  2020-12-07   \n",
       "423758  DB650B7559AC6EAC  2020-12-30      login    <NA>  2020-12-07   \n",
       "423759  F80C9BDDEA02E53C  2020-12-30      login    <NA>  2020-12-07   \n",
       "423760  7AEC61159B672CC5  2020-12-30      login    <NA>  2020-12-07   \n",
       "\n",
       "           region   device  event_tm  \n",
       "0       N.America   iPhone  20:22:03  \n",
       "1              EU   iPhone  09:22:53  \n",
       "2       N.America   iPhone  12:59:29  \n",
       "3              EU   iPhone  04:02:40  \n",
       "4              EU  Android  10:15:09  \n",
       "...           ...      ...       ...  \n",
       "423756         EU  Android  19:35:55  \n",
       "423757         EU       PC  10:54:15  \n",
       "423758         EU  Android  10:59:09  \n",
       "423759         EU   iPhone  09:53:39  \n",
       "423760         EU   iPhone  11:36:13  \n",
       "\n",
       "[423761 rows x 8 columns]"
      ]
     },
     "execution_count": 31,
     "metadata": {},
     "output_type": "execute_result"
    }
   ],
   "source": [
    "df_users['event_tm'] = df_users['event_dt'].dt.time\n",
    "df_users['event_dt'] = df_users['event_dt'].dt.date\n",
    "df_users"
   ]
  },
  {
   "cell_type": "code",
   "execution_count": 32,
   "id": "a69ed176",
   "metadata": {},
   "outputs": [],
   "source": [
    "def add_mkt_event(df_users, df_mkt_events): \n",
    "    \"\"\" \n",
    "    Adds the name of the marketing event from df_mkt_events to df_users if the event_dt is within start_dt and finish_dt and the region matches. \n",
    "    Parameters: \n",
    "    - df_users: DataFrame with columns ['user_id', 'event_dt', 'region', ...] \n",
    "    - df_mkt_events: DataFrame with columns ['name', 'regions', 'start_dt', 'finish_dt'] \n",
    "    \n",
    "    Returns: \n",
    "    - df_users with new column 'mkt_event_name' \n",
    "    \"\"\" \n",
    "    \n",
    "    # Function to apply per row of df_users \n",
    "    def find_event(row): \n",
    "        # Filter events where the user's date is within the range \n",
    "        mask_date = ((df_mkt_events['start_dt'] <= row['event_dt']) & (df_mkt_events['finish_dt'] >= row['event_dt'])) \n",
    "        \n",
    "        # Filter by region using sets, row by row \n",
    "        def region_match(event_regions_str): \n",
    "            event_regions_set = set(event_regions_str.replace('_', ' ').split()) \n",
    "            user_regions_set = set(row['region'].split()) \n",
    "            return bool(event_regions_set & user_regions_set) # Non-empty intersection \n",
    "        \n",
    "        mask_region = df_mkt_events['regions'].apply(region_match) \n",
    "        \n",
    "        # Events that meet both conditions \n",
    "        matched_events = df_mkt_events[mask_date & mask_region] \n",
    "        \n",
    "        if not matched_events.empty: \n",
    "            return matched_events.iloc[0]['name'] \n",
    "        else: return pd.NA \n",
    "    \n",
    "    df_users['mkt_event_name'] = df_users.apply(find_event, axis=1) \n",
    "    return df_users"
   ]
  },
  {
   "cell_type": "code",
   "execution_count": 33,
   "id": "256e09a7",
   "metadata": {},
   "outputs": [
    {
     "data": {
      "application/vnd.microsoft.datawrangler.viewer.v0+json": {
       "columns": [
        {
         "name": "index",
         "rawType": "int64",
         "type": "integer"
        },
        {
         "name": "user_id",
         "rawType": "object",
         "type": "string"
        },
        {
         "name": "event_dt",
         "rawType": "object",
         "type": "unknown"
        },
        {
         "name": "event_name",
         "rawType": "category",
         "type": "unknown"
        },
        {
         "name": "details",
         "rawType": "object",
         "type": "unknown"
        },
        {
         "name": "first_date",
         "rawType": "object",
         "type": "unknown"
        },
        {
         "name": "region",
         "rawType": "category",
         "type": "unknown"
        },
        {
         "name": "device",
         "rawType": "category",
         "type": "unknown"
        },
        {
         "name": "event_tm",
         "rawType": "object",
         "type": "unknown"
        },
        {
         "name": "mkt_event_name",
         "rawType": "object",
         "type": "unknown"
        }
       ],
       "ref": "4afffc22-35f1-4315-8d0b-d1a0002d6097",
       "rows": [
        [
         "0",
         "E1BDDCE0DAFA2679",
         "2020-12-07",
         "purchase",
         "99.99",
         "2020-12-07",
         "N.America",
         "iPhone",
         "20:22:03",
         null
        ],
        [
         "1",
         "7B6452F081F49504",
         "2020-12-07",
         "purchase",
         "9.99",
         "2020-12-07",
         "EU",
         "iPhone",
         "09:22:53",
         null
        ],
        [
         "2",
         "9CD9F34546DF254C",
         "2020-12-07",
         "purchase",
         "4.99",
         "2020-12-07",
         "N.America",
         "iPhone",
         "12:59:29",
         null
        ],
        [
         "3",
         "96F27A054B191457",
         "2020-12-07",
         "purchase",
         "4.99",
         "2020-12-07",
         "EU",
         "iPhone",
         "04:02:40",
         null
        ],
        [
         "4",
         "1FD7660FDF94CA1F",
         "2020-12-07",
         "purchase",
         "4.99",
         "2020-12-07",
         "EU",
         "Android",
         "10:15:09",
         null
        ],
        [
         "5",
         "831887FE7F2D6CBA",
         "2020-12-07",
         "purchase",
         "4.99",
         "2020-12-07",
         "EU",
         "Android",
         "06:50:29",
         null
        ],
        [
         "6",
         "6B2F726BFD5F8220",
         "2020-12-07",
         "purchase",
         "4.99",
         "2020-12-07",
         "EU",
         "Android",
         "11:27:42",
         null
        ],
        [
         "7",
         "BEB37715AACF53B0",
         "2020-12-07",
         "purchase",
         "4.99",
         "2020-12-07",
         "EU",
         "Android",
         "04:26:15",
         null
        ],
        [
         "8",
         "B5FA27F582227197",
         "2020-12-07",
         "purchase",
         "4.99",
         "2020-12-07",
         "N.America",
         "Mac",
         "01:46:37",
         null
        ],
        [
         "9",
         "A92195E3CFB83DBD",
         "2020-12-07",
         "purchase",
         "4.99",
         "2020-12-07",
         "EU",
         "Android",
         "00:32:07",
         null
        ],
        [
         "10",
         "E2E76A8B3389127C",
         "2020-12-07",
         "purchase",
         "4.99",
         "2020-12-07",
         "EU",
         "iPhone",
         "15:39:32",
         null
        ],
        [
         "11",
         "354D653172FF2A2D",
         "2020-12-07",
         "purchase",
         "4.99",
         "2020-12-07",
         "EU",
         "Mac",
         "15:45:11",
         null
        ],
        [
         "12",
         "7FCD34F47C13A9AC",
         "2020-12-07",
         "purchase",
         "9.99",
         "2020-12-07",
         "EU",
         "PC",
         "22:06:13",
         null
        ],
        [
         "13",
         "0313C457F07C339E",
         "2020-12-07",
         "purchase",
         "9.99",
         "2020-12-07",
         "EU",
         "Mac",
         "13:10:48",
         null
        ],
        [
         "14",
         "214902A9BAAF3422",
         "2020-12-07",
         "purchase",
         "4.99",
         "2020-12-07",
         "EU",
         "Android",
         "19:31:44",
         null
        ],
        [
         "15",
         "AE6B95B9A7C6380E",
         "2020-12-07",
         "purchase",
         "4.99",
         "2020-12-07",
         "N.America",
         "Android",
         "19:09:12",
         null
        ],
        [
         "16",
         "EC9AFCC18F1CF6D9",
         "2020-12-07",
         "purchase",
         "4.99",
         "2020-12-07",
         "EU",
         "Mac",
         "19:19:00",
         null
        ],
        [
         "17",
         "3C5DD0288AC4FE23",
         "2020-12-07",
         "purchase",
         "4.99",
         "2020-12-07",
         "EU",
         "PC",
         "19:42:40",
         null
        ],
        [
         "18",
         "649ECF69EC552A56",
         "2020-12-07",
         "purchase",
         "4.99",
         "2020-12-07",
         "EU",
         "Mac",
         "06:19:31",
         null
        ],
        [
         "19",
         "9C31B4124B3AE217",
         "2020-12-07",
         "purchase",
         "4.99",
         "2020-12-07",
         "EU",
         "PC",
         "21:38:36",
         null
        ],
        [
         "20",
         "5C4BA5C457BC114A",
         "2020-12-07",
         "purchase",
         "9.99",
         "2020-12-07",
         "EU",
         "iPhone",
         "05:37:13",
         null
        ],
        [
         "21",
         "FCD216B91578B8DC",
         "2020-12-07",
         "purchase",
         "99.99",
         "2020-12-07",
         "N.America",
         "PC",
         "18:24:41",
         null
        ],
        [
         "22",
         "435506A7A2265BBD",
         "2020-12-07",
         "purchase",
         "4.99",
         "2020-12-07",
         "EU",
         "PC",
         "11:53:57",
         null
        ],
        [
         "23",
         "909B249EB165910F",
         "2020-12-07",
         "purchase",
         "9.99",
         "2020-12-07",
         "N.America",
         "iPhone",
         "07:06:01",
         null
        ],
        [
         "24",
         "ED61425DAC3E345C",
         "2020-12-07",
         "purchase",
         "4.99",
         "2020-12-07",
         "N.America",
         "Mac",
         "01:03:27",
         null
        ],
        [
         "25",
         "C39E95E709714A06",
         "2020-12-07",
         "purchase",
         "4.99",
         "2020-12-07",
         "EU",
         "Android",
         "09:07:20",
         null
        ],
        [
         "26",
         "DE83B085136CBF2D",
         "2020-12-07",
         "purchase",
         "99.99",
         "2020-12-07",
         "EU",
         "Mac",
         "20:10:44",
         null
        ],
        [
         "27",
         "F42CA236F49AB93B",
         "2020-12-07",
         "purchase",
         "4.99",
         "2020-12-07",
         "N.America",
         "PC",
         "21:50:34",
         null
        ],
        [
         "28",
         "AA77BDA8996FE1B8",
         "2020-12-07",
         "purchase",
         "9.99",
         "2020-12-07",
         "N.America",
         "Android",
         "08:24:41",
         null
        ],
        [
         "29",
         "5E9543D6EB27D7D7",
         "2020-12-07",
         "purchase",
         "4.99",
         "2020-12-07",
         "APAC",
         "PC",
         "21:37:33",
         null
        ],
        [
         "30",
         "78B3AFBB700310CC",
         "2020-12-07",
         "purchase",
         "4.99",
         "2020-12-07",
         "EU",
         "PC",
         "23:44:09",
         null
        ],
        [
         "31",
         "80CEAF824A1F3E28",
         "2020-12-07",
         "purchase",
         "499.99",
         "2020-12-07",
         "EU",
         "Android",
         "15:54:06",
         null
        ],
        [
         "32",
         "5EB044CECD378F75",
         "2020-12-07",
         "purchase",
         "4.99",
         "2020-12-07",
         "EU",
         "Android",
         "02:50:18",
         null
        ],
        [
         "33",
         "C0A95CA2E9CC8009",
         "2020-12-07",
         "purchase",
         "4.99",
         "2020-12-07",
         "EU",
         "PC",
         "03:37:41",
         null
        ],
        [
         "34",
         "992ADF277CCE9349",
         "2020-12-07",
         "purchase",
         "4.99",
         "2020-12-07",
         "N.America",
         "Mac",
         "12:05:45",
         null
        ],
        [
         "35",
         "37034BF58CD3A95B",
         "2020-12-07",
         "purchase",
         "99.99",
         "2020-12-07",
         "EU",
         "Mac",
         "19:36:07",
         null
        ],
        [
         "36",
         "2765321AC15BA00A",
         "2020-12-07",
         "purchase",
         "4.99",
         "2020-12-07",
         "EU",
         "Mac",
         "08:57:39",
         null
        ],
        [
         "37",
         "834A37293A8F21BA",
         "2020-12-07",
         "purchase",
         "4.99",
         "2020-12-07",
         "EU",
         "iPhone",
         "05:12:03",
         null
        ],
        [
         "38",
         "24FA9BADBEB3014D",
         "2020-12-07",
         "purchase",
         "99.99",
         "2020-12-07",
         "N.America",
         "Android",
         "01:59:36",
         null
        ],
        [
         "39",
         "831958A1EA95370E",
         "2020-12-07",
         "purchase",
         "4.99",
         "2020-12-07",
         "N.America",
         "iPhone",
         "21:36:32",
         null
        ],
        [
         "40",
         "68262C0CCF7073D4",
         "2020-12-07",
         "purchase",
         "4.99",
         "2020-12-07",
         "EU",
         "Android",
         "13:40:49",
         null
        ],
        [
         "41",
         "F2BE35774F63059B",
         "2020-12-07",
         "purchase",
         "4.99",
         "2020-12-07",
         "EU",
         "Android",
         "05:23:18",
         null
        ],
        [
         "42",
         "6D052E09A94F0725",
         "2020-12-07",
         "purchase",
         "9.99",
         "2020-12-07",
         "EU",
         "PC",
         "02:54:36",
         null
        ],
        [
         "43",
         "A10C24F7E7CCC96D",
         "2020-12-07",
         "purchase",
         "4.99",
         "2020-12-07",
         "EU",
         "PC",
         "02:37:27",
         null
        ],
        [
         "44",
         "C07713CA2E28F7E7",
         "2020-12-07",
         "purchase",
         "4.99",
         "2020-12-07",
         "CIS",
         "Android",
         "02:26:09",
         null
        ],
        [
         "45",
         "E24F2C1DD2EEFA5A",
         "2020-12-07",
         "purchase",
         "4.99",
         "2020-12-07",
         "EU",
         "PC",
         "12:52:24",
         null
        ],
        [
         "46",
         "C559BDC13A3A4A2C",
         "2020-12-07",
         "purchase",
         "4.99",
         "2020-12-07",
         "EU",
         "iPhone",
         "15:34:23",
         null
        ],
        [
         "47",
         "5C31C0607EFC3C98",
         "2020-12-07",
         "purchase",
         "4.99",
         "2020-12-07",
         "EU",
         "iPhone",
         "20:19:32",
         null
        ],
        [
         "48",
         "690C65E0DE49B940",
         "2020-12-07",
         "purchase",
         "4.99",
         "2020-12-07",
         "EU",
         "Android",
         "13:26:18",
         null
        ],
        [
         "49",
         "56AF59723683AC41",
         "2020-12-07",
         "purchase",
         "9.99",
         "2020-12-07",
         "EU",
         "Android",
         "08:59:38",
         null
        ]
       ],
       "shape": {
        "columns": 9,
        "rows": 423761
       }
      },
      "text/html": [
       "<div>\n",
       "<style scoped>\n",
       "    .dataframe tbody tr th:only-of-type {\n",
       "        vertical-align: middle;\n",
       "    }\n",
       "\n",
       "    .dataframe tbody tr th {\n",
       "        vertical-align: top;\n",
       "    }\n",
       "\n",
       "    .dataframe thead th {\n",
       "        text-align: right;\n",
       "    }\n",
       "</style>\n",
       "<table border=\"1\" class=\"dataframe\">\n",
       "  <thead>\n",
       "    <tr style=\"text-align: right;\">\n",
       "      <th></th>\n",
       "      <th>user_id</th>\n",
       "      <th>event_dt</th>\n",
       "      <th>event_name</th>\n",
       "      <th>details</th>\n",
       "      <th>first_date</th>\n",
       "      <th>region</th>\n",
       "      <th>device</th>\n",
       "      <th>event_tm</th>\n",
       "      <th>mkt_event_name</th>\n",
       "    </tr>\n",
       "  </thead>\n",
       "  <tbody>\n",
       "    <tr>\n",
       "      <th>0</th>\n",
       "      <td>E1BDDCE0DAFA2679</td>\n",
       "      <td>2020-12-07</td>\n",
       "      <td>purchase</td>\n",
       "      <td>99.99</td>\n",
       "      <td>2020-12-07</td>\n",
       "      <td>N.America</td>\n",
       "      <td>iPhone</td>\n",
       "      <td>20:22:03</td>\n",
       "      <td>&lt;NA&gt;</td>\n",
       "    </tr>\n",
       "    <tr>\n",
       "      <th>1</th>\n",
       "      <td>7B6452F081F49504</td>\n",
       "      <td>2020-12-07</td>\n",
       "      <td>purchase</td>\n",
       "      <td>9.99</td>\n",
       "      <td>2020-12-07</td>\n",
       "      <td>EU</td>\n",
       "      <td>iPhone</td>\n",
       "      <td>09:22:53</td>\n",
       "      <td>&lt;NA&gt;</td>\n",
       "    </tr>\n",
       "    <tr>\n",
       "      <th>2</th>\n",
       "      <td>9CD9F34546DF254C</td>\n",
       "      <td>2020-12-07</td>\n",
       "      <td>purchase</td>\n",
       "      <td>4.99</td>\n",
       "      <td>2020-12-07</td>\n",
       "      <td>N.America</td>\n",
       "      <td>iPhone</td>\n",
       "      <td>12:59:29</td>\n",
       "      <td>&lt;NA&gt;</td>\n",
       "    </tr>\n",
       "    <tr>\n",
       "      <th>3</th>\n",
       "      <td>96F27A054B191457</td>\n",
       "      <td>2020-12-07</td>\n",
       "      <td>purchase</td>\n",
       "      <td>4.99</td>\n",
       "      <td>2020-12-07</td>\n",
       "      <td>EU</td>\n",
       "      <td>iPhone</td>\n",
       "      <td>04:02:40</td>\n",
       "      <td>&lt;NA&gt;</td>\n",
       "    </tr>\n",
       "    <tr>\n",
       "      <th>4</th>\n",
       "      <td>1FD7660FDF94CA1F</td>\n",
       "      <td>2020-12-07</td>\n",
       "      <td>purchase</td>\n",
       "      <td>4.99</td>\n",
       "      <td>2020-12-07</td>\n",
       "      <td>EU</td>\n",
       "      <td>Android</td>\n",
       "      <td>10:15:09</td>\n",
       "      <td>&lt;NA&gt;</td>\n",
       "    </tr>\n",
       "    <tr>\n",
       "      <th>...</th>\n",
       "      <td>...</td>\n",
       "      <td>...</td>\n",
       "      <td>...</td>\n",
       "      <td>...</td>\n",
       "      <td>...</td>\n",
       "      <td>...</td>\n",
       "      <td>...</td>\n",
       "      <td>...</td>\n",
       "      <td>...</td>\n",
       "    </tr>\n",
       "    <tr>\n",
       "      <th>423756</th>\n",
       "      <td>245E85F65C358E08</td>\n",
       "      <td>2020-12-30</td>\n",
       "      <td>login</td>\n",
       "      <td>&lt;NA&gt;</td>\n",
       "      <td>2020-12-07</td>\n",
       "      <td>EU</td>\n",
       "      <td>Android</td>\n",
       "      <td>19:35:55</td>\n",
       "      <td>Christmas_New_Year_Promo</td>\n",
       "    </tr>\n",
       "    <tr>\n",
       "      <th>423757</th>\n",
       "      <td>9385A108F5A0A7A7</td>\n",
       "      <td>2020-12-30</td>\n",
       "      <td>login</td>\n",
       "      <td>&lt;NA&gt;</td>\n",
       "      <td>2020-12-07</td>\n",
       "      <td>EU</td>\n",
       "      <td>PC</td>\n",
       "      <td>10:54:15</td>\n",
       "      <td>Christmas_New_Year_Promo</td>\n",
       "    </tr>\n",
       "    <tr>\n",
       "      <th>423758</th>\n",
       "      <td>DB650B7559AC6EAC</td>\n",
       "      <td>2020-12-30</td>\n",
       "      <td>login</td>\n",
       "      <td>&lt;NA&gt;</td>\n",
       "      <td>2020-12-07</td>\n",
       "      <td>EU</td>\n",
       "      <td>Android</td>\n",
       "      <td>10:59:09</td>\n",
       "      <td>Christmas_New_Year_Promo</td>\n",
       "    </tr>\n",
       "    <tr>\n",
       "      <th>423759</th>\n",
       "      <td>F80C9BDDEA02E53C</td>\n",
       "      <td>2020-12-30</td>\n",
       "      <td>login</td>\n",
       "      <td>&lt;NA&gt;</td>\n",
       "      <td>2020-12-07</td>\n",
       "      <td>EU</td>\n",
       "      <td>iPhone</td>\n",
       "      <td>09:53:39</td>\n",
       "      <td>Christmas_New_Year_Promo</td>\n",
       "    </tr>\n",
       "    <tr>\n",
       "      <th>423760</th>\n",
       "      <td>7AEC61159B672CC5</td>\n",
       "      <td>2020-12-30</td>\n",
       "      <td>login</td>\n",
       "      <td>&lt;NA&gt;</td>\n",
       "      <td>2020-12-07</td>\n",
       "      <td>EU</td>\n",
       "      <td>iPhone</td>\n",
       "      <td>11:36:13</td>\n",
       "      <td>Christmas_New_Year_Promo</td>\n",
       "    </tr>\n",
       "  </tbody>\n",
       "</table>\n",
       "<p>423761 rows × 9 columns</p>\n",
       "</div>"
      ],
      "text/plain": [
       "                 user_id    event_dt event_name details  first_date  \\\n",
       "0       E1BDDCE0DAFA2679  2020-12-07   purchase   99.99  2020-12-07   \n",
       "1       7B6452F081F49504  2020-12-07   purchase    9.99  2020-12-07   \n",
       "2       9CD9F34546DF254C  2020-12-07   purchase    4.99  2020-12-07   \n",
       "3       96F27A054B191457  2020-12-07   purchase    4.99  2020-12-07   \n",
       "4       1FD7660FDF94CA1F  2020-12-07   purchase    4.99  2020-12-07   \n",
       "...                  ...         ...        ...     ...         ...   \n",
       "423756  245E85F65C358E08  2020-12-30      login    <NA>  2020-12-07   \n",
       "423757  9385A108F5A0A7A7  2020-12-30      login    <NA>  2020-12-07   \n",
       "423758  DB650B7559AC6EAC  2020-12-30      login    <NA>  2020-12-07   \n",
       "423759  F80C9BDDEA02E53C  2020-12-30      login    <NA>  2020-12-07   \n",
       "423760  7AEC61159B672CC5  2020-12-30      login    <NA>  2020-12-07   \n",
       "\n",
       "           region   device  event_tm            mkt_event_name  \n",
       "0       N.America   iPhone  20:22:03                      <NA>  \n",
       "1              EU   iPhone  09:22:53                      <NA>  \n",
       "2       N.America   iPhone  12:59:29                      <NA>  \n",
       "3              EU   iPhone  04:02:40                      <NA>  \n",
       "4              EU  Android  10:15:09                      <NA>  \n",
       "...           ...      ...       ...                       ...  \n",
       "423756         EU  Android  19:35:55  Christmas_New_Year_Promo  \n",
       "423757         EU       PC  10:54:15  Christmas_New_Year_Promo  \n",
       "423758         EU  Android  10:59:09  Christmas_New_Year_Promo  \n",
       "423759         EU   iPhone  09:53:39  Christmas_New_Year_Promo  \n",
       "423760         EU   iPhone  11:36:13  Christmas_New_Year_Promo  \n",
       "\n",
       "[423761 rows x 9 columns]"
      ]
     },
     "execution_count": 33,
     "metadata": {},
     "output_type": "execute_result"
    }
   ],
   "source": [
    "df_users = add_mkt_event(df_users, df_mkt_events)\n",
    "df_users"
   ]
  },
  {
   "cell_type": "code",
   "execution_count": 34,
   "id": "9eecb2f9",
   "metadata": {},
   "outputs": [
    {
     "data": {
      "application/vnd.microsoft.datawrangler.viewer.v0+json": {
       "columns": [
        {
         "name": "index",
         "rawType": "int64",
         "type": "integer"
        },
        {
         "name": "user_id",
         "rawType": "object",
         "type": "string"
        },
        {
         "name": "event_dt",
         "rawType": "object",
         "type": "unknown"
        },
        {
         "name": "event_name",
         "rawType": "category",
         "type": "unknown"
        },
        {
         "name": "details",
         "rawType": "object",
         "type": "unknown"
        },
        {
         "name": "first_date",
         "rawType": "object",
         "type": "unknown"
        },
        {
         "name": "region",
         "rawType": "category",
         "type": "unknown"
        },
        {
         "name": "device",
         "rawType": "category",
         "type": "unknown"
        },
        {
         "name": "event_tm",
         "rawType": "object",
         "type": "unknown"
        },
        {
         "name": "mkt_event_name",
         "rawType": "object",
         "type": "unknown"
        },
        {
         "name": "group",
         "rawType": "category",
         "type": "unknown"
        },
        {
         "name": "ab_test",
         "rawType": "category",
         "type": "unknown"
        }
       ],
       "ref": "5d124df9-bd03-4911-960a-ca8163109c61",
       "rows": [
        [
         "0",
         "E1BDDCE0DAFA2679",
         "2020-12-07",
         "purchase",
         "99.99",
         "2020-12-07",
         "N.America",
         "iPhone",
         "20:22:03",
         null,
         null,
         null
        ],
        [
         "1",
         "7B6452F081F49504",
         "2020-12-07",
         "purchase",
         "9.99",
         "2020-12-07",
         "EU",
         "iPhone",
         "09:22:53",
         null,
         null,
         null
        ],
        [
         "2",
         "9CD9F34546DF254C",
         "2020-12-07",
         "purchase",
         "4.99",
         "2020-12-07",
         "N.America",
         "iPhone",
         "12:59:29",
         null,
         null,
         null
        ],
        [
         "3",
         "96F27A054B191457",
         "2020-12-07",
         "purchase",
         "4.99",
         "2020-12-07",
         "EU",
         "iPhone",
         "04:02:40",
         null,
         "B",
         "interface_eu_test"
        ],
        [
         "4",
         "1FD7660FDF94CA1F",
         "2020-12-07",
         "purchase",
         "4.99",
         "2020-12-07",
         "EU",
         "Android",
         "10:15:09",
         null,
         null,
         null
        ],
        [
         "5",
         "831887FE7F2D6CBA",
         "2020-12-07",
         "purchase",
         "4.99",
         "2020-12-07",
         "EU",
         "Android",
         "06:50:29",
         null,
         "A",
         "recommender_system_test"
        ],
        [
         "6",
         "6B2F726BFD5F8220",
         "2020-12-07",
         "purchase",
         "4.99",
         "2020-12-07",
         "EU",
         "Android",
         "11:27:42",
         null,
         null,
         null
        ],
        [
         "7",
         "BEB37715AACF53B0",
         "2020-12-07",
         "purchase",
         "4.99",
         "2020-12-07",
         "EU",
         "Android",
         "04:26:15",
         null,
         null,
         null
        ],
        [
         "8",
         "B5FA27F582227197",
         "2020-12-07",
         "purchase",
         "4.99",
         "2020-12-07",
         "N.America",
         "Mac",
         "01:46:37",
         null,
         null,
         null
        ],
        [
         "9",
         "A92195E3CFB83DBD",
         "2020-12-07",
         "purchase",
         "4.99",
         "2020-12-07",
         "EU",
         "Android",
         "00:32:07",
         null,
         "A",
         "interface_eu_test"
        ],
        [
         "10",
         "E2E76A8B3389127C",
         "2020-12-07",
         "purchase",
         "4.99",
         "2020-12-07",
         "EU",
         "iPhone",
         "15:39:32",
         null,
         null,
         null
        ],
        [
         "11",
         "354D653172FF2A2D",
         "2020-12-07",
         "purchase",
         "4.99",
         "2020-12-07",
         "EU",
         "Mac",
         "15:45:11",
         null,
         "A",
         "interface_eu_test"
        ],
        [
         "12",
         "7FCD34F47C13A9AC",
         "2020-12-07",
         "purchase",
         "9.99",
         "2020-12-07",
         "EU",
         "PC",
         "22:06:13",
         null,
         "B",
         "interface_eu_test"
        ],
        [
         "13",
         "0313C457F07C339E",
         "2020-12-07",
         "purchase",
         "9.99",
         "2020-12-07",
         "EU",
         "Mac",
         "13:10:48",
         null,
         "A",
         "interface_eu_test"
        ],
        [
         "14",
         "214902A9BAAF3422",
         "2020-12-07",
         "purchase",
         "4.99",
         "2020-12-07",
         "EU",
         "Android",
         "19:31:44",
         null,
         null,
         null
        ],
        [
         "15",
         "AE6B95B9A7C6380E",
         "2020-12-07",
         "purchase",
         "4.99",
         "2020-12-07",
         "N.America",
         "Android",
         "19:09:12",
         null,
         null,
         null
        ],
        [
         "16",
         "EC9AFCC18F1CF6D9",
         "2020-12-07",
         "purchase",
         "4.99",
         "2020-12-07",
         "EU",
         "Mac",
         "19:19:00",
         null,
         null,
         null
        ],
        [
         "17",
         "3C5DD0288AC4FE23",
         "2020-12-07",
         "purchase",
         "4.99",
         "2020-12-07",
         "EU",
         "PC",
         "19:42:40",
         null,
         "A",
         "recommender_system_test"
        ],
        [
         "18",
         "649ECF69EC552A56",
         "2020-12-07",
         "purchase",
         "4.99",
         "2020-12-07",
         "EU",
         "Mac",
         "06:19:31",
         null,
         null,
         null
        ],
        [
         "19",
         "9C31B4124B3AE217",
         "2020-12-07",
         "purchase",
         "4.99",
         "2020-12-07",
         "EU",
         "PC",
         "21:38:36",
         null,
         null,
         null
        ],
        [
         "20",
         "5C4BA5C457BC114A",
         "2020-12-07",
         "purchase",
         "9.99",
         "2020-12-07",
         "EU",
         "iPhone",
         "05:37:13",
         null,
         null,
         null
        ],
        [
         "21",
         "FCD216B91578B8DC",
         "2020-12-07",
         "purchase",
         "99.99",
         "2020-12-07",
         "N.America",
         "PC",
         "18:24:41",
         null,
         null,
         null
        ],
        [
         "22",
         "435506A7A2265BBD",
         "2020-12-07",
         "purchase",
         "4.99",
         "2020-12-07",
         "EU",
         "PC",
         "11:53:57",
         null,
         null,
         null
        ],
        [
         "23",
         "909B249EB165910F",
         "2020-12-07",
         "purchase",
         "9.99",
         "2020-12-07",
         "N.America",
         "iPhone",
         "07:06:01",
         null,
         null,
         null
        ],
        [
         "24",
         "ED61425DAC3E345C",
         "2020-12-07",
         "purchase",
         "4.99",
         "2020-12-07",
         "N.America",
         "Mac",
         "01:03:27",
         null,
         null,
         null
        ],
        [
         "25",
         "C39E95E709714A06",
         "2020-12-07",
         "purchase",
         "4.99",
         "2020-12-07",
         "EU",
         "Android",
         "09:07:20",
         null,
         "B",
         "interface_eu_test"
        ],
        [
         "26",
         "DE83B085136CBF2D",
         "2020-12-07",
         "purchase",
         "99.99",
         "2020-12-07",
         "EU",
         "Mac",
         "20:10:44",
         null,
         null,
         null
        ],
        [
         "27",
         "F42CA236F49AB93B",
         "2020-12-07",
         "purchase",
         "4.99",
         "2020-12-07",
         "N.America",
         "PC",
         "21:50:34",
         null,
         null,
         null
        ],
        [
         "28",
         "AA77BDA8996FE1B8",
         "2020-12-07",
         "purchase",
         "9.99",
         "2020-12-07",
         "N.America",
         "Android",
         "08:24:41",
         null,
         null,
         null
        ],
        [
         "29",
         "5E9543D6EB27D7D7",
         "2020-12-07",
         "purchase",
         "4.99",
         "2020-12-07",
         "APAC",
         "PC",
         "21:37:33",
         null,
         null,
         null
        ],
        [
         "30",
         "78B3AFBB700310CC",
         "2020-12-07",
         "purchase",
         "4.99",
         "2020-12-07",
         "EU",
         "PC",
         "23:44:09",
         null,
         "B",
         "interface_eu_test"
        ],
        [
         "31",
         "80CEAF824A1F3E28",
         "2020-12-07",
         "purchase",
         "499.99",
         "2020-12-07",
         "EU",
         "Android",
         "15:54:06",
         null,
         "B",
         "interface_eu_test"
        ],
        [
         "32",
         "5EB044CECD378F75",
         "2020-12-07",
         "purchase",
         "4.99",
         "2020-12-07",
         "EU",
         "Android",
         "02:50:18",
         null,
         null,
         null
        ],
        [
         "33",
         "C0A95CA2E9CC8009",
         "2020-12-07",
         "purchase",
         "4.99",
         "2020-12-07",
         "EU",
         "PC",
         "03:37:41",
         null,
         null,
         null
        ],
        [
         "34",
         "992ADF277CCE9349",
         "2020-12-07",
         "purchase",
         "4.99",
         "2020-12-07",
         "N.America",
         "Mac",
         "12:05:45",
         null,
         null,
         null
        ],
        [
         "35",
         "37034BF58CD3A95B",
         "2020-12-07",
         "purchase",
         "99.99",
         "2020-12-07",
         "EU",
         "Mac",
         "19:36:07",
         null,
         "B",
         "interface_eu_test"
        ],
        [
         "36",
         "2765321AC15BA00A",
         "2020-12-07",
         "purchase",
         "4.99",
         "2020-12-07",
         "EU",
         "Mac",
         "08:57:39",
         null,
         null,
         null
        ],
        [
         "37",
         "834A37293A8F21BA",
         "2020-12-07",
         "purchase",
         "4.99",
         "2020-12-07",
         "EU",
         "iPhone",
         "05:12:03",
         null,
         null,
         null
        ],
        [
         "38",
         "24FA9BADBEB3014D",
         "2020-12-07",
         "purchase",
         "99.99",
         "2020-12-07",
         "N.America",
         "Android",
         "01:59:36",
         null,
         null,
         null
        ],
        [
         "39",
         "831958A1EA95370E",
         "2020-12-07",
         "purchase",
         "4.99",
         "2020-12-07",
         "N.America",
         "iPhone",
         "21:36:32",
         null,
         null,
         null
        ],
        [
         "40",
         "68262C0CCF7073D4",
         "2020-12-07",
         "purchase",
         "4.99",
         "2020-12-07",
         "EU",
         "Android",
         "13:40:49",
         null,
         null,
         null
        ],
        [
         "41",
         "F2BE35774F63059B",
         "2020-12-07",
         "purchase",
         "4.99",
         "2020-12-07",
         "EU",
         "Android",
         "05:23:18",
         null,
         "A",
         "interface_eu_test"
        ],
        [
         "42",
         "6D052E09A94F0725",
         "2020-12-07",
         "purchase",
         "9.99",
         "2020-12-07",
         "EU",
         "PC",
         "02:54:36",
         null,
         null,
         null
        ],
        [
         "43",
         "A10C24F7E7CCC96D",
         "2020-12-07",
         "purchase",
         "4.99",
         "2020-12-07",
         "EU",
         "PC",
         "02:37:27",
         null,
         null,
         null
        ],
        [
         "44",
         "C07713CA2E28F7E7",
         "2020-12-07",
         "purchase",
         "4.99",
         "2020-12-07",
         "CIS",
         "Android",
         "02:26:09",
         null,
         null,
         null
        ],
        [
         "45",
         "E24F2C1DD2EEFA5A",
         "2020-12-07",
         "purchase",
         "4.99",
         "2020-12-07",
         "EU",
         "PC",
         "12:52:24",
         null,
         null,
         null
        ],
        [
         "46",
         "C559BDC13A3A4A2C",
         "2020-12-07",
         "purchase",
         "4.99",
         "2020-12-07",
         "EU",
         "iPhone",
         "15:34:23",
         null,
         null,
         null
        ],
        [
         "47",
         "5C31C0607EFC3C98",
         "2020-12-07",
         "purchase",
         "4.99",
         "2020-12-07",
         "EU",
         "iPhone",
         "20:19:32",
         null,
         "A",
         "interface_eu_test"
        ],
        [
         "48",
         "690C65E0DE49B940",
         "2020-12-07",
         "purchase",
         "4.99",
         "2020-12-07",
         "EU",
         "Android",
         "13:26:18",
         null,
         "B",
         "interface_eu_test"
        ],
        [
         "49",
         "56AF59723683AC41",
         "2020-12-07",
         "purchase",
         "9.99",
         "2020-12-07",
         "EU",
         "Android",
         "08:59:38",
         null,
         null,
         null
        ]
       ],
       "shape": {
        "columns": 11,
        "rows": 429476
       }
      },
      "text/html": [
       "<div>\n",
       "<style scoped>\n",
       "    .dataframe tbody tr th:only-of-type {\n",
       "        vertical-align: middle;\n",
       "    }\n",
       "\n",
       "    .dataframe tbody tr th {\n",
       "        vertical-align: top;\n",
       "    }\n",
       "\n",
       "    .dataframe thead th {\n",
       "        text-align: right;\n",
       "    }\n",
       "</style>\n",
       "<table border=\"1\" class=\"dataframe\">\n",
       "  <thead>\n",
       "    <tr style=\"text-align: right;\">\n",
       "      <th></th>\n",
       "      <th>user_id</th>\n",
       "      <th>event_dt</th>\n",
       "      <th>event_name</th>\n",
       "      <th>details</th>\n",
       "      <th>first_date</th>\n",
       "      <th>region</th>\n",
       "      <th>device</th>\n",
       "      <th>event_tm</th>\n",
       "      <th>mkt_event_name</th>\n",
       "      <th>group</th>\n",
       "      <th>ab_test</th>\n",
       "    </tr>\n",
       "  </thead>\n",
       "  <tbody>\n",
       "    <tr>\n",
       "      <th>0</th>\n",
       "      <td>E1BDDCE0DAFA2679</td>\n",
       "      <td>2020-12-07</td>\n",
       "      <td>purchase</td>\n",
       "      <td>99.99</td>\n",
       "      <td>2020-12-07</td>\n",
       "      <td>N.America</td>\n",
       "      <td>iPhone</td>\n",
       "      <td>20:22:03</td>\n",
       "      <td>&lt;NA&gt;</td>\n",
       "      <td>NaN</td>\n",
       "      <td>NaN</td>\n",
       "    </tr>\n",
       "    <tr>\n",
       "      <th>1</th>\n",
       "      <td>7B6452F081F49504</td>\n",
       "      <td>2020-12-07</td>\n",
       "      <td>purchase</td>\n",
       "      <td>9.99</td>\n",
       "      <td>2020-12-07</td>\n",
       "      <td>EU</td>\n",
       "      <td>iPhone</td>\n",
       "      <td>09:22:53</td>\n",
       "      <td>&lt;NA&gt;</td>\n",
       "      <td>NaN</td>\n",
       "      <td>NaN</td>\n",
       "    </tr>\n",
       "    <tr>\n",
       "      <th>2</th>\n",
       "      <td>9CD9F34546DF254C</td>\n",
       "      <td>2020-12-07</td>\n",
       "      <td>purchase</td>\n",
       "      <td>4.99</td>\n",
       "      <td>2020-12-07</td>\n",
       "      <td>N.America</td>\n",
       "      <td>iPhone</td>\n",
       "      <td>12:59:29</td>\n",
       "      <td>&lt;NA&gt;</td>\n",
       "      <td>NaN</td>\n",
       "      <td>NaN</td>\n",
       "    </tr>\n",
       "    <tr>\n",
       "      <th>3</th>\n",
       "      <td>96F27A054B191457</td>\n",
       "      <td>2020-12-07</td>\n",
       "      <td>purchase</td>\n",
       "      <td>4.99</td>\n",
       "      <td>2020-12-07</td>\n",
       "      <td>EU</td>\n",
       "      <td>iPhone</td>\n",
       "      <td>04:02:40</td>\n",
       "      <td>&lt;NA&gt;</td>\n",
       "      <td>B</td>\n",
       "      <td>interface_eu_test</td>\n",
       "    </tr>\n",
       "    <tr>\n",
       "      <th>4</th>\n",
       "      <td>1FD7660FDF94CA1F</td>\n",
       "      <td>2020-12-07</td>\n",
       "      <td>purchase</td>\n",
       "      <td>4.99</td>\n",
       "      <td>2020-12-07</td>\n",
       "      <td>EU</td>\n",
       "      <td>Android</td>\n",
       "      <td>10:15:09</td>\n",
       "      <td>&lt;NA&gt;</td>\n",
       "      <td>NaN</td>\n",
       "      <td>NaN</td>\n",
       "    </tr>\n",
       "    <tr>\n",
       "      <th>...</th>\n",
       "      <td>...</td>\n",
       "      <td>...</td>\n",
       "      <td>...</td>\n",
       "      <td>...</td>\n",
       "      <td>...</td>\n",
       "      <td>...</td>\n",
       "      <td>...</td>\n",
       "      <td>...</td>\n",
       "      <td>...</td>\n",
       "      <td>...</td>\n",
       "      <td>...</td>\n",
       "    </tr>\n",
       "    <tr>\n",
       "      <th>429471</th>\n",
       "      <td>245E85F65C358E08</td>\n",
       "      <td>2020-12-30</td>\n",
       "      <td>login</td>\n",
       "      <td>&lt;NA&gt;</td>\n",
       "      <td>2020-12-07</td>\n",
       "      <td>EU</td>\n",
       "      <td>Android</td>\n",
       "      <td>19:35:55</td>\n",
       "      <td>Christmas_New_Year_Promo</td>\n",
       "      <td>NaN</td>\n",
       "      <td>NaN</td>\n",
       "    </tr>\n",
       "    <tr>\n",
       "      <th>429472</th>\n",
       "      <td>9385A108F5A0A7A7</td>\n",
       "      <td>2020-12-30</td>\n",
       "      <td>login</td>\n",
       "      <td>&lt;NA&gt;</td>\n",
       "      <td>2020-12-07</td>\n",
       "      <td>EU</td>\n",
       "      <td>PC</td>\n",
       "      <td>10:54:15</td>\n",
       "      <td>Christmas_New_Year_Promo</td>\n",
       "      <td>NaN</td>\n",
       "      <td>NaN</td>\n",
       "    </tr>\n",
       "    <tr>\n",
       "      <th>429473</th>\n",
       "      <td>DB650B7559AC6EAC</td>\n",
       "      <td>2020-12-30</td>\n",
       "      <td>login</td>\n",
       "      <td>&lt;NA&gt;</td>\n",
       "      <td>2020-12-07</td>\n",
       "      <td>EU</td>\n",
       "      <td>Android</td>\n",
       "      <td>10:59:09</td>\n",
       "      <td>Christmas_New_Year_Promo</td>\n",
       "      <td>NaN</td>\n",
       "      <td>NaN</td>\n",
       "    </tr>\n",
       "    <tr>\n",
       "      <th>429474</th>\n",
       "      <td>F80C9BDDEA02E53C</td>\n",
       "      <td>2020-12-30</td>\n",
       "      <td>login</td>\n",
       "      <td>&lt;NA&gt;</td>\n",
       "      <td>2020-12-07</td>\n",
       "      <td>EU</td>\n",
       "      <td>iPhone</td>\n",
       "      <td>09:53:39</td>\n",
       "      <td>Christmas_New_Year_Promo</td>\n",
       "      <td>A</td>\n",
       "      <td>interface_eu_test</td>\n",
       "    </tr>\n",
       "    <tr>\n",
       "      <th>429475</th>\n",
       "      <td>7AEC61159B672CC5</td>\n",
       "      <td>2020-12-30</td>\n",
       "      <td>login</td>\n",
       "      <td>&lt;NA&gt;</td>\n",
       "      <td>2020-12-07</td>\n",
       "      <td>EU</td>\n",
       "      <td>iPhone</td>\n",
       "      <td>11:36:13</td>\n",
       "      <td>Christmas_New_Year_Promo</td>\n",
       "      <td>NaN</td>\n",
       "      <td>NaN</td>\n",
       "    </tr>\n",
       "  </tbody>\n",
       "</table>\n",
       "<p>429476 rows × 11 columns</p>\n",
       "</div>"
      ],
      "text/plain": [
       "                 user_id    event_dt event_name details  first_date  \\\n",
       "0       E1BDDCE0DAFA2679  2020-12-07   purchase   99.99  2020-12-07   \n",
       "1       7B6452F081F49504  2020-12-07   purchase    9.99  2020-12-07   \n",
       "2       9CD9F34546DF254C  2020-12-07   purchase    4.99  2020-12-07   \n",
       "3       96F27A054B191457  2020-12-07   purchase    4.99  2020-12-07   \n",
       "4       1FD7660FDF94CA1F  2020-12-07   purchase    4.99  2020-12-07   \n",
       "...                  ...         ...        ...     ...         ...   \n",
       "429471  245E85F65C358E08  2020-12-30      login    <NA>  2020-12-07   \n",
       "429472  9385A108F5A0A7A7  2020-12-30      login    <NA>  2020-12-07   \n",
       "429473  DB650B7559AC6EAC  2020-12-30      login    <NA>  2020-12-07   \n",
       "429474  F80C9BDDEA02E53C  2020-12-30      login    <NA>  2020-12-07   \n",
       "429475  7AEC61159B672CC5  2020-12-30      login    <NA>  2020-12-07   \n",
       "\n",
       "           region   device  event_tm            mkt_event_name group  \\\n",
       "0       N.America   iPhone  20:22:03                      <NA>   NaN   \n",
       "1              EU   iPhone  09:22:53                      <NA>   NaN   \n",
       "2       N.America   iPhone  12:59:29                      <NA>   NaN   \n",
       "3              EU   iPhone  04:02:40                      <NA>     B   \n",
       "4              EU  Android  10:15:09                      <NA>   NaN   \n",
       "...           ...      ...       ...                       ...   ...   \n",
       "429471         EU  Android  19:35:55  Christmas_New_Year_Promo   NaN   \n",
       "429472         EU       PC  10:54:15  Christmas_New_Year_Promo   NaN   \n",
       "429473         EU  Android  10:59:09  Christmas_New_Year_Promo   NaN   \n",
       "429474         EU   iPhone  09:53:39  Christmas_New_Year_Promo     A   \n",
       "429475         EU   iPhone  11:36:13  Christmas_New_Year_Promo   NaN   \n",
       "\n",
       "                  ab_test  \n",
       "0                     NaN  \n",
       "1                     NaN  \n",
       "2                     NaN  \n",
       "3       interface_eu_test  \n",
       "4                     NaN  \n",
       "...                   ...  \n",
       "429471                NaN  \n",
       "429472                NaN  \n",
       "429473                NaN  \n",
       "429474  interface_eu_test  \n",
       "429475                NaN  \n",
       "\n",
       "[429476 rows x 11 columns]"
      ]
     },
     "execution_count": 34,
     "metadata": {},
     "output_type": "execute_result"
    }
   ],
   "source": [
    "df_users = df_users.merge(df_user_test, on='user_id', how='left')\n",
    "df_users"
   ]
  },
  {
   "cell_type": "markdown",
   "id": "f1e6a669",
   "metadata": {},
   "source": [
    "### 📝 **6: Pre-test Funnel Analisis**"
   ]
  },
  {
   "cell_type": "markdown",
   "id": "bc49aa3c",
   "metadata": {},
   "source": [
    "#### **6.1** Funnel data consistency"
   ]
  },
  {
   "cell_type": "code",
   "execution_count": 35,
   "id": "257b0a04",
   "metadata": {},
   "outputs": [
    {
     "name": "stdout",
     "output_type": "stream",
     "text": [
      "Users registries with irregular sequence: 112834\n"
     ]
    },
    {
     "data": {
      "application/vnd.microsoft.datawrangler.viewer.v0+json": {
       "columns": [
        {
         "name": "index",
         "rawType": "int64",
         "type": "integer"
        },
        {
         "name": "user_id",
         "rawType": "object",
         "type": "string"
        },
        {
         "name": "event_date",
         "rawType": "object",
         "type": "unknown"
        },
        {
         "name": "event_sequence",
         "rawType": "object",
         "type": "unknown"
        }
       ],
       "ref": "bce23a84-d4ba-4307-8d2e-9abd831fffc4",
       "rows": [
        [
         "0",
         "000199F1887AE5E6",
         "2020-12-14",
         "[(Timestamp('2020-12-14 09:56:09'), 'purchase'), (Timestamp('2020-12-14 09:56:09'), 'product_page'), (Timestamp('2020-12-14 09:56:09'), 'login'), (Timestamp('2020-12-14 09:56:11'), 'product_cart')]"
        ],
        [
         "1",
         "000199F1887AE5E6",
         "2020-12-15",
         "[(Timestamp('2020-12-15 07:22:56'), 'purchase'), (Timestamp('2020-12-15 07:22:56'), 'product_cart'), (Timestamp('2020-12-15 07:22:56'), 'product_page'), (Timestamp('2020-12-15 07:22:56'), 'login')]"
        ],
        [
         "2",
         "000199F1887AE5E6",
         "2020-12-20",
         "[(Timestamp('2020-12-20 06:36:35'), 'purchase'), (Timestamp('2020-12-20 06:36:35'), 'product_cart'), (Timestamp('2020-12-20 06:36:35'), 'login'), (Timestamp('2020-12-20 06:36:36'), 'product_page')]"
        ],
        [
         "3",
         "000199F1887AE5E6",
         "2020-12-21",
         "[(Timestamp('2020-12-21 02:11:23'), 'purchase'), (Timestamp('2020-12-21 02:11:23'), 'login'), (Timestamp('2020-12-21 02:11:24'), 'product_cart'), (Timestamp('2020-12-21 02:11:24'), 'product_page')]"
        ],
        [
         "4",
         "0002499E372175C7",
         "2020-12-22",
         "[(Timestamp('2020-12-22 03:49:52'), 'purchase'), (Timestamp('2020-12-22 03:49:52'), 'login'), (Timestamp('2020-12-22 03:49:55'), 'product_page')]"
        ],
        [
         "5",
         "0002499E372175C7",
         "2020-12-23",
         "[(Timestamp('2020-12-23 05:32:56'), 'purchase'), (Timestamp('2020-12-23 05:32:56'), 'login'), (Timestamp('2020-12-23 05:32:57'), 'product_page')]"
        ],
        [
         "6",
         "0002499E372175C7",
         "2020-12-26",
         "[(Timestamp('2020-12-26 04:53:03'), 'purchase'), (Timestamp('2020-12-26 04:53:03'), 'product_page'), (Timestamp('2020-12-26 04:53:03'), 'login')]"
        ],
        [
         "7",
         "0002CE61FF2C4011",
         "2020-12-07",
         "[(Timestamp('2020-12-07 04:37:36'), 'login'), (Timestamp('2020-12-07 04:37:37'), 'product_cart'), (Timestamp('2020-12-07 04:37:42'), 'product_page')]"
        ],
        [
         "8",
         "0002CE61FF2C4011",
         "2020-12-10",
         "[(Timestamp('2020-12-10 15:21:06'), 'product_page'), (Timestamp('2020-12-10 15:21:06'), 'login'), (Timestamp('2020-12-10 15:21:07'), 'product_cart')]"
        ],
        [
         "9",
         "0002CE61FF2C4011",
         "2020-12-15",
         "[(Timestamp('2020-12-15 12:47:04'), 'login'), (Timestamp('2020-12-15 12:47:05'), 'product_cart'), (Timestamp('2020-12-15 12:47:05'), 'product_page')]"
        ],
        [
         "10",
         "0004DAF30B04CCF1",
         "2020-12-07",
         "[(Timestamp('2020-12-07 00:41:12'), 'product_cart'), (Timestamp('2020-12-07 00:41:12'), 'login')]"
        ],
        [
         "11",
         "0004DAF30B04CCF1",
         "2020-12-08",
         "[(Timestamp('2020-12-08 16:13:30'), 'product_cart'), (Timestamp('2020-12-08 16:13:30'), 'login')]"
        ],
        [
         "12",
         "0004DAF30B04CCF1",
         "2020-12-16",
         "[(Timestamp('2020-12-16 15:06:03'), 'product_cart'), (Timestamp('2020-12-16 15:06:03'), 'login')]"
        ],
        [
         "13",
         "00057BA3B49BAF3F",
         "2020-12-21",
         "[(Timestamp('2020-12-21 19:45:08'), 'product_page'), (Timestamp('2020-12-21 19:45:08'), 'login')]"
        ],
        [
         "14",
         "00057BA3B49BAF3F",
         "2020-12-24",
         "[(Timestamp('2020-12-24 09:56:58'), 'product_page'), (Timestamp('2020-12-24 09:56:58'), 'login')]"
        ],
        [
         "15",
         "000921BDA987CB74",
         "2020-12-07",
         "[(Timestamp('2020-12-07 08:03:38'), 'purchase'), (Timestamp('2020-12-07 08:03:38'), 'login'), (Timestamp('2020-12-07 08:03:39'), 'product_page')]"
        ],
        [
         "16",
         "000921BDA987CB74",
         "2020-12-10",
         "[(Timestamp('2020-12-10 03:02:20'), 'purchase'), (Timestamp('2020-12-10 03:02:20'), 'product_page'), (Timestamp('2020-12-10 03:02:20'), 'login')]"
        ],
        [
         "17",
         "000921BDA987CB74",
         "2020-12-12",
         "[(Timestamp('2020-12-12 04:04:12'), 'purchase'), (Timestamp('2020-12-12 04:04:12'), 'login'), (Timestamp('2020-12-12 04:04:15'), 'product_page')]"
        ],
        [
         "18",
         "000921BDA987CB74",
         "2020-12-14",
         "[(Timestamp('2020-12-14 16:27:15'), 'purchase'), (Timestamp('2020-12-14 16:27:15'), 'product_page'), (Timestamp('2020-12-14 16:27:15'), 'login')]"
        ],
        [
         "19",
         "000921BDA987CB74",
         "2020-12-21",
         "[(Timestamp('2020-12-21 21:23:49'), 'purchase'), (Timestamp('2020-12-21 21:23:49'), 'product_page'), (Timestamp('2020-12-21 21:23:49'), 'login')]"
        ],
        [
         "20",
         "000A7002E8B58E22",
         "2020-12-22",
         "[(Timestamp('2020-12-22 17:59:05'), 'product_page'), (Timestamp('2020-12-22 17:59:05'), 'login')]"
        ],
        [
         "21",
         "000C9C937826F4D9",
         "2020-12-17",
         "[(Timestamp('2020-12-17 18:52:01'), 'purchase'), (Timestamp('2020-12-17 18:52:01'), 'login')]"
        ],
        [
         "22",
         "000F1B87E2F87740",
         "2020-12-22",
         "[(Timestamp('2020-12-22 02:40:16'), 'purchase'), (Timestamp('2020-12-22 02:40:16'), 'login'), (Timestamp('2020-12-22 02:40:17'), 'product_cart'), (Timestamp('2020-12-22 02:40:18'), 'product_page')]"
        ],
        [
         "23",
         "000F1B87E2F87740",
         "2020-12-29",
         "[(Timestamp('2020-12-29 03:15:23'), 'purchase'), (Timestamp('2020-12-29 03:15:23'), 'login'), (Timestamp('2020-12-29 03:15:26'), 'product_cart'), (Timestamp('2020-12-29 03:15:26'), 'product_page')]"
        ],
        [
         "24",
         "000FE05E702DDCCC",
         "2020-12-16",
         "[(Timestamp('2020-12-16 10:05:44'), 'purchase'), (Timestamp('2020-12-16 10:05:44'), 'login'), (Timestamp('2020-12-16 10:05:45'), 'product_page'), (Timestamp('2020-12-16 10:05:46'), 'product_cart')]"
        ],
        [
         "25",
         "000FE05E702DDCCC",
         "2020-12-17",
         "[(Timestamp('2020-12-17 13:56:56'), 'purchase'), (Timestamp('2020-12-17 13:56:56'), 'login'), (Timestamp('2020-12-17 13:56:58'), 'product_cart'), (Timestamp('2020-12-17 13:56:59'), 'product_page')]"
        ],
        [
         "26",
         "000FE05E702DDCCC",
         "2020-12-19",
         "[(Timestamp('2020-12-19 05:36:35'), 'purchase'), (Timestamp('2020-12-19 05:36:35'), 'login'), (Timestamp('2020-12-19 05:36:36'), 'product_cart'), (Timestamp('2020-12-19 05:36:37'), 'product_page')]"
        ],
        [
         "27",
         "0010A1C096941592",
         "2020-12-17",
         "[(Timestamp('2020-12-17 21:07:27'), 'purchase'), (Timestamp('2020-12-17 21:07:27'), 'product_page'), (Timestamp('2020-12-17 21:07:27'), 'login')]"
        ],
        [
         "28",
         "0010A1C096941592",
         "2020-12-19",
         "[(Timestamp('2020-12-19 04:34:37'), 'purchase'), (Timestamp('2020-12-19 04:34:37'), 'login'), (Timestamp('2020-12-19 04:34:38'), 'product_page')]"
        ],
        [
         "29",
         "0010A1C096941592",
         "2020-12-21",
         "[(Timestamp('2020-12-21 21:05:23'), 'purchase'), (Timestamp('2020-12-21 21:05:23'), 'login'), (Timestamp('2020-12-21 21:05:24'), 'product_page')]"
        ],
        [
         "30",
         "0010A1C096941592",
         "2020-12-23",
         "[(Timestamp('2020-12-23 11:52:09'), 'purchase'), (Timestamp('2020-12-23 11:52:09'), 'login'), (Timestamp('2020-12-23 11:52:10'), 'product_page')]"
        ],
        [
         "31",
         "00156152FF65F950",
         "2020-12-18",
         "[(Timestamp('2020-12-18 10:35:06'), 'purchase'), (Timestamp('2020-12-18 10:35:06'), 'login'), (Timestamp('2020-12-18 10:35:07'), 'product_page')]"
        ],
        [
         "32",
         "00156152FF65F950",
         "2020-12-19",
         "[(Timestamp('2020-12-19 09:38:16'), 'purchase'), (Timestamp('2020-12-19 09:38:16'), 'product_page'), (Timestamp('2020-12-19 09:38:16'), 'login')]"
        ],
        [
         "33",
         "00156152FF65F950",
         "2020-12-26",
         "[(Timestamp('2020-12-26 08:47:05'), 'purchase'), (Timestamp('2020-12-26 08:47:05'), 'login'), (Timestamp('2020-12-26 08:47:10'), 'product_page')]"
        ],
        [
         "34",
         "00156152FF65F950",
         "2020-12-27",
         "[(Timestamp('2020-12-27 13:30:44'), 'purchase'), (Timestamp('2020-12-27 13:30:44'), 'product_page'), (Timestamp('2020-12-27 13:30:44'), 'login')]"
        ],
        [
         "35",
         "00159C60CD6F69B4",
         "2020-12-21",
         "[(Timestamp('2020-12-21 02:17:14'), 'purchase'), (Timestamp('2020-12-21 02:17:14'), 'login'), (Timestamp('2020-12-21 02:17:16'), 'product_page')]"
        ],
        [
         "36",
         "00159C60CD6F69B4",
         "2020-12-22",
         "[(Timestamp('2020-12-22 23:28:30'), 'purchase'), (Timestamp('2020-12-22 23:28:30'), 'product_page'), (Timestamp('2020-12-22 23:28:30'), 'login')]"
        ],
        [
         "37",
         "00159C60CD6F69B4",
         "2020-12-23",
         "[(Timestamp('2020-12-23 06:47:39'), 'purchase'), (Timestamp('2020-12-23 06:47:39'), 'login'), (Timestamp('2020-12-23 06:47:41'), 'product_page')]"
        ],
        [
         "38",
         "00159C60CD6F69B4",
         "2020-12-28",
         "[(Timestamp('2020-12-28 10:32:03'), 'purchase'), (Timestamp('2020-12-28 10:32:03'), 'product_page'), (Timestamp('2020-12-28 10:32:03'), 'login')]"
        ],
        [
         "39",
         "00159C60CD6F69B4",
         "2020-12-29",
         "[(Timestamp('2020-12-29 22:18:34'), 'purchase'), (Timestamp('2020-12-29 22:18:34'), 'product_page'), (Timestamp('2020-12-29 22:18:34'), 'login')]"
        ],
        [
         "40",
         "001667D375556EC1",
         "2020-12-21",
         "[(Timestamp('2020-12-21 05:48:54'), 'purchase'), (Timestamp('2020-12-21 05:48:54'), 'login')]"
        ],
        [
         "41",
         "001667D375556EC1",
         "2020-12-26",
         "[(Timestamp('2020-12-26 01:16:00'), 'purchase'), (Timestamp('2020-12-26 01:16:00'), 'login')]"
        ],
        [
         "42",
         "0016FCBA98363D82",
         "2020-12-13",
         "[(Timestamp('2020-12-13 07:59:08'), 'purchase'), (Timestamp('2020-12-13 07:59:08'), 'login')]"
        ],
        [
         "43",
         "0016FCBA98363D82",
         "2020-12-15",
         "[(Timestamp('2020-12-15 06:31:27'), 'purchase'), (Timestamp('2020-12-15 06:31:27'), 'login')]"
        ],
        [
         "44",
         "0016FCBA98363D82",
         "2020-12-20",
         "[(Timestamp('2020-12-20 00:09:19'), 'purchase'), (Timestamp('2020-12-20 00:09:19'), 'login')]"
        ],
        [
         "45",
         "0017BCBB0C82C429",
         "2020-12-10",
         "[(Timestamp('2020-12-10 05:04:43'), 'product_page'), (Timestamp('2020-12-10 05:04:43'), 'login')]"
        ],
        [
         "46",
         "0017C39F85BFD7C5",
         "2020-12-21",
         "[(Timestamp('2020-12-21 07:48:49'), 'product_cart'), (Timestamp('2020-12-21 07:48:49'), 'product_page'), (Timestamp('2020-12-21 07:48:49'), 'login')]"
        ],
        [
         "47",
         "0017C39F85BFD7C5",
         "2020-12-22",
         "[(Timestamp('2020-12-22 21:30:32'), 'product_cart'), (Timestamp('2020-12-22 21:30:32'), 'login'), (Timestamp('2020-12-22 21:30:33'), 'product_page')]"
        ],
        [
         "48",
         "00187B30B10E5180",
         "2020-12-14",
         "[(Timestamp('2020-12-14 00:45:10'), 'purchase'), (Timestamp('2020-12-14 00:45:10'), 'login'), (Timestamp('2020-12-14 00:45:11'), 'product_page'), (Timestamp('2020-12-14 00:45:14'), 'product_cart')]"
        ],
        [
         "49",
         "00187B30B10E5180",
         "2020-12-15",
         "[(Timestamp('2020-12-15 17:02:21'), 'purchase'), (Timestamp('2020-12-15 17:02:21'), 'login'), (Timestamp('2020-12-15 17:02:22'), 'product_cart'), (Timestamp('2020-12-15 17:02:23'), 'product_page')]"
        ]
       ],
       "shape": {
        "columns": 3,
        "rows": 112834
       }
      },
      "text/html": [
       "<div>\n",
       "<style scoped>\n",
       "    .dataframe tbody tr th:only-of-type {\n",
       "        vertical-align: middle;\n",
       "    }\n",
       "\n",
       "    .dataframe tbody tr th {\n",
       "        vertical-align: top;\n",
       "    }\n",
       "\n",
       "    .dataframe thead th {\n",
       "        text-align: right;\n",
       "    }\n",
       "</style>\n",
       "<table border=\"1\" class=\"dataframe\">\n",
       "  <thead>\n",
       "    <tr style=\"text-align: right;\">\n",
       "      <th></th>\n",
       "      <th>user_id</th>\n",
       "      <th>event_date</th>\n",
       "      <th>event_sequence</th>\n",
       "    </tr>\n",
       "  </thead>\n",
       "  <tbody>\n",
       "    <tr>\n",
       "      <th>0</th>\n",
       "      <td>000199F1887AE5E6</td>\n",
       "      <td>2020-12-14</td>\n",
       "      <td>[(2020-12-14 09:56:09, purchase), (2020-12-14 ...</td>\n",
       "    </tr>\n",
       "    <tr>\n",
       "      <th>1</th>\n",
       "      <td>000199F1887AE5E6</td>\n",
       "      <td>2020-12-15</td>\n",
       "      <td>[(2020-12-15 07:22:56, purchase), (2020-12-15 ...</td>\n",
       "    </tr>\n",
       "    <tr>\n",
       "      <th>2</th>\n",
       "      <td>000199F1887AE5E6</td>\n",
       "      <td>2020-12-20</td>\n",
       "      <td>[(2020-12-20 06:36:35, purchase), (2020-12-20 ...</td>\n",
       "    </tr>\n",
       "    <tr>\n",
       "      <th>3</th>\n",
       "      <td>000199F1887AE5E6</td>\n",
       "      <td>2020-12-21</td>\n",
       "      <td>[(2020-12-21 02:11:23, purchase), (2020-12-21 ...</td>\n",
       "    </tr>\n",
       "    <tr>\n",
       "      <th>4</th>\n",
       "      <td>0002499E372175C7</td>\n",
       "      <td>2020-12-22</td>\n",
       "      <td>[(2020-12-22 03:49:52, purchase), (2020-12-22 ...</td>\n",
       "    </tr>\n",
       "    <tr>\n",
       "      <th>...</th>\n",
       "      <td>...</td>\n",
       "      <td>...</td>\n",
       "      <td>...</td>\n",
       "    </tr>\n",
       "    <tr>\n",
       "      <th>112829</th>\n",
       "      <td>FFF91B6C5431F375</td>\n",
       "      <td>2020-12-14</td>\n",
       "      <td>[(2020-12-14 22:12:04, product_cart), (2020-12...</td>\n",
       "    </tr>\n",
       "    <tr>\n",
       "      <th>112830</th>\n",
       "      <td>FFF91B6C5431F375</td>\n",
       "      <td>2020-12-17</td>\n",
       "      <td>[(2020-12-17 08:27:17, product_cart), (2020-12...</td>\n",
       "    </tr>\n",
       "    <tr>\n",
       "      <th>112831</th>\n",
       "      <td>FFFFE36C0F6E92DF</td>\n",
       "      <td>2020-12-22</td>\n",
       "      <td>[(2020-12-22 11:38:57, product_cart), (2020-12...</td>\n",
       "    </tr>\n",
       "    <tr>\n",
       "      <th>112832</th>\n",
       "      <td>FFFFE36C0F6E92DF</td>\n",
       "      <td>2020-12-23</td>\n",
       "      <td>[(2020-12-23 05:09:13, product_page), (2020-12...</td>\n",
       "    </tr>\n",
       "    <tr>\n",
       "      <th>112833</th>\n",
       "      <td>FFFFE36C0F6E92DF</td>\n",
       "      <td>2020-12-26</td>\n",
       "      <td>[(2020-12-26 09:25:03, login), (2020-12-26 09:...</td>\n",
       "    </tr>\n",
       "  </tbody>\n",
       "</table>\n",
       "<p>112834 rows × 3 columns</p>\n",
       "</div>"
      ],
      "text/plain": [
       "                 user_id  event_date  \\\n",
       "0       000199F1887AE5E6  2020-12-14   \n",
       "1       000199F1887AE5E6  2020-12-15   \n",
       "2       000199F1887AE5E6  2020-12-20   \n",
       "3       000199F1887AE5E6  2020-12-21   \n",
       "4       0002499E372175C7  2020-12-22   \n",
       "...                  ...         ...   \n",
       "112829  FFF91B6C5431F375  2020-12-14   \n",
       "112830  FFF91B6C5431F375  2020-12-17   \n",
       "112831  FFFFE36C0F6E92DF  2020-12-22   \n",
       "112832  FFFFE36C0F6E92DF  2020-12-23   \n",
       "112833  FFFFE36C0F6E92DF  2020-12-26   \n",
       "\n",
       "                                           event_sequence  \n",
       "0       [(2020-12-14 09:56:09, purchase), (2020-12-14 ...  \n",
       "1       [(2020-12-15 07:22:56, purchase), (2020-12-15 ...  \n",
       "2       [(2020-12-20 06:36:35, purchase), (2020-12-20 ...  \n",
       "3       [(2020-12-21 02:11:23, purchase), (2020-12-21 ...  \n",
       "4       [(2020-12-22 03:49:52, purchase), (2020-12-22 ...  \n",
       "...                                                   ...  \n",
       "112829  [(2020-12-14 22:12:04, product_cart), (2020-12...  \n",
       "112830  [(2020-12-17 08:27:17, product_cart), (2020-12...  \n",
       "112831  [(2020-12-22 11:38:57, product_cart), (2020-12...  \n",
       "112832  [(2020-12-23 05:09:13, product_page), (2020-12...  \n",
       "112833  [(2020-12-26 09:25:03, login), (2020-12-26 09:...  \n",
       "\n",
       "[112834 rows x 3 columns]"
      ]
     },
     "execution_count": 35,
     "metadata": {},
     "output_type": "execute_result"
    }
   ],
   "source": [
    "# Funnel stages should be: login, product_page, product_cart, purchase\n",
    "df_users_irregular = detect_irregular_funnel_sequences(df_users)\n",
    "print(f\"Users registries with irregular sequence: {len(df_users_irregular)}\")\n",
    "df_users_irregular"
   ]
  },
  {
   "cell_type": "code",
   "execution_count": 36,
   "id": "32524952",
   "metadata": {},
   "outputs": [
    {
     "data": {
      "application/vnd.microsoft.datawrangler.viewer.v0+json": {
       "columns": [
        {
         "name": "index",
         "rawType": "int64",
         "type": "integer"
        },
        {
         "name": "user_id",
         "rawType": "object",
         "type": "string"
        },
        {
         "name": "event_dt",
         "rawType": "object",
         "type": "unknown"
        },
        {
         "name": "event_name",
         "rawType": "category",
         "type": "unknown"
        },
        {
         "name": "details",
         "rawType": "object",
         "type": "unknown"
        },
        {
         "name": "first_date",
         "rawType": "object",
         "type": "unknown"
        },
        {
         "name": "region",
         "rawType": "category",
         "type": "unknown"
        },
        {
         "name": "device",
         "rawType": "category",
         "type": "unknown"
        },
        {
         "name": "event_tm",
         "rawType": "object",
         "type": "unknown"
        },
        {
         "name": "mkt_event_name",
         "rawType": "object",
         "type": "unknown"
        },
        {
         "name": "group",
         "rawType": "category",
         "type": "unknown"
        },
        {
         "name": "ab_test",
         "rawType": "category",
         "type": "unknown"
        }
       ],
       "ref": "ad91e909-ae97-4d8b-9cf6-6e330e4954b9",
       "rows": [
        [
         "2",
         "9CD9F34546DF254C",
         "2020-12-07",
         "purchase",
         "4.99",
         "2020-12-07",
         "N.America",
         "iPhone",
         "12:59:29",
         null,
         null,
         null
        ],
        [
         "19",
         "9C31B4124B3AE217",
         "2020-12-07",
         "purchase",
         "4.99",
         "2020-12-07",
         "EU",
         "PC",
         "21:38:36",
         null,
         null,
         null
        ],
        [
         "21",
         "FCD216B91578B8DC",
         "2020-12-07",
         "purchase",
         "99.99",
         "2020-12-07",
         "N.America",
         "PC",
         "18:24:41",
         null,
         null,
         null
        ],
        [
         "28",
         "AA77BDA8996FE1B8",
         "2020-12-07",
         "purchase",
         "9.99",
         "2020-12-07",
         "N.America",
         "Android",
         "08:24:41",
         null,
         null,
         null
        ],
        [
         "36",
         "2765321AC15BA00A",
         "2020-12-07",
         "purchase",
         "4.99",
         "2020-12-07",
         "EU",
         "Mac",
         "08:57:39",
         null,
         null,
         null
        ],
        [
         "41",
         "F2BE35774F63059B",
         "2020-12-07",
         "purchase",
         "4.99",
         "2020-12-07",
         "EU",
         "Android",
         "05:23:18",
         null,
         "A",
         "interface_eu_test"
        ],
        [
         "42",
         "6D052E09A94F0725",
         "2020-12-07",
         "purchase",
         "9.99",
         "2020-12-07",
         "EU",
         "PC",
         "02:54:36",
         null,
         null,
         null
        ],
        [
         "53",
         "1816C3999C81E6D6",
         "2020-12-07",
         "purchase",
         "4.99",
         "2020-12-07",
         "EU",
         "Android",
         "23:45:24",
         null,
         null,
         null
        ],
        [
         "56",
         "EB0F26AAB494131C",
         "2020-12-07",
         "purchase",
         "4.99",
         "2020-12-07",
         "EU",
         "PC",
         "00:50:05",
         null,
         null,
         null
        ],
        [
         "88",
         "392C03684E704CB3",
         "2020-12-07",
         "purchase",
         "4.99",
         "2020-12-07",
         "EU",
         "PC",
         "09:45:50",
         null,
         "B",
         "interface_eu_test"
        ],
        [
         "98",
         "58857F19A6C50900",
         "2020-12-07",
         "purchase",
         "9.99",
         "2020-12-07",
         "EU",
         "PC",
         "06:36:24",
         null,
         null,
         null
        ],
        [
         "128",
         "406CD606E407DF53",
         "2020-12-07",
         "purchase",
         "4.99",
         "2020-12-07",
         "EU",
         "iPhone",
         "05:12:23",
         null,
         "B",
         "interface_eu_test"
        ],
        [
         "134",
         "A4145A2EA1E17654",
         "2020-12-07",
         "purchase",
         "499.99",
         "2020-12-07",
         "EU",
         "PC",
         "16:15:16",
         null,
         "B",
         "interface_eu_test"
        ],
        [
         "153",
         "7304ECE608EC415F",
         "2020-12-07",
         "purchase",
         "4.99",
         "2020-12-07",
         "EU",
         "Android",
         "17:11:09",
         null,
         null,
         null
        ],
        [
         "156",
         "09B67269EB574925",
         "2020-12-07",
         "purchase",
         "4.99",
         "2020-12-07",
         "EU",
         "PC",
         "12:53:53",
         null,
         null,
         null
        ],
        [
         "158",
         "C7CB2F1BA42F102B",
         "2020-12-07",
         "purchase",
         "99.99",
         "2020-12-07",
         "EU",
         "iPhone",
         "03:05:05",
         null,
         "B",
         "recommender_system_test"
        ],
        [
         "161",
         "D124FDC5154B9ABE",
         "2020-12-07",
         "purchase",
         "9.99",
         "2020-12-07",
         "EU",
         "PC",
         "08:11:16",
         null,
         null,
         null
        ],
        [
         "190",
         "FBCD08202CD9F64E",
         "2020-12-07",
         "purchase",
         "4.99",
         "2020-12-07",
         "EU",
         "Android",
         "18:29:49",
         null,
         null,
         null
        ],
        [
         "219",
         "E8699DA525106FA7",
         "2020-12-07",
         "purchase",
         "4.99",
         "2020-12-07",
         "EU",
         "PC",
         "15:29:04",
         null,
         null,
         null
        ],
        [
         "256",
         "B69485E66C3C352E",
         "2020-12-07",
         "purchase",
         "4.99",
         "2020-12-07",
         "N.America",
         "iPhone",
         "22:50:42",
         null,
         null,
         null
        ],
        [
         "263",
         "C325FB8F620A9333",
         "2020-12-07",
         "purchase",
         "4.99",
         "2020-12-07",
         "EU",
         "Android",
         "17:39:49",
         null,
         null,
         null
        ],
        [
         "271",
         "F80C9BDDEA02E53C",
         "2020-12-07",
         "purchase",
         "4.99",
         "2020-12-07",
         "EU",
         "iPhone",
         "10:05:54",
         null,
         "A",
         "interface_eu_test"
        ],
        [
         "272",
         "609B9EA6B864BB49",
         "2020-12-07",
         "purchase",
         "4.99",
         "2020-12-07",
         "EU",
         "Android",
         "16:43:19",
         null,
         null,
         null
        ],
        [
         "277",
         "E995E0B62EB464B3",
         "2020-12-07",
         "purchase",
         "4.99",
         "2020-12-07",
         "N.America",
         "Android",
         "05:16:34",
         null,
         null,
         null
        ],
        [
         "284",
         "B56E104D3EF0275D",
         "2020-12-07",
         "purchase",
         "9.99",
         "2020-12-07",
         "EU",
         "iPhone",
         "02:05:16",
         null,
         null,
         null
        ],
        [
         "294",
         "F2361858CD0810CA",
         "2020-12-07",
         "purchase",
         "4.99",
         "2020-12-07",
         "N.America",
         "Android",
         "14:01:29",
         null,
         null,
         null
        ],
        [
         "301",
         "D1B7A6359D41A2CE",
         "2020-12-07",
         "purchase",
         "4.99",
         "2020-12-07",
         "CIS",
         "iPhone",
         "08:46:49",
         null,
         null,
         null
        ],
        [
         "340",
         "221F69212576C277",
         "2020-12-07",
         "purchase",
         "4.99",
         "2020-12-07",
         "APAC",
         "Android",
         "11:41:46",
         null,
         null,
         null
        ],
        [
         "373",
         "A87A702DA2A55EA6",
         "2020-12-07",
         "purchase",
         "9.99",
         "2020-12-07",
         "CIS",
         "iPhone",
         "15:19:37",
         null,
         null,
         null
        ],
        [
         "377",
         "76AE39303AD94723",
         "2020-12-07",
         "purchase",
         "4.99",
         "2020-12-07",
         "N.America",
         "Android",
         "09:56:47",
         null,
         null,
         null
        ],
        [
         "396",
         "2F26BF10D0F2D001",
         "2020-12-07",
         "purchase",
         "4.99",
         "2020-12-07",
         "EU",
         "Android",
         "01:29:02",
         null,
         null,
         null
        ],
        [
         "408",
         "79887FD8C29A04F0",
         "2020-12-07",
         "purchase",
         "4.99",
         "2020-12-07",
         "N.America",
         "iPhone",
         "02:45:15",
         null,
         null,
         null
        ],
        [
         "428",
         "9C0BBD5250E4F142",
         "2020-12-07",
         "purchase",
         "4.99",
         "2020-12-07",
         "EU",
         "Android",
         "03:40:37",
         null,
         null,
         null
        ],
        [
         "433",
         "D171E63E0B7C400E",
         "2020-12-07",
         "purchase",
         "4.99",
         "2020-12-07",
         "N.America",
         "Android",
         "01:22:59",
         null,
         null,
         null
        ],
        [
         "449",
         "D6DDBC9152D7D952",
         "2020-12-07",
         "purchase",
         "99.99",
         "2020-12-07",
         "EU",
         "Android",
         "01:08:01",
         null,
         null,
         null
        ],
        [
         "485",
         "BCD18CE6BF4CEE50",
         "2020-12-07",
         "purchase",
         "4.99",
         "2020-12-07",
         "EU",
         "PC",
         "05:49:36",
         null,
         null,
         null
        ],
        [
         "494",
         "C64295A87AE34587",
         "2020-12-07",
         "purchase",
         "4.99",
         "2020-12-07",
         "APAC",
         "iPhone",
         "12:57:04",
         null,
         null,
         null
        ],
        [
         "523",
         "F0715ADC532E14B4",
         "2020-12-07",
         "purchase",
         "4.99",
         "2020-12-07",
         "EU",
         "Android",
         "01:57:58",
         null,
         "A",
         "interface_eu_test"
        ],
        [
         "548",
         "4818CFCCF7AE5B13",
         "2020-12-07",
         "purchase",
         "9.99",
         "2020-12-07",
         "APAC",
         "iPhone",
         "08:08:50",
         null,
         null,
         null
        ],
        [
         "551",
         "0A9761F64B66289F",
         "2020-12-07",
         "purchase",
         "4.99",
         "2020-12-07",
         "EU",
         "Android",
         "19:00:48",
         null,
         null,
         null
        ],
        [
         "573",
         "E201F759D8495D30",
         "2020-12-07",
         "purchase",
         "4.99",
         "2020-12-07",
         "EU",
         "PC",
         "09:12:10",
         null,
         null,
         null
        ],
        [
         "590",
         "347BA1244FE920C1",
         "2020-12-07",
         "purchase",
         "4.99",
         "2020-12-07",
         "N.America",
         "PC",
         "13:51:56",
         null,
         null,
         null
        ],
        [
         "601",
         "D3B2F392F62F36B8",
         "2020-12-07",
         "purchase",
         "4.99",
         "2020-12-07",
         "CIS",
         "Mac",
         "05:40:21",
         null,
         null,
         null
        ],
        [
         "621",
         "22BB4D358C052803",
         "2020-12-07",
         "purchase",
         "9.99",
         "2020-12-07",
         "EU",
         "Mac",
         "11:25:05",
         null,
         null,
         null
        ],
        [
         "622",
         "E8C7E0D7D35885FC",
         "2020-12-07",
         "purchase",
         "4.99",
         "2020-12-07",
         "EU",
         "Android",
         "08:37:26",
         null,
         null,
         null
        ],
        [
         "630",
         "CD795B521B371EC0",
         "2020-12-07",
         "purchase",
         "4.99",
         "2020-12-07",
         "EU",
         "PC",
         "12:43:00",
         null,
         null,
         null
        ],
        [
         "638",
         "51E307FD76DD2CDA",
         "2020-12-07",
         "purchase",
         "4.99",
         "2020-12-07",
         "EU",
         "Mac",
         "12:27:09",
         null,
         null,
         null
        ],
        [
         "644",
         "EB235A803621D10F",
         "2020-12-07",
         "purchase",
         "9.99",
         "2020-12-07",
         "N.America",
         "Android",
         "16:50:54",
         null,
         null,
         null
        ],
        [
         "662",
         "CF40916C791BBA18",
         "2020-12-07",
         "purchase",
         "4.99",
         "2020-12-07",
         "N.America",
         "Android",
         "00:10:42",
         null,
         null,
         null
        ],
        [
         "681",
         "4DC5604F877FE2B4",
         "2020-12-07",
         "purchase",
         "4.99",
         "2020-12-07",
         "EU",
         "PC",
         "11:15:24",
         null,
         null,
         null
        ]
       ],
       "shape": {
        "columns": 11,
        "rows": 115462
       }
      },
      "text/html": [
       "<div>\n",
       "<style scoped>\n",
       "    .dataframe tbody tr th:only-of-type {\n",
       "        vertical-align: middle;\n",
       "    }\n",
       "\n",
       "    .dataframe tbody tr th {\n",
       "        vertical-align: top;\n",
       "    }\n",
       "\n",
       "    .dataframe thead th {\n",
       "        text-align: right;\n",
       "    }\n",
       "</style>\n",
       "<table border=\"1\" class=\"dataframe\">\n",
       "  <thead>\n",
       "    <tr style=\"text-align: right;\">\n",
       "      <th></th>\n",
       "      <th>user_id</th>\n",
       "      <th>event_dt</th>\n",
       "      <th>event_name</th>\n",
       "      <th>details</th>\n",
       "      <th>first_date</th>\n",
       "      <th>region</th>\n",
       "      <th>device</th>\n",
       "      <th>event_tm</th>\n",
       "      <th>mkt_event_name</th>\n",
       "      <th>group</th>\n",
       "      <th>ab_test</th>\n",
       "    </tr>\n",
       "  </thead>\n",
       "  <tbody>\n",
       "    <tr>\n",
       "      <th>2</th>\n",
       "      <td>9CD9F34546DF254C</td>\n",
       "      <td>2020-12-07</td>\n",
       "      <td>purchase</td>\n",
       "      <td>4.99</td>\n",
       "      <td>2020-12-07</td>\n",
       "      <td>N.America</td>\n",
       "      <td>iPhone</td>\n",
       "      <td>12:59:29</td>\n",
       "      <td>&lt;NA&gt;</td>\n",
       "      <td>NaN</td>\n",
       "      <td>NaN</td>\n",
       "    </tr>\n",
       "    <tr>\n",
       "      <th>19</th>\n",
       "      <td>9C31B4124B3AE217</td>\n",
       "      <td>2020-12-07</td>\n",
       "      <td>purchase</td>\n",
       "      <td>4.99</td>\n",
       "      <td>2020-12-07</td>\n",
       "      <td>EU</td>\n",
       "      <td>PC</td>\n",
       "      <td>21:38:36</td>\n",
       "      <td>&lt;NA&gt;</td>\n",
       "      <td>NaN</td>\n",
       "      <td>NaN</td>\n",
       "    </tr>\n",
       "    <tr>\n",
       "      <th>21</th>\n",
       "      <td>FCD216B91578B8DC</td>\n",
       "      <td>2020-12-07</td>\n",
       "      <td>purchase</td>\n",
       "      <td>99.99</td>\n",
       "      <td>2020-12-07</td>\n",
       "      <td>N.America</td>\n",
       "      <td>PC</td>\n",
       "      <td>18:24:41</td>\n",
       "      <td>&lt;NA&gt;</td>\n",
       "      <td>NaN</td>\n",
       "      <td>NaN</td>\n",
       "    </tr>\n",
       "    <tr>\n",
       "      <th>28</th>\n",
       "      <td>AA77BDA8996FE1B8</td>\n",
       "      <td>2020-12-07</td>\n",
       "      <td>purchase</td>\n",
       "      <td>9.99</td>\n",
       "      <td>2020-12-07</td>\n",
       "      <td>N.America</td>\n",
       "      <td>Android</td>\n",
       "      <td>08:24:41</td>\n",
       "      <td>&lt;NA&gt;</td>\n",
       "      <td>NaN</td>\n",
       "      <td>NaN</td>\n",
       "    </tr>\n",
       "    <tr>\n",
       "      <th>36</th>\n",
       "      <td>2765321AC15BA00A</td>\n",
       "      <td>2020-12-07</td>\n",
       "      <td>purchase</td>\n",
       "      <td>4.99</td>\n",
       "      <td>2020-12-07</td>\n",
       "      <td>EU</td>\n",
       "      <td>Mac</td>\n",
       "      <td>08:57:39</td>\n",
       "      <td>&lt;NA&gt;</td>\n",
       "      <td>NaN</td>\n",
       "      <td>NaN</td>\n",
       "    </tr>\n",
       "    <tr>\n",
       "      <th>...</th>\n",
       "      <td>...</td>\n",
       "      <td>...</td>\n",
       "      <td>...</td>\n",
       "      <td>...</td>\n",
       "      <td>...</td>\n",
       "      <td>...</td>\n",
       "      <td>...</td>\n",
       "      <td>...</td>\n",
       "      <td>...</td>\n",
       "      <td>...</td>\n",
       "      <td>...</td>\n",
       "    </tr>\n",
       "    <tr>\n",
       "      <th>429464</th>\n",
       "      <td>2761935C2DD2794F</td>\n",
       "      <td>2020-12-30</td>\n",
       "      <td>login</td>\n",
       "      <td>&lt;NA&gt;</td>\n",
       "      <td>2020-12-07</td>\n",
       "      <td>EU</td>\n",
       "      <td>iPhone</td>\n",
       "      <td>16:51:29</td>\n",
       "      <td>Christmas_New_Year_Promo</td>\n",
       "      <td>NaN</td>\n",
       "      <td>NaN</td>\n",
       "    </tr>\n",
       "    <tr>\n",
       "      <th>429465</th>\n",
       "      <td>E0E5446B78A6520B</td>\n",
       "      <td>2020-12-30</td>\n",
       "      <td>login</td>\n",
       "      <td>&lt;NA&gt;</td>\n",
       "      <td>2020-12-07</td>\n",
       "      <td>CIS</td>\n",
       "      <td>Android</td>\n",
       "      <td>23:36:30</td>\n",
       "      <td>CIS_New_Year_Gift_Lottery</td>\n",
       "      <td>NaN</td>\n",
       "      <td>NaN</td>\n",
       "    </tr>\n",
       "    <tr>\n",
       "      <th>429468</th>\n",
       "      <td>33E7BCF696B41C7B</td>\n",
       "      <td>2020-12-30</td>\n",
       "      <td>login</td>\n",
       "      <td>&lt;NA&gt;</td>\n",
       "      <td>2020-12-07</td>\n",
       "      <td>EU</td>\n",
       "      <td>PC</td>\n",
       "      <td>12:21:24</td>\n",
       "      <td>Christmas_New_Year_Promo</td>\n",
       "      <td>NaN</td>\n",
       "      <td>NaN</td>\n",
       "    </tr>\n",
       "    <tr>\n",
       "      <th>429472</th>\n",
       "      <td>9385A108F5A0A7A7</td>\n",
       "      <td>2020-12-30</td>\n",
       "      <td>login</td>\n",
       "      <td>&lt;NA&gt;</td>\n",
       "      <td>2020-12-07</td>\n",
       "      <td>EU</td>\n",
       "      <td>PC</td>\n",
       "      <td>10:54:15</td>\n",
       "      <td>Christmas_New_Year_Promo</td>\n",
       "      <td>NaN</td>\n",
       "      <td>NaN</td>\n",
       "    </tr>\n",
       "    <tr>\n",
       "      <th>429473</th>\n",
       "      <td>DB650B7559AC6EAC</td>\n",
       "      <td>2020-12-30</td>\n",
       "      <td>login</td>\n",
       "      <td>&lt;NA&gt;</td>\n",
       "      <td>2020-12-07</td>\n",
       "      <td>EU</td>\n",
       "      <td>Android</td>\n",
       "      <td>10:59:09</td>\n",
       "      <td>Christmas_New_Year_Promo</td>\n",
       "      <td>NaN</td>\n",
       "      <td>NaN</td>\n",
       "    </tr>\n",
       "  </tbody>\n",
       "</table>\n",
       "<p>115462 rows × 11 columns</p>\n",
       "</div>"
      ],
      "text/plain": [
       "                 user_id    event_dt event_name details  first_date  \\\n",
       "2       9CD9F34546DF254C  2020-12-07   purchase    4.99  2020-12-07   \n",
       "19      9C31B4124B3AE217  2020-12-07   purchase    4.99  2020-12-07   \n",
       "21      FCD216B91578B8DC  2020-12-07   purchase   99.99  2020-12-07   \n",
       "28      AA77BDA8996FE1B8  2020-12-07   purchase    9.99  2020-12-07   \n",
       "36      2765321AC15BA00A  2020-12-07   purchase    4.99  2020-12-07   \n",
       "...                  ...         ...        ...     ...         ...   \n",
       "429464  2761935C2DD2794F  2020-12-30      login    <NA>  2020-12-07   \n",
       "429465  E0E5446B78A6520B  2020-12-30      login    <NA>  2020-12-07   \n",
       "429468  33E7BCF696B41C7B  2020-12-30      login    <NA>  2020-12-07   \n",
       "429472  9385A108F5A0A7A7  2020-12-30      login    <NA>  2020-12-07   \n",
       "429473  DB650B7559AC6EAC  2020-12-30      login    <NA>  2020-12-07   \n",
       "\n",
       "           region   device  event_tm             mkt_event_name group ab_test  \n",
       "2       N.America   iPhone  12:59:29                       <NA>   NaN     NaN  \n",
       "19             EU       PC  21:38:36                       <NA>   NaN     NaN  \n",
       "21      N.America       PC  18:24:41                       <NA>   NaN     NaN  \n",
       "28      N.America  Android  08:24:41                       <NA>   NaN     NaN  \n",
       "36             EU      Mac  08:57:39                       <NA>   NaN     NaN  \n",
       "...           ...      ...       ...                        ...   ...     ...  \n",
       "429464         EU   iPhone  16:51:29   Christmas_New_Year_Promo   NaN     NaN  \n",
       "429465        CIS  Android  23:36:30  CIS_New_Year_Gift_Lottery   NaN     NaN  \n",
       "429468         EU       PC  12:21:24   Christmas_New_Year_Promo   NaN     NaN  \n",
       "429472         EU       PC  10:54:15   Christmas_New_Year_Promo   NaN     NaN  \n",
       "429473         EU  Android  10:59:09   Christmas_New_Year_Promo   NaN     NaN  \n",
       "\n",
       "[115462 rows x 11 columns]"
      ]
     },
     "execution_count": 36,
     "metadata": {},
     "output_type": "execute_result"
    }
   ],
   "source": [
    "# Filter irregular users' registries\n",
    "df_users = df_users.merge(df_users_irregular[['user_id', 'event_date']], left_on=['user_id', 'event_dt'], right_on=['user_id', 'event_date'], how='left', indicator=True)\n",
    "df_users = df_users.loc[(df_users['_merge'] == 'left_only'), :].drop(columns=['_merge', 'event_date'])\n",
    "df_users"
   ]
  },
  {
   "cell_type": "markdown",
   "id": "037936f8",
   "metadata": {},
   "source": [
    "#### **6.2** Funnel"
   ]
  },
  {
   "cell_type": "code",
   "execution_count": 37,
   "id": "67695f59",
   "metadata": {},
   "outputs": [
    {
     "data": {
      "application/vnd.microsoft.datawrangler.viewer.v0+json": {
       "columns": [
        {
         "name": "index",
         "rawType": "int64",
         "type": "integer"
        },
        {
         "name": "event_name",
         "rawType": "category",
         "type": "unknown"
        },
        {
         "name": "events",
         "rawType": "int64",
         "type": "integer"
        },
        {
         "name": "users",
         "rawType": "int64",
         "type": "integer"
        },
        {
         "name": "conversion_rate",
         "rawType": "float64",
         "type": "float"
        },
        {
         "name": "total_conversion_rate",
         "rawType": "float64",
         "type": "float"
        },
        {
         "name": "stage_conversion_rate",
         "rawType": "float64",
         "type": "float"
        }
       ],
       "ref": "34100a94-c803-4118-922d-12074b187541",
       "rows": [
        [
         "0",
         "login",
         "70757",
         "30763",
         "43.477",
         "100.0",
         null
        ],
        [
         "1",
         "product_page",
         "33627",
         "17650",
         "52.488",
         "57.374",
         "57.374"
        ],
        [
         "2",
         "product_cart",
         "10907",
         "6373",
         "58.43",
         "20.716",
         "36.108"
        ],
        [
         "3",
         "purchase",
         "171",
         "163",
         "95.322",
         "0.53",
         "2.558"
        ]
       ],
       "shape": {
        "columns": 6,
        "rows": 4
       }
      },
      "text/html": [
       "<div>\n",
       "<style scoped>\n",
       "    .dataframe tbody tr th:only-of-type {\n",
       "        vertical-align: middle;\n",
       "    }\n",
       "\n",
       "    .dataframe tbody tr th {\n",
       "        vertical-align: top;\n",
       "    }\n",
       "\n",
       "    .dataframe thead th {\n",
       "        text-align: right;\n",
       "    }\n",
       "</style>\n",
       "<table border=\"1\" class=\"dataframe\">\n",
       "  <thead>\n",
       "    <tr style=\"text-align: right;\">\n",
       "      <th></th>\n",
       "      <th>event_name</th>\n",
       "      <th>events</th>\n",
       "      <th>users</th>\n",
       "      <th>conversion_rate</th>\n",
       "      <th>total_conversion_rate</th>\n",
       "      <th>stage_conversion_rate</th>\n",
       "    </tr>\n",
       "  </thead>\n",
       "  <tbody>\n",
       "    <tr>\n",
       "      <th>0</th>\n",
       "      <td>login</td>\n",
       "      <td>70757</td>\n",
       "      <td>30763</td>\n",
       "      <td>43.477</td>\n",
       "      <td>100.000</td>\n",
       "      <td>NaN</td>\n",
       "    </tr>\n",
       "    <tr>\n",
       "      <th>1</th>\n",
       "      <td>product_page</td>\n",
       "      <td>33627</td>\n",
       "      <td>17650</td>\n",
       "      <td>52.488</td>\n",
       "      <td>57.374</td>\n",
       "      <td>57.374</td>\n",
       "    </tr>\n",
       "    <tr>\n",
       "      <th>2</th>\n",
       "      <td>product_cart</td>\n",
       "      <td>10907</td>\n",
       "      <td>6373</td>\n",
       "      <td>58.430</td>\n",
       "      <td>20.716</td>\n",
       "      <td>36.108</td>\n",
       "    </tr>\n",
       "    <tr>\n",
       "      <th>3</th>\n",
       "      <td>purchase</td>\n",
       "      <td>171</td>\n",
       "      <td>163</td>\n",
       "      <td>95.322</td>\n",
       "      <td>0.530</td>\n",
       "      <td>2.558</td>\n",
       "    </tr>\n",
       "  </tbody>\n",
       "</table>\n",
       "</div>"
      ],
      "text/plain": [
       "     event_name  events  users  conversion_rate  total_conversion_rate  \\\n",
       "0         login   70757  30763           43.477                100.000   \n",
       "1  product_page   33627  17650           52.488                 57.374   \n",
       "2  product_cart   10907   6373           58.430                 20.716   \n",
       "3      purchase     171    163           95.322                  0.530   \n",
       "\n",
       "   stage_conversion_rate  \n",
       "0                    NaN  \n",
       "1                 57.374  \n",
       "2                 36.108  \n",
       "3                  2.558  "
      ]
     },
     "execution_count": 37,
     "metadata": {},
     "output_type": "execute_result"
    }
   ],
   "source": [
    "# Get conversions rate\n",
    "df_funnel = df_users.groupby('event_name', observed=True).agg(events=('event_name', 'count'), users=('user_id', 'nunique')).sort_values(by='users', ascending=False).reset_index()\n",
    "df_funnel['conversion_rate'] = ((df_funnel['users'] / df_funnel['events']) * 100).round(3)\n",
    "df_funnel['total_conversion_rate'] = ((df_funnel['users'] / df_funnel.loc[0, 'users']) * 100).round(3)\n",
    "df_funnel['stage_conversion_rate'] = ((df_funnel['users'] / df_funnel['users'].shift(1)) * 100).round(3)\n",
    "df_funnel"
   ]
  },
  {
   "cell_type": "code",
   "execution_count": 38,
   "id": "5013b24a",
   "metadata": {},
   "outputs": [
    {
     "data": {
      "application/vnd.plotly.v1+json": {
       "config": {
        "plotlyServerURL": "https://plot.ly"
       },
       "data": [
        {
         "hovertemplate": "users=%{x}<br>event_name=%{y}<extra></extra>",
         "legendgroup": "",
         "marker": {
          "color": "grey",
          "pattern": {
           "shape": ""
          }
         },
         "name": "",
         "orientation": "h",
         "showlegend": false,
         "textposition": "auto",
         "type": "bar",
         "x": {
          "bdata": "owDlGPJEK3g=",
          "dtype": "i2"
         },
         "xaxis": "x",
         "y": [
          "purchase",
          "product_cart",
          "product_page",
          "login"
         ],
         "yaxis": "y"
        }
       ],
       "layout": {
        "barmode": "relative",
        "height": 500,
        "legend": {
         "tracegroupgap": 0
        },
        "template": {
         "data": {
          "bar": [
           {
            "error_x": {
             "color": "#2a3f5f"
            },
            "error_y": {
             "color": "#2a3f5f"
            },
            "marker": {
             "line": {
              "color": "white",
              "width": 0.5
             },
             "pattern": {
              "fillmode": "overlay",
              "size": 10,
              "solidity": 0.2
             }
            },
            "type": "bar"
           }
          ],
          "barpolar": [
           {
            "marker": {
             "line": {
              "color": "white",
              "width": 0.5
             },
             "pattern": {
              "fillmode": "overlay",
              "size": 10,
              "solidity": 0.2
             }
            },
            "type": "barpolar"
           }
          ],
          "carpet": [
           {
            "aaxis": {
             "endlinecolor": "#2a3f5f",
             "gridcolor": "#C8D4E3",
             "linecolor": "#C8D4E3",
             "minorgridcolor": "#C8D4E3",
             "startlinecolor": "#2a3f5f"
            },
            "baxis": {
             "endlinecolor": "#2a3f5f",
             "gridcolor": "#C8D4E3",
             "linecolor": "#C8D4E3",
             "minorgridcolor": "#C8D4E3",
             "startlinecolor": "#2a3f5f"
            },
            "type": "carpet"
           }
          ],
          "choropleth": [
           {
            "colorbar": {
             "outlinewidth": 0,
             "ticks": ""
            },
            "type": "choropleth"
           }
          ],
          "contour": [
           {
            "colorbar": {
             "outlinewidth": 0,
             "ticks": ""
            },
            "colorscale": [
             [
              0,
              "#0d0887"
             ],
             [
              0.1111111111111111,
              "#46039f"
             ],
             [
              0.2222222222222222,
              "#7201a8"
             ],
             [
              0.3333333333333333,
              "#9c179e"
             ],
             [
              0.4444444444444444,
              "#bd3786"
             ],
             [
              0.5555555555555556,
              "#d8576b"
             ],
             [
              0.6666666666666666,
              "#ed7953"
             ],
             [
              0.7777777777777778,
              "#fb9f3a"
             ],
             [
              0.8888888888888888,
              "#fdca26"
             ],
             [
              1,
              "#f0f921"
             ]
            ],
            "type": "contour"
           }
          ],
          "contourcarpet": [
           {
            "colorbar": {
             "outlinewidth": 0,
             "ticks": ""
            },
            "type": "contourcarpet"
           }
          ],
          "heatmap": [
           {
            "colorbar": {
             "outlinewidth": 0,
             "ticks": ""
            },
            "colorscale": [
             [
              0,
              "#0d0887"
             ],
             [
              0.1111111111111111,
              "#46039f"
             ],
             [
              0.2222222222222222,
              "#7201a8"
             ],
             [
              0.3333333333333333,
              "#9c179e"
             ],
             [
              0.4444444444444444,
              "#bd3786"
             ],
             [
              0.5555555555555556,
              "#d8576b"
             ],
             [
              0.6666666666666666,
              "#ed7953"
             ],
             [
              0.7777777777777778,
              "#fb9f3a"
             ],
             [
              0.8888888888888888,
              "#fdca26"
             ],
             [
              1,
              "#f0f921"
             ]
            ],
            "type": "heatmap"
           }
          ],
          "histogram": [
           {
            "marker": {
             "pattern": {
              "fillmode": "overlay",
              "size": 10,
              "solidity": 0.2
             }
            },
            "type": "histogram"
           }
          ],
          "histogram2d": [
           {
            "colorbar": {
             "outlinewidth": 0,
             "ticks": ""
            },
            "colorscale": [
             [
              0,
              "#0d0887"
             ],
             [
              0.1111111111111111,
              "#46039f"
             ],
             [
              0.2222222222222222,
              "#7201a8"
             ],
             [
              0.3333333333333333,
              "#9c179e"
             ],
             [
              0.4444444444444444,
              "#bd3786"
             ],
             [
              0.5555555555555556,
              "#d8576b"
             ],
             [
              0.6666666666666666,
              "#ed7953"
             ],
             [
              0.7777777777777778,
              "#fb9f3a"
             ],
             [
              0.8888888888888888,
              "#fdca26"
             ],
             [
              1,
              "#f0f921"
             ]
            ],
            "type": "histogram2d"
           }
          ],
          "histogram2dcontour": [
           {
            "colorbar": {
             "outlinewidth": 0,
             "ticks": ""
            },
            "colorscale": [
             [
              0,
              "#0d0887"
             ],
             [
              0.1111111111111111,
              "#46039f"
             ],
             [
              0.2222222222222222,
              "#7201a8"
             ],
             [
              0.3333333333333333,
              "#9c179e"
             ],
             [
              0.4444444444444444,
              "#bd3786"
             ],
             [
              0.5555555555555556,
              "#d8576b"
             ],
             [
              0.6666666666666666,
              "#ed7953"
             ],
             [
              0.7777777777777778,
              "#fb9f3a"
             ],
             [
              0.8888888888888888,
              "#fdca26"
             ],
             [
              1,
              "#f0f921"
             ]
            ],
            "type": "histogram2dcontour"
           }
          ],
          "mesh3d": [
           {
            "colorbar": {
             "outlinewidth": 0,
             "ticks": ""
            },
            "type": "mesh3d"
           }
          ],
          "parcoords": [
           {
            "line": {
             "colorbar": {
              "outlinewidth": 0,
              "ticks": ""
             }
            },
            "type": "parcoords"
           }
          ],
          "pie": [
           {
            "automargin": true,
            "type": "pie"
           }
          ],
          "scatter": [
           {
            "fillpattern": {
             "fillmode": "overlay",
             "size": 10,
             "solidity": 0.2
            },
            "type": "scatter"
           }
          ],
          "scatter3d": [
           {
            "line": {
             "colorbar": {
              "outlinewidth": 0,
              "ticks": ""
             }
            },
            "marker": {
             "colorbar": {
              "outlinewidth": 0,
              "ticks": ""
             }
            },
            "type": "scatter3d"
           }
          ],
          "scattercarpet": [
           {
            "marker": {
             "colorbar": {
              "outlinewidth": 0,
              "ticks": ""
             }
            },
            "type": "scattercarpet"
           }
          ],
          "scattergeo": [
           {
            "marker": {
             "colorbar": {
              "outlinewidth": 0,
              "ticks": ""
             }
            },
            "type": "scattergeo"
           }
          ],
          "scattergl": [
           {
            "marker": {
             "colorbar": {
              "outlinewidth": 0,
              "ticks": ""
             }
            },
            "type": "scattergl"
           }
          ],
          "scattermap": [
           {
            "marker": {
             "colorbar": {
              "outlinewidth": 0,
              "ticks": ""
             }
            },
            "type": "scattermap"
           }
          ],
          "scattermapbox": [
           {
            "marker": {
             "colorbar": {
              "outlinewidth": 0,
              "ticks": ""
             }
            },
            "type": "scattermapbox"
           }
          ],
          "scatterpolar": [
           {
            "marker": {
             "colorbar": {
              "outlinewidth": 0,
              "ticks": ""
             }
            },
            "type": "scatterpolar"
           }
          ],
          "scatterpolargl": [
           {
            "marker": {
             "colorbar": {
              "outlinewidth": 0,
              "ticks": ""
             }
            },
            "type": "scatterpolargl"
           }
          ],
          "scatterternary": [
           {
            "marker": {
             "colorbar": {
              "outlinewidth": 0,
              "ticks": ""
             }
            },
            "type": "scatterternary"
           }
          ],
          "surface": [
           {
            "colorbar": {
             "outlinewidth": 0,
             "ticks": ""
            },
            "colorscale": [
             [
              0,
              "#0d0887"
             ],
             [
              0.1111111111111111,
              "#46039f"
             ],
             [
              0.2222222222222222,
              "#7201a8"
             ],
             [
              0.3333333333333333,
              "#9c179e"
             ],
             [
              0.4444444444444444,
              "#bd3786"
             ],
             [
              0.5555555555555556,
              "#d8576b"
             ],
             [
              0.6666666666666666,
              "#ed7953"
             ],
             [
              0.7777777777777778,
              "#fb9f3a"
             ],
             [
              0.8888888888888888,
              "#fdca26"
             ],
             [
              1,
              "#f0f921"
             ]
            ],
            "type": "surface"
           }
          ],
          "table": [
           {
            "cells": {
             "fill": {
              "color": "#EBF0F8"
             },
             "line": {
              "color": "white"
             }
            },
            "header": {
             "fill": {
              "color": "#C8D4E3"
             },
             "line": {
              "color": "white"
             }
            },
            "type": "table"
           }
          ]
         },
         "layout": {
          "annotationdefaults": {
           "arrowcolor": "#2a3f5f",
           "arrowhead": 0,
           "arrowwidth": 1
          },
          "autotypenumbers": "strict",
          "coloraxis": {
           "colorbar": {
            "outlinewidth": 0,
            "ticks": ""
           }
          },
          "colorscale": {
           "diverging": [
            [
             0,
             "#8e0152"
            ],
            [
             0.1,
             "#c51b7d"
            ],
            [
             0.2,
             "#de77ae"
            ],
            [
             0.3,
             "#f1b6da"
            ],
            [
             0.4,
             "#fde0ef"
            ],
            [
             0.5,
             "#f7f7f7"
            ],
            [
             0.6,
             "#e6f5d0"
            ],
            [
             0.7,
             "#b8e186"
            ],
            [
             0.8,
             "#7fbc41"
            ],
            [
             0.9,
             "#4d9221"
            ],
            [
             1,
             "#276419"
            ]
           ],
           "sequential": [
            [
             0,
             "#0d0887"
            ],
            [
             0.1111111111111111,
             "#46039f"
            ],
            [
             0.2222222222222222,
             "#7201a8"
            ],
            [
             0.3333333333333333,
             "#9c179e"
            ],
            [
             0.4444444444444444,
             "#bd3786"
            ],
            [
             0.5555555555555556,
             "#d8576b"
            ],
            [
             0.6666666666666666,
             "#ed7953"
            ],
            [
             0.7777777777777778,
             "#fb9f3a"
            ],
            [
             0.8888888888888888,
             "#fdca26"
            ],
            [
             1,
             "#f0f921"
            ]
           ],
           "sequentialminus": [
            [
             0,
             "#0d0887"
            ],
            [
             0.1111111111111111,
             "#46039f"
            ],
            [
             0.2222222222222222,
             "#7201a8"
            ],
            [
             0.3333333333333333,
             "#9c179e"
            ],
            [
             0.4444444444444444,
             "#bd3786"
            ],
            [
             0.5555555555555556,
             "#d8576b"
            ],
            [
             0.6666666666666666,
             "#ed7953"
            ],
            [
             0.7777777777777778,
             "#fb9f3a"
            ],
            [
             0.8888888888888888,
             "#fdca26"
            ],
            [
             1,
             "#f0f921"
            ]
           ]
          },
          "colorway": [
           "#636efa",
           "#EF553B",
           "#00cc96",
           "#ab63fa",
           "#FFA15A",
           "#19d3f3",
           "#FF6692",
           "#B6E880",
           "#FF97FF",
           "#FECB52"
          ],
          "font": {
           "color": "#2a3f5f"
          },
          "geo": {
           "bgcolor": "white",
           "lakecolor": "white",
           "landcolor": "white",
           "showlakes": true,
           "showland": true,
           "subunitcolor": "#C8D4E3"
          },
          "hoverlabel": {
           "align": "left"
          },
          "hovermode": "closest",
          "mapbox": {
           "style": "light"
          },
          "paper_bgcolor": "white",
          "plot_bgcolor": "white",
          "polar": {
           "angularaxis": {
            "gridcolor": "#EBF0F8",
            "linecolor": "#EBF0F8",
            "ticks": ""
           },
           "bgcolor": "white",
           "radialaxis": {
            "gridcolor": "#EBF0F8",
            "linecolor": "#EBF0F8",
            "ticks": ""
           }
          },
          "scene": {
           "xaxis": {
            "backgroundcolor": "white",
            "gridcolor": "#DFE8F3",
            "gridwidth": 2,
            "linecolor": "#EBF0F8",
            "showbackground": true,
            "ticks": "",
            "zerolinecolor": "#EBF0F8"
           },
           "yaxis": {
            "backgroundcolor": "white",
            "gridcolor": "#DFE8F3",
            "gridwidth": 2,
            "linecolor": "#EBF0F8",
            "showbackground": true,
            "ticks": "",
            "zerolinecolor": "#EBF0F8"
           },
           "zaxis": {
            "backgroundcolor": "white",
            "gridcolor": "#DFE8F3",
            "gridwidth": 2,
            "linecolor": "#EBF0F8",
            "showbackground": true,
            "ticks": "",
            "zerolinecolor": "#EBF0F8"
           }
          },
          "shapedefaults": {
           "line": {
            "color": "#2a3f5f"
           }
          },
          "ternary": {
           "aaxis": {
            "gridcolor": "#DFE8F3",
            "linecolor": "#A2B1C6",
            "ticks": ""
           },
           "baxis": {
            "gridcolor": "#DFE8F3",
            "linecolor": "#A2B1C6",
            "ticks": ""
           },
           "bgcolor": "white",
           "caxis": {
            "gridcolor": "#DFE8F3",
            "linecolor": "#A2B1C6",
            "ticks": ""
           }
          },
          "title": {
           "x": 0.05
          },
          "xaxis": {
           "automargin": true,
           "gridcolor": "#EBF0F8",
           "linecolor": "#EBF0F8",
           "ticks": "",
           "title": {
            "standoff": 15
           },
           "zerolinecolor": "#EBF0F8",
           "zerolinewidth": 2
          },
          "yaxis": {
           "automargin": true,
           "gridcolor": "#EBF0F8",
           "linecolor": "#EBF0F8",
           "ticks": "",
           "title": {
            "standoff": 15
           },
           "zerolinecolor": "#EBF0F8",
           "zerolinewidth": 2
          }
         }
        },
        "title": {
         "text": "Pre-Test Conversion Funnel"
        },
        "width": 1200,
        "xaxis": {
         "anchor": "y",
         "domain": [
          0,
          1
         ],
         "title": {
          "text": "Users"
         }
        },
        "yaxis": {
         "anchor": "x",
         "domain": [
          0,
          1
         ],
         "title": {
          "text": "Events"
         }
        }
       }
      }
     },
     "metadata": {},
     "output_type": "display_data"
    }
   ],
   "source": [
    "plot_horizontal_bar_plotpx(df_funnel, x='users', y='event_name', title='Pre-Test Conversion Funnel', xlabel='Users', ylabel='Events', sort=True)"
   ]
  },
  {
   "cell_type": "code",
   "execution_count": 39,
   "id": "ec96733f",
   "metadata": {},
   "outputs": [
    {
     "data": {
      "application/vnd.plotly.v1+json": {
       "config": {
        "plotlyServerURL": "https://plot.ly"
       },
       "data": [
        {
         "hovertemplate": "stage_conversion_rate=%{x}<br>event_name=%{y}<extra></extra>",
         "legendgroup": "",
         "marker": {
          "color": "grey",
          "pattern": {
           "shape": ""
          }
         },
         "name": "",
         "orientation": "h",
         "showlegend": false,
         "textposition": "auto",
         "type": "bar",
         "x": {
          "bdata": "EFg5tMh2BEDn+6nx0g1CQB1aZDvfr0xAAAAAAAAA+H8=",
          "dtype": "f8"
         },
         "xaxis": "x",
         "y": [
          "purchase",
          "product_cart",
          "product_page",
          "login"
         ],
         "yaxis": "y"
        }
       ],
       "layout": {
        "barmode": "relative",
        "height": 500,
        "legend": {
         "tracegroupgap": 0
        },
        "template": {
         "data": {
          "bar": [
           {
            "error_x": {
             "color": "#2a3f5f"
            },
            "error_y": {
             "color": "#2a3f5f"
            },
            "marker": {
             "line": {
              "color": "white",
              "width": 0.5
             },
             "pattern": {
              "fillmode": "overlay",
              "size": 10,
              "solidity": 0.2
             }
            },
            "type": "bar"
           }
          ],
          "barpolar": [
           {
            "marker": {
             "line": {
              "color": "white",
              "width": 0.5
             },
             "pattern": {
              "fillmode": "overlay",
              "size": 10,
              "solidity": 0.2
             }
            },
            "type": "barpolar"
           }
          ],
          "carpet": [
           {
            "aaxis": {
             "endlinecolor": "#2a3f5f",
             "gridcolor": "#C8D4E3",
             "linecolor": "#C8D4E3",
             "minorgridcolor": "#C8D4E3",
             "startlinecolor": "#2a3f5f"
            },
            "baxis": {
             "endlinecolor": "#2a3f5f",
             "gridcolor": "#C8D4E3",
             "linecolor": "#C8D4E3",
             "minorgridcolor": "#C8D4E3",
             "startlinecolor": "#2a3f5f"
            },
            "type": "carpet"
           }
          ],
          "choropleth": [
           {
            "colorbar": {
             "outlinewidth": 0,
             "ticks": ""
            },
            "type": "choropleth"
           }
          ],
          "contour": [
           {
            "colorbar": {
             "outlinewidth": 0,
             "ticks": ""
            },
            "colorscale": [
             [
              0,
              "#0d0887"
             ],
             [
              0.1111111111111111,
              "#46039f"
             ],
             [
              0.2222222222222222,
              "#7201a8"
             ],
             [
              0.3333333333333333,
              "#9c179e"
             ],
             [
              0.4444444444444444,
              "#bd3786"
             ],
             [
              0.5555555555555556,
              "#d8576b"
             ],
             [
              0.6666666666666666,
              "#ed7953"
             ],
             [
              0.7777777777777778,
              "#fb9f3a"
             ],
             [
              0.8888888888888888,
              "#fdca26"
             ],
             [
              1,
              "#f0f921"
             ]
            ],
            "type": "contour"
           }
          ],
          "contourcarpet": [
           {
            "colorbar": {
             "outlinewidth": 0,
             "ticks": ""
            },
            "type": "contourcarpet"
           }
          ],
          "heatmap": [
           {
            "colorbar": {
             "outlinewidth": 0,
             "ticks": ""
            },
            "colorscale": [
             [
              0,
              "#0d0887"
             ],
             [
              0.1111111111111111,
              "#46039f"
             ],
             [
              0.2222222222222222,
              "#7201a8"
             ],
             [
              0.3333333333333333,
              "#9c179e"
             ],
             [
              0.4444444444444444,
              "#bd3786"
             ],
             [
              0.5555555555555556,
              "#d8576b"
             ],
             [
              0.6666666666666666,
              "#ed7953"
             ],
             [
              0.7777777777777778,
              "#fb9f3a"
             ],
             [
              0.8888888888888888,
              "#fdca26"
             ],
             [
              1,
              "#f0f921"
             ]
            ],
            "type": "heatmap"
           }
          ],
          "histogram": [
           {
            "marker": {
             "pattern": {
              "fillmode": "overlay",
              "size": 10,
              "solidity": 0.2
             }
            },
            "type": "histogram"
           }
          ],
          "histogram2d": [
           {
            "colorbar": {
             "outlinewidth": 0,
             "ticks": ""
            },
            "colorscale": [
             [
              0,
              "#0d0887"
             ],
             [
              0.1111111111111111,
              "#46039f"
             ],
             [
              0.2222222222222222,
              "#7201a8"
             ],
             [
              0.3333333333333333,
              "#9c179e"
             ],
             [
              0.4444444444444444,
              "#bd3786"
             ],
             [
              0.5555555555555556,
              "#d8576b"
             ],
             [
              0.6666666666666666,
              "#ed7953"
             ],
             [
              0.7777777777777778,
              "#fb9f3a"
             ],
             [
              0.8888888888888888,
              "#fdca26"
             ],
             [
              1,
              "#f0f921"
             ]
            ],
            "type": "histogram2d"
           }
          ],
          "histogram2dcontour": [
           {
            "colorbar": {
             "outlinewidth": 0,
             "ticks": ""
            },
            "colorscale": [
             [
              0,
              "#0d0887"
             ],
             [
              0.1111111111111111,
              "#46039f"
             ],
             [
              0.2222222222222222,
              "#7201a8"
             ],
             [
              0.3333333333333333,
              "#9c179e"
             ],
             [
              0.4444444444444444,
              "#bd3786"
             ],
             [
              0.5555555555555556,
              "#d8576b"
             ],
             [
              0.6666666666666666,
              "#ed7953"
             ],
             [
              0.7777777777777778,
              "#fb9f3a"
             ],
             [
              0.8888888888888888,
              "#fdca26"
             ],
             [
              1,
              "#f0f921"
             ]
            ],
            "type": "histogram2dcontour"
           }
          ],
          "mesh3d": [
           {
            "colorbar": {
             "outlinewidth": 0,
             "ticks": ""
            },
            "type": "mesh3d"
           }
          ],
          "parcoords": [
           {
            "line": {
             "colorbar": {
              "outlinewidth": 0,
              "ticks": ""
             }
            },
            "type": "parcoords"
           }
          ],
          "pie": [
           {
            "automargin": true,
            "type": "pie"
           }
          ],
          "scatter": [
           {
            "fillpattern": {
             "fillmode": "overlay",
             "size": 10,
             "solidity": 0.2
            },
            "type": "scatter"
           }
          ],
          "scatter3d": [
           {
            "line": {
             "colorbar": {
              "outlinewidth": 0,
              "ticks": ""
             }
            },
            "marker": {
             "colorbar": {
              "outlinewidth": 0,
              "ticks": ""
             }
            },
            "type": "scatter3d"
           }
          ],
          "scattercarpet": [
           {
            "marker": {
             "colorbar": {
              "outlinewidth": 0,
              "ticks": ""
             }
            },
            "type": "scattercarpet"
           }
          ],
          "scattergeo": [
           {
            "marker": {
             "colorbar": {
              "outlinewidth": 0,
              "ticks": ""
             }
            },
            "type": "scattergeo"
           }
          ],
          "scattergl": [
           {
            "marker": {
             "colorbar": {
              "outlinewidth": 0,
              "ticks": ""
             }
            },
            "type": "scattergl"
           }
          ],
          "scattermap": [
           {
            "marker": {
             "colorbar": {
              "outlinewidth": 0,
              "ticks": ""
             }
            },
            "type": "scattermap"
           }
          ],
          "scattermapbox": [
           {
            "marker": {
             "colorbar": {
              "outlinewidth": 0,
              "ticks": ""
             }
            },
            "type": "scattermapbox"
           }
          ],
          "scatterpolar": [
           {
            "marker": {
             "colorbar": {
              "outlinewidth": 0,
              "ticks": ""
             }
            },
            "type": "scatterpolar"
           }
          ],
          "scatterpolargl": [
           {
            "marker": {
             "colorbar": {
              "outlinewidth": 0,
              "ticks": ""
             }
            },
            "type": "scatterpolargl"
           }
          ],
          "scatterternary": [
           {
            "marker": {
             "colorbar": {
              "outlinewidth": 0,
              "ticks": ""
             }
            },
            "type": "scatterternary"
           }
          ],
          "surface": [
           {
            "colorbar": {
             "outlinewidth": 0,
             "ticks": ""
            },
            "colorscale": [
             [
              0,
              "#0d0887"
             ],
             [
              0.1111111111111111,
              "#46039f"
             ],
             [
              0.2222222222222222,
              "#7201a8"
             ],
             [
              0.3333333333333333,
              "#9c179e"
             ],
             [
              0.4444444444444444,
              "#bd3786"
             ],
             [
              0.5555555555555556,
              "#d8576b"
             ],
             [
              0.6666666666666666,
              "#ed7953"
             ],
             [
              0.7777777777777778,
              "#fb9f3a"
             ],
             [
              0.8888888888888888,
              "#fdca26"
             ],
             [
              1,
              "#f0f921"
             ]
            ],
            "type": "surface"
           }
          ],
          "table": [
           {
            "cells": {
             "fill": {
              "color": "#EBF0F8"
             },
             "line": {
              "color": "white"
             }
            },
            "header": {
             "fill": {
              "color": "#C8D4E3"
             },
             "line": {
              "color": "white"
             }
            },
            "type": "table"
           }
          ]
         },
         "layout": {
          "annotationdefaults": {
           "arrowcolor": "#2a3f5f",
           "arrowhead": 0,
           "arrowwidth": 1
          },
          "autotypenumbers": "strict",
          "coloraxis": {
           "colorbar": {
            "outlinewidth": 0,
            "ticks": ""
           }
          },
          "colorscale": {
           "diverging": [
            [
             0,
             "#8e0152"
            ],
            [
             0.1,
             "#c51b7d"
            ],
            [
             0.2,
             "#de77ae"
            ],
            [
             0.3,
             "#f1b6da"
            ],
            [
             0.4,
             "#fde0ef"
            ],
            [
             0.5,
             "#f7f7f7"
            ],
            [
             0.6,
             "#e6f5d0"
            ],
            [
             0.7,
             "#b8e186"
            ],
            [
             0.8,
             "#7fbc41"
            ],
            [
             0.9,
             "#4d9221"
            ],
            [
             1,
             "#276419"
            ]
           ],
           "sequential": [
            [
             0,
             "#0d0887"
            ],
            [
             0.1111111111111111,
             "#46039f"
            ],
            [
             0.2222222222222222,
             "#7201a8"
            ],
            [
             0.3333333333333333,
             "#9c179e"
            ],
            [
             0.4444444444444444,
             "#bd3786"
            ],
            [
             0.5555555555555556,
             "#d8576b"
            ],
            [
             0.6666666666666666,
             "#ed7953"
            ],
            [
             0.7777777777777778,
             "#fb9f3a"
            ],
            [
             0.8888888888888888,
             "#fdca26"
            ],
            [
             1,
             "#f0f921"
            ]
           ],
           "sequentialminus": [
            [
             0,
             "#0d0887"
            ],
            [
             0.1111111111111111,
             "#46039f"
            ],
            [
             0.2222222222222222,
             "#7201a8"
            ],
            [
             0.3333333333333333,
             "#9c179e"
            ],
            [
             0.4444444444444444,
             "#bd3786"
            ],
            [
             0.5555555555555556,
             "#d8576b"
            ],
            [
             0.6666666666666666,
             "#ed7953"
            ],
            [
             0.7777777777777778,
             "#fb9f3a"
            ],
            [
             0.8888888888888888,
             "#fdca26"
            ],
            [
             1,
             "#f0f921"
            ]
           ]
          },
          "colorway": [
           "#636efa",
           "#EF553B",
           "#00cc96",
           "#ab63fa",
           "#FFA15A",
           "#19d3f3",
           "#FF6692",
           "#B6E880",
           "#FF97FF",
           "#FECB52"
          ],
          "font": {
           "color": "#2a3f5f"
          },
          "geo": {
           "bgcolor": "white",
           "lakecolor": "white",
           "landcolor": "white",
           "showlakes": true,
           "showland": true,
           "subunitcolor": "#C8D4E3"
          },
          "hoverlabel": {
           "align": "left"
          },
          "hovermode": "closest",
          "mapbox": {
           "style": "light"
          },
          "paper_bgcolor": "white",
          "plot_bgcolor": "white",
          "polar": {
           "angularaxis": {
            "gridcolor": "#EBF0F8",
            "linecolor": "#EBF0F8",
            "ticks": ""
           },
           "bgcolor": "white",
           "radialaxis": {
            "gridcolor": "#EBF0F8",
            "linecolor": "#EBF0F8",
            "ticks": ""
           }
          },
          "scene": {
           "xaxis": {
            "backgroundcolor": "white",
            "gridcolor": "#DFE8F3",
            "gridwidth": 2,
            "linecolor": "#EBF0F8",
            "showbackground": true,
            "ticks": "",
            "zerolinecolor": "#EBF0F8"
           },
           "yaxis": {
            "backgroundcolor": "white",
            "gridcolor": "#DFE8F3",
            "gridwidth": 2,
            "linecolor": "#EBF0F8",
            "showbackground": true,
            "ticks": "",
            "zerolinecolor": "#EBF0F8"
           },
           "zaxis": {
            "backgroundcolor": "white",
            "gridcolor": "#DFE8F3",
            "gridwidth": 2,
            "linecolor": "#EBF0F8",
            "showbackground": true,
            "ticks": "",
            "zerolinecolor": "#EBF0F8"
           }
          },
          "shapedefaults": {
           "line": {
            "color": "#2a3f5f"
           }
          },
          "ternary": {
           "aaxis": {
            "gridcolor": "#DFE8F3",
            "linecolor": "#A2B1C6",
            "ticks": ""
           },
           "baxis": {
            "gridcolor": "#DFE8F3",
            "linecolor": "#A2B1C6",
            "ticks": ""
           },
           "bgcolor": "white",
           "caxis": {
            "gridcolor": "#DFE8F3",
            "linecolor": "#A2B1C6",
            "ticks": ""
           }
          },
          "title": {
           "x": 0.05
          },
          "xaxis": {
           "automargin": true,
           "gridcolor": "#EBF0F8",
           "linecolor": "#EBF0F8",
           "ticks": "",
           "title": {
            "standoff": 15
           },
           "zerolinecolor": "#EBF0F8",
           "zerolinewidth": 2
          },
          "yaxis": {
           "automargin": true,
           "gridcolor": "#EBF0F8",
           "linecolor": "#EBF0F8",
           "ticks": "",
           "title": {
            "standoff": 15
           },
           "zerolinecolor": "#EBF0F8",
           "zerolinewidth": 2
          }
         }
        },
        "title": {
         "text": "Pre-Test Stage Conversion Rate Funnel"
        },
        "width": 1200,
        "xaxis": {
         "anchor": "y",
         "domain": [
          0,
          1
         ],
         "title": {
          "text": "Rate"
         }
        },
        "yaxis": {
         "anchor": "x",
         "domain": [
          0,
          1
         ],
         "title": {
          "text": "Events"
         }
        }
       }
      }
     },
     "metadata": {},
     "output_type": "display_data"
    }
   ],
   "source": [
    "plot_horizontal_bar_plotpx(df_funnel, x='stage_conversion_rate', y='event_name', title='Pre-Test Stage Conversion Rate Funnel', xlabel='Rate', ylabel='Events', sort=True)"
   ]
  },
  {
   "cell_type": "markdown",
   "id": "1f0d6846",
   "metadata": {},
   "source": [
    "#### 🧪 **7: A/B Testing**\n",
    "\n",
    "__AB Test Technical Description__\n",
    "\n",
    "- Test Name: __recommender_system_test__\n",
    "- Groups: A (control), B (new checkout funnel)\n",
    "- Launch Date: 2020-12-07\n",
    "- Date new users stopped: 2020-12-21\n",
    "- End Date: 2021-01-01\n",
    "- Audience: __15% of new__ users from the _EU region_\n",
    "- Test Purpose: To test changes related to the introduction of an improved recommendation system\n",
    "- Expected Outcome: __Within 14 days of enrollment__, users will show improved conversion rates for product page views (the product_page event), adding items to the shopping cart (product_cart), and purchases (purchase). At each stage of the `product_page → product_cart → purchase` __funnel__, there will be _at least a 10% increase_.\n",
    "- Expected number of test participants: 6,000"
   ]
  },
  {
   "cell_type": "markdown",
   "id": "b489b73b",
   "metadata": {},
   "source": [
    "#### **7.1** Dataset test requirements fitting "
   ]
  },
  {
   "cell_type": "code",
   "execution_count": 40,
   "id": "a24426c9",
   "metadata": {},
   "outputs": [
    {
     "data": {
      "text/html": [
       "> Earliest first date in df_users: <b>2020-12-07</b>"
      ],
      "text/plain": [
       "<IPython.core.display.HTML object>"
      ]
     },
     "metadata": {},
     "output_type": "display_data"
    },
    {
     "data": {
      "text/html": [
       "> Latest first date in df_users: <b>2020-12-23</b>"
      ],
      "text/plain": [
       "<IPython.core.display.HTML object>"
      ]
     },
     "metadata": {},
     "output_type": "display_data"
    }
   ],
   "source": [
    "# Get data first date lifetime\n",
    "display(HTML(f\"> Earliest first date in df_users: <b>{df_users['first_date'].min()}</b>\"))\n",
    "display(HTML(f\"> Latest first date in df_users: <b>{df_users['first_date'].max()}</b>\"))"
   ]
  },
  {
   "cell_type": "code",
   "execution_count": 41,
   "id": "ac0cc1fa",
   "metadata": {},
   "outputs": [
    {
     "data": {
      "application/vnd.microsoft.datawrangler.viewer.v0+json": {
       "columns": [
        {
         "name": "index",
         "rawType": "int64",
         "type": "integer"
        },
        {
         "name": "user_id",
         "rawType": "object",
         "type": "string"
        },
        {
         "name": "event_dt",
         "rawType": "object",
         "type": "unknown"
        },
        {
         "name": "event_name",
         "rawType": "category",
         "type": "unknown"
        },
        {
         "name": "details",
         "rawType": "object",
         "type": "unknown"
        },
        {
         "name": "first_date",
         "rawType": "object",
         "type": "unknown"
        },
        {
         "name": "region",
         "rawType": "category",
         "type": "unknown"
        },
        {
         "name": "device",
         "rawType": "category",
         "type": "unknown"
        },
        {
         "name": "event_tm",
         "rawType": "object",
         "type": "unknown"
        },
        {
         "name": "mkt_event_name",
         "rawType": "object",
         "type": "unknown"
        },
        {
         "name": "group",
         "rawType": "category",
         "type": "unknown"
        },
        {
         "name": "ab_test",
         "rawType": "category",
         "type": "unknown"
        }
       ],
       "ref": "d0eee3a4-6049-477f-81aa-51ae8335578f",
       "rows": [
        [
         "2",
         "9CD9F34546DF254C",
         "2020-12-07",
         "purchase",
         "4.99",
         "2020-12-07",
         "N.America",
         "iPhone",
         "12:59:29",
         null,
         null,
         null
        ],
        [
         "19",
         "9C31B4124B3AE217",
         "2020-12-07",
         "purchase",
         "4.99",
         "2020-12-07",
         "EU",
         "PC",
         "21:38:36",
         null,
         null,
         null
        ],
        [
         "21",
         "FCD216B91578B8DC",
         "2020-12-07",
         "purchase",
         "99.99",
         "2020-12-07",
         "N.America",
         "PC",
         "18:24:41",
         null,
         null,
         null
        ],
        [
         "28",
         "AA77BDA8996FE1B8",
         "2020-12-07",
         "purchase",
         "9.99",
         "2020-12-07",
         "N.America",
         "Android",
         "08:24:41",
         null,
         null,
         null
        ],
        [
         "36",
         "2765321AC15BA00A",
         "2020-12-07",
         "purchase",
         "4.99",
         "2020-12-07",
         "EU",
         "Mac",
         "08:57:39",
         null,
         null,
         null
        ],
        [
         "41",
         "F2BE35774F63059B",
         "2020-12-07",
         "purchase",
         "4.99",
         "2020-12-07",
         "EU",
         "Android",
         "05:23:18",
         null,
         "A",
         "interface_eu_test"
        ],
        [
         "42",
         "6D052E09A94F0725",
         "2020-12-07",
         "purchase",
         "9.99",
         "2020-12-07",
         "EU",
         "PC",
         "02:54:36",
         null,
         null,
         null
        ],
        [
         "53",
         "1816C3999C81E6D6",
         "2020-12-07",
         "purchase",
         "4.99",
         "2020-12-07",
         "EU",
         "Android",
         "23:45:24",
         null,
         null,
         null
        ],
        [
         "56",
         "EB0F26AAB494131C",
         "2020-12-07",
         "purchase",
         "4.99",
         "2020-12-07",
         "EU",
         "PC",
         "00:50:05",
         null,
         null,
         null
        ],
        [
         "88",
         "392C03684E704CB3",
         "2020-12-07",
         "purchase",
         "4.99",
         "2020-12-07",
         "EU",
         "PC",
         "09:45:50",
         null,
         "B",
         "interface_eu_test"
        ],
        [
         "98",
         "58857F19A6C50900",
         "2020-12-07",
         "purchase",
         "9.99",
         "2020-12-07",
         "EU",
         "PC",
         "06:36:24",
         null,
         null,
         null
        ],
        [
         "128",
         "406CD606E407DF53",
         "2020-12-07",
         "purchase",
         "4.99",
         "2020-12-07",
         "EU",
         "iPhone",
         "05:12:23",
         null,
         "B",
         "interface_eu_test"
        ],
        [
         "134",
         "A4145A2EA1E17654",
         "2020-12-07",
         "purchase",
         "499.99",
         "2020-12-07",
         "EU",
         "PC",
         "16:15:16",
         null,
         "B",
         "interface_eu_test"
        ],
        [
         "153",
         "7304ECE608EC415F",
         "2020-12-07",
         "purchase",
         "4.99",
         "2020-12-07",
         "EU",
         "Android",
         "17:11:09",
         null,
         null,
         null
        ],
        [
         "156",
         "09B67269EB574925",
         "2020-12-07",
         "purchase",
         "4.99",
         "2020-12-07",
         "EU",
         "PC",
         "12:53:53",
         null,
         null,
         null
        ],
        [
         "158",
         "C7CB2F1BA42F102B",
         "2020-12-07",
         "purchase",
         "99.99",
         "2020-12-07",
         "EU",
         "iPhone",
         "03:05:05",
         null,
         "B",
         "recommender_system_test"
        ],
        [
         "161",
         "D124FDC5154B9ABE",
         "2020-12-07",
         "purchase",
         "9.99",
         "2020-12-07",
         "EU",
         "PC",
         "08:11:16",
         null,
         null,
         null
        ],
        [
         "190",
         "FBCD08202CD9F64E",
         "2020-12-07",
         "purchase",
         "4.99",
         "2020-12-07",
         "EU",
         "Android",
         "18:29:49",
         null,
         null,
         null
        ],
        [
         "219",
         "E8699DA525106FA7",
         "2020-12-07",
         "purchase",
         "4.99",
         "2020-12-07",
         "EU",
         "PC",
         "15:29:04",
         null,
         null,
         null
        ],
        [
         "256",
         "B69485E66C3C352E",
         "2020-12-07",
         "purchase",
         "4.99",
         "2020-12-07",
         "N.America",
         "iPhone",
         "22:50:42",
         null,
         null,
         null
        ],
        [
         "263",
         "C325FB8F620A9333",
         "2020-12-07",
         "purchase",
         "4.99",
         "2020-12-07",
         "EU",
         "Android",
         "17:39:49",
         null,
         null,
         null
        ],
        [
         "271",
         "F80C9BDDEA02E53C",
         "2020-12-07",
         "purchase",
         "4.99",
         "2020-12-07",
         "EU",
         "iPhone",
         "10:05:54",
         null,
         "A",
         "interface_eu_test"
        ],
        [
         "272",
         "609B9EA6B864BB49",
         "2020-12-07",
         "purchase",
         "4.99",
         "2020-12-07",
         "EU",
         "Android",
         "16:43:19",
         null,
         null,
         null
        ],
        [
         "277",
         "E995E0B62EB464B3",
         "2020-12-07",
         "purchase",
         "4.99",
         "2020-12-07",
         "N.America",
         "Android",
         "05:16:34",
         null,
         null,
         null
        ],
        [
         "284",
         "B56E104D3EF0275D",
         "2020-12-07",
         "purchase",
         "9.99",
         "2020-12-07",
         "EU",
         "iPhone",
         "02:05:16",
         null,
         null,
         null
        ],
        [
         "294",
         "F2361858CD0810CA",
         "2020-12-07",
         "purchase",
         "4.99",
         "2020-12-07",
         "N.America",
         "Android",
         "14:01:29",
         null,
         null,
         null
        ],
        [
         "301",
         "D1B7A6359D41A2CE",
         "2020-12-07",
         "purchase",
         "4.99",
         "2020-12-07",
         "CIS",
         "iPhone",
         "08:46:49",
         null,
         null,
         null
        ],
        [
         "340",
         "221F69212576C277",
         "2020-12-07",
         "purchase",
         "4.99",
         "2020-12-07",
         "APAC",
         "Android",
         "11:41:46",
         null,
         null,
         null
        ],
        [
         "373",
         "A87A702DA2A55EA6",
         "2020-12-07",
         "purchase",
         "9.99",
         "2020-12-07",
         "CIS",
         "iPhone",
         "15:19:37",
         null,
         null,
         null
        ],
        [
         "377",
         "76AE39303AD94723",
         "2020-12-07",
         "purchase",
         "4.99",
         "2020-12-07",
         "N.America",
         "Android",
         "09:56:47",
         null,
         null,
         null
        ],
        [
         "396",
         "2F26BF10D0F2D001",
         "2020-12-07",
         "purchase",
         "4.99",
         "2020-12-07",
         "EU",
         "Android",
         "01:29:02",
         null,
         null,
         null
        ],
        [
         "408",
         "79887FD8C29A04F0",
         "2020-12-07",
         "purchase",
         "4.99",
         "2020-12-07",
         "N.America",
         "iPhone",
         "02:45:15",
         null,
         null,
         null
        ],
        [
         "428",
         "9C0BBD5250E4F142",
         "2020-12-07",
         "purchase",
         "4.99",
         "2020-12-07",
         "EU",
         "Android",
         "03:40:37",
         null,
         null,
         null
        ],
        [
         "433",
         "D171E63E0B7C400E",
         "2020-12-07",
         "purchase",
         "4.99",
         "2020-12-07",
         "N.America",
         "Android",
         "01:22:59",
         null,
         null,
         null
        ],
        [
         "449",
         "D6DDBC9152D7D952",
         "2020-12-07",
         "purchase",
         "99.99",
         "2020-12-07",
         "EU",
         "Android",
         "01:08:01",
         null,
         null,
         null
        ],
        [
         "485",
         "BCD18CE6BF4CEE50",
         "2020-12-07",
         "purchase",
         "4.99",
         "2020-12-07",
         "EU",
         "PC",
         "05:49:36",
         null,
         null,
         null
        ],
        [
         "494",
         "C64295A87AE34587",
         "2020-12-07",
         "purchase",
         "4.99",
         "2020-12-07",
         "APAC",
         "iPhone",
         "12:57:04",
         null,
         null,
         null
        ],
        [
         "523",
         "F0715ADC532E14B4",
         "2020-12-07",
         "purchase",
         "4.99",
         "2020-12-07",
         "EU",
         "Android",
         "01:57:58",
         null,
         "A",
         "interface_eu_test"
        ],
        [
         "548",
         "4818CFCCF7AE5B13",
         "2020-12-07",
         "purchase",
         "9.99",
         "2020-12-07",
         "APAC",
         "iPhone",
         "08:08:50",
         null,
         null,
         null
        ],
        [
         "551",
         "0A9761F64B66289F",
         "2020-12-07",
         "purchase",
         "4.99",
         "2020-12-07",
         "EU",
         "Android",
         "19:00:48",
         null,
         null,
         null
        ],
        [
         "573",
         "E201F759D8495D30",
         "2020-12-07",
         "purchase",
         "4.99",
         "2020-12-07",
         "EU",
         "PC",
         "09:12:10",
         null,
         null,
         null
        ],
        [
         "590",
         "347BA1244FE920C1",
         "2020-12-07",
         "purchase",
         "4.99",
         "2020-12-07",
         "N.America",
         "PC",
         "13:51:56",
         null,
         null,
         null
        ],
        [
         "601",
         "D3B2F392F62F36B8",
         "2020-12-07",
         "purchase",
         "4.99",
         "2020-12-07",
         "CIS",
         "Mac",
         "05:40:21",
         null,
         null,
         null
        ],
        [
         "621",
         "22BB4D358C052803",
         "2020-12-07",
         "purchase",
         "9.99",
         "2020-12-07",
         "EU",
         "Mac",
         "11:25:05",
         null,
         null,
         null
        ],
        [
         "622",
         "E8C7E0D7D35885FC",
         "2020-12-07",
         "purchase",
         "4.99",
         "2020-12-07",
         "EU",
         "Android",
         "08:37:26",
         null,
         null,
         null
        ],
        [
         "630",
         "CD795B521B371EC0",
         "2020-12-07",
         "purchase",
         "4.99",
         "2020-12-07",
         "EU",
         "PC",
         "12:43:00",
         null,
         null,
         null
        ],
        [
         "638",
         "51E307FD76DD2CDA",
         "2020-12-07",
         "purchase",
         "4.99",
         "2020-12-07",
         "EU",
         "Mac",
         "12:27:09",
         null,
         null,
         null
        ],
        [
         "644",
         "EB235A803621D10F",
         "2020-12-07",
         "purchase",
         "9.99",
         "2020-12-07",
         "N.America",
         "Android",
         "16:50:54",
         null,
         null,
         null
        ],
        [
         "662",
         "CF40916C791BBA18",
         "2020-12-07",
         "purchase",
         "4.99",
         "2020-12-07",
         "N.America",
         "Android",
         "00:10:42",
         null,
         null,
         null
        ],
        [
         "681",
         "4DC5604F877FE2B4",
         "2020-12-07",
         "purchase",
         "4.99",
         "2020-12-07",
         "EU",
         "PC",
         "11:15:24",
         null,
         null,
         null
        ]
       ],
       "shape": {
        "columns": 11,
        "rows": 107724
       }
      },
      "text/html": [
       "<div>\n",
       "<style scoped>\n",
       "    .dataframe tbody tr th:only-of-type {\n",
       "        vertical-align: middle;\n",
       "    }\n",
       "\n",
       "    .dataframe tbody tr th {\n",
       "        vertical-align: top;\n",
       "    }\n",
       "\n",
       "    .dataframe thead th {\n",
       "        text-align: right;\n",
       "    }\n",
       "</style>\n",
       "<table border=\"1\" class=\"dataframe\">\n",
       "  <thead>\n",
       "    <tr style=\"text-align: right;\">\n",
       "      <th></th>\n",
       "      <th>user_id</th>\n",
       "      <th>event_dt</th>\n",
       "      <th>event_name</th>\n",
       "      <th>details</th>\n",
       "      <th>first_date</th>\n",
       "      <th>region</th>\n",
       "      <th>device</th>\n",
       "      <th>event_tm</th>\n",
       "      <th>mkt_event_name</th>\n",
       "      <th>group</th>\n",
       "      <th>ab_test</th>\n",
       "    </tr>\n",
       "  </thead>\n",
       "  <tbody>\n",
       "    <tr>\n",
       "      <th>2</th>\n",
       "      <td>9CD9F34546DF254C</td>\n",
       "      <td>2020-12-07</td>\n",
       "      <td>purchase</td>\n",
       "      <td>4.99</td>\n",
       "      <td>2020-12-07</td>\n",
       "      <td>N.America</td>\n",
       "      <td>iPhone</td>\n",
       "      <td>12:59:29</td>\n",
       "      <td>&lt;NA&gt;</td>\n",
       "      <td>NaN</td>\n",
       "      <td>NaN</td>\n",
       "    </tr>\n",
       "    <tr>\n",
       "      <th>19</th>\n",
       "      <td>9C31B4124B3AE217</td>\n",
       "      <td>2020-12-07</td>\n",
       "      <td>purchase</td>\n",
       "      <td>4.99</td>\n",
       "      <td>2020-12-07</td>\n",
       "      <td>EU</td>\n",
       "      <td>PC</td>\n",
       "      <td>21:38:36</td>\n",
       "      <td>&lt;NA&gt;</td>\n",
       "      <td>NaN</td>\n",
       "      <td>NaN</td>\n",
       "    </tr>\n",
       "    <tr>\n",
       "      <th>21</th>\n",
       "      <td>FCD216B91578B8DC</td>\n",
       "      <td>2020-12-07</td>\n",
       "      <td>purchase</td>\n",
       "      <td>99.99</td>\n",
       "      <td>2020-12-07</td>\n",
       "      <td>N.America</td>\n",
       "      <td>PC</td>\n",
       "      <td>18:24:41</td>\n",
       "      <td>&lt;NA&gt;</td>\n",
       "      <td>NaN</td>\n",
       "      <td>NaN</td>\n",
       "    </tr>\n",
       "    <tr>\n",
       "      <th>28</th>\n",
       "      <td>AA77BDA8996FE1B8</td>\n",
       "      <td>2020-12-07</td>\n",
       "      <td>purchase</td>\n",
       "      <td>9.99</td>\n",
       "      <td>2020-12-07</td>\n",
       "      <td>N.America</td>\n",
       "      <td>Android</td>\n",
       "      <td>08:24:41</td>\n",
       "      <td>&lt;NA&gt;</td>\n",
       "      <td>NaN</td>\n",
       "      <td>NaN</td>\n",
       "    </tr>\n",
       "    <tr>\n",
       "      <th>36</th>\n",
       "      <td>2765321AC15BA00A</td>\n",
       "      <td>2020-12-07</td>\n",
       "      <td>purchase</td>\n",
       "      <td>4.99</td>\n",
       "      <td>2020-12-07</td>\n",
       "      <td>EU</td>\n",
       "      <td>Mac</td>\n",
       "      <td>08:57:39</td>\n",
       "      <td>&lt;NA&gt;</td>\n",
       "      <td>NaN</td>\n",
       "      <td>NaN</td>\n",
       "    </tr>\n",
       "    <tr>\n",
       "      <th>...</th>\n",
       "      <td>...</td>\n",
       "      <td>...</td>\n",
       "      <td>...</td>\n",
       "      <td>...</td>\n",
       "      <td>...</td>\n",
       "      <td>...</td>\n",
       "      <td>...</td>\n",
       "      <td>...</td>\n",
       "      <td>...</td>\n",
       "      <td>...</td>\n",
       "      <td>...</td>\n",
       "    </tr>\n",
       "    <tr>\n",
       "      <th>429464</th>\n",
       "      <td>2761935C2DD2794F</td>\n",
       "      <td>2020-12-30</td>\n",
       "      <td>login</td>\n",
       "      <td>&lt;NA&gt;</td>\n",
       "      <td>2020-12-07</td>\n",
       "      <td>EU</td>\n",
       "      <td>iPhone</td>\n",
       "      <td>16:51:29</td>\n",
       "      <td>Christmas_New_Year_Promo</td>\n",
       "      <td>NaN</td>\n",
       "      <td>NaN</td>\n",
       "    </tr>\n",
       "    <tr>\n",
       "      <th>429465</th>\n",
       "      <td>E0E5446B78A6520B</td>\n",
       "      <td>2020-12-30</td>\n",
       "      <td>login</td>\n",
       "      <td>&lt;NA&gt;</td>\n",
       "      <td>2020-12-07</td>\n",
       "      <td>CIS</td>\n",
       "      <td>Android</td>\n",
       "      <td>23:36:30</td>\n",
       "      <td>CIS_New_Year_Gift_Lottery</td>\n",
       "      <td>NaN</td>\n",
       "      <td>NaN</td>\n",
       "    </tr>\n",
       "    <tr>\n",
       "      <th>429468</th>\n",
       "      <td>33E7BCF696B41C7B</td>\n",
       "      <td>2020-12-30</td>\n",
       "      <td>login</td>\n",
       "      <td>&lt;NA&gt;</td>\n",
       "      <td>2020-12-07</td>\n",
       "      <td>EU</td>\n",
       "      <td>PC</td>\n",
       "      <td>12:21:24</td>\n",
       "      <td>Christmas_New_Year_Promo</td>\n",
       "      <td>NaN</td>\n",
       "      <td>NaN</td>\n",
       "    </tr>\n",
       "    <tr>\n",
       "      <th>429472</th>\n",
       "      <td>9385A108F5A0A7A7</td>\n",
       "      <td>2020-12-30</td>\n",
       "      <td>login</td>\n",
       "      <td>&lt;NA&gt;</td>\n",
       "      <td>2020-12-07</td>\n",
       "      <td>EU</td>\n",
       "      <td>PC</td>\n",
       "      <td>10:54:15</td>\n",
       "      <td>Christmas_New_Year_Promo</td>\n",
       "      <td>NaN</td>\n",
       "      <td>NaN</td>\n",
       "    </tr>\n",
       "    <tr>\n",
       "      <th>429473</th>\n",
       "      <td>DB650B7559AC6EAC</td>\n",
       "      <td>2020-12-30</td>\n",
       "      <td>login</td>\n",
       "      <td>&lt;NA&gt;</td>\n",
       "      <td>2020-12-07</td>\n",
       "      <td>EU</td>\n",
       "      <td>Android</td>\n",
       "      <td>10:59:09</td>\n",
       "      <td>Christmas_New_Year_Promo</td>\n",
       "      <td>NaN</td>\n",
       "      <td>NaN</td>\n",
       "    </tr>\n",
       "  </tbody>\n",
       "</table>\n",
       "<p>107724 rows × 11 columns</p>\n",
       "</div>"
      ],
      "text/plain": [
       "                 user_id    event_dt event_name details  first_date  \\\n",
       "2       9CD9F34546DF254C  2020-12-07   purchase    4.99  2020-12-07   \n",
       "19      9C31B4124B3AE217  2020-12-07   purchase    4.99  2020-12-07   \n",
       "21      FCD216B91578B8DC  2020-12-07   purchase   99.99  2020-12-07   \n",
       "28      AA77BDA8996FE1B8  2020-12-07   purchase    9.99  2020-12-07   \n",
       "36      2765321AC15BA00A  2020-12-07   purchase    4.99  2020-12-07   \n",
       "...                  ...         ...        ...     ...         ...   \n",
       "429464  2761935C2DD2794F  2020-12-30      login    <NA>  2020-12-07   \n",
       "429465  E0E5446B78A6520B  2020-12-30      login    <NA>  2020-12-07   \n",
       "429468  33E7BCF696B41C7B  2020-12-30      login    <NA>  2020-12-07   \n",
       "429472  9385A108F5A0A7A7  2020-12-30      login    <NA>  2020-12-07   \n",
       "429473  DB650B7559AC6EAC  2020-12-30      login    <NA>  2020-12-07   \n",
       "\n",
       "           region   device  event_tm             mkt_event_name group ab_test  \n",
       "2       N.America   iPhone  12:59:29                       <NA>   NaN     NaN  \n",
       "19             EU       PC  21:38:36                       <NA>   NaN     NaN  \n",
       "21      N.America       PC  18:24:41                       <NA>   NaN     NaN  \n",
       "28      N.America  Android  08:24:41                       <NA>   NaN     NaN  \n",
       "36             EU      Mac  08:57:39                       <NA>   NaN     NaN  \n",
       "...           ...      ...       ...                        ...   ...     ...  \n",
       "429464         EU   iPhone  16:51:29   Christmas_New_Year_Promo   NaN     NaN  \n",
       "429465        CIS  Android  23:36:30  CIS_New_Year_Gift_Lottery   NaN     NaN  \n",
       "429468         EU       PC  12:21:24   Christmas_New_Year_Promo   NaN     NaN  \n",
       "429472         EU       PC  10:54:15   Christmas_New_Year_Promo   NaN     NaN  \n",
       "429473         EU  Android  10:59:09   Christmas_New_Year_Promo   NaN     NaN  \n",
       "\n",
       "[107724 rows x 11 columns]"
      ]
     },
     "execution_count": 41,
     "metadata": {},
     "output_type": "execute_result"
    }
   ],
   "source": [
    "# Get data that fits onñy for A/B test lifetime (Launch - End date)\n",
    "df_users_testAB = df_users.loc[(df_users['first_date'] >= dt.date(2020, 12, 7)) & (df_users['first_date'] <= dt.date(2020, 12, 21)), :]\n",
    "df_users_testAB"
   ]
  },
  {
   "cell_type": "code",
   "execution_count": 42,
   "id": "0bed8341",
   "metadata": {},
   "outputs": [
    {
     "data": {
      "text/html": [
       "> Regions within Test AB: <b>N.America, EU, CIS, APAC</b>"
      ],
      "text/plain": [
       "<IPython.core.display.HTML object>"
      ]
     },
     "metadata": {},
     "output_type": "display_data"
    }
   ],
   "source": [
    "# Get audience Info within Test AB\n",
    "\n",
    "html_output =\"\"\n",
    "\n",
    "for region in df_users_testAB['region'].unique():\n",
    "    if region == df_users_testAB['region'].unique()[-1]:\n",
    "        html_output += f\"{region}\"\n",
    "    else:\n",
    "        html_output += f\"{region}, \"\n",
    "    \n",
    "display(HTML(f\"> Regions within Test AB: <b>{html_output}</b>\"))"
   ]
  },
  {
   "cell_type": "code",
   "execution_count": 43,
   "id": "1ea600fb",
   "metadata": {},
   "outputs": [
    {
     "data": {
      "text/html": [
       "> Total audience in test AB (All regions): <b>28381</b>"
      ],
      "text/plain": [
       "<IPython.core.display.HTML object>"
      ]
     },
     "metadata": {},
     "output_type": "display_data"
    },
    {
     "data": {
      "text/html": [
       "> N.america audience rate in test AB: <b>14.51 %</b>"
      ],
      "text/plain": [
       "<IPython.core.display.HTML object>"
      ]
     },
     "metadata": {},
     "output_type": "display_data"
    },
    {
     "data": {
      "text/html": [
       "> EU audience rate in test AB: <b>72.221 %</b>"
      ],
      "text/plain": [
       "<IPython.core.display.HTML object>"
      ]
     },
     "metadata": {},
     "output_type": "display_data"
    },
    {
     "data": {
      "text/html": [
       "> CISC audience rate in test AB: <b>6.385 %</b>"
      ],
      "text/plain": [
       "<IPython.core.display.HTML object>"
      ]
     },
     "metadata": {},
     "output_type": "display_data"
    },
    {
     "data": {
      "text/html": [
       "> APAC audience rate in test AB: <b>6.885 %</b>"
      ],
      "text/plain": [
       "<IPython.core.display.HTML object>"
      ]
     },
     "metadata": {},
     "output_type": "display_data"
    }
   ],
   "source": [
    "# Double check whether the amount of audience is correct after filtering test AB data\n",
    "\n",
    "html_output =\"\"\n",
    "audience_AB_Total = 0\n",
    "audience_AB_NAmerica = 0\n",
    "audience_AB_EU = 0\n",
    "audience_AB_APAC = 0\n",
    "audience_AB_CIS = 0\n",
    "\n",
    "for region in df_users_testAB['region'].unique():\n",
    "    if region == 'N.America':\n",
    "        audience_AB_NAmerica = df_users_testAB.loc[(df_users_testAB['region'] == 'N.America'), 'user_id'].unique().shape[0]\n",
    "    elif region == 'EU':\n",
    "        audience_AB_EU = df_users_testAB.loc[(df_users_testAB['region'] == 'EU'), 'user_id'].unique().shape[0]\n",
    "    elif region == 'APAC':\n",
    "        audience_AB_APAC = df_users_testAB.loc[(df_users_testAB['region'] == 'APAC'), 'user_id'].unique().shape[0]\n",
    "    else:\n",
    "        audience_AB_CIS = df_users_testAB.loc[(df_users_testAB['region'] == 'CIS'), 'user_id'].unique().shape[0]\n",
    "\n",
    "audience_AB_Total = audience_AB_APAC + audience_AB_CIS + audience_AB_EU + audience_AB_NAmerica\n",
    "\n",
    "display(HTML(f\"> Total audience in test AB (All regions): <b>{audience_AB_Total}</b>\"))\n",
    "\n",
    "for region in df_users_testAB['region'].unique():\n",
    "    if region == 'N.America':\n",
    "        display(HTML(f\"> N.america audience rate in test AB: <b>{round((audience_AB_NAmerica / audience_AB_Total) * 100, 3)} %</b>\"))\n",
    "    elif region == 'EU':\n",
    "        display(HTML(f\"> EU audience rate in test AB: <b>{round((audience_AB_EU / audience_AB_Total) * 100, 3)} %</b>\"))\n",
    "    elif region == 'APAC':\n",
    "        display(HTML(f\"> APAC audience rate in test AB: <b>{round((audience_AB_APAC / audience_AB_Total) * 100, 3)} %</b>\"))\n",
    "    else:\n",
    "        display(HTML(f\"> CISC audience rate in test AB: <b>{round((audience_AB_CIS / audience_AB_Total) * 100, 3)} %</b>\"))"
   ]
  },
  {
   "cell_type": "code",
   "execution_count": 44,
   "id": "74269361",
   "metadata": {},
   "outputs": [
    {
     "data": {
      "application/vnd.plotly.v1+json": {
       "config": {
        "plotlyServerURL": "https://plot.ly"
       },
       "data": [
        {
         "customdata": [
          [
           "APAC"
          ],
          [
           "CIS"
          ],
          [
           "EU"
          ],
          [
           "N.America"
          ]
         ],
         "domain": {
          "x": [
           0,
           1
          ],
          "y": [
           0,
           1
          ]
         },
         "hole": 0,
         "hovertemplate": "region=%{customdata[0]}<br>count=%{value}<extra></extra>",
         "labels": [
          "APAC",
          "CIS",
          "EU",
          "N.America"
         ],
         "legendgroup": "",
         "marker": {
          "colors": [
           "#2b2b2b",
           "#4d4d4d",
           "#707070",
           "#999999"
          ]
         },
         "name": "",
         "showlegend": true,
         "textinfo": "percent+label",
         "type": "pie",
         "values": {
          "bdata": "ogcUBxFQFhA=",
          "dtype": "i2"
         }
        }
       ],
       "layout": {
        "legend": {
         "tracegroupgap": 0
        },
        "margin": {
         "t": 60
        },
        "piecolorway": [
         "#2b2b2b",
         "#4d4d4d",
         "#707070",
         "#999999",
         "#bfbfbf"
        ],
        "template": {
         "data": {
          "bar": [
           {
            "error_x": {
             "color": "#2a3f5f"
            },
            "error_y": {
             "color": "#2a3f5f"
            },
            "marker": {
             "line": {
              "color": "#E5ECF6",
              "width": 0.5
             },
             "pattern": {
              "fillmode": "overlay",
              "size": 10,
              "solidity": 0.2
             }
            },
            "type": "bar"
           }
          ],
          "barpolar": [
           {
            "marker": {
             "line": {
              "color": "#E5ECF6",
              "width": 0.5
             },
             "pattern": {
              "fillmode": "overlay",
              "size": 10,
              "solidity": 0.2
             }
            },
            "type": "barpolar"
           }
          ],
          "carpet": [
           {
            "aaxis": {
             "endlinecolor": "#2a3f5f",
             "gridcolor": "white",
             "linecolor": "white",
             "minorgridcolor": "white",
             "startlinecolor": "#2a3f5f"
            },
            "baxis": {
             "endlinecolor": "#2a3f5f",
             "gridcolor": "white",
             "linecolor": "white",
             "minorgridcolor": "white",
             "startlinecolor": "#2a3f5f"
            },
            "type": "carpet"
           }
          ],
          "choropleth": [
           {
            "colorbar": {
             "outlinewidth": 0,
             "ticks": ""
            },
            "type": "choropleth"
           }
          ],
          "contour": [
           {
            "colorbar": {
             "outlinewidth": 0,
             "ticks": ""
            },
            "colorscale": [
             [
              0,
              "#0d0887"
             ],
             [
              0.1111111111111111,
              "#46039f"
             ],
             [
              0.2222222222222222,
              "#7201a8"
             ],
             [
              0.3333333333333333,
              "#9c179e"
             ],
             [
              0.4444444444444444,
              "#bd3786"
             ],
             [
              0.5555555555555556,
              "#d8576b"
             ],
             [
              0.6666666666666666,
              "#ed7953"
             ],
             [
              0.7777777777777778,
              "#fb9f3a"
             ],
             [
              0.8888888888888888,
              "#fdca26"
             ],
             [
              1,
              "#f0f921"
             ]
            ],
            "type": "contour"
           }
          ],
          "contourcarpet": [
           {
            "colorbar": {
             "outlinewidth": 0,
             "ticks": ""
            },
            "type": "contourcarpet"
           }
          ],
          "heatmap": [
           {
            "colorbar": {
             "outlinewidth": 0,
             "ticks": ""
            },
            "colorscale": [
             [
              0,
              "#0d0887"
             ],
             [
              0.1111111111111111,
              "#46039f"
             ],
             [
              0.2222222222222222,
              "#7201a8"
             ],
             [
              0.3333333333333333,
              "#9c179e"
             ],
             [
              0.4444444444444444,
              "#bd3786"
             ],
             [
              0.5555555555555556,
              "#d8576b"
             ],
             [
              0.6666666666666666,
              "#ed7953"
             ],
             [
              0.7777777777777778,
              "#fb9f3a"
             ],
             [
              0.8888888888888888,
              "#fdca26"
             ],
             [
              1,
              "#f0f921"
             ]
            ],
            "type": "heatmap"
           }
          ],
          "histogram": [
           {
            "marker": {
             "pattern": {
              "fillmode": "overlay",
              "size": 10,
              "solidity": 0.2
             }
            },
            "type": "histogram"
           }
          ],
          "histogram2d": [
           {
            "colorbar": {
             "outlinewidth": 0,
             "ticks": ""
            },
            "colorscale": [
             [
              0,
              "#0d0887"
             ],
             [
              0.1111111111111111,
              "#46039f"
             ],
             [
              0.2222222222222222,
              "#7201a8"
             ],
             [
              0.3333333333333333,
              "#9c179e"
             ],
             [
              0.4444444444444444,
              "#bd3786"
             ],
             [
              0.5555555555555556,
              "#d8576b"
             ],
             [
              0.6666666666666666,
              "#ed7953"
             ],
             [
              0.7777777777777778,
              "#fb9f3a"
             ],
             [
              0.8888888888888888,
              "#fdca26"
             ],
             [
              1,
              "#f0f921"
             ]
            ],
            "type": "histogram2d"
           }
          ],
          "histogram2dcontour": [
           {
            "colorbar": {
             "outlinewidth": 0,
             "ticks": ""
            },
            "colorscale": [
             [
              0,
              "#0d0887"
             ],
             [
              0.1111111111111111,
              "#46039f"
             ],
             [
              0.2222222222222222,
              "#7201a8"
             ],
             [
              0.3333333333333333,
              "#9c179e"
             ],
             [
              0.4444444444444444,
              "#bd3786"
             ],
             [
              0.5555555555555556,
              "#d8576b"
             ],
             [
              0.6666666666666666,
              "#ed7953"
             ],
             [
              0.7777777777777778,
              "#fb9f3a"
             ],
             [
              0.8888888888888888,
              "#fdca26"
             ],
             [
              1,
              "#f0f921"
             ]
            ],
            "type": "histogram2dcontour"
           }
          ],
          "mesh3d": [
           {
            "colorbar": {
             "outlinewidth": 0,
             "ticks": ""
            },
            "type": "mesh3d"
           }
          ],
          "parcoords": [
           {
            "line": {
             "colorbar": {
              "outlinewidth": 0,
              "ticks": ""
             }
            },
            "type": "parcoords"
           }
          ],
          "pie": [
           {
            "automargin": true,
            "type": "pie"
           }
          ],
          "scatter": [
           {
            "fillpattern": {
             "fillmode": "overlay",
             "size": 10,
             "solidity": 0.2
            },
            "type": "scatter"
           }
          ],
          "scatter3d": [
           {
            "line": {
             "colorbar": {
              "outlinewidth": 0,
              "ticks": ""
             }
            },
            "marker": {
             "colorbar": {
              "outlinewidth": 0,
              "ticks": ""
             }
            },
            "type": "scatter3d"
           }
          ],
          "scattercarpet": [
           {
            "marker": {
             "colorbar": {
              "outlinewidth": 0,
              "ticks": ""
             }
            },
            "type": "scattercarpet"
           }
          ],
          "scattergeo": [
           {
            "marker": {
             "colorbar": {
              "outlinewidth": 0,
              "ticks": ""
             }
            },
            "type": "scattergeo"
           }
          ],
          "scattergl": [
           {
            "marker": {
             "colorbar": {
              "outlinewidth": 0,
              "ticks": ""
             }
            },
            "type": "scattergl"
           }
          ],
          "scattermap": [
           {
            "marker": {
             "colorbar": {
              "outlinewidth": 0,
              "ticks": ""
             }
            },
            "type": "scattermap"
           }
          ],
          "scattermapbox": [
           {
            "marker": {
             "colorbar": {
              "outlinewidth": 0,
              "ticks": ""
             }
            },
            "type": "scattermapbox"
           }
          ],
          "scatterpolar": [
           {
            "marker": {
             "colorbar": {
              "outlinewidth": 0,
              "ticks": ""
             }
            },
            "type": "scatterpolar"
           }
          ],
          "scatterpolargl": [
           {
            "marker": {
             "colorbar": {
              "outlinewidth": 0,
              "ticks": ""
             }
            },
            "type": "scatterpolargl"
           }
          ],
          "scatterternary": [
           {
            "marker": {
             "colorbar": {
              "outlinewidth": 0,
              "ticks": ""
             }
            },
            "type": "scatterternary"
           }
          ],
          "surface": [
           {
            "colorbar": {
             "outlinewidth": 0,
             "ticks": ""
            },
            "colorscale": [
             [
              0,
              "#0d0887"
             ],
             [
              0.1111111111111111,
              "#46039f"
             ],
             [
              0.2222222222222222,
              "#7201a8"
             ],
             [
              0.3333333333333333,
              "#9c179e"
             ],
             [
              0.4444444444444444,
              "#bd3786"
             ],
             [
              0.5555555555555556,
              "#d8576b"
             ],
             [
              0.6666666666666666,
              "#ed7953"
             ],
             [
              0.7777777777777778,
              "#fb9f3a"
             ],
             [
              0.8888888888888888,
              "#fdca26"
             ],
             [
              1,
              "#f0f921"
             ]
            ],
            "type": "surface"
           }
          ],
          "table": [
           {
            "cells": {
             "fill": {
              "color": "#EBF0F8"
             },
             "line": {
              "color": "white"
             }
            },
            "header": {
             "fill": {
              "color": "#C8D4E3"
             },
             "line": {
              "color": "white"
             }
            },
            "type": "table"
           }
          ]
         },
         "layout": {
          "annotationdefaults": {
           "arrowcolor": "#2a3f5f",
           "arrowhead": 0,
           "arrowwidth": 1
          },
          "autotypenumbers": "strict",
          "coloraxis": {
           "colorbar": {
            "outlinewidth": 0,
            "ticks": ""
           }
          },
          "colorscale": {
           "diverging": [
            [
             0,
             "#8e0152"
            ],
            [
             0.1,
             "#c51b7d"
            ],
            [
             0.2,
             "#de77ae"
            ],
            [
             0.3,
             "#f1b6da"
            ],
            [
             0.4,
             "#fde0ef"
            ],
            [
             0.5,
             "#f7f7f7"
            ],
            [
             0.6,
             "#e6f5d0"
            ],
            [
             0.7,
             "#b8e186"
            ],
            [
             0.8,
             "#7fbc41"
            ],
            [
             0.9,
             "#4d9221"
            ],
            [
             1,
             "#276419"
            ]
           ],
           "sequential": [
            [
             0,
             "#0d0887"
            ],
            [
             0.1111111111111111,
             "#46039f"
            ],
            [
             0.2222222222222222,
             "#7201a8"
            ],
            [
             0.3333333333333333,
             "#9c179e"
            ],
            [
             0.4444444444444444,
             "#bd3786"
            ],
            [
             0.5555555555555556,
             "#d8576b"
            ],
            [
             0.6666666666666666,
             "#ed7953"
            ],
            [
             0.7777777777777778,
             "#fb9f3a"
            ],
            [
             0.8888888888888888,
             "#fdca26"
            ],
            [
             1,
             "#f0f921"
            ]
           ],
           "sequentialminus": [
            [
             0,
             "#0d0887"
            ],
            [
             0.1111111111111111,
             "#46039f"
            ],
            [
             0.2222222222222222,
             "#7201a8"
            ],
            [
             0.3333333333333333,
             "#9c179e"
            ],
            [
             0.4444444444444444,
             "#bd3786"
            ],
            [
             0.5555555555555556,
             "#d8576b"
            ],
            [
             0.6666666666666666,
             "#ed7953"
            ],
            [
             0.7777777777777778,
             "#fb9f3a"
            ],
            [
             0.8888888888888888,
             "#fdca26"
            ],
            [
             1,
             "#f0f921"
            ]
           ]
          },
          "colorway": [
           "#636efa",
           "#EF553B",
           "#00cc96",
           "#ab63fa",
           "#FFA15A",
           "#19d3f3",
           "#FF6692",
           "#B6E880",
           "#FF97FF",
           "#FECB52"
          ],
          "font": {
           "color": "#2a3f5f"
          },
          "geo": {
           "bgcolor": "white",
           "lakecolor": "white",
           "landcolor": "#E5ECF6",
           "showlakes": true,
           "showland": true,
           "subunitcolor": "white"
          },
          "hoverlabel": {
           "align": "left"
          },
          "hovermode": "closest",
          "mapbox": {
           "style": "light"
          },
          "paper_bgcolor": "white",
          "plot_bgcolor": "#E5ECF6",
          "polar": {
           "angularaxis": {
            "gridcolor": "white",
            "linecolor": "white",
            "ticks": ""
           },
           "bgcolor": "#E5ECF6",
           "radialaxis": {
            "gridcolor": "white",
            "linecolor": "white",
            "ticks": ""
           }
          },
          "scene": {
           "xaxis": {
            "backgroundcolor": "#E5ECF6",
            "gridcolor": "white",
            "gridwidth": 2,
            "linecolor": "white",
            "showbackground": true,
            "ticks": "",
            "zerolinecolor": "white"
           },
           "yaxis": {
            "backgroundcolor": "#E5ECF6",
            "gridcolor": "white",
            "gridwidth": 2,
            "linecolor": "white",
            "showbackground": true,
            "ticks": "",
            "zerolinecolor": "white"
           },
           "zaxis": {
            "backgroundcolor": "#E5ECF6",
            "gridcolor": "white",
            "gridwidth": 2,
            "linecolor": "white",
            "showbackground": true,
            "ticks": "",
            "zerolinecolor": "white"
           }
          },
          "shapedefaults": {
           "line": {
            "color": "#2a3f5f"
           }
          },
          "ternary": {
           "aaxis": {
            "gridcolor": "white",
            "linecolor": "white",
            "ticks": ""
           },
           "baxis": {
            "gridcolor": "white",
            "linecolor": "white",
            "ticks": ""
           },
           "bgcolor": "#E5ECF6",
           "caxis": {
            "gridcolor": "white",
            "linecolor": "white",
            "ticks": ""
           }
          },
          "title": {
           "x": 0.05
          },
          "xaxis": {
           "automargin": true,
           "gridcolor": "white",
           "linecolor": "white",
           "ticks": "",
           "title": {
            "standoff": 15
           },
           "zerolinecolor": "white",
           "zerolinewidth": 2
          },
          "yaxis": {
           "automargin": true,
           "gridcolor": "white",
           "linecolor": "white",
           "ticks": "",
           "title": {
            "standoff": 15
           },
           "zerolinecolor": "white",
           "zerolinewidth": 2
          }
         }
        },
        "title": {
         "text": "Audience proportions",
         "x": 0.5
        }
       }
      }
     },
     "metadata": {},
     "output_type": "display_data"
    }
   ],
   "source": [
    "gray_scale = ['#2b2b2b', '#4d4d4d', '#707070', '#999999', '#bfbfbf']\n",
    "plot_pie_chart_plotlypx(df_users_testAB, 'region', 'user_id', color_map=gray_scale, labels=True, title=\"Audience proportions\", unique_values=True)"
   ]
  },
  {
   "cell_type": "markdown",
   "id": "c2a6589d",
   "metadata": {},
   "source": [
    "#### **7.2** A/B groups segmentation"
   ]
  },
  {
   "cell_type": "code",
   "execution_count": 45,
   "id": "7309f7f4",
   "metadata": {},
   "outputs": [
    {
     "data": {
      "application/vnd.microsoft.datawrangler.viewer.v0+json": {
       "columns": [
        {
         "name": "index",
         "rawType": "int64",
         "type": "integer"
        },
        {
         "name": "user_id",
         "rawType": "object",
         "type": "string"
        },
        {
         "name": "event_dt",
         "rawType": "object",
         "type": "unknown"
        },
        {
         "name": "event_name",
         "rawType": "category",
         "type": "unknown"
        },
        {
         "name": "details",
         "rawType": "object",
         "type": "unknown"
        },
        {
         "name": "first_date",
         "rawType": "object",
         "type": "unknown"
        },
        {
         "name": "region",
         "rawType": "category",
         "type": "unknown"
        },
        {
         "name": "device",
         "rawType": "category",
         "type": "unknown"
        },
        {
         "name": "event_tm",
         "rawType": "object",
         "type": "unknown"
        },
        {
         "name": "mkt_event_name",
         "rawType": "object",
         "type": "unknown"
        },
        {
         "name": "group",
         "rawType": "category",
         "type": "unknown"
        },
        {
         "name": "ab_test",
         "rawType": "category",
         "type": "unknown"
        }
       ],
       "ref": "2484230b-43dd-474d-bfb3-c0d758c70c65",
       "rows": [
        [
         "41",
         "F2BE35774F63059B",
         "2020-12-07",
         "purchase",
         "4.99",
         "2020-12-07",
         "EU",
         "Android",
         "05:23:18",
         null,
         "A",
         "interface_eu_test"
        ],
        [
         "271",
         "F80C9BDDEA02E53C",
         "2020-12-07",
         "purchase",
         "4.99",
         "2020-12-07",
         "EU",
         "iPhone",
         "10:05:54",
         null,
         "A",
         "interface_eu_test"
        ],
        [
         "523",
         "F0715ADC532E14B4",
         "2020-12-07",
         "purchase",
         "4.99",
         "2020-12-07",
         "EU",
         "Android",
         "01:57:58",
         null,
         "A",
         "interface_eu_test"
        ],
        [
         "777",
         "8FF91E21E27A330D",
         "2020-12-07",
         "purchase",
         "4.99",
         "2020-12-07",
         "EU",
         "Mac",
         "01:57:30",
         null,
         "A",
         "interface_eu_test"
        ],
        [
         "971",
         "0BA0B65F1B8C19F9",
         "2020-12-07",
         "purchase",
         "4.99",
         "2020-12-07",
         "EU",
         "Mac",
         "04:42:52",
         null,
         "A",
         "interface_eu_test"
        ],
        [
         "992",
         "FF1AF3B4FB596E23",
         "2020-12-07",
         "purchase",
         "9.99",
         "2020-12-07",
         "EU",
         "iPhone",
         "05:19:43",
         null,
         "A",
         "interface_eu_test"
        ],
        [
         "1450",
         "FDC6BC7C3C4239B1",
         "2020-12-07",
         "purchase",
         "4.99",
         "2020-12-07",
         "EU",
         "Android",
         "05:45:13",
         null,
         "A",
         "interface_eu_test"
        ],
        [
         "1539",
         "B85380A609C96C7D",
         "2020-12-07",
         "purchase",
         "9.99",
         "2020-12-07",
         "EU",
         "PC",
         "17:45:25",
         null,
         "A",
         "interface_eu_test"
        ],
        [
         "1814",
         "95EABFE0B023143D",
         "2020-12-08",
         "purchase",
         "9.99",
         "2020-12-07",
         "EU",
         "Android",
         "22:15:20",
         null,
         "A",
         "interface_eu_test"
        ],
        [
         "1862",
         "79FE3925D374219B",
         "2020-12-08",
         "purchase",
         "4.99",
         "2020-12-07",
         "EU",
         "Android",
         "04:23:40",
         null,
         "A",
         "interface_eu_test"
        ],
        [
         "1922",
         "AEA1CE413D40523C",
         "2020-12-08",
         "purchase",
         "9.99",
         "2020-12-07",
         "EU",
         "Android",
         "16:48:06",
         null,
         "A",
         "interface_eu_test"
        ],
        [
         "2010",
         "A5054CA4405CE915",
         "2020-12-08",
         "purchase",
         "4.99",
         "2020-12-07",
         "EU",
         "PC",
         "21:07:14",
         null,
         "A",
         "interface_eu_test"
        ],
        [
         "2168",
         "EB55FA9F26451B26",
         "2020-12-08",
         "purchase",
         "4.99",
         "2020-12-07",
         "EU",
         "PC",
         "02:55:57",
         null,
         "A",
         "interface_eu_test"
        ],
        [
         "2261",
         "90192F1A66D5A0AE",
         "2020-12-08",
         "purchase",
         "4.99",
         "2020-12-07",
         "EU",
         "iPhone",
         "08:13:26",
         null,
         "A",
         "recommender_system_test"
        ],
        [
         "2262",
         "90192F1A66D5A0AE",
         "2020-12-08",
         "purchase",
         "4.99",
         "2020-12-07",
         "EU",
         "iPhone",
         "08:13:26",
         null,
         "A",
         "interface_eu_test"
        ],
        [
         "2298",
         "9E7A65A9C6A8CE0E",
         "2020-12-08",
         "purchase",
         "9.99",
         "2020-12-07",
         "EU",
         "Android",
         "10:43:26",
         null,
         "A",
         "interface_eu_test"
        ],
        [
         "61139",
         "E6AF85675078215D",
         "2020-12-07",
         "product_cart",
         null,
         "2020-12-07",
         "EU",
         "Android",
         "16:23:47",
         null,
         "A",
         "interface_eu_test"
        ],
        [
         "61172",
         "5FDBB7EBDECFF0C9",
         "2020-12-07",
         "product_cart",
         null,
         "2020-12-07",
         "EU",
         "iPhone",
         "01:57:37",
         null,
         "A",
         "interface_eu_test"
        ],
        [
         "61256",
         "D3CC07A94818AE92",
         "2020-12-07",
         "product_cart",
         null,
         "2020-12-07",
         "EU",
         "Android",
         "08:50:03",
         null,
         "A",
         "interface_eu_test"
        ],
        [
         "61354",
         "83AB3C13B3972BAE",
         "2020-12-07",
         "product_cart",
         null,
         "2020-12-07",
         "EU",
         "iPhone",
         "20:47:52",
         null,
         "A",
         "recommender_system_test"
        ],
        [
         "61355",
         "83AB3C13B3972BAE",
         "2020-12-07",
         "product_cart",
         null,
         "2020-12-07",
         "EU",
         "iPhone",
         "20:47:52",
         null,
         "A",
         "interface_eu_test"
        ],
        [
         "61415",
         "4F1E6798CA2500FD",
         "2020-12-07",
         "product_cart",
         null,
         "2020-12-07",
         "EU",
         "Android",
         "00:13:22",
         null,
         "A",
         "interface_eu_test"
        ],
        [
         "61417",
         "9C7902F40A510977",
         "2020-12-07",
         "product_cart",
         null,
         "2020-12-07",
         "EU",
         "Android",
         "16:42:33",
         null,
         "A",
         "interface_eu_test"
        ],
        [
         "61438",
         "2FCC7F12CF1CE227",
         "2020-12-07",
         "product_cart",
         null,
         "2020-12-07",
         "EU",
         "PC",
         "08:16:55",
         null,
         "A",
         "recommender_system_test"
        ],
        [
         "61598",
         "4D80CE9BD179D314",
         "2020-12-07",
         "product_cart",
         null,
         "2020-12-07",
         "EU",
         "Mac",
         "23:51:44",
         null,
         "A",
         "interface_eu_test"
        ],
        [
         "61601",
         "0A836C506B240CFE",
         "2020-12-07",
         "product_cart",
         null,
         "2020-12-07",
         "EU",
         "Android",
         "12:46:17",
         null,
         "A",
         "interface_eu_test"
        ],
        [
         "61684",
         "9F4B7C7D64845781",
         "2020-12-07",
         "product_cart",
         null,
         "2020-12-07",
         "EU",
         "iPhone",
         "00:34:50",
         null,
         "A",
         "interface_eu_test"
        ],
        [
         "61700",
         "0F961618F61D7976",
         "2020-12-07",
         "product_cart",
         null,
         "2020-12-07",
         "EU",
         "PC",
         "20:13:52",
         null,
         "A",
         "interface_eu_test"
        ],
        [
         "61731",
         "AAF83E489AE98FA9",
         "2020-12-07",
         "product_cart",
         null,
         "2020-12-07",
         "EU",
         "PC",
         "00:39:18",
         null,
         "A",
         "recommender_system_test"
        ],
        [
         "61755",
         "A9E974CAC5BCD10A",
         "2020-12-07",
         "product_cart",
         null,
         "2020-12-07",
         "EU",
         "Mac",
         "19:04:27",
         null,
         "A",
         "interface_eu_test"
        ],
        [
         "61904",
         "6AD62747E7232427",
         "2020-12-07",
         "product_cart",
         null,
         "2020-12-07",
         "EU",
         "Android",
         "19:39:45",
         null,
         "A",
         "recommender_system_test"
        ],
        [
         "61928",
         "CFB189D220054DC2",
         "2020-12-07",
         "product_cart",
         null,
         "2020-12-07",
         "EU",
         "PC",
         "10:59:14",
         null,
         "A",
         "recommender_system_test"
        ],
        [
         "62074",
         "777F7806F12532B8",
         "2020-12-07",
         "product_cart",
         null,
         "2020-12-07",
         "EU",
         "Android",
         "16:32:48",
         null,
         "A",
         "interface_eu_test"
        ],
        [
         "62097",
         "0B859C13CDA8EB0D",
         "2020-12-07",
         "product_cart",
         null,
         "2020-12-07",
         "EU",
         "Android",
         "02:07:45",
         null,
         "A",
         "interface_eu_test"
        ],
        [
         "62127",
         "313B3B35A1EC0B53",
         "2020-12-07",
         "product_cart",
         null,
         "2020-12-07",
         "EU",
         "PC",
         "22:26:41",
         null,
         "A",
         "interface_eu_test"
        ],
        [
         "62163",
         "313626AE79B8504C",
         "2020-12-07",
         "product_cart",
         null,
         "2020-12-07",
         "EU",
         "PC",
         "13:37:01",
         null,
         "A",
         "interface_eu_test"
        ],
        [
         "62432",
         "C40DDE88F1919245",
         "2020-12-07",
         "product_cart",
         null,
         "2020-12-07",
         "EU",
         "Mac",
         "12:03:45",
         null,
         "A",
         "interface_eu_test"
        ],
        [
         "62448",
         "D8BBCEFEAE94FDC9",
         "2020-12-07",
         "product_cart",
         null,
         "2020-12-07",
         "EU",
         "iPhone",
         "08:14:55",
         null,
         "A",
         "interface_eu_test"
        ],
        [
         "62737",
         "831887FE7F2D6CBA",
         "2020-12-08",
         "product_cart",
         null,
         "2020-12-07",
         "EU",
         "Android",
         "10:52:27",
         null,
         "A",
         "recommender_system_test"
        ],
        [
         "62778",
         "8979D2EA0F10098F",
         "2020-12-08",
         "product_cart",
         null,
         "2020-12-07",
         "EU",
         "Android",
         "04:24:24",
         null,
         "A",
         "interface_eu_test"
        ],
        [
         "62828",
         "39FB64068022CECD",
         "2020-12-08",
         "product_cart",
         null,
         "2020-12-07",
         "EU",
         "iPhone",
         "10:08:58",
         null,
         "A",
         "interface_eu_test"
        ],
        [
         "62837",
         "1B19866D07353640",
         "2020-12-08",
         "product_cart",
         null,
         "2020-12-07",
         "EU",
         "PC",
         "03:09:28",
         null,
         "A",
         "recommender_system_test"
        ],
        [
         "62856",
         "6181F3835EBE66BF",
         "2020-12-08",
         "product_cart",
         null,
         "2020-12-07",
         "EU",
         "Android",
         "02:57:33",
         null,
         "A",
         "interface_eu_test"
        ],
        [
         "62900",
         "969D67AC3BA9DC52",
         "2020-12-08",
         "product_cart",
         null,
         "2020-12-07",
         "EU",
         "PC",
         "15:25:02",
         null,
         "A",
         "interface_eu_test"
        ],
        [
         "62963",
         "AD66CFCB7560D081",
         "2020-12-08",
         "product_cart",
         null,
         "2020-12-07",
         "EU",
         "Android",
         "06:54:02",
         null,
         "A",
         "interface_eu_test"
        ],
        [
         "63003",
         "47BDE1EA2CE9AFF4",
         "2020-12-08",
         "product_cart",
         null,
         "2020-12-07",
         "EU",
         "PC",
         "01:56:38",
         null,
         "A",
         "interface_eu_test"
        ],
        [
         "63039",
         "4C13B1595431A5E3",
         "2020-12-08",
         "product_cart",
         null,
         "2020-12-07",
         "EU",
         "PC",
         "18:48:47",
         null,
         "A",
         "interface_eu_test"
        ],
        [
         "63074",
         "BA37235798AA3A64",
         "2020-12-08",
         "product_cart",
         null,
         "2020-12-07",
         "EU",
         "iPhone",
         "11:03:15",
         null,
         "A",
         "interface_eu_test"
        ],
        [
         "63148",
         "F9B39A46A299971D",
         "2020-12-08",
         "product_cart",
         null,
         "2020-12-07",
         "EU",
         "PC",
         "06:30:14",
         null,
         "A",
         "recommender_system_test"
        ],
        [
         "63207",
         "0B859C13CDA8EB0D",
         "2020-12-08",
         "product_cart",
         null,
         "2020-12-07",
         "EU",
         "Android",
         "10:30:58",
         null,
         "A",
         "interface_eu_test"
        ]
       ],
       "shape": {
        "columns": 11,
        "rows": 14825
       }
      },
      "text/html": [
       "<div>\n",
       "<style scoped>\n",
       "    .dataframe tbody tr th:only-of-type {\n",
       "        vertical-align: middle;\n",
       "    }\n",
       "\n",
       "    .dataframe tbody tr th {\n",
       "        vertical-align: top;\n",
       "    }\n",
       "\n",
       "    .dataframe thead th {\n",
       "        text-align: right;\n",
       "    }\n",
       "</style>\n",
       "<table border=\"1\" class=\"dataframe\">\n",
       "  <thead>\n",
       "    <tr style=\"text-align: right;\">\n",
       "      <th></th>\n",
       "      <th>user_id</th>\n",
       "      <th>event_dt</th>\n",
       "      <th>event_name</th>\n",
       "      <th>details</th>\n",
       "      <th>first_date</th>\n",
       "      <th>region</th>\n",
       "      <th>device</th>\n",
       "      <th>event_tm</th>\n",
       "      <th>mkt_event_name</th>\n",
       "      <th>group</th>\n",
       "      <th>ab_test</th>\n",
       "    </tr>\n",
       "  </thead>\n",
       "  <tbody>\n",
       "    <tr>\n",
       "      <th>41</th>\n",
       "      <td>F2BE35774F63059B</td>\n",
       "      <td>2020-12-07</td>\n",
       "      <td>purchase</td>\n",
       "      <td>4.99</td>\n",
       "      <td>2020-12-07</td>\n",
       "      <td>EU</td>\n",
       "      <td>Android</td>\n",
       "      <td>05:23:18</td>\n",
       "      <td>&lt;NA&gt;</td>\n",
       "      <td>A</td>\n",
       "      <td>interface_eu_test</td>\n",
       "    </tr>\n",
       "    <tr>\n",
       "      <th>271</th>\n",
       "      <td>F80C9BDDEA02E53C</td>\n",
       "      <td>2020-12-07</td>\n",
       "      <td>purchase</td>\n",
       "      <td>4.99</td>\n",
       "      <td>2020-12-07</td>\n",
       "      <td>EU</td>\n",
       "      <td>iPhone</td>\n",
       "      <td>10:05:54</td>\n",
       "      <td>&lt;NA&gt;</td>\n",
       "      <td>A</td>\n",
       "      <td>interface_eu_test</td>\n",
       "    </tr>\n",
       "    <tr>\n",
       "      <th>523</th>\n",
       "      <td>F0715ADC532E14B4</td>\n",
       "      <td>2020-12-07</td>\n",
       "      <td>purchase</td>\n",
       "      <td>4.99</td>\n",
       "      <td>2020-12-07</td>\n",
       "      <td>EU</td>\n",
       "      <td>Android</td>\n",
       "      <td>01:57:58</td>\n",
       "      <td>&lt;NA&gt;</td>\n",
       "      <td>A</td>\n",
       "      <td>interface_eu_test</td>\n",
       "    </tr>\n",
       "    <tr>\n",
       "      <th>777</th>\n",
       "      <td>8FF91E21E27A330D</td>\n",
       "      <td>2020-12-07</td>\n",
       "      <td>purchase</td>\n",
       "      <td>4.99</td>\n",
       "      <td>2020-12-07</td>\n",
       "      <td>EU</td>\n",
       "      <td>Mac</td>\n",
       "      <td>01:57:30</td>\n",
       "      <td>&lt;NA&gt;</td>\n",
       "      <td>A</td>\n",
       "      <td>interface_eu_test</td>\n",
       "    </tr>\n",
       "    <tr>\n",
       "      <th>971</th>\n",
       "      <td>0BA0B65F1B8C19F9</td>\n",
       "      <td>2020-12-07</td>\n",
       "      <td>purchase</td>\n",
       "      <td>4.99</td>\n",
       "      <td>2020-12-07</td>\n",
       "      <td>EU</td>\n",
       "      <td>Mac</td>\n",
       "      <td>04:42:52</td>\n",
       "      <td>&lt;NA&gt;</td>\n",
       "      <td>A</td>\n",
       "      <td>interface_eu_test</td>\n",
       "    </tr>\n",
       "    <tr>\n",
       "      <th>...</th>\n",
       "      <td>...</td>\n",
       "      <td>...</td>\n",
       "      <td>...</td>\n",
       "      <td>...</td>\n",
       "      <td>...</td>\n",
       "      <td>...</td>\n",
       "      <td>...</td>\n",
       "      <td>...</td>\n",
       "      <td>...</td>\n",
       "      <td>...</td>\n",
       "      <td>...</td>\n",
       "    </tr>\n",
       "    <tr>\n",
       "      <th>429393</th>\n",
       "      <td>E5589EAE02ACD150</td>\n",
       "      <td>2020-12-29</td>\n",
       "      <td>login</td>\n",
       "      <td>&lt;NA&gt;</td>\n",
       "      <td>2020-12-20</td>\n",
       "      <td>EU</td>\n",
       "      <td>Mac</td>\n",
       "      <td>22:17:08</td>\n",
       "      <td>Christmas_New_Year_Promo</td>\n",
       "      <td>A</td>\n",
       "      <td>recommender_system_test</td>\n",
       "    </tr>\n",
       "    <tr>\n",
       "      <th>429396</th>\n",
       "      <td>D21F0D4FDCD82DB2</td>\n",
       "      <td>2020-12-29</td>\n",
       "      <td>login</td>\n",
       "      <td>&lt;NA&gt;</td>\n",
       "      <td>2020-12-20</td>\n",
       "      <td>EU</td>\n",
       "      <td>iPhone</td>\n",
       "      <td>02:17:00</td>\n",
       "      <td>Christmas_New_Year_Promo</td>\n",
       "      <td>A</td>\n",
       "      <td>recommender_system_test</td>\n",
       "    </tr>\n",
       "    <tr>\n",
       "      <th>429407</th>\n",
       "      <td>C15DC7DF26A3300D</td>\n",
       "      <td>2020-12-29</td>\n",
       "      <td>login</td>\n",
       "      <td>&lt;NA&gt;</td>\n",
       "      <td>2020-12-20</td>\n",
       "      <td>EU</td>\n",
       "      <td>Android</td>\n",
       "      <td>02:57:31</td>\n",
       "      <td>Christmas_New_Year_Promo</td>\n",
       "      <td>A</td>\n",
       "      <td>interface_eu_test</td>\n",
       "    </tr>\n",
       "    <tr>\n",
       "      <th>429411</th>\n",
       "      <td>BCEC881B3C573B2B</td>\n",
       "      <td>2020-12-29</td>\n",
       "      <td>login</td>\n",
       "      <td>&lt;NA&gt;</td>\n",
       "      <td>2020-12-20</td>\n",
       "      <td>EU</td>\n",
       "      <td>PC</td>\n",
       "      <td>08:17:16</td>\n",
       "      <td>Christmas_New_Year_Promo</td>\n",
       "      <td>A</td>\n",
       "      <td>interface_eu_test</td>\n",
       "    </tr>\n",
       "    <tr>\n",
       "      <th>429440</th>\n",
       "      <td>DD4352CDCF8C3D57</td>\n",
       "      <td>2020-12-30</td>\n",
       "      <td>login</td>\n",
       "      <td>&lt;NA&gt;</td>\n",
       "      <td>2020-12-07</td>\n",
       "      <td>EU</td>\n",
       "      <td>Android</td>\n",
       "      <td>12:42:56</td>\n",
       "      <td>Christmas_New_Year_Promo</td>\n",
       "      <td>A</td>\n",
       "      <td>interface_eu_test</td>\n",
       "    </tr>\n",
       "  </tbody>\n",
       "</table>\n",
       "<p>14825 rows × 11 columns</p>\n",
       "</div>"
      ],
      "text/plain": [
       "                 user_id    event_dt event_name details  first_date region  \\\n",
       "41      F2BE35774F63059B  2020-12-07   purchase    4.99  2020-12-07     EU   \n",
       "271     F80C9BDDEA02E53C  2020-12-07   purchase    4.99  2020-12-07     EU   \n",
       "523     F0715ADC532E14B4  2020-12-07   purchase    4.99  2020-12-07     EU   \n",
       "777     8FF91E21E27A330D  2020-12-07   purchase    4.99  2020-12-07     EU   \n",
       "971     0BA0B65F1B8C19F9  2020-12-07   purchase    4.99  2020-12-07     EU   \n",
       "...                  ...         ...        ...     ...         ...    ...   \n",
       "429393  E5589EAE02ACD150  2020-12-29      login    <NA>  2020-12-20     EU   \n",
       "429396  D21F0D4FDCD82DB2  2020-12-29      login    <NA>  2020-12-20     EU   \n",
       "429407  C15DC7DF26A3300D  2020-12-29      login    <NA>  2020-12-20     EU   \n",
       "429411  BCEC881B3C573B2B  2020-12-29      login    <NA>  2020-12-20     EU   \n",
       "429440  DD4352CDCF8C3D57  2020-12-30      login    <NA>  2020-12-07     EU   \n",
       "\n",
       "         device  event_tm            mkt_event_name group  \\\n",
       "41      Android  05:23:18                      <NA>     A   \n",
       "271      iPhone  10:05:54                      <NA>     A   \n",
       "523     Android  01:57:58                      <NA>     A   \n",
       "777         Mac  01:57:30                      <NA>     A   \n",
       "971         Mac  04:42:52                      <NA>     A   \n",
       "...         ...       ...                       ...   ...   \n",
       "429393      Mac  22:17:08  Christmas_New_Year_Promo     A   \n",
       "429396   iPhone  02:17:00  Christmas_New_Year_Promo     A   \n",
       "429407  Android  02:57:31  Christmas_New_Year_Promo     A   \n",
       "429411       PC  08:17:16  Christmas_New_Year_Promo     A   \n",
       "429440  Android  12:42:56  Christmas_New_Year_Promo     A   \n",
       "\n",
       "                        ab_test  \n",
       "41            interface_eu_test  \n",
       "271           interface_eu_test  \n",
       "523           interface_eu_test  \n",
       "777           interface_eu_test  \n",
       "971           interface_eu_test  \n",
       "...                         ...  \n",
       "429393  recommender_system_test  \n",
       "429396  recommender_system_test  \n",
       "429407        interface_eu_test  \n",
       "429411        interface_eu_test  \n",
       "429440        interface_eu_test  \n",
       "\n",
       "[14825 rows x 11 columns]"
      ]
     },
     "execution_count": 45,
     "metadata": {},
     "output_type": "execute_result"
    }
   ],
   "source": [
    "# Get data by groups\n",
    "df_users_group_a = df_users_testAB.loc[(df_users['group'] == 'A'), :]\n",
    "df_users_group_a"
   ]
  },
  {
   "cell_type": "code",
   "execution_count": 46,
   "id": "f4f16ea6",
   "metadata": {},
   "outputs": [
    {
     "data": {
      "application/vnd.microsoft.datawrangler.viewer.v0+json": {
       "columns": [
        {
         "name": "index",
         "rawType": "int64",
         "type": "integer"
        },
        {
         "name": "user_id",
         "rawType": "object",
         "type": "string"
        },
        {
         "name": "event_dt",
         "rawType": "object",
         "type": "unknown"
        },
        {
         "name": "event_name",
         "rawType": "category",
         "type": "unknown"
        },
        {
         "name": "details",
         "rawType": "object",
         "type": "unknown"
        },
        {
         "name": "first_date",
         "rawType": "object",
         "type": "unknown"
        },
        {
         "name": "region",
         "rawType": "category",
         "type": "unknown"
        },
        {
         "name": "device",
         "rawType": "category",
         "type": "unknown"
        },
        {
         "name": "event_tm",
         "rawType": "object",
         "type": "unknown"
        },
        {
         "name": "mkt_event_name",
         "rawType": "object",
         "type": "unknown"
        },
        {
         "name": "group",
         "rawType": "category",
         "type": "unknown"
        },
        {
         "name": "ab_test",
         "rawType": "category",
         "type": "unknown"
        }
       ],
       "ref": "2cb89bf4-f6ea-4f50-8792-c6e9d0a5c60d",
       "rows": [
        [
         "88",
         "392C03684E704CB3",
         "2020-12-07",
         "purchase",
         "4.99",
         "2020-12-07",
         "EU",
         "PC",
         "09:45:50",
         null,
         "B",
         "interface_eu_test"
        ],
        [
         "128",
         "406CD606E407DF53",
         "2020-12-07",
         "purchase",
         "4.99",
         "2020-12-07",
         "EU",
         "iPhone",
         "05:12:23",
         null,
         "B",
         "interface_eu_test"
        ],
        [
         "134",
         "A4145A2EA1E17654",
         "2020-12-07",
         "purchase",
         "499.99",
         "2020-12-07",
         "EU",
         "PC",
         "16:15:16",
         null,
         "B",
         "interface_eu_test"
        ],
        [
         "158",
         "C7CB2F1BA42F102B",
         "2020-12-07",
         "purchase",
         "99.99",
         "2020-12-07",
         "EU",
         "iPhone",
         "03:05:05",
         null,
         "B",
         "recommender_system_test"
        ],
        [
         "682",
         "3242BDDFA690A22B",
         "2020-12-07",
         "purchase",
         "4.99",
         "2020-12-07",
         "EU",
         "Android",
         "18:10:54",
         null,
         "B",
         "recommender_system_test"
        ],
        [
         "683",
         "3242BDDFA690A22B",
         "2020-12-07",
         "purchase",
         "4.99",
         "2020-12-07",
         "EU",
         "Android",
         "18:10:54",
         null,
         "B",
         "interface_eu_test"
        ],
        [
         "776",
         "8FF91E21E27A330D",
         "2020-12-07",
         "purchase",
         "4.99",
         "2020-12-07",
         "EU",
         "Mac",
         "01:57:30",
         null,
         "B",
         "recommender_system_test"
        ],
        [
         "778",
         "A5392D494EB71414",
         "2020-12-07",
         "purchase",
         "4.99",
         "2020-12-07",
         "EU",
         "Android",
         "21:56:13",
         null,
         "B",
         "recommender_system_test"
        ],
        [
         "789",
         "E075F244F9C38300",
         "2020-12-07",
         "purchase",
         "4.99",
         "2020-12-07",
         "EU",
         "Android",
         "18:51:03",
         null,
         "B",
         "interface_eu_test"
        ],
        [
         "1100",
         "5101746915A54846",
         "2020-12-07",
         "purchase",
         "9.99",
         "2020-12-07",
         "EU",
         "Android",
         "22:58:36",
         null,
         "B",
         "interface_eu_test"
        ],
        [
         "1246",
         "1A1CD40C818C3D63",
         "2020-12-07",
         "purchase",
         "4.99",
         "2020-12-07",
         "EU",
         "Android",
         "15:28:31",
         null,
         "B",
         "interface_eu_test"
        ],
        [
         "1321",
         "C3C56A2DFF10BC79",
         "2020-12-07",
         "purchase",
         "4.99",
         "2020-12-07",
         "EU",
         "iPhone",
         "13:16:32",
         null,
         "B",
         "recommender_system_test"
        ],
        [
         "1345",
         "89143F0AEFE3B11D",
         "2020-12-07",
         "purchase",
         "4.99",
         "2020-12-07",
         "EU",
         "iPhone",
         "08:21:08",
         null,
         "B",
         "recommender_system_test"
        ],
        [
         "1436",
         "5FF8B6AB257B404F",
         "2020-12-07",
         "purchase",
         "4.99",
         "2020-12-07",
         "EU",
         "Android",
         "04:17:47",
         null,
         "B",
         "recommender_system_test"
        ],
        [
         "1439",
         "31D3ACEDBADC64C1",
         "2020-12-07",
         "purchase",
         "4.99",
         "2020-12-07",
         "EU",
         "PC",
         "12:01:39",
         null,
         "B",
         "interface_eu_test"
        ],
        [
         "1624",
         "F4C8BB8D1622FE87",
         "2020-12-07",
         "purchase",
         "4.99",
         "2020-12-07",
         "EU",
         "Android",
         "10:28:03",
         null,
         "B",
         "recommender_system_test"
        ],
        [
         "1625",
         "F4C8BB8D1622FE87",
         "2020-12-07",
         "purchase",
         "4.99",
         "2020-12-07",
         "EU",
         "Android",
         "10:28:03",
         null,
         "B",
         "interface_eu_test"
        ],
        [
         "1714",
         "8F283A6E36B5E729",
         "2020-12-08",
         "purchase",
         "9.99",
         "2020-12-07",
         "EU",
         "Android",
         "14:29:46",
         null,
         "B",
         "interface_eu_test"
        ],
        [
         "1743",
         "0997EC1C4850B27B",
         "2020-12-08",
         "purchase",
         "4.99",
         "2020-12-07",
         "EU",
         "Android",
         "04:04:59",
         null,
         "B",
         "recommender_system_test"
        ],
        [
         "1773",
         "23B81D2BE34127F7",
         "2020-12-08",
         "purchase",
         "4.99",
         "2020-12-07",
         "EU",
         "Mac",
         "23:28:27",
         null,
         "B",
         "interface_eu_test"
        ],
        [
         "1818",
         "CA507F1775988C55",
         "2020-12-08",
         "purchase",
         "4.99",
         "2020-12-07",
         "EU",
         "PC",
         "20:02:22",
         null,
         "B",
         "interface_eu_test"
        ],
        [
         "2266",
         "D689DF59790EFDE1",
         "2020-12-08",
         "purchase",
         "4.99",
         "2020-12-07",
         "EU",
         "iPhone",
         "05:41:06",
         null,
         "B",
         "interface_eu_test"
        ],
        [
         "61174",
         "204343649F72D01B",
         "2020-12-07",
         "product_cart",
         null,
         "2020-12-07",
         "EU",
         "Android",
         "02:20:57",
         null,
         "B",
         "recommender_system_test"
        ],
        [
         "61187",
         "74F3381FDDC32A42",
         "2020-12-07",
         "product_cart",
         null,
         "2020-12-07",
         "EU",
         "PC",
         "03:14:47",
         null,
         "B",
         "interface_eu_test"
        ],
        [
         "61210",
         "3B09CE0261E1E83A",
         "2020-12-07",
         "product_cart",
         null,
         "2020-12-07",
         "EU",
         "Android",
         "04:08:05",
         null,
         "B",
         "interface_eu_test"
        ],
        [
         "61325",
         "CE264232AC9049B8",
         "2020-12-07",
         "product_cart",
         null,
         "2020-12-07",
         "EU",
         "iPhone",
         "02:27:23",
         null,
         "B",
         "recommender_system_test"
        ],
        [
         "61326",
         "CE264232AC9049B8",
         "2020-12-07",
         "product_cart",
         null,
         "2020-12-07",
         "EU",
         "iPhone",
         "02:27:23",
         null,
         "B",
         "interface_eu_test"
        ],
        [
         "61333",
         "D92E10E9FF73324B",
         "2020-12-07",
         "product_cart",
         null,
         "2020-12-07",
         "EU",
         "Android",
         "04:41:40",
         null,
         "B",
         "interface_eu_test"
        ],
        [
         "61420",
         "8D1BF241FE801488",
         "2020-12-07",
         "product_cart",
         null,
         "2020-12-07",
         "EU",
         "PC",
         "14:52:42",
         null,
         "B",
         "interface_eu_test"
        ],
        [
         "61543",
         "4B7C59A60FE1DA69",
         "2020-12-07",
         "product_cart",
         null,
         "2020-12-07",
         "EU",
         "Android",
         "00:03:54",
         null,
         "B",
         "interface_eu_test"
        ],
        [
         "61555",
         "B43646C78D5D2666",
         "2020-12-07",
         "product_cart",
         null,
         "2020-12-07",
         "EU",
         "Android",
         "11:41:04",
         null,
         "B",
         "interface_eu_test"
        ],
        [
         "61693",
         "77E9AA34E09C1E09",
         "2020-12-07",
         "product_cart",
         null,
         "2020-12-07",
         "EU",
         "Android",
         "07:10:19",
         null,
         "B",
         "interface_eu_test"
        ],
        [
         "61868",
         "53664B9CC07DAEEC",
         "2020-12-07",
         "product_cart",
         null,
         "2020-12-07",
         "EU",
         "PC",
         "22:05:24",
         null,
         "B",
         "interface_eu_test"
        ],
        [
         "61872",
         "99AB8D2A6230A45A",
         "2020-12-07",
         "product_cart",
         null,
         "2020-12-07",
         "EU",
         "Android",
         "11:29:37",
         null,
         "B",
         "interface_eu_test"
        ],
        [
         "61875",
         "E379C074A8158033",
         "2020-12-07",
         "product_cart",
         null,
         "2020-12-07",
         "EU",
         "iPhone",
         "02:37:00",
         null,
         "B",
         "interface_eu_test"
        ],
        [
         "61876",
         "51278A006E918D97",
         "2020-12-07",
         "product_cart",
         null,
         "2020-12-07",
         "EU",
         "Android",
         "01:47:46",
         null,
         "B",
         "interface_eu_test"
        ],
        [
         "61965",
         "29F21B1D6ECA38C8",
         "2020-12-07",
         "product_cart",
         null,
         "2020-12-07",
         "EU",
         "PC",
         "03:56:27",
         null,
         "B",
         "recommender_system_test"
        ],
        [
         "62031",
         "8ED570D77B48B59D",
         "2020-12-07",
         "product_cart",
         null,
         "2020-12-07",
         "EU",
         "Android",
         "13:17:19",
         null,
         "B",
         "interface_eu_test"
        ],
        [
         "62037",
         "AB6EDCE2868D685B",
         "2020-12-07",
         "product_cart",
         null,
         "2020-12-07",
         "EU",
         "Mac",
         "09:58:26",
         null,
         "B",
         "interface_eu_test"
        ],
        [
         "62099",
         "DEC8CD55F35F2087",
         "2020-12-07",
         "product_cart",
         null,
         "2020-12-07",
         "EU",
         "Android",
         "10:09:38",
         null,
         "B",
         "recommender_system_test"
        ],
        [
         "62305",
         "021F6BB32D1DCA0D",
         "2020-12-07",
         "product_cart",
         null,
         "2020-12-07",
         "EU",
         "Android",
         "15:54:29",
         null,
         "B",
         "interface_eu_test"
        ],
        [
         "62339",
         "A3F5E027EBCAAEAD",
         "2020-12-07",
         "product_cart",
         null,
         "2020-12-07",
         "EU",
         "iPhone",
         "17:42:32",
         null,
         "B",
         "interface_eu_test"
        ],
        [
         "62433",
         "8FCA593F7D87FECA",
         "2020-12-07",
         "product_cart",
         null,
         "2020-12-07",
         "EU",
         "Android",
         "01:56:17",
         null,
         "B",
         "interface_eu_test"
        ],
        [
         "62710",
         "E26F6F9D25C92A40",
         "2020-12-07",
         "product_cart",
         null,
         "2020-12-07",
         "EU",
         "Android",
         "05:04:46",
         null,
         "B",
         "interface_eu_test"
        ],
        [
         "62767",
         "736990A3BC742A65",
         "2020-12-08",
         "product_cart",
         null,
         "2020-12-07",
         "CIS",
         "Android",
         "20:38:09",
         null,
         "B",
         "recommender_system_test"
        ],
        [
         "62838",
         "D92E10E9FF73324B",
         "2020-12-08",
         "product_cart",
         null,
         "2020-12-07",
         "EU",
         "Android",
         "22:15:14",
         null,
         "B",
         "interface_eu_test"
        ],
        [
         "62920",
         "8B480AD647CE1BDE",
         "2020-12-08",
         "product_cart",
         null,
         "2020-12-07",
         "EU",
         "Android",
         "19:03:02",
         null,
         "B",
         "recommender_system_test"
        ],
        [
         "62940",
         "B43646C78D5D2666",
         "2020-12-08",
         "product_cart",
         null,
         "2020-12-07",
         "EU",
         "Android",
         "17:59:57",
         null,
         "B",
         "interface_eu_test"
        ],
        [
         "62985",
         "C8890C4D6F31A3E9",
         "2020-12-08",
         "product_cart",
         null,
         "2020-12-07",
         "EU",
         "Android",
         "07:55:35",
         null,
         "B",
         "interface_eu_test"
        ],
        [
         "63045",
         "F057A0C8EFECDBEE",
         "2020-12-08",
         "product_cart",
         null,
         "2020-12-07",
         "EU",
         "Android",
         "04:26:44",
         null,
         "B",
         "recommender_system_test"
        ]
       ],
       "shape": {
        "columns": 11,
        "rows": 11583
       }
      },
      "text/html": [
       "<div>\n",
       "<style scoped>\n",
       "    .dataframe tbody tr th:only-of-type {\n",
       "        vertical-align: middle;\n",
       "    }\n",
       "\n",
       "    .dataframe tbody tr th {\n",
       "        vertical-align: top;\n",
       "    }\n",
       "\n",
       "    .dataframe thead th {\n",
       "        text-align: right;\n",
       "    }\n",
       "</style>\n",
       "<table border=\"1\" class=\"dataframe\">\n",
       "  <thead>\n",
       "    <tr style=\"text-align: right;\">\n",
       "      <th></th>\n",
       "      <th>user_id</th>\n",
       "      <th>event_dt</th>\n",
       "      <th>event_name</th>\n",
       "      <th>details</th>\n",
       "      <th>first_date</th>\n",
       "      <th>region</th>\n",
       "      <th>device</th>\n",
       "      <th>event_tm</th>\n",
       "      <th>mkt_event_name</th>\n",
       "      <th>group</th>\n",
       "      <th>ab_test</th>\n",
       "    </tr>\n",
       "  </thead>\n",
       "  <tbody>\n",
       "    <tr>\n",
       "      <th>88</th>\n",
       "      <td>392C03684E704CB3</td>\n",
       "      <td>2020-12-07</td>\n",
       "      <td>purchase</td>\n",
       "      <td>4.99</td>\n",
       "      <td>2020-12-07</td>\n",
       "      <td>EU</td>\n",
       "      <td>PC</td>\n",
       "      <td>09:45:50</td>\n",
       "      <td>&lt;NA&gt;</td>\n",
       "      <td>B</td>\n",
       "      <td>interface_eu_test</td>\n",
       "    </tr>\n",
       "    <tr>\n",
       "      <th>128</th>\n",
       "      <td>406CD606E407DF53</td>\n",
       "      <td>2020-12-07</td>\n",
       "      <td>purchase</td>\n",
       "      <td>4.99</td>\n",
       "      <td>2020-12-07</td>\n",
       "      <td>EU</td>\n",
       "      <td>iPhone</td>\n",
       "      <td>05:12:23</td>\n",
       "      <td>&lt;NA&gt;</td>\n",
       "      <td>B</td>\n",
       "      <td>interface_eu_test</td>\n",
       "    </tr>\n",
       "    <tr>\n",
       "      <th>134</th>\n",
       "      <td>A4145A2EA1E17654</td>\n",
       "      <td>2020-12-07</td>\n",
       "      <td>purchase</td>\n",
       "      <td>499.99</td>\n",
       "      <td>2020-12-07</td>\n",
       "      <td>EU</td>\n",
       "      <td>PC</td>\n",
       "      <td>16:15:16</td>\n",
       "      <td>&lt;NA&gt;</td>\n",
       "      <td>B</td>\n",
       "      <td>interface_eu_test</td>\n",
       "    </tr>\n",
       "    <tr>\n",
       "      <th>158</th>\n",
       "      <td>C7CB2F1BA42F102B</td>\n",
       "      <td>2020-12-07</td>\n",
       "      <td>purchase</td>\n",
       "      <td>99.99</td>\n",
       "      <td>2020-12-07</td>\n",
       "      <td>EU</td>\n",
       "      <td>iPhone</td>\n",
       "      <td>03:05:05</td>\n",
       "      <td>&lt;NA&gt;</td>\n",
       "      <td>B</td>\n",
       "      <td>recommender_system_test</td>\n",
       "    </tr>\n",
       "    <tr>\n",
       "      <th>682</th>\n",
       "      <td>3242BDDFA690A22B</td>\n",
       "      <td>2020-12-07</td>\n",
       "      <td>purchase</td>\n",
       "      <td>4.99</td>\n",
       "      <td>2020-12-07</td>\n",
       "      <td>EU</td>\n",
       "      <td>Android</td>\n",
       "      <td>18:10:54</td>\n",
       "      <td>&lt;NA&gt;</td>\n",
       "      <td>B</td>\n",
       "      <td>recommender_system_test</td>\n",
       "    </tr>\n",
       "    <tr>\n",
       "      <th>...</th>\n",
       "      <td>...</td>\n",
       "      <td>...</td>\n",
       "      <td>...</td>\n",
       "      <td>...</td>\n",
       "      <td>...</td>\n",
       "      <td>...</td>\n",
       "      <td>...</td>\n",
       "      <td>...</td>\n",
       "      <td>...</td>\n",
       "      <td>...</td>\n",
       "      <td>...</td>\n",
       "    </tr>\n",
       "    <tr>\n",
       "      <th>429369</th>\n",
       "      <td>98DEF9BB002BA9E3</td>\n",
       "      <td>2020-12-29</td>\n",
       "      <td>login</td>\n",
       "      <td>&lt;NA&gt;</td>\n",
       "      <td>2020-12-20</td>\n",
       "      <td>EU</td>\n",
       "      <td>iPhone</td>\n",
       "      <td>13:16:10</td>\n",
       "      <td>Christmas_New_Year_Promo</td>\n",
       "      <td>B</td>\n",
       "      <td>interface_eu_test</td>\n",
       "    </tr>\n",
       "    <tr>\n",
       "      <th>429378</th>\n",
       "      <td>8B02FD26DBC4FDE3</td>\n",
       "      <td>2020-12-29</td>\n",
       "      <td>login</td>\n",
       "      <td>&lt;NA&gt;</td>\n",
       "      <td>2020-12-20</td>\n",
       "      <td>EU</td>\n",
       "      <td>PC</td>\n",
       "      <td>10:29:02</td>\n",
       "      <td>Christmas_New_Year_Promo</td>\n",
       "      <td>B</td>\n",
       "      <td>interface_eu_test</td>\n",
       "    </tr>\n",
       "    <tr>\n",
       "      <th>429432</th>\n",
       "      <td>8CE3B6FD918462B4</td>\n",
       "      <td>2020-12-29</td>\n",
       "      <td>login</td>\n",
       "      <td>&lt;NA&gt;</td>\n",
       "      <td>2020-12-20</td>\n",
       "      <td>EU</td>\n",
       "      <td>PC</td>\n",
       "      <td>17:55:44</td>\n",
       "      <td>Christmas_New_Year_Promo</td>\n",
       "      <td>B</td>\n",
       "      <td>interface_eu_test</td>\n",
       "    </tr>\n",
       "    <tr>\n",
       "      <th>429438</th>\n",
       "      <td>2C29721DDDA76B2A</td>\n",
       "      <td>2020-12-29</td>\n",
       "      <td>login</td>\n",
       "      <td>&lt;NA&gt;</td>\n",
       "      <td>2020-12-20</td>\n",
       "      <td>EU</td>\n",
       "      <td>iPhone</td>\n",
       "      <td>05:58:20</td>\n",
       "      <td>Christmas_New_Year_Promo</td>\n",
       "      <td>B</td>\n",
       "      <td>interface_eu_test</td>\n",
       "    </tr>\n",
       "    <tr>\n",
       "      <th>429439</th>\n",
       "      <td>DD4352CDCF8C3D57</td>\n",
       "      <td>2020-12-30</td>\n",
       "      <td>login</td>\n",
       "      <td>&lt;NA&gt;</td>\n",
       "      <td>2020-12-07</td>\n",
       "      <td>EU</td>\n",
       "      <td>Android</td>\n",
       "      <td>12:42:56</td>\n",
       "      <td>Christmas_New_Year_Promo</td>\n",
       "      <td>B</td>\n",
       "      <td>recommender_system_test</td>\n",
       "    </tr>\n",
       "  </tbody>\n",
       "</table>\n",
       "<p>11583 rows × 11 columns</p>\n",
       "</div>"
      ],
      "text/plain": [
       "                 user_id    event_dt event_name details  first_date region  \\\n",
       "88      392C03684E704CB3  2020-12-07   purchase    4.99  2020-12-07     EU   \n",
       "128     406CD606E407DF53  2020-12-07   purchase    4.99  2020-12-07     EU   \n",
       "134     A4145A2EA1E17654  2020-12-07   purchase  499.99  2020-12-07     EU   \n",
       "158     C7CB2F1BA42F102B  2020-12-07   purchase   99.99  2020-12-07     EU   \n",
       "682     3242BDDFA690A22B  2020-12-07   purchase    4.99  2020-12-07     EU   \n",
       "...                  ...         ...        ...     ...         ...    ...   \n",
       "429369  98DEF9BB002BA9E3  2020-12-29      login    <NA>  2020-12-20     EU   \n",
       "429378  8B02FD26DBC4FDE3  2020-12-29      login    <NA>  2020-12-20     EU   \n",
       "429432  8CE3B6FD918462B4  2020-12-29      login    <NA>  2020-12-20     EU   \n",
       "429438  2C29721DDDA76B2A  2020-12-29      login    <NA>  2020-12-20     EU   \n",
       "429439  DD4352CDCF8C3D57  2020-12-30      login    <NA>  2020-12-07     EU   \n",
       "\n",
       "         device  event_tm            mkt_event_name group  \\\n",
       "88           PC  09:45:50                      <NA>     B   \n",
       "128      iPhone  05:12:23                      <NA>     B   \n",
       "134          PC  16:15:16                      <NA>     B   \n",
       "158      iPhone  03:05:05                      <NA>     B   \n",
       "682     Android  18:10:54                      <NA>     B   \n",
       "...         ...       ...                       ...   ...   \n",
       "429369   iPhone  13:16:10  Christmas_New_Year_Promo     B   \n",
       "429378       PC  10:29:02  Christmas_New_Year_Promo     B   \n",
       "429432       PC  17:55:44  Christmas_New_Year_Promo     B   \n",
       "429438   iPhone  05:58:20  Christmas_New_Year_Promo     B   \n",
       "429439  Android  12:42:56  Christmas_New_Year_Promo     B   \n",
       "\n",
       "                        ab_test  \n",
       "88            interface_eu_test  \n",
       "128           interface_eu_test  \n",
       "134           interface_eu_test  \n",
       "158     recommender_system_test  \n",
       "682     recommender_system_test  \n",
       "...                         ...  \n",
       "429369        interface_eu_test  \n",
       "429378        interface_eu_test  \n",
       "429432        interface_eu_test  \n",
       "429438        interface_eu_test  \n",
       "429439  recommender_system_test  \n",
       "\n",
       "[11583 rows x 11 columns]"
      ]
     },
     "execution_count": 46,
     "metadata": {},
     "output_type": "execute_result"
    }
   ],
   "source": [
    "df_users_group_b = df_users_testAB.loc[(df_users['group'] == 'B'), :]\n",
    "df_users_group_b"
   ]
  },
  {
   "cell_type": "markdown",
   "id": "3380c768",
   "metadata": {},
   "source": [
    "#### **7.3** A/A Test\n",
    "An AA test consists of randomly dividing users into two groups (A1 and A2), without applying any differentiation between them. Both groups receive the same experience, interface, recommendations, etc.   \n",
    "\n",
    "AA Test Objective:   \n",
    "- Randomly divide users into two groups: AA1 and AA2\n",
    "- Do not apply any differences between them\n",
    "- Verify that the funnel metrics (login → product_page → product_cart → purchase) are statistically equivalent\n",
    "- Detect bias, noise, or assignment errors before introducing changes"
   ]
  },
  {
   "cell_type": "markdown",
   "id": "d9d4cd12",
   "metadata": {},
   "source": [
    "**7.3.1** AA group segmentation"
   ]
  },
  {
   "cell_type": "code",
   "execution_count": 64,
   "id": "c89f7e89",
   "metadata": {},
   "outputs": [
    {
     "data": {
      "application/vnd.microsoft.datawrangler.viewer.v0+json": {
       "columns": [
        {
         "name": "index",
         "rawType": "int64",
         "type": "integer"
        },
        {
         "name": "user_id",
         "rawType": "object",
         "type": "string"
        },
        {
         "name": "event_dt",
         "rawType": "object",
         "type": "unknown"
        },
        {
         "name": "event_name",
         "rawType": "category",
         "type": "unknown"
        },
        {
         "name": "details",
         "rawType": "object",
         "type": "unknown"
        },
        {
         "name": "first_date",
         "rawType": "object",
         "type": "unknown"
        },
        {
         "name": "region",
         "rawType": "category",
         "type": "unknown"
        },
        {
         "name": "device",
         "rawType": "category",
         "type": "unknown"
        },
        {
         "name": "event_tm",
         "rawType": "object",
         "type": "unknown"
        },
        {
         "name": "mkt_event_name",
         "rawType": "object",
         "type": "unknown"
        },
        {
         "name": "group",
         "rawType": "category",
         "type": "unknown"
        },
        {
         "name": "ab_test",
         "rawType": "category",
         "type": "unknown"
        }
       ],
       "ref": "548fc4a2-0d35-4284-923f-8ba9b20b7b36",
       "rows": [
        [
         "0",
         "0002CE61FF2C4011",
         "2020-12-08",
         "product_page",
         null,
         "2020-12-07",
         "EU",
         "Mac",
         "22:14:19",
         null,
         "A",
         "interface_eu_test"
        ],
        [
         "1",
         "0002CE61FF2C4011",
         "2020-12-08",
         "product_cart",
         null,
         "2020-12-07",
         "EU",
         "Mac",
         "22:14:20",
         null,
         "A",
         "interface_eu_test"
        ],
        [
         "2",
         "0002CE61FF2C4011",
         "2020-12-08",
         "login",
         null,
         "2020-12-07",
         "EU",
         "Mac",
         "22:14:18",
         null,
         "A",
         "interface_eu_test"
        ],
        [
         "3",
         "003346BB64227D0C",
         "2020-12-19",
         "login",
         null,
         "2020-12-17",
         "EU",
         "Android",
         "22:46:58",
         null,
         "A",
         "interface_eu_test"
        ],
        [
         "4",
         "003346BB64227D0C",
         "2020-12-24",
         "login",
         null,
         "2020-12-17",
         "EU",
         "Android",
         "11:28:16",
         null,
         "A",
         "interface_eu_test"
        ],
        [
         "5",
         "003346BB64227D0C",
         "2020-12-17",
         "login",
         null,
         "2020-12-17",
         "EU",
         "Android",
         "05:24:01",
         null,
         "A",
         "interface_eu_test"
        ],
        [
         "6",
         "00341D8401F0F665",
         "2020-12-24",
         "login",
         null,
         "2020-12-21",
         "EU",
         "iPhone",
         "12:16:01",
         null,
         "A",
         "recommender_system_test"
        ],
        [
         "7",
         "00341D8401F0F665",
         "2020-12-24",
         "login",
         null,
         "2020-12-21",
         "EU",
         "iPhone",
         "12:16:01",
         null,
         "A",
         "interface_eu_test"
        ],
        [
         "8",
         "00341D8401F0F665",
         "2020-12-21",
         "login",
         null,
         "2020-12-21",
         "EU",
         "iPhone",
         "11:14:50",
         null,
         "A",
         "interface_eu_test"
        ],
        [
         "9",
         "00341D8401F0F665",
         "2020-12-21",
         "login",
         null,
         "2020-12-21",
         "EU",
         "iPhone",
         "11:14:50",
         null,
         "A",
         "recommender_system_test"
        ],
        [
         "10",
         "00505E15A9D81546",
         "2020-12-15",
         "login",
         null,
         "2020-12-14",
         "EU",
         "Mac",
         "05:35:34",
         null,
         "A",
         "recommender_system_test"
        ],
        [
         "11",
         "00505E15A9D81546",
         "2020-12-22",
         "login",
         null,
         "2020-12-14",
         "EU",
         "Mac",
         "06:12:31",
         null,
         "A",
         "recommender_system_test"
        ],
        [
         "12",
         "00505E15A9D81546",
         "2020-12-14",
         "login",
         null,
         "2020-12-14",
         "EU",
         "Mac",
         "17:28:32",
         null,
         "A",
         "recommender_system_test"
        ],
        [
         "13",
         "00505E15A9D81546",
         "2020-12-16",
         "login",
         null,
         "2020-12-14",
         "EU",
         "Mac",
         "23:35:36",
         null,
         "A",
         "recommender_system_test"
        ],
        [
         "14",
         "00505E15A9D81546",
         "2020-12-19",
         "login",
         null,
         "2020-12-14",
         "EU",
         "Mac",
         "17:41:56",
         null,
         "A",
         "recommender_system_test"
        ],
        [
         "15",
         "006E3E4E232CE760",
         "2020-12-18",
         "product_page",
         null,
         "2020-12-17",
         "EU",
         "Android",
         "23:06:33",
         null,
         "A",
         "recommender_system_test"
        ],
        [
         "16",
         "006E3E4E232CE760",
         "2020-12-17",
         "login",
         null,
         "2020-12-17",
         "EU",
         "Android",
         "16:40:41",
         null,
         "A",
         "recommender_system_test"
        ],
        [
         "17",
         "006E3E4E232CE760",
         "2020-12-18",
         "login",
         null,
         "2020-12-17",
         "EU",
         "Android",
         "23:06:30",
         null,
         "A",
         "recommender_system_test"
        ],
        [
         "18",
         "006E3E4E232CE760",
         "2020-12-17",
         "product_page",
         null,
         "2020-12-17",
         "EU",
         "Android",
         "16:40:42",
         null,
         "A",
         "recommender_system_test"
        ],
        [
         "19",
         "00A29C54C162D2CF",
         "2020-12-20",
         "login",
         null,
         "2020-12-20",
         "EU",
         "PC",
         "22:31:17",
         null,
         "A",
         "interface_eu_test"
        ],
        [
         "20",
         "00A29C54C162D2CF",
         "2020-12-21",
         "login",
         null,
         "2020-12-20",
         "EU",
         "PC",
         "11:18:20",
         null,
         "A",
         "interface_eu_test"
        ],
        [
         "21",
         "00A52DCF85F1BE03",
         "2020-12-21",
         "login",
         null,
         "2020-12-20",
         "EU",
         "Android",
         "17:58:54",
         null,
         "A",
         "recommender_system_test"
        ],
        [
         "22",
         "00A52DCF85F1BE03",
         "2020-12-20",
         "login",
         null,
         "2020-12-20",
         "EU",
         "Android",
         "06:41:11",
         null,
         "A",
         "recommender_system_test"
        ],
        [
         "23",
         "00B45E6226F03553",
         "2020-12-14",
         "login",
         null,
         "2020-12-14",
         "EU",
         "Android",
         "06:00:44",
         null,
         "A",
         "interface_eu_test"
        ],
        [
         "24",
         "00B45E6226F03553",
         "2020-12-19",
         "login",
         null,
         "2020-12-14",
         "EU",
         "Android",
         "06:13:35",
         null,
         "A",
         "interface_eu_test"
        ],
        [
         "25",
         "00B45E6226F03553",
         "2020-12-15",
         "login",
         null,
         "2020-12-14",
         "EU",
         "Android",
         "21:16:12",
         null,
         "A",
         "interface_eu_test"
        ],
        [
         "26",
         "00C2BA76985336C1",
         "2020-12-13",
         "login",
         null,
         "2020-12-12",
         "EU",
         "PC",
         "08:28:17",
         null,
         "A",
         "interface_eu_test"
        ],
        [
         "27",
         "00C2BA76985336C1",
         "2020-12-15",
         "login",
         null,
         "2020-12-12",
         "EU",
         "PC",
         "05:26:59",
         null,
         "A",
         "interface_eu_test"
        ],
        [
         "28",
         "00C2BA76985336C1",
         "2020-12-12",
         "login",
         null,
         "2020-12-12",
         "EU",
         "PC",
         "15:56:42",
         null,
         "A",
         "interface_eu_test"
        ],
        [
         "29",
         "00C2BA76985336C1",
         "2020-12-20",
         "login",
         null,
         "2020-12-12",
         "EU",
         "PC",
         "01:54:34",
         null,
         "A",
         "interface_eu_test"
        ],
        [
         "30",
         "00D627B7002B66CB",
         "2020-12-18",
         "login",
         null,
         "2020-12-17",
         "EU",
         "Android",
         "21:51:59",
         null,
         "A",
         "interface_eu_test"
        ],
        [
         "31",
         "00D627B7002B66CB",
         "2020-12-17",
         "login",
         null,
         "2020-12-17",
         "EU",
         "Android",
         "07:03:57",
         null,
         "A",
         "interface_eu_test"
        ],
        [
         "32",
         "00D627B7002B66CB",
         "2020-12-18",
         "product_page",
         null,
         "2020-12-17",
         "EU",
         "Android",
         "21:52:00",
         null,
         "A",
         "interface_eu_test"
        ],
        [
         "33",
         "00D627B7002B66CB",
         "2020-12-17",
         "product_page",
         null,
         "2020-12-17",
         "EU",
         "Android",
         "07:03:59",
         null,
         "A",
         "interface_eu_test"
        ],
        [
         "34",
         "00D937C10E86138E",
         "2020-12-15",
         "login",
         null,
         "2020-12-15",
         "EU",
         "PC",
         "04:14:42",
         null,
         "A",
         "interface_eu_test"
        ],
        [
         "35",
         "00D937C10E86138E",
         "2020-12-17",
         "login",
         null,
         "2020-12-15",
         "EU",
         "PC",
         "17:07:13",
         null,
         "A",
         "interface_eu_test"
        ],
        [
         "36",
         "00DCC58F2FAD6F66",
         "2020-12-18",
         "login",
         null,
         "2020-12-18",
         "EU",
         "iPhone",
         "10:10:40",
         null,
         "A",
         "interface_eu_test"
        ],
        [
         "37",
         "00E68F103C66C1F7",
         "2020-12-19",
         "login",
         null,
         "2020-12-18",
         "EU",
         "PC",
         "03:42:13",
         null,
         "A",
         "recommender_system_test"
        ],
        [
         "38",
         "00E68F103C66C1F7",
         "2020-12-19",
         "product_page",
         null,
         "2020-12-18",
         "EU",
         "PC",
         "03:42:15",
         null,
         "A",
         "recommender_system_test"
        ],
        [
         "39",
         "00E68F103C66C1F7",
         "2020-12-19",
         "product_cart",
         null,
         "2020-12-18",
         "EU",
         "PC",
         "03:42:17",
         null,
         "A",
         "recommender_system_test"
        ],
        [
         "40",
         "00F1A37DB35C049A",
         "2020-12-21",
         "login",
         null,
         "2020-12-20",
         "EU",
         "PC",
         "15:14:56",
         null,
         "A",
         "interface_eu_test"
        ],
        [
         "41",
         "00F1A37DB35C049A",
         "2020-12-21",
         "product_cart",
         null,
         "2020-12-20",
         "EU",
         "PC",
         "15:14:58",
         null,
         "A",
         "interface_eu_test"
        ],
        [
         "42",
         "00F1A37DB35C049A",
         "2020-12-21",
         "product_page",
         null,
         "2020-12-20",
         "EU",
         "PC",
         "15:14:57",
         null,
         "A",
         "interface_eu_test"
        ],
        [
         "43",
         "00FF265253A0176B",
         "2020-12-20",
         "product_cart",
         null,
         "2020-12-18",
         "EU",
         "PC",
         "00:22:12",
         null,
         "A",
         "interface_eu_test"
        ],
        [
         "44",
         "00FF265253A0176B",
         "2020-12-20",
         "login",
         null,
         "2020-12-18",
         "EU",
         "PC",
         "00:22:11",
         null,
         "A",
         "interface_eu_test"
        ],
        [
         "45",
         "00FF265253A0176B",
         "2020-12-19",
         "login",
         null,
         "2020-12-18",
         "EU",
         "PC",
         "11:02:40",
         null,
         "A",
         "interface_eu_test"
        ],
        [
         "46",
         "00FF265253A0176B",
         "2020-12-18",
         "login",
         null,
         "2020-12-18",
         "EU",
         "PC",
         "14:34:57",
         null,
         "A",
         "interface_eu_test"
        ],
        [
         "47",
         "00FF265253A0176B",
         "2020-12-19",
         "product_cart",
         null,
         "2020-12-18",
         "EU",
         "PC",
         "11:02:41",
         null,
         "A",
         "interface_eu_test"
        ],
        [
         "48",
         "00FF265253A0176B",
         "2020-12-18",
         "product_cart",
         null,
         "2020-12-18",
         "EU",
         "PC",
         "14:34:58",
         null,
         "A",
         "interface_eu_test"
        ],
        [
         "49",
         "010DF73DACCC1534",
         "2020-12-27",
         "product_page",
         null,
         "2020-12-18",
         "EU",
         "Android",
         "13:42:57",
         "Christmas_New_Year_Promo",
         "A",
         "recommender_system_test"
        ]
       ],
       "shape": {
        "columns": 11,
        "rows": 14825
       }
      },
      "text/html": [
       "<div>\n",
       "<style scoped>\n",
       "    .dataframe tbody tr th:only-of-type {\n",
       "        vertical-align: middle;\n",
       "    }\n",
       "\n",
       "    .dataframe tbody tr th {\n",
       "        vertical-align: top;\n",
       "    }\n",
       "\n",
       "    .dataframe thead th {\n",
       "        text-align: right;\n",
       "    }\n",
       "</style>\n",
       "<table border=\"1\" class=\"dataframe\">\n",
       "  <thead>\n",
       "    <tr style=\"text-align: right;\">\n",
       "      <th></th>\n",
       "      <th>user_id</th>\n",
       "      <th>event_dt</th>\n",
       "      <th>event_name</th>\n",
       "      <th>details</th>\n",
       "      <th>first_date</th>\n",
       "      <th>region</th>\n",
       "      <th>device</th>\n",
       "      <th>event_tm</th>\n",
       "      <th>mkt_event_name</th>\n",
       "      <th>group</th>\n",
       "      <th>ab_test</th>\n",
       "    </tr>\n",
       "  </thead>\n",
       "  <tbody>\n",
       "    <tr>\n",
       "      <th>0</th>\n",
       "      <td>0002CE61FF2C4011</td>\n",
       "      <td>2020-12-08</td>\n",
       "      <td>product_page</td>\n",
       "      <td>&lt;NA&gt;</td>\n",
       "      <td>2020-12-07</td>\n",
       "      <td>EU</td>\n",
       "      <td>Mac</td>\n",
       "      <td>22:14:19</td>\n",
       "      <td>&lt;NA&gt;</td>\n",
       "      <td>A</td>\n",
       "      <td>interface_eu_test</td>\n",
       "    </tr>\n",
       "    <tr>\n",
       "      <th>1</th>\n",
       "      <td>0002CE61FF2C4011</td>\n",
       "      <td>2020-12-08</td>\n",
       "      <td>product_cart</td>\n",
       "      <td>&lt;NA&gt;</td>\n",
       "      <td>2020-12-07</td>\n",
       "      <td>EU</td>\n",
       "      <td>Mac</td>\n",
       "      <td>22:14:20</td>\n",
       "      <td>&lt;NA&gt;</td>\n",
       "      <td>A</td>\n",
       "      <td>interface_eu_test</td>\n",
       "    </tr>\n",
       "    <tr>\n",
       "      <th>2</th>\n",
       "      <td>0002CE61FF2C4011</td>\n",
       "      <td>2020-12-08</td>\n",
       "      <td>login</td>\n",
       "      <td>&lt;NA&gt;</td>\n",
       "      <td>2020-12-07</td>\n",
       "      <td>EU</td>\n",
       "      <td>Mac</td>\n",
       "      <td>22:14:18</td>\n",
       "      <td>&lt;NA&gt;</td>\n",
       "      <td>A</td>\n",
       "      <td>interface_eu_test</td>\n",
       "    </tr>\n",
       "    <tr>\n",
       "      <th>3</th>\n",
       "      <td>003346BB64227D0C</td>\n",
       "      <td>2020-12-19</td>\n",
       "      <td>login</td>\n",
       "      <td>&lt;NA&gt;</td>\n",
       "      <td>2020-12-17</td>\n",
       "      <td>EU</td>\n",
       "      <td>Android</td>\n",
       "      <td>22:46:58</td>\n",
       "      <td>&lt;NA&gt;</td>\n",
       "      <td>A</td>\n",
       "      <td>interface_eu_test</td>\n",
       "    </tr>\n",
       "    <tr>\n",
       "      <th>4</th>\n",
       "      <td>003346BB64227D0C</td>\n",
       "      <td>2020-12-24</td>\n",
       "      <td>login</td>\n",
       "      <td>&lt;NA&gt;</td>\n",
       "      <td>2020-12-17</td>\n",
       "      <td>EU</td>\n",
       "      <td>Android</td>\n",
       "      <td>11:28:16</td>\n",
       "      <td>&lt;NA&gt;</td>\n",
       "      <td>A</td>\n",
       "      <td>interface_eu_test</td>\n",
       "    </tr>\n",
       "    <tr>\n",
       "      <th>...</th>\n",
       "      <td>...</td>\n",
       "      <td>...</td>\n",
       "      <td>...</td>\n",
       "      <td>...</td>\n",
       "      <td>...</td>\n",
       "      <td>...</td>\n",
       "      <td>...</td>\n",
       "      <td>...</td>\n",
       "      <td>...</td>\n",
       "      <td>...</td>\n",
       "      <td>...</td>\n",
       "    </tr>\n",
       "    <tr>\n",
       "      <th>14820</th>\n",
       "      <td>FFAE9489C76F352B</td>\n",
       "      <td>2020-12-13</td>\n",
       "      <td>product_page</td>\n",
       "      <td>&lt;NA&gt;</td>\n",
       "      <td>2020-12-13</td>\n",
       "      <td>EU</td>\n",
       "      <td>Mac</td>\n",
       "      <td>18:46:06</td>\n",
       "      <td>&lt;NA&gt;</td>\n",
       "      <td>A</td>\n",
       "      <td>recommender_system_test</td>\n",
       "    </tr>\n",
       "    <tr>\n",
       "      <th>14821</th>\n",
       "      <td>FFAE9489C76F352B</td>\n",
       "      <td>2020-12-15</td>\n",
       "      <td>login</td>\n",
       "      <td>&lt;NA&gt;</td>\n",
       "      <td>2020-12-13</td>\n",
       "      <td>EU</td>\n",
       "      <td>Mac</td>\n",
       "      <td>20:14:51</td>\n",
       "      <td>&lt;NA&gt;</td>\n",
       "      <td>A</td>\n",
       "      <td>recommender_system_test</td>\n",
       "    </tr>\n",
       "    <tr>\n",
       "      <th>14822</th>\n",
       "      <td>FFAE9489C76F352B</td>\n",
       "      <td>2020-12-19</td>\n",
       "      <td>product_page</td>\n",
       "      <td>&lt;NA&gt;</td>\n",
       "      <td>2020-12-13</td>\n",
       "      <td>EU</td>\n",
       "      <td>Mac</td>\n",
       "      <td>11:32:51</td>\n",
       "      <td>&lt;NA&gt;</td>\n",
       "      <td>A</td>\n",
       "      <td>recommender_system_test</td>\n",
       "    </tr>\n",
       "    <tr>\n",
       "      <th>14823</th>\n",
       "      <td>FFDC1BEFD27A66D5</td>\n",
       "      <td>2020-12-10</td>\n",
       "      <td>login</td>\n",
       "      <td>&lt;NA&gt;</td>\n",
       "      <td>2020-12-10</td>\n",
       "      <td>EU</td>\n",
       "      <td>iPhone</td>\n",
       "      <td>09:31:29</td>\n",
       "      <td>&lt;NA&gt;</td>\n",
       "      <td>A</td>\n",
       "      <td>interface_eu_test</td>\n",
       "    </tr>\n",
       "    <tr>\n",
       "      <th>14824</th>\n",
       "      <td>FFDC1BEFD27A66D5</td>\n",
       "      <td>2020-12-14</td>\n",
       "      <td>login</td>\n",
       "      <td>&lt;NA&gt;</td>\n",
       "      <td>2020-12-10</td>\n",
       "      <td>EU</td>\n",
       "      <td>iPhone</td>\n",
       "      <td>14:33:43</td>\n",
       "      <td>&lt;NA&gt;</td>\n",
       "      <td>A</td>\n",
       "      <td>interface_eu_test</td>\n",
       "    </tr>\n",
       "  </tbody>\n",
       "</table>\n",
       "<p>14825 rows × 11 columns</p>\n",
       "</div>"
      ],
      "text/plain": [
       "                user_id    event_dt    event_name details  first_date region  \\\n",
       "0      0002CE61FF2C4011  2020-12-08  product_page    <NA>  2020-12-07     EU   \n",
       "1      0002CE61FF2C4011  2020-12-08  product_cart    <NA>  2020-12-07     EU   \n",
       "2      0002CE61FF2C4011  2020-12-08         login    <NA>  2020-12-07     EU   \n",
       "3      003346BB64227D0C  2020-12-19         login    <NA>  2020-12-17     EU   \n",
       "4      003346BB64227D0C  2020-12-24         login    <NA>  2020-12-17     EU   \n",
       "...                 ...         ...           ...     ...         ...    ...   \n",
       "14820  FFAE9489C76F352B  2020-12-13  product_page    <NA>  2020-12-13     EU   \n",
       "14821  FFAE9489C76F352B  2020-12-15         login    <NA>  2020-12-13     EU   \n",
       "14822  FFAE9489C76F352B  2020-12-19  product_page    <NA>  2020-12-13     EU   \n",
       "14823  FFDC1BEFD27A66D5  2020-12-10         login    <NA>  2020-12-10     EU   \n",
       "14824  FFDC1BEFD27A66D5  2020-12-14         login    <NA>  2020-12-10     EU   \n",
       "\n",
       "        device  event_tm mkt_event_name group                  ab_test  \n",
       "0          Mac  22:14:19           <NA>     A        interface_eu_test  \n",
       "1          Mac  22:14:20           <NA>     A        interface_eu_test  \n",
       "2          Mac  22:14:18           <NA>     A        interface_eu_test  \n",
       "3      Android  22:46:58           <NA>     A        interface_eu_test  \n",
       "4      Android  11:28:16           <NA>     A        interface_eu_test  \n",
       "...        ...       ...            ...   ...                      ...  \n",
       "14820      Mac  18:46:06           <NA>     A  recommender_system_test  \n",
       "14821      Mac  20:14:51           <NA>     A  recommender_system_test  \n",
       "14822      Mac  11:32:51           <NA>     A  recommender_system_test  \n",
       "14823   iPhone  09:31:29           <NA>     A        interface_eu_test  \n",
       "14824   iPhone  14:33:43           <NA>     A        interface_eu_test  \n",
       "\n",
       "[14825 rows x 11 columns]"
      ]
     },
     "execution_count": 64,
     "metadata": {},
     "output_type": "execute_result"
    }
   ],
   "source": [
    "# Assign AA1 or AA2 group\n",
    "df_users_aa_base = df_users_group_a.sort_values(by='user_id').reset_index(drop=True)\n",
    "df_users_aa_base"
   ]
  },
  {
   "cell_type": "code",
   "execution_count": 67,
   "id": "7ee611a8",
   "metadata": {},
   "outputs": [
    {
     "data": {
      "application/vnd.microsoft.datawrangler.viewer.v0+json": {
       "columns": [
        {
         "name": "index",
         "rawType": "int64",
         "type": "integer"
        },
        {
         "name": "user_id",
         "rawType": "object",
         "type": "string"
        },
        {
         "name": "event_dt",
         "rawType": "object",
         "type": "unknown"
        },
        {
         "name": "event_name",
         "rawType": "category",
         "type": "unknown"
        },
        {
         "name": "details",
         "rawType": "object",
         "type": "unknown"
        },
        {
         "name": "first_date",
         "rawType": "object",
         "type": "unknown"
        },
        {
         "name": "region",
         "rawType": "category",
         "type": "unknown"
        },
        {
         "name": "device",
         "rawType": "category",
         "type": "unknown"
        },
        {
         "name": "event_tm",
         "rawType": "object",
         "type": "unknown"
        },
        {
         "name": "mkt_event_name",
         "rawType": "object",
         "type": "unknown"
        },
        {
         "name": "group",
         "rawType": "category",
         "type": "unknown"
        },
        {
         "name": "ab_test",
         "rawType": "category",
         "type": "unknown"
        }
       ],
       "ref": "25f73d51-a595-4bc3-9112-59b3f50a15b4",
       "rows": [
        [
         "0",
         "0002CE61FF2C4011",
         "2020-12-08",
         "product_page",
         null,
         "2020-12-07",
         "EU",
         "Mac",
         "22:14:19",
         null,
         "A",
         "interface_eu_test"
        ],
        [
         "1",
         "0002CE61FF2C4011",
         "2020-12-08",
         "product_cart",
         null,
         "2020-12-07",
         "EU",
         "Mac",
         "22:14:20",
         null,
         "A",
         "interface_eu_test"
        ],
        [
         "2",
         "0002CE61FF2C4011",
         "2020-12-08",
         "login",
         null,
         "2020-12-07",
         "EU",
         "Mac",
         "22:14:18",
         null,
         "A",
         "interface_eu_test"
        ],
        [
         "3",
         "003346BB64227D0C",
         "2020-12-19",
         "login",
         null,
         "2020-12-17",
         "EU",
         "Android",
         "22:46:58",
         null,
         "A",
         "interface_eu_test"
        ],
        [
         "4",
         "003346BB64227D0C",
         "2020-12-24",
         "login",
         null,
         "2020-12-17",
         "EU",
         "Android",
         "11:28:16",
         null,
         "A",
         "interface_eu_test"
        ],
        [
         "5",
         "003346BB64227D0C",
         "2020-12-17",
         "login",
         null,
         "2020-12-17",
         "EU",
         "Android",
         "05:24:01",
         null,
         "A",
         "interface_eu_test"
        ],
        [
         "6",
         "00341D8401F0F665",
         "2020-12-24",
         "login",
         null,
         "2020-12-21",
         "EU",
         "iPhone",
         "12:16:01",
         null,
         "A",
         "recommender_system_test"
        ],
        [
         "7",
         "00341D8401F0F665",
         "2020-12-24",
         "login",
         null,
         "2020-12-21",
         "EU",
         "iPhone",
         "12:16:01",
         null,
         "A",
         "interface_eu_test"
        ],
        [
         "8",
         "00341D8401F0F665",
         "2020-12-21",
         "login",
         null,
         "2020-12-21",
         "EU",
         "iPhone",
         "11:14:50",
         null,
         "A",
         "interface_eu_test"
        ],
        [
         "9",
         "00341D8401F0F665",
         "2020-12-21",
         "login",
         null,
         "2020-12-21",
         "EU",
         "iPhone",
         "11:14:50",
         null,
         "A",
         "recommender_system_test"
        ],
        [
         "10",
         "00505E15A9D81546",
         "2020-12-15",
         "login",
         null,
         "2020-12-14",
         "EU",
         "Mac",
         "05:35:34",
         null,
         "A",
         "recommender_system_test"
        ],
        [
         "11",
         "00505E15A9D81546",
         "2020-12-22",
         "login",
         null,
         "2020-12-14",
         "EU",
         "Mac",
         "06:12:31",
         null,
         "A",
         "recommender_system_test"
        ],
        [
         "12",
         "00505E15A9D81546",
         "2020-12-14",
         "login",
         null,
         "2020-12-14",
         "EU",
         "Mac",
         "17:28:32",
         null,
         "A",
         "recommender_system_test"
        ],
        [
         "13",
         "00505E15A9D81546",
         "2020-12-16",
         "login",
         null,
         "2020-12-14",
         "EU",
         "Mac",
         "23:35:36",
         null,
         "A",
         "recommender_system_test"
        ],
        [
         "14",
         "00505E15A9D81546",
         "2020-12-19",
         "login",
         null,
         "2020-12-14",
         "EU",
         "Mac",
         "17:41:56",
         null,
         "A",
         "recommender_system_test"
        ],
        [
         "15",
         "006E3E4E232CE760",
         "2020-12-18",
         "product_page",
         null,
         "2020-12-17",
         "EU",
         "Android",
         "23:06:33",
         null,
         "A",
         "recommender_system_test"
        ],
        [
         "16",
         "006E3E4E232CE760",
         "2020-12-17",
         "login",
         null,
         "2020-12-17",
         "EU",
         "Android",
         "16:40:41",
         null,
         "A",
         "recommender_system_test"
        ],
        [
         "17",
         "006E3E4E232CE760",
         "2020-12-18",
         "login",
         null,
         "2020-12-17",
         "EU",
         "Android",
         "23:06:30",
         null,
         "A",
         "recommender_system_test"
        ],
        [
         "18",
         "006E3E4E232CE760",
         "2020-12-17",
         "product_page",
         null,
         "2020-12-17",
         "EU",
         "Android",
         "16:40:42",
         null,
         "A",
         "recommender_system_test"
        ],
        [
         "19",
         "00A29C54C162D2CF",
         "2020-12-20",
         "login",
         null,
         "2020-12-20",
         "EU",
         "PC",
         "22:31:17",
         null,
         "A",
         "interface_eu_test"
        ],
        [
         "20",
         "00A29C54C162D2CF",
         "2020-12-21",
         "login",
         null,
         "2020-12-20",
         "EU",
         "PC",
         "11:18:20",
         null,
         "A",
         "interface_eu_test"
        ],
        [
         "21",
         "00A52DCF85F1BE03",
         "2020-12-21",
         "login",
         null,
         "2020-12-20",
         "EU",
         "Android",
         "17:58:54",
         null,
         "A",
         "recommender_system_test"
        ],
        [
         "22",
         "00A52DCF85F1BE03",
         "2020-12-20",
         "login",
         null,
         "2020-12-20",
         "EU",
         "Android",
         "06:41:11",
         null,
         "A",
         "recommender_system_test"
        ],
        [
         "23",
         "00B45E6226F03553",
         "2020-12-14",
         "login",
         null,
         "2020-12-14",
         "EU",
         "Android",
         "06:00:44",
         null,
         "A",
         "interface_eu_test"
        ],
        [
         "24",
         "00B45E6226F03553",
         "2020-12-19",
         "login",
         null,
         "2020-12-14",
         "EU",
         "Android",
         "06:13:35",
         null,
         "A",
         "interface_eu_test"
        ],
        [
         "25",
         "00B45E6226F03553",
         "2020-12-15",
         "login",
         null,
         "2020-12-14",
         "EU",
         "Android",
         "21:16:12",
         null,
         "A",
         "interface_eu_test"
        ],
        [
         "26",
         "00C2BA76985336C1",
         "2020-12-13",
         "login",
         null,
         "2020-12-12",
         "EU",
         "PC",
         "08:28:17",
         null,
         "A",
         "interface_eu_test"
        ],
        [
         "27",
         "00C2BA76985336C1",
         "2020-12-15",
         "login",
         null,
         "2020-12-12",
         "EU",
         "PC",
         "05:26:59",
         null,
         "A",
         "interface_eu_test"
        ],
        [
         "28",
         "00C2BA76985336C1",
         "2020-12-12",
         "login",
         null,
         "2020-12-12",
         "EU",
         "PC",
         "15:56:42",
         null,
         "A",
         "interface_eu_test"
        ],
        [
         "29",
         "00C2BA76985336C1",
         "2020-12-20",
         "login",
         null,
         "2020-12-12",
         "EU",
         "PC",
         "01:54:34",
         null,
         "A",
         "interface_eu_test"
        ],
        [
         "30",
         "00D627B7002B66CB",
         "2020-12-18",
         "login",
         null,
         "2020-12-17",
         "EU",
         "Android",
         "21:51:59",
         null,
         "A",
         "interface_eu_test"
        ],
        [
         "31",
         "00D627B7002B66CB",
         "2020-12-17",
         "login",
         null,
         "2020-12-17",
         "EU",
         "Android",
         "07:03:57",
         null,
         "A",
         "interface_eu_test"
        ],
        [
         "32",
         "00D627B7002B66CB",
         "2020-12-18",
         "product_page",
         null,
         "2020-12-17",
         "EU",
         "Android",
         "21:52:00",
         null,
         "A",
         "interface_eu_test"
        ],
        [
         "33",
         "00D627B7002B66CB",
         "2020-12-17",
         "product_page",
         null,
         "2020-12-17",
         "EU",
         "Android",
         "07:03:59",
         null,
         "A",
         "interface_eu_test"
        ],
        [
         "34",
         "00D937C10E86138E",
         "2020-12-15",
         "login",
         null,
         "2020-12-15",
         "EU",
         "PC",
         "04:14:42",
         null,
         "A",
         "interface_eu_test"
        ],
        [
         "35",
         "00D937C10E86138E",
         "2020-12-17",
         "login",
         null,
         "2020-12-15",
         "EU",
         "PC",
         "17:07:13",
         null,
         "A",
         "interface_eu_test"
        ],
        [
         "36",
         "00DCC58F2FAD6F66",
         "2020-12-18",
         "login",
         null,
         "2020-12-18",
         "EU",
         "iPhone",
         "10:10:40",
         null,
         "A",
         "interface_eu_test"
        ],
        [
         "37",
         "00E68F103C66C1F7",
         "2020-12-19",
         "login",
         null,
         "2020-12-18",
         "EU",
         "PC",
         "03:42:13",
         null,
         "A",
         "recommender_system_test"
        ],
        [
         "38",
         "00E68F103C66C1F7",
         "2020-12-19",
         "product_page",
         null,
         "2020-12-18",
         "EU",
         "PC",
         "03:42:15",
         null,
         "A",
         "recommender_system_test"
        ],
        [
         "39",
         "00E68F103C66C1F7",
         "2020-12-19",
         "product_cart",
         null,
         "2020-12-18",
         "EU",
         "PC",
         "03:42:17",
         null,
         "A",
         "recommender_system_test"
        ],
        [
         "40",
         "00F1A37DB35C049A",
         "2020-12-21",
         "login",
         null,
         "2020-12-20",
         "EU",
         "PC",
         "15:14:56",
         null,
         "A",
         "interface_eu_test"
        ],
        [
         "41",
         "00F1A37DB35C049A",
         "2020-12-21",
         "product_cart",
         null,
         "2020-12-20",
         "EU",
         "PC",
         "15:14:58",
         null,
         "A",
         "interface_eu_test"
        ],
        [
         "42",
         "00F1A37DB35C049A",
         "2020-12-21",
         "product_page",
         null,
         "2020-12-20",
         "EU",
         "PC",
         "15:14:57",
         null,
         "A",
         "interface_eu_test"
        ],
        [
         "43",
         "00FF265253A0176B",
         "2020-12-20",
         "product_cart",
         null,
         "2020-12-18",
         "EU",
         "PC",
         "00:22:12",
         null,
         "A",
         "interface_eu_test"
        ],
        [
         "44",
         "00FF265253A0176B",
         "2020-12-20",
         "login",
         null,
         "2020-12-18",
         "EU",
         "PC",
         "00:22:11",
         null,
         "A",
         "interface_eu_test"
        ],
        [
         "45",
         "00FF265253A0176B",
         "2020-12-19",
         "login",
         null,
         "2020-12-18",
         "EU",
         "PC",
         "11:02:40",
         null,
         "A",
         "interface_eu_test"
        ],
        [
         "46",
         "00FF265253A0176B",
         "2020-12-18",
         "login",
         null,
         "2020-12-18",
         "EU",
         "PC",
         "14:34:57",
         null,
         "A",
         "interface_eu_test"
        ],
        [
         "47",
         "00FF265253A0176B",
         "2020-12-19",
         "product_cart",
         null,
         "2020-12-18",
         "EU",
         "PC",
         "11:02:41",
         null,
         "A",
         "interface_eu_test"
        ],
        [
         "48",
         "00FF265253A0176B",
         "2020-12-18",
         "product_cart",
         null,
         "2020-12-18",
         "EU",
         "PC",
         "14:34:58",
         null,
         "A",
         "interface_eu_test"
        ],
        [
         "49",
         "010DF73DACCC1534",
         "2020-12-27",
         "product_page",
         null,
         "2020-12-18",
         "EU",
         "Android",
         "13:42:57",
         "Christmas_New_Year_Promo",
         "A",
         "recommender_system_test"
        ]
       ],
       "shape": {
        "columns": 11,
        "rows": 7413
       }
      },
      "text/html": [
       "<div>\n",
       "<style scoped>\n",
       "    .dataframe tbody tr th:only-of-type {\n",
       "        vertical-align: middle;\n",
       "    }\n",
       "\n",
       "    .dataframe tbody tr th {\n",
       "        vertical-align: top;\n",
       "    }\n",
       "\n",
       "    .dataframe thead th {\n",
       "        text-align: right;\n",
       "    }\n",
       "</style>\n",
       "<table border=\"1\" class=\"dataframe\">\n",
       "  <thead>\n",
       "    <tr style=\"text-align: right;\">\n",
       "      <th></th>\n",
       "      <th>user_id</th>\n",
       "      <th>event_dt</th>\n",
       "      <th>event_name</th>\n",
       "      <th>details</th>\n",
       "      <th>first_date</th>\n",
       "      <th>region</th>\n",
       "      <th>device</th>\n",
       "      <th>event_tm</th>\n",
       "      <th>mkt_event_name</th>\n",
       "      <th>group</th>\n",
       "      <th>ab_test</th>\n",
       "    </tr>\n",
       "  </thead>\n",
       "  <tbody>\n",
       "    <tr>\n",
       "      <th>0</th>\n",
       "      <td>0002CE61FF2C4011</td>\n",
       "      <td>2020-12-08</td>\n",
       "      <td>product_page</td>\n",
       "      <td>&lt;NA&gt;</td>\n",
       "      <td>2020-12-07</td>\n",
       "      <td>EU</td>\n",
       "      <td>Mac</td>\n",
       "      <td>22:14:19</td>\n",
       "      <td>&lt;NA&gt;</td>\n",
       "      <td>A</td>\n",
       "      <td>interface_eu_test</td>\n",
       "    </tr>\n",
       "    <tr>\n",
       "      <th>1</th>\n",
       "      <td>0002CE61FF2C4011</td>\n",
       "      <td>2020-12-08</td>\n",
       "      <td>product_cart</td>\n",
       "      <td>&lt;NA&gt;</td>\n",
       "      <td>2020-12-07</td>\n",
       "      <td>EU</td>\n",
       "      <td>Mac</td>\n",
       "      <td>22:14:20</td>\n",
       "      <td>&lt;NA&gt;</td>\n",
       "      <td>A</td>\n",
       "      <td>interface_eu_test</td>\n",
       "    </tr>\n",
       "    <tr>\n",
       "      <th>2</th>\n",
       "      <td>0002CE61FF2C4011</td>\n",
       "      <td>2020-12-08</td>\n",
       "      <td>login</td>\n",
       "      <td>&lt;NA&gt;</td>\n",
       "      <td>2020-12-07</td>\n",
       "      <td>EU</td>\n",
       "      <td>Mac</td>\n",
       "      <td>22:14:18</td>\n",
       "      <td>&lt;NA&gt;</td>\n",
       "      <td>A</td>\n",
       "      <td>interface_eu_test</td>\n",
       "    </tr>\n",
       "    <tr>\n",
       "      <th>3</th>\n",
       "      <td>003346BB64227D0C</td>\n",
       "      <td>2020-12-19</td>\n",
       "      <td>login</td>\n",
       "      <td>&lt;NA&gt;</td>\n",
       "      <td>2020-12-17</td>\n",
       "      <td>EU</td>\n",
       "      <td>Android</td>\n",
       "      <td>22:46:58</td>\n",
       "      <td>&lt;NA&gt;</td>\n",
       "      <td>A</td>\n",
       "      <td>interface_eu_test</td>\n",
       "    </tr>\n",
       "    <tr>\n",
       "      <th>4</th>\n",
       "      <td>003346BB64227D0C</td>\n",
       "      <td>2020-12-24</td>\n",
       "      <td>login</td>\n",
       "      <td>&lt;NA&gt;</td>\n",
       "      <td>2020-12-17</td>\n",
       "      <td>EU</td>\n",
       "      <td>Android</td>\n",
       "      <td>11:28:16</td>\n",
       "      <td>&lt;NA&gt;</td>\n",
       "      <td>A</td>\n",
       "      <td>interface_eu_test</td>\n",
       "    </tr>\n",
       "    <tr>\n",
       "      <th>...</th>\n",
       "      <td>...</td>\n",
       "      <td>...</td>\n",
       "      <td>...</td>\n",
       "      <td>...</td>\n",
       "      <td>...</td>\n",
       "      <td>...</td>\n",
       "      <td>...</td>\n",
       "      <td>...</td>\n",
       "      <td>...</td>\n",
       "      <td>...</td>\n",
       "      <td>...</td>\n",
       "    </tr>\n",
       "    <tr>\n",
       "      <th>7408</th>\n",
       "      <td>818112D4190F52DF</td>\n",
       "      <td>2020-12-10</td>\n",
       "      <td>product_page</td>\n",
       "      <td>&lt;NA&gt;</td>\n",
       "      <td>2020-12-07</td>\n",
       "      <td>EU</td>\n",
       "      <td>iPhone</td>\n",
       "      <td>07:25:16</td>\n",
       "      <td>&lt;NA&gt;</td>\n",
       "      <td>A</td>\n",
       "      <td>interface_eu_test</td>\n",
       "    </tr>\n",
       "    <tr>\n",
       "      <th>7409</th>\n",
       "      <td>818112D4190F52DF</td>\n",
       "      <td>2020-12-18</td>\n",
       "      <td>product_page</td>\n",
       "      <td>&lt;NA&gt;</td>\n",
       "      <td>2020-12-07</td>\n",
       "      <td>EU</td>\n",
       "      <td>iPhone</td>\n",
       "      <td>03:12:24</td>\n",
       "      <td>&lt;NA&gt;</td>\n",
       "      <td>A</td>\n",
       "      <td>interface_eu_test</td>\n",
       "    </tr>\n",
       "    <tr>\n",
       "      <th>7410</th>\n",
       "      <td>818112D4190F52DF</td>\n",
       "      <td>2020-12-10</td>\n",
       "      <td>login</td>\n",
       "      <td>&lt;NA&gt;</td>\n",
       "      <td>2020-12-07</td>\n",
       "      <td>EU</td>\n",
       "      <td>iPhone</td>\n",
       "      <td>07:25:15</td>\n",
       "      <td>&lt;NA&gt;</td>\n",
       "      <td>A</td>\n",
       "      <td>interface_eu_test</td>\n",
       "    </tr>\n",
       "    <tr>\n",
       "      <th>7411</th>\n",
       "      <td>81836000CB0E6C20</td>\n",
       "      <td>2020-12-07</td>\n",
       "      <td>login</td>\n",
       "      <td>&lt;NA&gt;</td>\n",
       "      <td>2020-12-07</td>\n",
       "      <td>EU</td>\n",
       "      <td>iPhone</td>\n",
       "      <td>13:08:36</td>\n",
       "      <td>&lt;NA&gt;</td>\n",
       "      <td>A</td>\n",
       "      <td>interface_eu_test</td>\n",
       "    </tr>\n",
       "    <tr>\n",
       "      <th>7412</th>\n",
       "      <td>81836000CB0E6C20</td>\n",
       "      <td>2020-12-07</td>\n",
       "      <td>product_page</td>\n",
       "      <td>&lt;NA&gt;</td>\n",
       "      <td>2020-12-07</td>\n",
       "      <td>EU</td>\n",
       "      <td>iPhone</td>\n",
       "      <td>13:08:37</td>\n",
       "      <td>&lt;NA&gt;</td>\n",
       "      <td>A</td>\n",
       "      <td>interface_eu_test</td>\n",
       "    </tr>\n",
       "  </tbody>\n",
       "</table>\n",
       "<p>7413 rows × 11 columns</p>\n",
       "</div>"
      ],
      "text/plain": [
       "               user_id    event_dt    event_name details  first_date region  \\\n",
       "0     0002CE61FF2C4011  2020-12-08  product_page    <NA>  2020-12-07     EU   \n",
       "1     0002CE61FF2C4011  2020-12-08  product_cart    <NA>  2020-12-07     EU   \n",
       "2     0002CE61FF2C4011  2020-12-08         login    <NA>  2020-12-07     EU   \n",
       "3     003346BB64227D0C  2020-12-19         login    <NA>  2020-12-17     EU   \n",
       "4     003346BB64227D0C  2020-12-24         login    <NA>  2020-12-17     EU   \n",
       "...                ...         ...           ...     ...         ...    ...   \n",
       "7408  818112D4190F52DF  2020-12-10  product_page    <NA>  2020-12-07     EU   \n",
       "7409  818112D4190F52DF  2020-12-18  product_page    <NA>  2020-12-07     EU   \n",
       "7410  818112D4190F52DF  2020-12-10         login    <NA>  2020-12-07     EU   \n",
       "7411  81836000CB0E6C20  2020-12-07         login    <NA>  2020-12-07     EU   \n",
       "7412  81836000CB0E6C20  2020-12-07  product_page    <NA>  2020-12-07     EU   \n",
       "\n",
       "       device  event_tm mkt_event_name group            ab_test  \n",
       "0         Mac  22:14:19           <NA>     A  interface_eu_test  \n",
       "1         Mac  22:14:20           <NA>     A  interface_eu_test  \n",
       "2         Mac  22:14:18           <NA>     A  interface_eu_test  \n",
       "3     Android  22:46:58           <NA>     A  interface_eu_test  \n",
       "4     Android  11:28:16           <NA>     A  interface_eu_test  \n",
       "...       ...       ...            ...   ...                ...  \n",
       "7408   iPhone  07:25:16           <NA>     A  interface_eu_test  \n",
       "7409   iPhone  03:12:24           <NA>     A  interface_eu_test  \n",
       "7410   iPhone  07:25:15           <NA>     A  interface_eu_test  \n",
       "7411   iPhone  13:08:36           <NA>     A  interface_eu_test  \n",
       "7412   iPhone  13:08:37           <NA>     A  interface_eu_test  \n",
       "\n",
       "[7413 rows x 11 columns]"
      ]
     },
     "execution_count": 67,
     "metadata": {},
     "output_type": "execute_result"
    }
   ],
   "source": [
    "df_users_aa_a1 = df_users_aa_base.iloc[0:7413, :]\n",
    "df_users_aa_a1"
   ]
  },
  {
   "cell_type": "code",
   "execution_count": 69,
   "id": "25114feb",
   "metadata": {},
   "outputs": [
    {
     "data": {
      "application/vnd.microsoft.datawrangler.viewer.v0+json": {
       "columns": [
        {
         "name": "index",
         "rawType": "int64",
         "type": "integer"
        },
        {
         "name": "user_id",
         "rawType": "object",
         "type": "string"
        },
        {
         "name": "event_dt",
         "rawType": "object",
         "type": "unknown"
        },
        {
         "name": "event_name",
         "rawType": "category",
         "type": "unknown"
        },
        {
         "name": "details",
         "rawType": "object",
         "type": "unknown"
        },
        {
         "name": "first_date",
         "rawType": "object",
         "type": "unknown"
        },
        {
         "name": "region",
         "rawType": "category",
         "type": "unknown"
        },
        {
         "name": "device",
         "rawType": "category",
         "type": "unknown"
        },
        {
         "name": "event_tm",
         "rawType": "object",
         "type": "unknown"
        },
        {
         "name": "mkt_event_name",
         "rawType": "object",
         "type": "unknown"
        },
        {
         "name": "group",
         "rawType": "category",
         "type": "unknown"
        },
        {
         "name": "ab_test",
         "rawType": "category",
         "type": "unknown"
        }
       ],
       "ref": "04b7e4a0-68bc-4e30-b5ce-06b9fc9d1f42",
       "rows": [
        [
         "7413",
         "818AEF8DE8B21EA7",
         "2020-12-14",
         "login",
         null,
         "2020-12-14",
         "EU",
         "Android",
         "11:50:05",
         null,
         "A",
         "recommender_system_test"
        ],
        [
         "7414",
         "818AEF8DE8B21EA7",
         "2020-12-15",
         "login",
         null,
         "2020-12-14",
         "EU",
         "Android",
         "12:49:18",
         null,
         "A",
         "recommender_system_test"
        ],
        [
         "7415",
         "818AEF8DE8B21EA7",
         "2020-12-27",
         "login",
         null,
         "2020-12-14",
         "EU",
         "Android",
         "09:53:59",
         "Christmas_New_Year_Promo",
         "A",
         "recommender_system_test"
        ],
        [
         "7416",
         "81AD59E23B9825CE",
         "2020-12-20",
         "product_cart",
         null,
         "2020-12-16",
         "EU",
         "Android",
         "09:12:40",
         null,
         "A",
         "recommender_system_test"
        ],
        [
         "7417",
         "81AD59E23B9825CE",
         "2020-12-20",
         "product_page",
         null,
         "2020-12-16",
         "EU",
         "Android",
         "09:12:39",
         null,
         "A",
         "recommender_system_test"
        ],
        [
         "7418",
         "81AD59E23B9825CE",
         "2020-12-20",
         "login",
         null,
         "2020-12-16",
         "EU",
         "Android",
         "09:12:38",
         null,
         "A",
         "recommender_system_test"
        ],
        [
         "7419",
         "81AE85FD2E4A0B25",
         "2020-12-07",
         "login",
         null,
         "2020-12-07",
         "EU",
         "iPhone",
         "10:10:08",
         null,
         "A",
         "interface_eu_test"
        ],
        [
         "7420",
         "81AE85FD2E4A0B25",
         "2020-12-09",
         "product_page",
         null,
         "2020-12-07",
         "EU",
         "iPhone",
         "16:00:21",
         null,
         "A",
         "interface_eu_test"
        ],
        [
         "7421",
         "81AE85FD2E4A0B25",
         "2020-12-09",
         "login",
         null,
         "2020-12-07",
         "EU",
         "iPhone",
         "16:00:19",
         null,
         "A",
         "interface_eu_test"
        ],
        [
         "7422",
         "81AE85FD2E4A0B25",
         "2020-12-07",
         "product_page",
         null,
         "2020-12-07",
         "EU",
         "iPhone",
         "10:10:09",
         null,
         "A",
         "interface_eu_test"
        ],
        [
         "7423",
         "81AE85FD2E4A0B25",
         "2020-12-08",
         "product_page",
         null,
         "2020-12-07",
         "EU",
         "iPhone",
         "09:58:45",
         null,
         "A",
         "interface_eu_test"
        ],
        [
         "7424",
         "81AE85FD2E4A0B25",
         "2020-12-08",
         "login",
         null,
         "2020-12-07",
         "EU",
         "iPhone",
         "09:58:44",
         null,
         "A",
         "interface_eu_test"
        ],
        [
         "7425",
         "81D938225D117DBA",
         "2020-12-09",
         "login",
         null,
         "2020-12-09",
         "EU",
         "Android",
         "12:34:31",
         null,
         "A",
         "recommender_system_test"
        ],
        [
         "7426",
         "81D938225D117DBA",
         "2020-12-22",
         "product_cart",
         null,
         "2020-12-09",
         "EU",
         "Android",
         "16:31:33",
         null,
         "A",
         "recommender_system_test"
        ],
        [
         "7427",
         "81D938225D117DBA",
         "2020-12-22",
         "login",
         null,
         "2020-12-09",
         "EU",
         "Android",
         "16:31:31",
         null,
         "A",
         "recommender_system_test"
        ],
        [
         "7428",
         "81D938225D117DBA",
         "2020-12-09",
         "product_cart",
         null,
         "2020-12-09",
         "EU",
         "Android",
         "12:34:33",
         null,
         "A",
         "recommender_system_test"
        ],
        [
         "7429",
         "81E17FD1EDF5C1D7",
         "2020-12-18",
         "login",
         null,
         "2020-12-18",
         "EU",
         "Mac",
         "22:28:13",
         null,
         "A",
         "interface_eu_test"
        ],
        [
         "7430",
         "81E17FD1EDF5C1D7",
         "2020-12-26",
         "product_page",
         null,
         "2020-12-18",
         "EU",
         "Mac",
         "14:18:47",
         "Christmas_New_Year_Promo",
         "A",
         "interface_eu_test"
        ],
        [
         "7431",
         "81E17FD1EDF5C1D7",
         "2020-12-18",
         "product_page",
         null,
         "2020-12-18",
         "EU",
         "Mac",
         "22:28:15",
         null,
         "A",
         "interface_eu_test"
        ],
        [
         "7432",
         "81E17FD1EDF5C1D7",
         "2020-12-26",
         "login",
         null,
         "2020-12-18",
         "EU",
         "Mac",
         "14:18:46",
         "Christmas_New_Year_Promo",
         "A",
         "interface_eu_test"
        ],
        [
         "7433",
         "81E30D10E502FE14",
         "2020-12-29",
         "product_page",
         null,
         "2020-12-18",
         "EU",
         "PC",
         "14:57:21",
         "Christmas_New_Year_Promo",
         "A",
         "interface_eu_test"
        ],
        [
         "7434",
         "81E30D10E502FE14",
         "2020-12-29",
         "product_cart",
         null,
         "2020-12-18",
         "EU",
         "PC",
         "14:57:26",
         "Christmas_New_Year_Promo",
         "A",
         "interface_eu_test"
        ],
        [
         "7435",
         "81E30D10E502FE14",
         "2020-12-29",
         "login",
         null,
         "2020-12-18",
         "EU",
         "PC",
         "14:57:20",
         "Christmas_New_Year_Promo",
         "A",
         "interface_eu_test"
        ],
        [
         "7436",
         "81E9F0E9388383C1",
         "2020-12-20",
         "login",
         null,
         "2020-12-17",
         "EU",
         "Android",
         "15:02:03",
         null,
         "A",
         "interface_eu_test"
        ],
        [
         "7437",
         "81E9F0E9388383C1",
         "2020-12-19",
         "product_cart",
         null,
         "2020-12-17",
         "EU",
         "Android",
         "10:59:52",
         null,
         "A",
         "interface_eu_test"
        ],
        [
         "7438",
         "81E9F0E9388383C1",
         "2020-12-19",
         "login",
         null,
         "2020-12-17",
         "EU",
         "Android",
         "10:59:50",
         null,
         "A",
         "interface_eu_test"
        ],
        [
         "7439",
         "81E9F0E9388383C1",
         "2020-12-20",
         "product_cart",
         null,
         "2020-12-17",
         "EU",
         "Android",
         "15:02:04",
         null,
         "A",
         "interface_eu_test"
        ],
        [
         "7440",
         "81EC40FDBBFF4E4B",
         "2020-12-21",
         "login",
         null,
         "2020-12-21",
         "EU",
         "PC",
         "18:18:40",
         null,
         "A",
         "interface_eu_test"
        ],
        [
         "7441",
         "81EC40FDBBFF4E4B",
         "2020-12-21",
         "product_page",
         null,
         "2020-12-21",
         "EU",
         "PC",
         "18:18:42",
         null,
         "A",
         "interface_eu_test"
        ],
        [
         "7442",
         "81EC40FDBBFF4E4B",
         "2020-12-22",
         "login",
         null,
         "2020-12-21",
         "EU",
         "PC",
         "10:52:27",
         null,
         "A",
         "interface_eu_test"
        ],
        [
         "7443",
         "81EC40FDBBFF4E4B",
         "2020-12-23",
         "login",
         null,
         "2020-12-21",
         "EU",
         "PC",
         "12:32:38",
         null,
         "A",
         "interface_eu_test"
        ],
        [
         "7444",
         "81EC40FDBBFF4E4B",
         "2020-12-22",
         "product_page",
         null,
         "2020-12-21",
         "EU",
         "PC",
         "10:52:28",
         null,
         "A",
         "interface_eu_test"
        ],
        [
         "7445",
         "81EC40FDBBFF4E4B",
         "2020-12-23",
         "product_page",
         null,
         "2020-12-21",
         "EU",
         "PC",
         "12:32:41",
         null,
         "A",
         "interface_eu_test"
        ],
        [
         "7446",
         "82240827D9FAFDBC",
         "2020-12-19",
         "login",
         null,
         "2020-12-14",
         "EU",
         "Android",
         "06:25:55",
         null,
         "A",
         "recommender_system_test"
        ],
        [
         "7447",
         "82240827D9FAFDBC",
         "2020-12-22",
         "login",
         null,
         "2020-12-14",
         "EU",
         "Android",
         "15:40:10",
         null,
         "A",
         "recommender_system_test"
        ],
        [
         "7448",
         "82240827D9FAFDBC",
         "2020-12-14",
         "login",
         null,
         "2020-12-14",
         "EU",
         "Android",
         "18:27:25",
         null,
         "A",
         "recommender_system_test"
        ],
        [
         "7449",
         "822435730616871A",
         "2020-12-16",
         "product_page",
         null,
         "2020-12-16",
         "EU",
         "PC",
         "19:10:18",
         null,
         "A",
         "interface_eu_test"
        ],
        [
         "7450",
         "822435730616871A",
         "2020-12-16",
         "login",
         null,
         "2020-12-16",
         "EU",
         "PC",
         "19:10:17",
         null,
         "A",
         "interface_eu_test"
        ],
        [
         "7451",
         "823BE193CDC32ADF",
         "2020-12-21",
         "login",
         null,
         "2020-12-21",
         "EU",
         "Android",
         "14:24:55",
         null,
         "A",
         "interface_eu_test"
        ],
        [
         "7452",
         "823BE193CDC32ADF",
         "2020-12-23",
         "login",
         null,
         "2020-12-21",
         "EU",
         "Android",
         "06:48:21",
         null,
         "A",
         "recommender_system_test"
        ],
        [
         "7453",
         "823BE193CDC32ADF",
         "2020-12-21",
         "login",
         null,
         "2020-12-21",
         "EU",
         "Android",
         "14:24:55",
         null,
         "A",
         "recommender_system_test"
        ],
        [
         "7454",
         "823BE193CDC32ADF",
         "2020-12-23",
         "login",
         null,
         "2020-12-21",
         "EU",
         "Android",
         "06:48:21",
         null,
         "A",
         "interface_eu_test"
        ],
        [
         "7455",
         "824E90C79EB1A347",
         "2020-12-14",
         "login",
         null,
         "2020-12-14",
         "EU",
         "Android",
         "18:03:20",
         null,
         "A",
         "interface_eu_test"
        ],
        [
         "7456",
         "824E90C79EB1A347",
         "2020-12-21",
         "product_page",
         null,
         "2020-12-14",
         "EU",
         "Android",
         "00:39:19",
         null,
         "A",
         "interface_eu_test"
        ],
        [
         "7457",
         "824E90C79EB1A347",
         "2020-12-14",
         "product_page",
         null,
         "2020-12-14",
         "EU",
         "Android",
         "18:03:23",
         null,
         "A",
         "interface_eu_test"
        ],
        [
         "7458",
         "824E90C79EB1A347",
         "2020-12-21",
         "login",
         null,
         "2020-12-14",
         "EU",
         "Android",
         "00:39:17",
         null,
         "A",
         "interface_eu_test"
        ],
        [
         "7459",
         "825B68CAAB0C8D43",
         "2020-12-21",
         "login",
         null,
         "2020-12-19",
         "EU",
         "PC",
         "07:44:59",
         null,
         "A",
         "recommender_system_test"
        ],
        [
         "7460",
         "825B68CAAB0C8D43",
         "2020-12-29",
         "login",
         null,
         "2020-12-19",
         "EU",
         "PC",
         "17:24:54",
         "Christmas_New_Year_Promo",
         "A",
         "recommender_system_test"
        ],
        [
         "7461",
         "825B68CAAB0C8D43",
         "2020-12-29",
         "product_page",
         null,
         "2020-12-19",
         "EU",
         "PC",
         "17:24:56",
         "Christmas_New_Year_Promo",
         "A",
         "recommender_system_test"
        ],
        [
         "7462",
         "825B68CAAB0C8D43",
         "2020-12-19",
         "product_page",
         null,
         "2020-12-19",
         "EU",
         "PC",
         "21:15:30",
         null,
         "A",
         "recommender_system_test"
        ]
       ],
       "shape": {
        "columns": 11,
        "rows": 7412
       }
      },
      "text/html": [
       "<div>\n",
       "<style scoped>\n",
       "    .dataframe tbody tr th:only-of-type {\n",
       "        vertical-align: middle;\n",
       "    }\n",
       "\n",
       "    .dataframe tbody tr th {\n",
       "        vertical-align: top;\n",
       "    }\n",
       "\n",
       "    .dataframe thead th {\n",
       "        text-align: right;\n",
       "    }\n",
       "</style>\n",
       "<table border=\"1\" class=\"dataframe\">\n",
       "  <thead>\n",
       "    <tr style=\"text-align: right;\">\n",
       "      <th></th>\n",
       "      <th>user_id</th>\n",
       "      <th>event_dt</th>\n",
       "      <th>event_name</th>\n",
       "      <th>details</th>\n",
       "      <th>first_date</th>\n",
       "      <th>region</th>\n",
       "      <th>device</th>\n",
       "      <th>event_tm</th>\n",
       "      <th>mkt_event_name</th>\n",
       "      <th>group</th>\n",
       "      <th>ab_test</th>\n",
       "    </tr>\n",
       "  </thead>\n",
       "  <tbody>\n",
       "    <tr>\n",
       "      <th>7413</th>\n",
       "      <td>818AEF8DE8B21EA7</td>\n",
       "      <td>2020-12-14</td>\n",
       "      <td>login</td>\n",
       "      <td>&lt;NA&gt;</td>\n",
       "      <td>2020-12-14</td>\n",
       "      <td>EU</td>\n",
       "      <td>Android</td>\n",
       "      <td>11:50:05</td>\n",
       "      <td>&lt;NA&gt;</td>\n",
       "      <td>A</td>\n",
       "      <td>recommender_system_test</td>\n",
       "    </tr>\n",
       "    <tr>\n",
       "      <th>7414</th>\n",
       "      <td>818AEF8DE8B21EA7</td>\n",
       "      <td>2020-12-15</td>\n",
       "      <td>login</td>\n",
       "      <td>&lt;NA&gt;</td>\n",
       "      <td>2020-12-14</td>\n",
       "      <td>EU</td>\n",
       "      <td>Android</td>\n",
       "      <td>12:49:18</td>\n",
       "      <td>&lt;NA&gt;</td>\n",
       "      <td>A</td>\n",
       "      <td>recommender_system_test</td>\n",
       "    </tr>\n",
       "    <tr>\n",
       "      <th>7415</th>\n",
       "      <td>818AEF8DE8B21EA7</td>\n",
       "      <td>2020-12-27</td>\n",
       "      <td>login</td>\n",
       "      <td>&lt;NA&gt;</td>\n",
       "      <td>2020-12-14</td>\n",
       "      <td>EU</td>\n",
       "      <td>Android</td>\n",
       "      <td>09:53:59</td>\n",
       "      <td>Christmas_New_Year_Promo</td>\n",
       "      <td>A</td>\n",
       "      <td>recommender_system_test</td>\n",
       "    </tr>\n",
       "    <tr>\n",
       "      <th>7416</th>\n",
       "      <td>81AD59E23B9825CE</td>\n",
       "      <td>2020-12-20</td>\n",
       "      <td>product_cart</td>\n",
       "      <td>&lt;NA&gt;</td>\n",
       "      <td>2020-12-16</td>\n",
       "      <td>EU</td>\n",
       "      <td>Android</td>\n",
       "      <td>09:12:40</td>\n",
       "      <td>&lt;NA&gt;</td>\n",
       "      <td>A</td>\n",
       "      <td>recommender_system_test</td>\n",
       "    </tr>\n",
       "    <tr>\n",
       "      <th>7417</th>\n",
       "      <td>81AD59E23B9825CE</td>\n",
       "      <td>2020-12-20</td>\n",
       "      <td>product_page</td>\n",
       "      <td>&lt;NA&gt;</td>\n",
       "      <td>2020-12-16</td>\n",
       "      <td>EU</td>\n",
       "      <td>Android</td>\n",
       "      <td>09:12:39</td>\n",
       "      <td>&lt;NA&gt;</td>\n",
       "      <td>A</td>\n",
       "      <td>recommender_system_test</td>\n",
       "    </tr>\n",
       "    <tr>\n",
       "      <th>...</th>\n",
       "      <td>...</td>\n",
       "      <td>...</td>\n",
       "      <td>...</td>\n",
       "      <td>...</td>\n",
       "      <td>...</td>\n",
       "      <td>...</td>\n",
       "      <td>...</td>\n",
       "      <td>...</td>\n",
       "      <td>...</td>\n",
       "      <td>...</td>\n",
       "      <td>...</td>\n",
       "    </tr>\n",
       "    <tr>\n",
       "      <th>14820</th>\n",
       "      <td>FFAE9489C76F352B</td>\n",
       "      <td>2020-12-13</td>\n",
       "      <td>product_page</td>\n",
       "      <td>&lt;NA&gt;</td>\n",
       "      <td>2020-12-13</td>\n",
       "      <td>EU</td>\n",
       "      <td>Mac</td>\n",
       "      <td>18:46:06</td>\n",
       "      <td>&lt;NA&gt;</td>\n",
       "      <td>A</td>\n",
       "      <td>recommender_system_test</td>\n",
       "    </tr>\n",
       "    <tr>\n",
       "      <th>14821</th>\n",
       "      <td>FFAE9489C76F352B</td>\n",
       "      <td>2020-12-15</td>\n",
       "      <td>login</td>\n",
       "      <td>&lt;NA&gt;</td>\n",
       "      <td>2020-12-13</td>\n",
       "      <td>EU</td>\n",
       "      <td>Mac</td>\n",
       "      <td>20:14:51</td>\n",
       "      <td>&lt;NA&gt;</td>\n",
       "      <td>A</td>\n",
       "      <td>recommender_system_test</td>\n",
       "    </tr>\n",
       "    <tr>\n",
       "      <th>14822</th>\n",
       "      <td>FFAE9489C76F352B</td>\n",
       "      <td>2020-12-19</td>\n",
       "      <td>product_page</td>\n",
       "      <td>&lt;NA&gt;</td>\n",
       "      <td>2020-12-13</td>\n",
       "      <td>EU</td>\n",
       "      <td>Mac</td>\n",
       "      <td>11:32:51</td>\n",
       "      <td>&lt;NA&gt;</td>\n",
       "      <td>A</td>\n",
       "      <td>recommender_system_test</td>\n",
       "    </tr>\n",
       "    <tr>\n",
       "      <th>14823</th>\n",
       "      <td>FFDC1BEFD27A66D5</td>\n",
       "      <td>2020-12-10</td>\n",
       "      <td>login</td>\n",
       "      <td>&lt;NA&gt;</td>\n",
       "      <td>2020-12-10</td>\n",
       "      <td>EU</td>\n",
       "      <td>iPhone</td>\n",
       "      <td>09:31:29</td>\n",
       "      <td>&lt;NA&gt;</td>\n",
       "      <td>A</td>\n",
       "      <td>interface_eu_test</td>\n",
       "    </tr>\n",
       "    <tr>\n",
       "      <th>14824</th>\n",
       "      <td>FFDC1BEFD27A66D5</td>\n",
       "      <td>2020-12-14</td>\n",
       "      <td>login</td>\n",
       "      <td>&lt;NA&gt;</td>\n",
       "      <td>2020-12-10</td>\n",
       "      <td>EU</td>\n",
       "      <td>iPhone</td>\n",
       "      <td>14:33:43</td>\n",
       "      <td>&lt;NA&gt;</td>\n",
       "      <td>A</td>\n",
       "      <td>interface_eu_test</td>\n",
       "    </tr>\n",
       "  </tbody>\n",
       "</table>\n",
       "<p>7412 rows × 11 columns</p>\n",
       "</div>"
      ],
      "text/plain": [
       "                user_id    event_dt    event_name details  first_date region  \\\n",
       "7413   818AEF8DE8B21EA7  2020-12-14         login    <NA>  2020-12-14     EU   \n",
       "7414   818AEF8DE8B21EA7  2020-12-15         login    <NA>  2020-12-14     EU   \n",
       "7415   818AEF8DE8B21EA7  2020-12-27         login    <NA>  2020-12-14     EU   \n",
       "7416   81AD59E23B9825CE  2020-12-20  product_cart    <NA>  2020-12-16     EU   \n",
       "7417   81AD59E23B9825CE  2020-12-20  product_page    <NA>  2020-12-16     EU   \n",
       "...                 ...         ...           ...     ...         ...    ...   \n",
       "14820  FFAE9489C76F352B  2020-12-13  product_page    <NA>  2020-12-13     EU   \n",
       "14821  FFAE9489C76F352B  2020-12-15         login    <NA>  2020-12-13     EU   \n",
       "14822  FFAE9489C76F352B  2020-12-19  product_page    <NA>  2020-12-13     EU   \n",
       "14823  FFDC1BEFD27A66D5  2020-12-10         login    <NA>  2020-12-10     EU   \n",
       "14824  FFDC1BEFD27A66D5  2020-12-14         login    <NA>  2020-12-10     EU   \n",
       "\n",
       "        device  event_tm            mkt_event_name group  \\\n",
       "7413   Android  11:50:05                      <NA>     A   \n",
       "7414   Android  12:49:18                      <NA>     A   \n",
       "7415   Android  09:53:59  Christmas_New_Year_Promo     A   \n",
       "7416   Android  09:12:40                      <NA>     A   \n",
       "7417   Android  09:12:39                      <NA>     A   \n",
       "...        ...       ...                       ...   ...   \n",
       "14820      Mac  18:46:06                      <NA>     A   \n",
       "14821      Mac  20:14:51                      <NA>     A   \n",
       "14822      Mac  11:32:51                      <NA>     A   \n",
       "14823   iPhone  09:31:29                      <NA>     A   \n",
       "14824   iPhone  14:33:43                      <NA>     A   \n",
       "\n",
       "                       ab_test  \n",
       "7413   recommender_system_test  \n",
       "7414   recommender_system_test  \n",
       "7415   recommender_system_test  \n",
       "7416   recommender_system_test  \n",
       "7417   recommender_system_test  \n",
       "...                        ...  \n",
       "14820  recommender_system_test  \n",
       "14821  recommender_system_test  \n",
       "14822  recommender_system_test  \n",
       "14823        interface_eu_test  \n",
       "14824        interface_eu_test  \n",
       "\n",
       "[7412 rows x 11 columns]"
      ]
     },
     "execution_count": 69,
     "metadata": {},
     "output_type": "execute_result"
    }
   ],
   "source": [
    "df_users_aa_a2 = df_users_aa_base.iloc[7413:, :]\n",
    "df_users_aa_a2"
   ]
  },
  {
   "cell_type": "code",
   "execution_count": 71,
   "id": "716d8ce7",
   "metadata": {},
   "outputs": [
    {
     "data": {
      "text/plain": [
       "array(['0002CE61FF2C4011', '003346BB64227D0C', '00341D8401F0F665', ...,\n",
       "       '8180B27CEE324BFD', '818112D4190F52DF', '81836000CB0E6C20'],\n",
       "      dtype=object)"
      ]
     },
     "execution_count": 71,
     "metadata": {},
     "output_type": "execute_result"
    }
   ],
   "source": [
    "users_aa_a1 = df_users_aa_a1['user_id'].unique() \n",
    "users_aa_a1"
   ]
  },
  {
   "cell_type": "code",
   "execution_count": 72,
   "id": "c7bec369",
   "metadata": {},
   "outputs": [
    {
     "data": {
      "text/plain": [
       "array(['818AEF8DE8B21EA7', '81AD59E23B9825CE', '81AE85FD2E4A0B25', ...,\n",
       "       'FF825C1D791989B5', 'FFAE9489C76F352B', 'FFDC1BEFD27A66D5'],\n",
       "      dtype=object)"
      ]
     },
     "execution_count": 72,
     "metadata": {},
     "output_type": "execute_result"
    }
   ],
   "source": [
    "users_aa_a2 = df_users_aa_a2['user_id'].unique() \n",
    "users_aa_a2"
   ]
  },
  {
   "cell_type": "code",
   "execution_count": null,
   "id": "5ee604db",
   "metadata": {},
   "outputs": [
    {
     "name": "stdout",
     "output_type": "stream",
     "text": [
      "> Duplicate users between AA1 and AA2: 0\n"
     ]
    }
   ],
   "source": [
    "# Check if there are the same users in both samples\n",
    "duplicates = set(df_users_aa_a1['user_id'].unique()) & set(df_users_aa_a2['user_id'].unique())\n",
    "print(f\"> Duplicate users between AA1 and AA2: {len(duplicates)}\")\n"
   ]
  },
  {
   "cell_type": "code",
   "execution_count": 80,
   "id": "fdf8e851",
   "metadata": {},
   "outputs": [
    {
     "data": {
      "text/html": [
       "> Group balance verification: <i>AA1 group</i> (<b>1949</b>), <i>AA2 group</i> (<b>1941</b>)"
      ],
      "text/plain": [
       "<IPython.core.display.HTML object>"
      ]
     },
     "metadata": {},
     "output_type": "display_data"
    },
    {
     "data": {
      "text/html": [
       "> Group balance difference rate: <i>Difference</i> <b>8</b>, Rate <b>0.206 %</b>"
      ],
      "text/plain": [
       "<IPython.core.display.HTML object>"
      ]
     },
     "metadata": {},
     "output_type": "display_data"
    },
    {
     "data": {
      "text/html": [
       "> Groups are balanced."
      ],
      "text/plain": [
       "<IPython.core.display.HTML object>"
      ]
     },
     "metadata": {},
     "output_type": "display_data"
    }
   ],
   "source": [
    "# Check group balance\n",
    "total = df_users_aa_a1['user_id'].nunique() + df_users_aa_a2['user_id'].nunique()\n",
    "difference = df_users_aa_a1['user_id'].nunique() - df_users_aa_a2['user_id'].nunique()\n",
    "rate = (difference / total) * 100\n",
    "\n",
    "display(HTML(f\"> Group balance verification: <i>AA1 group</i> (<b>{df_users_aa_a1['user_id'].nunique()}</b>), <i>AA2 group</i> (<b>{df_users_aa_a2['user_id'].nunique()}</b>)\"))\n",
    "display(HTML(f\"> Group balance difference rate: <i>Difference</i> <b>{difference}</b>, Rate <b>{round(rate, 3)} %</b>\"))\n",
    "\n",
    "if rate < 5:\n",
    "    display(HTML(f\"> Groups are balanced.\"))\n",
    "else:\n",
    "    display(HTML(f\"> Groups are unbalanced.\"))"
   ]
  },
  {
   "cell_type": "markdown",
   "id": "3eb93eee",
   "metadata": {},
   "source": [
    "**7.3.2** AA groups conversion comparison"
   ]
  },
  {
   "cell_type": "code",
   "execution_count": 81,
   "id": "759c128e",
   "metadata": {},
   "outputs": [
    {
     "data": {
      "application/vnd.microsoft.datawrangler.viewer.v0+json": {
       "columns": [
        {
         "name": "index",
         "rawType": "int64",
         "type": "integer"
        },
        {
         "name": "event_name",
         "rawType": "category",
         "type": "unknown"
        },
        {
         "name": "events",
         "rawType": "int64",
         "type": "integer"
        },
        {
         "name": "users",
         "rawType": "int64",
         "type": "integer"
        },
        {
         "name": "conversion_rate",
         "rawType": "float64",
         "type": "float"
        },
        {
         "name": "total_conversion_rate",
         "rawType": "float64",
         "type": "float"
        },
        {
         "name": "stage_conversion_rate",
         "rawType": "float64",
         "type": "float"
        }
       ],
       "ref": "d7d214d1-91f8-4cd9-9bb3-b5d3da7b7ea9",
       "rows": [
        [
         "0",
         "login",
         "4626",
         "1947",
         "42.088",
         "100.0",
         null
        ],
        [
         "1",
         "product_page",
         "2095",
         "1086",
         "51.838",
         "55.778",
         "55.778"
        ],
        [
         "2",
         "product_cart",
         "690",
         "394",
         "57.101",
         "20.236",
         "36.28"
        ],
        [
         "3",
         "purchase",
         "2",
         "2",
         "100.0",
         "0.103",
         "0.508"
        ]
       ],
       "shape": {
        "columns": 6,
        "rows": 4
       }
      },
      "text/html": [
       "<div>\n",
       "<style scoped>\n",
       "    .dataframe tbody tr th:only-of-type {\n",
       "        vertical-align: middle;\n",
       "    }\n",
       "\n",
       "    .dataframe tbody tr th {\n",
       "        vertical-align: top;\n",
       "    }\n",
       "\n",
       "    .dataframe thead th {\n",
       "        text-align: right;\n",
       "    }\n",
       "</style>\n",
       "<table border=\"1\" class=\"dataframe\">\n",
       "  <thead>\n",
       "    <tr style=\"text-align: right;\">\n",
       "      <th></th>\n",
       "      <th>event_name</th>\n",
       "      <th>events</th>\n",
       "      <th>users</th>\n",
       "      <th>conversion_rate</th>\n",
       "      <th>total_conversion_rate</th>\n",
       "      <th>stage_conversion_rate</th>\n",
       "    </tr>\n",
       "  </thead>\n",
       "  <tbody>\n",
       "    <tr>\n",
       "      <th>0</th>\n",
       "      <td>login</td>\n",
       "      <td>4626</td>\n",
       "      <td>1947</td>\n",
       "      <td>42.088</td>\n",
       "      <td>100.000</td>\n",
       "      <td>NaN</td>\n",
       "    </tr>\n",
       "    <tr>\n",
       "      <th>1</th>\n",
       "      <td>product_page</td>\n",
       "      <td>2095</td>\n",
       "      <td>1086</td>\n",
       "      <td>51.838</td>\n",
       "      <td>55.778</td>\n",
       "      <td>55.778</td>\n",
       "    </tr>\n",
       "    <tr>\n",
       "      <th>2</th>\n",
       "      <td>product_cart</td>\n",
       "      <td>690</td>\n",
       "      <td>394</td>\n",
       "      <td>57.101</td>\n",
       "      <td>20.236</td>\n",
       "      <td>36.280</td>\n",
       "    </tr>\n",
       "    <tr>\n",
       "      <th>3</th>\n",
       "      <td>purchase</td>\n",
       "      <td>2</td>\n",
       "      <td>2</td>\n",
       "      <td>100.000</td>\n",
       "      <td>0.103</td>\n",
       "      <td>0.508</td>\n",
       "    </tr>\n",
       "  </tbody>\n",
       "</table>\n",
       "</div>"
      ],
      "text/plain": [
       "     event_name  events  users  conversion_rate  total_conversion_rate  \\\n",
       "0         login    4626   1947           42.088                100.000   \n",
       "1  product_page    2095   1086           51.838                 55.778   \n",
       "2  product_cart     690    394           57.101                 20.236   \n",
       "3      purchase       2      2          100.000                  0.103   \n",
       "\n",
       "   stage_conversion_rate  \n",
       "0                    NaN  \n",
       "1                 55.778  \n",
       "2                 36.280  \n",
       "3                  0.508  "
      ]
     },
     "execution_count": 81,
     "metadata": {},
     "output_type": "execute_result"
    }
   ],
   "source": [
    "df_funnel_AA1 = df_users_aa_a1\n",
    "df_funnel_AA1 = df_funnel_AA1.groupby('event_name', observed=True).agg(events=('event_name', 'count'), users=('user_id', 'nunique')).sort_values(by='users', ascending=False).reset_index()\n",
    "df_funnel_AA1['conversion_rate'] = ((df_funnel_AA1['users'] / df_funnel_AA1['events']) * 100).round(3)\n",
    "df_funnel_AA1['total_conversion_rate'] = ((df_funnel_AA1['users'] / df_funnel_AA1.loc[0, 'users']) * 100).round(3)\n",
    "df_funnel_AA1['stage_conversion_rate'] = ((df_funnel_AA1['users'] / df_funnel_AA1['users'].shift(1)) * 100).round(3)\n",
    "df_funnel_AA1"
   ]
  },
  {
   "cell_type": "code",
   "execution_count": 82,
   "id": "146d29df",
   "metadata": {},
   "outputs": [
    {
     "data": {
      "application/vnd.microsoft.datawrangler.viewer.v0+json": {
       "columns": [
        {
         "name": "index",
         "rawType": "int64",
         "type": "integer"
        },
        {
         "name": "event_name",
         "rawType": "category",
         "type": "unknown"
        },
        {
         "name": "events",
         "rawType": "int64",
         "type": "integer"
        },
        {
         "name": "users",
         "rawType": "int64",
         "type": "integer"
        },
        {
         "name": "conversion_rate",
         "rawType": "float64",
         "type": "float"
        },
        {
         "name": "total_conversion_rate",
         "rawType": "float64",
         "type": "float"
        },
        {
         "name": "stage_conversion_rate",
         "rawType": "float64",
         "type": "float"
        }
       ],
       "ref": "8ec9ad1c-4804-423e-9992-aa2888847601",
       "rows": [
        [
         "0",
         "login",
         "4574",
         "1930",
         "42.195",
         "100.0",
         null
        ],
        [
         "1",
         "product_page",
         "2137",
         "1115",
         "52.176",
         "57.772",
         "57.772"
        ],
        [
         "2",
         "product_cart",
         "687",
         "378",
         "55.022",
         "19.585",
         "33.901"
        ],
        [
         "3",
         "purchase",
         "14",
         "13",
         "92.857",
         "0.674",
         "3.439"
        ]
       ],
       "shape": {
        "columns": 6,
        "rows": 4
       }
      },
      "text/html": [
       "<div>\n",
       "<style scoped>\n",
       "    .dataframe tbody tr th:only-of-type {\n",
       "        vertical-align: middle;\n",
       "    }\n",
       "\n",
       "    .dataframe tbody tr th {\n",
       "        vertical-align: top;\n",
       "    }\n",
       "\n",
       "    .dataframe thead th {\n",
       "        text-align: right;\n",
       "    }\n",
       "</style>\n",
       "<table border=\"1\" class=\"dataframe\">\n",
       "  <thead>\n",
       "    <tr style=\"text-align: right;\">\n",
       "      <th></th>\n",
       "      <th>event_name</th>\n",
       "      <th>events</th>\n",
       "      <th>users</th>\n",
       "      <th>conversion_rate</th>\n",
       "      <th>total_conversion_rate</th>\n",
       "      <th>stage_conversion_rate</th>\n",
       "    </tr>\n",
       "  </thead>\n",
       "  <tbody>\n",
       "    <tr>\n",
       "      <th>0</th>\n",
       "      <td>login</td>\n",
       "      <td>4574</td>\n",
       "      <td>1930</td>\n",
       "      <td>42.195</td>\n",
       "      <td>100.000</td>\n",
       "      <td>NaN</td>\n",
       "    </tr>\n",
       "    <tr>\n",
       "      <th>1</th>\n",
       "      <td>product_page</td>\n",
       "      <td>2137</td>\n",
       "      <td>1115</td>\n",
       "      <td>52.176</td>\n",
       "      <td>57.772</td>\n",
       "      <td>57.772</td>\n",
       "    </tr>\n",
       "    <tr>\n",
       "      <th>2</th>\n",
       "      <td>product_cart</td>\n",
       "      <td>687</td>\n",
       "      <td>378</td>\n",
       "      <td>55.022</td>\n",
       "      <td>19.585</td>\n",
       "      <td>33.901</td>\n",
       "    </tr>\n",
       "    <tr>\n",
       "      <th>3</th>\n",
       "      <td>purchase</td>\n",
       "      <td>14</td>\n",
       "      <td>13</td>\n",
       "      <td>92.857</td>\n",
       "      <td>0.674</td>\n",
       "      <td>3.439</td>\n",
       "    </tr>\n",
       "  </tbody>\n",
       "</table>\n",
       "</div>"
      ],
      "text/plain": [
       "     event_name  events  users  conversion_rate  total_conversion_rate  \\\n",
       "0         login    4574   1930           42.195                100.000   \n",
       "1  product_page    2137   1115           52.176                 57.772   \n",
       "2  product_cart     687    378           55.022                 19.585   \n",
       "3      purchase      14     13           92.857                  0.674   \n",
       "\n",
       "   stage_conversion_rate  \n",
       "0                    NaN  \n",
       "1                 57.772  \n",
       "2                 33.901  \n",
       "3                  3.439  "
      ]
     },
     "execution_count": 82,
     "metadata": {},
     "output_type": "execute_result"
    }
   ],
   "source": [
    "df_funnel_AA2 = df_users_aa_a2\n",
    "df_funnel_AA2 = df_funnel_AA2.groupby('event_name', observed=True).agg(events=('event_name', 'count'), users=('user_id', 'nunique')).sort_values(by='users', ascending=False).reset_index()\n",
    "df_funnel_AA2['conversion_rate'] = ((df_funnel_AA2['users'] / df_funnel_AA2['events']) * 100).round(3)\n",
    "df_funnel_AA2['total_conversion_rate'] = ((df_funnel_AA2['users'] / df_funnel_AA2.loc[0, 'users']) * 100).round(3)\n",
    "df_funnel_AA2['stage_conversion_rate'] = ((df_funnel_AA2['users'] / df_funnel_AA2['users'].shift(1)) * 100).round(3)\n",
    "df_funnel_AA2"
   ]
  },
  {
   "cell_type": "code",
   "execution_count": 83,
   "id": "dd2df6d7",
   "metadata": {},
   "outputs": [
    {
     "name": "stderr",
     "output_type": "stream",
     "text": [
      "c:\\Users\\luisp\\anaconda3\\envs\\ai_dataAnalysis\\lib\\site-packages\\statsmodels\\stats\\weightstats.py:792: RuntimeWarning:\n",
      "\n",
      "invalid value encountered in scalar divide\n",
      "\n"
     ]
    },
    {
     "data": {
      "application/vnd.microsoft.datawrangler.viewer.v0+json": {
       "columns": [
        {
         "name": "index",
         "rawType": "int64",
         "type": "integer"
        },
        {
         "name": "event",
         "rawType": "object",
         "type": "string"
        },
        {
         "name": "AA1_users",
         "rawType": "int64",
         "type": "integer"
        },
        {
         "name": "AA2_users",
         "rawType": "int64",
         "type": "integer"
        },
        {
         "name": "z_score",
         "rawType": "float64",
         "type": "float"
        },
        {
         "name": "p_value",
         "rawType": "float64",
         "type": "float"
        }
       ],
       "ref": "c08e6755-a8e1-4c92-a6de-b13e9c715183",
       "rows": [
        [
         "0",
         "login",
         "1947",
         "1930",
         null,
         null
        ],
        [
         "1",
         "product_page",
         "1086",
         "1115",
         "-1.253",
         "0.2102"
        ],
        [
         "2",
         "product_cart",
         "394",
         "378",
         "0.5073",
         "0.6119"
        ],
        [
         "3",
         "purchase",
         "2",
         "13",
         "-2.8627",
         "0.0042"
        ]
       ],
       "shape": {
        "columns": 5,
        "rows": 4
       }
      },
      "text/html": [
       "<div>\n",
       "<style scoped>\n",
       "    .dataframe tbody tr th:only-of-type {\n",
       "        vertical-align: middle;\n",
       "    }\n",
       "\n",
       "    .dataframe tbody tr th {\n",
       "        vertical-align: top;\n",
       "    }\n",
       "\n",
       "    .dataframe thead th {\n",
       "        text-align: right;\n",
       "    }\n",
       "</style>\n",
       "<table border=\"1\" class=\"dataframe\">\n",
       "  <thead>\n",
       "    <tr style=\"text-align: right;\">\n",
       "      <th></th>\n",
       "      <th>event</th>\n",
       "      <th>AA1_users</th>\n",
       "      <th>AA2_users</th>\n",
       "      <th>z_score</th>\n",
       "      <th>p_value</th>\n",
       "    </tr>\n",
       "  </thead>\n",
       "  <tbody>\n",
       "    <tr>\n",
       "      <th>0</th>\n",
       "      <td>login</td>\n",
       "      <td>1947</td>\n",
       "      <td>1930</td>\n",
       "      <td>NaN</td>\n",
       "      <td>NaN</td>\n",
       "    </tr>\n",
       "    <tr>\n",
       "      <th>1</th>\n",
       "      <td>product_page</td>\n",
       "      <td>1086</td>\n",
       "      <td>1115</td>\n",
       "      <td>-1.2530</td>\n",
       "      <td>0.2102</td>\n",
       "    </tr>\n",
       "    <tr>\n",
       "      <th>2</th>\n",
       "      <td>product_cart</td>\n",
       "      <td>394</td>\n",
       "      <td>378</td>\n",
       "      <td>0.5073</td>\n",
       "      <td>0.6119</td>\n",
       "    </tr>\n",
       "    <tr>\n",
       "      <th>3</th>\n",
       "      <td>purchase</td>\n",
       "      <td>2</td>\n",
       "      <td>13</td>\n",
       "      <td>-2.8627</td>\n",
       "      <td>0.0042</td>\n",
       "    </tr>\n",
       "  </tbody>\n",
       "</table>\n",
       "</div>"
      ],
      "text/plain": [
       "          event  AA1_users  AA2_users  z_score  p_value\n",
       "0         login       1947       1930      NaN      NaN\n",
       "1  product_page       1086       1115  -1.2530   0.2102\n",
       "2  product_cart        394        378   0.5073   0.6119\n",
       "3      purchase          2         13  -2.8627   0.0042"
      ]
     },
     "execution_count": 83,
     "metadata": {},
     "output_type": "execute_result"
    }
   ],
   "source": [
    "# Z test\n",
    "\n",
    "# 1. Hypotheses H₀, H₁\n",
    "# H₀: The proportion of events are the same between group AA1 and group AA2.\n",
    "# H₁: The proportion of events are different between group AA1 and group AA2.\n",
    "\n",
    "# 2. Specify Significance or Confidence\n",
    "# alpha = 5%\n",
    "# confidence = 95%\n",
    "\n",
    "alpha = 0.05\n",
    "\n",
    "# 3. Calculate critical and test values, define acceptance and rejection zones\n",
    "\n",
    "results = []\n",
    "\n",
    "# Total number of users in each group (make sure it is not empty)\n",
    "try:\n",
    "    total_users_1 = int(df_funnel_AA1.loc[df_funnel_AA1['event_name'] == 'login', 'users'].values[0])\n",
    "    total_users_2 = int(df_funnel_AA2.loc[df_funnel_AA2['event_name'] == 'login', 'users'].values[0])\n",
    "except IndexError:\n",
    "    raise ValueError(\"The 'login' event was not found in one of the groups.\")\n",
    "\n",
    "for event in df_funnel_AA1['event_name']:\n",
    "    try:\n",
    "        count1 = int(df_funnel_AA1.loc[df_funnel_AA1['event_name'] == event, 'users'].values[0])\n",
    "        count2 = int(df_funnel_AA2.loc[df_funnel_AA2['event_name'] == event, 'users'].values[0])\n",
    "\n",
    "        # Validation: avoid division by zero\n",
    "        if total_users_1 == 0 or total_users_2 == 0:\n",
    "            stat, pval = np.nan, np.nan\n",
    "        else:\n",
    "            stat, pval = proportions_ztest(count=[count1, count2], nobs=[total_users_1, total_users_2])\n",
    "\n",
    "        results.append({\n",
    "            'event': event,\n",
    "            'AA1_users': count1,\n",
    "            'AA2_users': count2,\n",
    "            'z_score': round(stat, 4) if not np.isnan(stat) else None,\n",
    "            'p_value': round(pval, 4) if not np.isnan(pval) else None\n",
    "        })\n",
    "\n",
    "    except IndexError:\n",
    "        print(f\"Event '{event}' not found in both groups. Ignored.\")\n",
    "    \n",
    "df_ztest = pd.DataFrame(results)\n",
    "df_ztest"
   ]
  },
  {
   "cell_type": "code",
   "execution_count": 84,
   "id": "ad8ce1ea",
   "metadata": {},
   "outputs": [
    {
     "data": {
      "text/html": [
       "> H₀ is not rejected, rejecting H₁, because there is not enough statistical evidence that the proportion of <i>product_page</i> events differs between group AA1 and group AA2."
      ],
      "text/plain": [
       "<IPython.core.display.HTML object>"
      ]
     },
     "metadata": {},
     "output_type": "display_data"
    },
    {
     "data": {
      "text/html": [
       "> H₀ is not rejected, rejecting H₁, because there is not enough statistical evidence that the proportion of <i>product_cart</i> events differs between group AA1 and group AA2."
      ],
      "text/plain": [
       "<IPython.core.display.HTML object>"
      ]
     },
     "metadata": {},
     "output_type": "display_data"
    },
    {
     "data": {
      "text/html": [
       "> H₀ is rejected, not rejecting H₁, because there is enough statistical evidence that the proportion of <i>purchase</i> events differs significantly between group AA1 and group AA2."
      ],
      "text/plain": [
       "<IPython.core.display.HTML object>"
      ]
     },
     "metadata": {},
     "output_type": "display_data"
    }
   ],
   "source": [
    "for index, row in df_ztest.iterrows():\n",
    "    if row['event'] == 'login':\n",
    "        continue\n",
    "    elif row['p_value'] < 0.05:\n",
    "        display(HTML(f\"> H₀ is rejected, not rejecting H₁, because there is enough statistical evidence that the proportion of <i>{row['event']}</i> events differs significantly between group AA1 and group AA2.\"))\n",
    "    else:\n",
    "        display(HTML(f\"> H₀ is not rejected, rejecting H₁, because there is not enough statistical evidence that the proportion of <i>{row['event']}</i> events differs between group AA1 and group AA2.\"))\n"
   ]
  },
  {
   "cell_type": "markdown",
   "id": "76d7bf38",
   "metadata": {},
   "source": [
    "#### **7.4** A/B Test"
   ]
  },
  {
   "cell_type": "markdown",
   "id": "1fa514bf",
   "metadata": {},
   "source": [
    "**7.4.1** AA group segmentation"
   ]
  }
 ],
 "metadata": {
  "kernelspec": {
   "display_name": "ai_dataAnalysis",
   "language": "python",
   "name": "python3"
  },
  "language_info": {
   "codemirror_mode": {
    "name": "ipython",
    "version": 3
   },
   "file_extension": ".py",
   "mimetype": "text/x-python",
   "name": "python",
   "nbconvert_exporter": "python",
   "pygments_lexer": "ipython3",
   "version": "3.10.18"
  }
 },
 "nbformat": 4,
 "nbformat_minor": 5
}
