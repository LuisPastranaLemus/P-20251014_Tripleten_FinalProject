{
 "cells": [
  {
   "cell_type": "markdown",
   "id": "9acf1cab",
   "metadata": {},
   "source": [
    "### 🎯 __Project Objectives: A/B Test — “recommender_system_test”__\n",
    "\n",
    "The main objective of this second phase of the data analysis project is to evaluate the impact of implementing a new recommendation system on the behavior of users of an international online store, through the analysis of a controlled A/B test.\n",
    "\n",
    "Specifically, the objectives are:\n",
    "\n",
    "1. Measure and compare the performance of the new checkout funnel (group B) against the current funnel (group A), using key conversion metrics within the user journey:\n",
    "\n",
    "    - Product page views (product_page)\n",
    "    - Add to cart events (product_cart)\n",
    "    - Completed purchases (purchase)\n",
    "\n",
    "2. Validate whether the new recommendation system improves sales funnel conversion by at least 10% at each stage, within 14 days of user registration, as established in the business hypothesis.\n",
    "\n",
    "3. Verify the consistency and quality of the collected data to ensure the analysis is statistically reliable and representative of the selected audience (15% of new users in the EU region).\n",
    "\n",
    "4. Apply appropriate statistical methods (such as hypothesis testing and significance analysis) to determine whether the observed differences between groups A and B are attributable to the new recommendation system and not due to chance.\n",
    "\n",
    "5. Communicate actionable findings that allow the product team to decide whether the new checkout funnel should be implemented widely or requires additional adjustments before full deployment."
   ]
  },
  {
   "cell_type": "markdown",
   "id": "dd2fd989",
   "metadata": {},
   "source": [
    "#### __Technical Description__\n",
    "\n",
    "- Test Name: __recommender_system_test__\n",
    "- Groups: A (control), B (new checkout funnel)\n",
    "- Launch Date: 2020-12-07\n",
    "- Date new users stopped: 2020-12-21\n",
    "- End Date: 2021-01-01\n",
    "- Audience: __15% of new__ users from the _EU region_\n",
    "- Test Purpose: To test changes related to the introduction of an improved recommendation system\n",
    "- Expected Outcome: __Within 14 days of enrollment__, users will show improved conversion rates for product page views (the product_page event), adding items to the shopping cart (product_cart), and purchases (purchase). At each stage of the `product_page → product_cart → purchase` __funnel__, there will be _at least a 10% increase_.\n",
    "- Expected number of test participants: 6,000\n",
    "\n",
    "\n",
    "####  __Data Description__\n",
    "\n",
    "`ab_project_marketing_events_us.csv` (the marketing events calendar for 2020)\n",
    "\n",
    "- `name`: the name of the marketing event\n",
    "- `regions`: regions where the advertising campaign will be run\n",
    "- `start_dt`: the campaign start date\n",
    "- `finish_dt`: the campaign end date\n",
    "\n",
    "`final_ab_new_users_upd_us.csv` (all users who registered in the online store from December 7 to 21, 2020)\n",
    "\n",
    "- `user_id`: user identification\n",
    "- `first_date`: Date of enrollment\n",
    "- `region`: location\n",
    "- `device`: Device used for enrollment\n",
    "\n",
    "`final_ab_events_upd_us.csv` (all new user events from December 7, 2020, to January 1, 2021)\n",
    "\n",
    "- `user_id`: user identification\n",
    "- `event_dt`: Date and time of the event\n",
    "- `event_name`: Name of the event type\n",
    "- `details`: Additional information about the event (e.g., the total order in USD for purchase events)\n",
    "\n",
    "`final_ab_participants_upd_us.csv` (a table with data on test participants)\n",
    "\n",
    "- `user_id`: user identification\n",
    "- `ab_test`: Name of the test\n",
    "- `group`: The test group the user belonged to"
   ]
  },
  {
   "cell_type": "markdown",
   "id": "84f9d0ca",
   "metadata": {},
   "source": [
    "### 💻 __1. Notebook Libraries and Customization__"
   ]
  },
  {
   "cell_type": "code",
   "execution_count": 1,
   "id": "68d7a683",
   "metadata": {},
   "outputs": [],
   "source": [
    "from IPython.display import display, HTML\n",
    "from matplotlib import pyplot as plt\n",
    "import numpy as np\n",
    "import pandas as pd\n",
    "import plotly.express as px\n",
    "import plotly.graph_objects as go\n",
    "import re\n",
    "from scipy import stats as st\n",
    "from statsmodels.stats.proportion import proportions_ztest\n",
    "import unicodedata"
   ]
  },
  {
   "cell_type": "markdown",
   "id": "459e8995",
   "metadata": {},
   "source": [
    "### 💻 __2. Functions__"
   ]
  },
  {
   "cell_type": "code",
   "execution_count": 2,
   "id": "c78ce549",
   "metadata": {},
   "outputs": [],
   "source": [
    "# Function to normalize string formatting in object-type columns\n",
    "def normalize_string_format(df, include=None, exclude=None):\n",
    "    \"\"\"\n",
    "    Standardizes text formatting for object-type (string) columns in a DataFrame.\n",
    "\n",
    "    Operations performed:\n",
    "    - Converts text to lowercase\n",
    "    - Strips leading/trailing whitespace\n",
    "    - Replaces punctuation with spaces\n",
    "    - Collapses spaces into underscores\n",
    "    - Removes redundant underscores\n",
    "    - Adds unicode normalization to remove accents and special characters.\n",
    "\n",
    "    Parameters:\n",
    "    df (DataFrame): The input DataFrame.\n",
    "    include (list, optional): Specific columns to apply formatting to. If None, applies to all except those in 'exclude'.\n",
    "    exclude (list, optional): Columns to skip.\n",
    "\n",
    "    Returns:\n",
    "    DataFrame: Updated DataFrame with normalized string formats.\n",
    "    \"\"\"\n",
    "\n",
    "    if exclude is None:\n",
    "        exclude = []\n",
    "\n",
    "    if include is None:\n",
    "        available_columns = [col for col in df.columns if col not in exclude]\n",
    "    else:\n",
    "        available_columns = [col for col in include if col not in exclude]\n",
    "\n",
    "    def clean_text(text):\n",
    "        if isinstance(text, str):\n",
    "            text = unicodedata.normalize('NFKD', text).encode('ascii', 'ignore').decode('utf-8')\n",
    "            text = (text\n",
    "                    # .lower()\n",
    "                    .strip())\n",
    "            text = re.sub(r'[^\\w\\s.]', ' ', text)    # Replaces all characters other than letters, numbers, or spaces with a space\n",
    "            text = re.sub(r'\\s+', '_', text)        # Replace one or more consecutive spaces with an underscore \"_\"\n",
    "            text = re.sub(r'__+', '_', text)        # Replaces multiple consecutive underscores with a single \"_\"\n",
    "            text = re.sub(r'_(?=\\s|$)', '', text)   # Removes underscores that are just before a space or at the end of the text\n",
    "            text = re.sub(r'__+', '_', text)        # Replaces double underscores with single underscores\n",
    "        return text\n",
    "\n",
    "    for column in available_columns:\n",
    "        if df[column].dtype in ['object', 'string']:\n",
    "            df[column] = df[column].apply(clean_text)\n",
    "\n",
    "    return df\n",
    "\n",
    "# Function to identify non-standard missing values in object-type columns\n",
    "def check_existing_missing_values(df):\n",
    "    \"\"\"\n",
    "    Checks object-type columns in a DataFrame for non-standard missing values.\n",
    "\n",
    "    Parameters:\n",
    "    df (DataFrame): The dataset to inspect.\n",
    "\n",
    "    Output:\n",
    "    Displays the number of non-standard missing entries per column and the matched values.\n",
    "    \"\"\"\n",
    "\n",
    "    # Common non-standard representations of missing values\n",
    "    missing_values = ['', ' ', 'N/A', 'none', 'None','null', 'NULL', 'NaN', 'nan', 'NAN', 'nat', 'NaT']\n",
    "\n",
    "    display(HTML(f\"<h4>Scanning for Non-Standard Missing Values</h4>\"))\n",
    "\n",
    "    for column in df.columns:\n",
    "\n",
    "        matches = df[df[column].isin(missing_values)][column].unique()\n",
    "\n",
    "        if df[column].isin(missing_values).any() and matches.size > 0:\n",
    "            count = df[column].isin(missing_values).sum()\n",
    "            display(\n",
    "                HTML(f\"> Missing values in column <i>'{column}'</i>: <b>{count}</b>\"))\n",
    "            display(\n",
    "                HTML(f\"&emsp;Matched non-standard values: {list(matches)}\"))\n",
    "        else:\n",
    "            display(\n",
    "                HTML(f\"> Missing values in column <i>'{column}'</i>: None\"))\n",
    "\n",
    "    print()\n",
    "\n",
    "    return None\n",
    "\n",
    "# Function to standardize non-standard missing values to pd.NA\n",
    "def replace_missing_values(df, include=None, exclude=None):\n",
    "    \"\"\"\n",
    "    Replaces common non-standard missing value entries in object-type columns with pd.NA.\n",
    "\n",
    "    Parameters:\n",
    "    df (DataFrame): The input dataset.\n",
    "    include (list, optional): List of columns to include. If None, all columns except those in 'exclude' are considered.\n",
    "    exclude (list, optional): List of columns to exclude from replacement.\n",
    "\n",
    "    Returns:\n",
    "    DataFrame: Updated DataFrame with non-standard missing values replaced by pd.NA.\n",
    "    \"\"\"\n",
    "\n",
    "    missing_values = ['', ' ', 'N/A', 'none', 'None', 'null', 'NULL', 'NaN', 'nan', 'NAN', 'nat', 'NaT']\n",
    "\n",
    "    if exclude is None:\n",
    "        exclude = []\n",
    "\n",
    "    if include is None:\n",
    "        available_columns = [col for col in df.columns if col not in exclude]\n",
    "    else:\n",
    "        available_columns = [col for col in include if col not in exclude]\n",
    "\n",
    "    for column in available_columns:\n",
    "        if df[column].dtype in ['object', 'string'] and df[column].isin(missing_values).any():\n",
    "            df.loc[:, column] = df[column].replace(missing_values, pd.NA)\n",
    "\n",
    "    return df\n",
    "\n",
    "# function for displaying the percentage of mising values in a Dataset\n",
    "def missing_values_rate(df, include=None, exclude=None):\n",
    "    \n",
    "    \"\"\"\n",
    "    Displays the percentage of missing values for specified columns in a DataFrame.\n",
    "\n",
    "    Parameters:\n",
    "    ----------\n",
    "    df : pandas.DataFrame\n",
    "        The DataFrame to analyze.\n",
    "\n",
    "    include : list, optional\n",
    "        List of column names to include in the analysis. If None, all columns not in `exclude` are considered.\n",
    "\n",
    "    exclude : list, optional\n",
    "        List of column names to exclude from the analysis. Default is an empty list.\n",
    "\n",
    "    Returns:\n",
    "    -------\n",
    "    None\n",
    "        Displays HTML output in a Jupyter Notebook environment.\n",
    "    \"\"\"\n",
    "    \n",
    "    if exclude is None:\n",
    "        exclude = []\n",
    "\n",
    "    if include is None:\n",
    "        available_columns = [col for col in df.columns if col not in exclude]\n",
    "    else:\n",
    "        available_columns = [col for col in include if col not in exclude]\n",
    "\n",
    "    for column in available_columns:\n",
    "        total_values = len(df[column])\n",
    "        if total_values == 0:\n",
    "            percentage = 0\n",
    "        else:\n",
    "            missing_values = df[column].isna().sum()\n",
    "            percentage = (missing_values / total_values) * 100\n",
    "\n",
    "        display(HTML(f\"> Percentage of missing values for column <i>'{column}'</i>: <b>{percentage:.2f}</b> %<br>\"))\n",
    "        display(HTML(f\">    Total values: {df[column].shape[0]}<br>   > Missing values: {df[column].isna().sum()}<br><br>\"))"
   ]
  },
  {
   "cell_type": "markdown",
   "id": "ec65a8d9",
   "metadata": {},
   "source": [
    "### 🔁 __3. Data Loading__"
   ]
  },
  {
   "cell_type": "code",
   "execution_count": 3,
   "id": "cff38e39",
   "metadata": {},
   "outputs": [],
   "source": [
    "df_mkt_events = pd.read_csv('../data/raw/ab_project_marketing_events_us.csv', sep=',', header='infer', keep_default_na=False)\n",
    "df_user_events = pd.read_csv('../data/raw/final_ab_events_upd_us.csv', sep=',', header='infer', keep_default_na=False)\n",
    "df_users_registration = pd.read_csv('../data/raw/final_ab_new_users_upd_us.csv', sep=',', header='infer', keep_default_na=False)\n",
    "df_user_test = pd.read_csv('../data/raw/final_ab_participants_upd_us.csv', sep=',', header='infer', keep_default_na=False)"
   ]
  },
  {
   "cell_type": "markdown",
   "id": "8e2b4ba0",
   "metadata": {},
   "source": [
    "### 🧹 __4. Data Cleanup__"
   ]
  },
  {
   "cell_type": "markdown",
   "id": "01ec43c3",
   "metadata": {},
   "source": [
    "##### **4.1** Data Overview"
   ]
  },
  {
   "cell_type": "code",
   "execution_count": 4,
   "id": "61e45f3e",
   "metadata": {},
   "outputs": [
    {
     "name": "stdout",
     "output_type": "stream",
     "text": [
      "<class 'pandas.core.frame.DataFrame'>\n",
      "RangeIndex: 14 entries, 0 to 13\n",
      "Data columns (total 4 columns):\n",
      " #   Column     Non-Null Count  Dtype \n",
      "---  ------     --------------  ----- \n",
      " 0   name       14 non-null     object\n",
      " 1   regions    14 non-null     object\n",
      " 2   start_dt   14 non-null     object\n",
      " 3   finish_dt  14 non-null     object\n",
      "dtypes: object(4)\n",
      "memory usage: 576.0+ bytes\n"
     ]
    }
   ],
   "source": [
    "df_mkt_events.info()"
   ]
  },
  {
   "cell_type": "code",
   "execution_count": 5,
   "id": "dd3f2235",
   "metadata": {},
   "outputs": [
    {
     "name": "stdout",
     "output_type": "stream",
     "text": [
      "<class 'pandas.core.frame.DataFrame'>\n",
      "RangeIndex: 423761 entries, 0 to 423760\n",
      "Data columns (total 4 columns):\n",
      " #   Column      Non-Null Count   Dtype \n",
      "---  ------      --------------   ----- \n",
      " 0   user_id     423761 non-null  object\n",
      " 1   event_dt    423761 non-null  object\n",
      " 2   event_name  423761 non-null  object\n",
      " 3   details     423761 non-null  object\n",
      "dtypes: object(4)\n",
      "memory usage: 12.9+ MB\n"
     ]
    }
   ],
   "source": [
    "df_user_events.info()"
   ]
  },
  {
   "cell_type": "code",
   "execution_count": 6,
   "id": "bc6c8655",
   "metadata": {},
   "outputs": [
    {
     "name": "stdout",
     "output_type": "stream",
     "text": [
      "<class 'pandas.core.frame.DataFrame'>\n",
      "RangeIndex: 58703 entries, 0 to 58702\n",
      "Data columns (total 4 columns):\n",
      " #   Column      Non-Null Count  Dtype \n",
      "---  ------      --------------  ----- \n",
      " 0   user_id     58703 non-null  object\n",
      " 1   first_date  58703 non-null  object\n",
      " 2   region      58703 non-null  object\n",
      " 3   device      58703 non-null  object\n",
      "dtypes: object(4)\n",
      "memory usage: 1.8+ MB\n"
     ]
    }
   ],
   "source": [
    "df_users_registration.info()"
   ]
  },
  {
   "cell_type": "code",
   "execution_count": 7,
   "id": "699a8c75",
   "metadata": {},
   "outputs": [
    {
     "name": "stdout",
     "output_type": "stream",
     "text": [
      "<class 'pandas.core.frame.DataFrame'>\n",
      "RangeIndex: 14525 entries, 0 to 14524\n",
      "Data columns (total 3 columns):\n",
      " #   Column   Non-Null Count  Dtype \n",
      "---  ------   --------------  ----- \n",
      " 0   user_id  14525 non-null  object\n",
      " 1   group    14525 non-null  object\n",
      " 2   ab_test  14525 non-null  object\n",
      "dtypes: object(3)\n",
      "memory usage: 340.6+ KB\n"
     ]
    }
   ],
   "source": [
    "df_user_test.info()"
   ]
  },
  {
   "cell_type": "markdown",
   "id": "b609aeae",
   "metadata": {},
   "source": [
    "##### **4.2** Standardization of column heading formats (Lower case, snake case)"
   ]
  },
  {
   "cell_type": "code",
   "execution_count": 8,
   "id": "c4f33693",
   "metadata": {},
   "outputs": [
    {
     "data": {
      "application/vnd.microsoft.datawrangler.viewer.v0+json": {
       "columns": [
        {
         "name": "index",
         "rawType": "int64",
         "type": "integer"
        },
        {
         "name": "name",
         "rawType": "object",
         "type": "string"
        },
        {
         "name": "regions",
         "rawType": "object",
         "type": "string"
        },
        {
         "name": "start_dt",
         "rawType": "object",
         "type": "string"
        },
        {
         "name": "finish_dt",
         "rawType": "object",
         "type": "string"
        }
       ],
       "ref": "82597883-45e0-4611-9af3-b99939334078",
       "rows": [
        [
         "0",
         "Christmas_New_Year_Promo",
         "EU_N.America",
         "2020-12-25",
         "2021-01-03"
        ],
        [
         "1",
         "St._Valentine_s_Day_Giveaway",
         "EU_CIS_APAC_N.America",
         "2020-02-14",
         "2020-02-16"
        ],
        [
         "2",
         "St._Patric_s_Day_Promo",
         "EU_N.America",
         "2020-03-17",
         "2020-03-19"
        ],
        [
         "3",
         "Easter_Promo",
         "EU_CIS_APAC_N.America",
         "2020-04-12",
         "2020-04-19"
        ],
        [
         "4",
         "4th_of_July_Promo",
         "N.America",
         "2020-07-04",
         "2020-07-11"
        ],
        [
         "5",
         "Black_Friday_Ads_Campaign",
         "EU_CIS_APAC_N.America",
         "2020-11-26",
         "2020-12-01"
        ],
        [
         "6",
         "Chinese_New_Year_Promo",
         "APAC",
         "2020-01-25",
         "2020-02-07"
        ],
        [
         "7",
         "Labor_day_May_1st_Ads_Campaign",
         "EU_CIS_APAC",
         "2020-05-01",
         "2020-05-03"
        ],
        [
         "8",
         "International_Women_s_Day_Promo",
         "EU_CIS_APAC",
         "2020-03-08",
         "2020-03-10"
        ],
        [
         "9",
         "Victory_Day_CIS_May_9th_Event",
         "CIS",
         "2020-05-09",
         "2020-05-11"
        ],
        [
         "10",
         "CIS_New_Year_Gift_Lottery",
         "CIS",
         "2020-12-30",
         "2021-01-07"
        ],
        [
         "11",
         "Dragon_Boat_Festival_Giveaway",
         "APAC",
         "2020-06-25",
         "2020-07-01"
        ],
        [
         "12",
         "Single_s_Day_Gift_Promo",
         "APAC",
         "2020-11-11",
         "2020-11-12"
        ],
        [
         "13",
         "Chinese_Moon_Festival",
         "APAC",
         "2020-10-01",
         "2020-10-07"
        ]
       ],
       "shape": {
        "columns": 4,
        "rows": 14
       }
      },
      "text/html": [
       "<div>\n",
       "<style scoped>\n",
       "    .dataframe tbody tr th:only-of-type {\n",
       "        vertical-align: middle;\n",
       "    }\n",
       "\n",
       "    .dataframe tbody tr th {\n",
       "        vertical-align: top;\n",
       "    }\n",
       "\n",
       "    .dataframe thead th {\n",
       "        text-align: right;\n",
       "    }\n",
       "</style>\n",
       "<table border=\"1\" class=\"dataframe\">\n",
       "  <thead>\n",
       "    <tr style=\"text-align: right;\">\n",
       "      <th></th>\n",
       "      <th>name</th>\n",
       "      <th>regions</th>\n",
       "      <th>start_dt</th>\n",
       "      <th>finish_dt</th>\n",
       "    </tr>\n",
       "  </thead>\n",
       "  <tbody>\n",
       "    <tr>\n",
       "      <th>0</th>\n",
       "      <td>Christmas_New_Year_Promo</td>\n",
       "      <td>EU_N.America</td>\n",
       "      <td>2020-12-25</td>\n",
       "      <td>2021-01-03</td>\n",
       "    </tr>\n",
       "    <tr>\n",
       "      <th>1</th>\n",
       "      <td>St._Valentine_s_Day_Giveaway</td>\n",
       "      <td>EU_CIS_APAC_N.America</td>\n",
       "      <td>2020-02-14</td>\n",
       "      <td>2020-02-16</td>\n",
       "    </tr>\n",
       "    <tr>\n",
       "      <th>2</th>\n",
       "      <td>St._Patric_s_Day_Promo</td>\n",
       "      <td>EU_N.America</td>\n",
       "      <td>2020-03-17</td>\n",
       "      <td>2020-03-19</td>\n",
       "    </tr>\n",
       "    <tr>\n",
       "      <th>3</th>\n",
       "      <td>Easter_Promo</td>\n",
       "      <td>EU_CIS_APAC_N.America</td>\n",
       "      <td>2020-04-12</td>\n",
       "      <td>2020-04-19</td>\n",
       "    </tr>\n",
       "    <tr>\n",
       "      <th>4</th>\n",
       "      <td>4th_of_July_Promo</td>\n",
       "      <td>N.America</td>\n",
       "      <td>2020-07-04</td>\n",
       "      <td>2020-07-11</td>\n",
       "    </tr>\n",
       "    <tr>\n",
       "      <th>5</th>\n",
       "      <td>Black_Friday_Ads_Campaign</td>\n",
       "      <td>EU_CIS_APAC_N.America</td>\n",
       "      <td>2020-11-26</td>\n",
       "      <td>2020-12-01</td>\n",
       "    </tr>\n",
       "    <tr>\n",
       "      <th>6</th>\n",
       "      <td>Chinese_New_Year_Promo</td>\n",
       "      <td>APAC</td>\n",
       "      <td>2020-01-25</td>\n",
       "      <td>2020-02-07</td>\n",
       "    </tr>\n",
       "    <tr>\n",
       "      <th>7</th>\n",
       "      <td>Labor_day_May_1st_Ads_Campaign</td>\n",
       "      <td>EU_CIS_APAC</td>\n",
       "      <td>2020-05-01</td>\n",
       "      <td>2020-05-03</td>\n",
       "    </tr>\n",
       "    <tr>\n",
       "      <th>8</th>\n",
       "      <td>International_Women_s_Day_Promo</td>\n",
       "      <td>EU_CIS_APAC</td>\n",
       "      <td>2020-03-08</td>\n",
       "      <td>2020-03-10</td>\n",
       "    </tr>\n",
       "    <tr>\n",
       "      <th>9</th>\n",
       "      <td>Victory_Day_CIS_May_9th_Event</td>\n",
       "      <td>CIS</td>\n",
       "      <td>2020-05-09</td>\n",
       "      <td>2020-05-11</td>\n",
       "    </tr>\n",
       "    <tr>\n",
       "      <th>10</th>\n",
       "      <td>CIS_New_Year_Gift_Lottery</td>\n",
       "      <td>CIS</td>\n",
       "      <td>2020-12-30</td>\n",
       "      <td>2021-01-07</td>\n",
       "    </tr>\n",
       "    <tr>\n",
       "      <th>11</th>\n",
       "      <td>Dragon_Boat_Festival_Giveaway</td>\n",
       "      <td>APAC</td>\n",
       "      <td>2020-06-25</td>\n",
       "      <td>2020-07-01</td>\n",
       "    </tr>\n",
       "    <tr>\n",
       "      <th>12</th>\n",
       "      <td>Single_s_Day_Gift_Promo</td>\n",
       "      <td>APAC</td>\n",
       "      <td>2020-11-11</td>\n",
       "      <td>2020-11-12</td>\n",
       "    </tr>\n",
       "    <tr>\n",
       "      <th>13</th>\n",
       "      <td>Chinese_Moon_Festival</td>\n",
       "      <td>APAC</td>\n",
       "      <td>2020-10-01</td>\n",
       "      <td>2020-10-07</td>\n",
       "    </tr>\n",
       "  </tbody>\n",
       "</table>\n",
       "</div>"
      ],
      "text/plain": [
       "                               name                regions    start_dt  \\\n",
       "0          Christmas_New_Year_Promo           EU_N.America  2020-12-25   \n",
       "1      St._Valentine_s_Day_Giveaway  EU_CIS_APAC_N.America  2020-02-14   \n",
       "2            St._Patric_s_Day_Promo           EU_N.America  2020-03-17   \n",
       "3                      Easter_Promo  EU_CIS_APAC_N.America  2020-04-12   \n",
       "4                 4th_of_July_Promo              N.America  2020-07-04   \n",
       "5         Black_Friday_Ads_Campaign  EU_CIS_APAC_N.America  2020-11-26   \n",
       "6            Chinese_New_Year_Promo                   APAC  2020-01-25   \n",
       "7    Labor_day_May_1st_Ads_Campaign            EU_CIS_APAC  2020-05-01   \n",
       "8   International_Women_s_Day_Promo            EU_CIS_APAC  2020-03-08   \n",
       "9     Victory_Day_CIS_May_9th_Event                    CIS  2020-05-09   \n",
       "10        CIS_New_Year_Gift_Lottery                    CIS  2020-12-30   \n",
       "11    Dragon_Boat_Festival_Giveaway                   APAC  2020-06-25   \n",
       "12          Single_s_Day_Gift_Promo                   APAC  2020-11-11   \n",
       "13            Chinese_Moon_Festival                   APAC  2020-10-01   \n",
       "\n",
       "     finish_dt  \n",
       "0   2021-01-03  \n",
       "1   2020-02-16  \n",
       "2   2020-03-19  \n",
       "3   2020-04-19  \n",
       "4   2020-07-11  \n",
       "5   2020-12-01  \n",
       "6   2020-02-07  \n",
       "7   2020-05-03  \n",
       "8   2020-03-10  \n",
       "9   2020-05-11  \n",
       "10  2021-01-07  \n",
       "11  2020-07-01  \n",
       "12  2020-11-12  \n",
       "13  2020-10-07  "
      ]
     },
     "execution_count": 8,
     "metadata": {},
     "output_type": "execute_result"
    }
   ],
   "source": [
    "df_mkt_events = normalize_string_format(df_mkt_events, exclude=['start_dt', 'finish_dt'])\n",
    "df_mkt_events"
   ]
  },
  {
   "cell_type": "code",
   "execution_count": 9,
   "id": "dafd8ba8",
   "metadata": {},
   "outputs": [
    {
     "data": {
      "application/vnd.microsoft.datawrangler.viewer.v0+json": {
       "columns": [
        {
         "name": "index",
         "rawType": "int64",
         "type": "integer"
        },
        {
         "name": "user_id",
         "rawType": "object",
         "type": "string"
        },
        {
         "name": "first_date",
         "rawType": "object",
         "type": "string"
        },
        {
         "name": "region",
         "rawType": "object",
         "type": "string"
        },
        {
         "name": "device",
         "rawType": "object",
         "type": "string"
        }
       ],
       "ref": "c2556e05-37c1-4eda-8cd2-0b612883fba8",
       "rows": [
        [
         "0",
         "D72A72121175D8BE",
         "2020-12-07",
         "EU",
         "PC"
        ],
        [
         "1",
         "F1C668619DFE6E65",
         "2020-12-07",
         "N.America",
         "Android"
        ],
        [
         "2",
         "2E1BF1D4C37EA01F",
         "2020-12-07",
         "EU",
         "PC"
        ],
        [
         "3",
         "50734A22C0C63768",
         "2020-12-07",
         "EU",
         "iPhone"
        ],
        [
         "4",
         "E1BDDCE0DAFA2679",
         "2020-12-07",
         "N.America",
         "iPhone"
        ],
        [
         "5",
         "137119F5A9E69421",
         "2020-12-07",
         "N.America",
         "iPhone"
        ],
        [
         "6",
         "62F0C741CC42D0CC",
         "2020-12-07",
         "APAC",
         "iPhone"
        ],
        [
         "7",
         "8942E64218C9A1ED",
         "2020-12-07",
         "EU",
         "PC"
        ],
        [
         "8",
         "499AFACF904BBAE3",
         "2020-12-07",
         "N.America",
         "iPhone"
        ],
        [
         "9",
         "FFCEA1179C253104",
         "2020-12-07",
         "EU",
         "Android"
        ],
        [
         "10",
         "5EB159DA9DC94DBA",
         "2020-12-07",
         "APAC",
         "PC"
        ],
        [
         "11",
         "084A22B980BA8169",
         "2020-12-07",
         "EU",
         "Android"
        ],
        [
         "12",
         "8ACC2420471B31E4",
         "2020-12-07",
         "EU",
         "PC"
        ],
        [
         "13",
         "5BE017E9C8CC42F8",
         "2020-12-07",
         "EU",
         "Android"
        ],
        [
         "14",
         "7B6452F081F49504",
         "2020-12-07",
         "EU",
         "iPhone"
        ],
        [
         "15",
         "0FC21E6F8FAA8DEC",
         "2020-12-07",
         "EU",
         "PC"
        ],
        [
         "16",
         "9CD9F34546DF254C",
         "2020-12-07",
         "N.America",
         "iPhone"
        ],
        [
         "17",
         "96F27A054B191457",
         "2020-12-07",
         "EU",
         "iPhone"
        ],
        [
         "18",
         "1FD7660FDF94CA1F",
         "2020-12-07",
         "EU",
         "Android"
        ],
        [
         "19",
         "DD4352CDCF8C3D57",
         "2020-12-07",
         "EU",
         "Android"
        ],
        [
         "20",
         "E6AF85675078215D",
         "2020-12-07",
         "EU",
         "Android"
        ],
        [
         "21",
         "CF3A409ADCA5F68F",
         "2020-12-07",
         "EU",
         "iPhone"
        ],
        [
         "22",
         "831887FE7F2D6CBA",
         "2020-12-07",
         "EU",
         "Android"
        ],
        [
         "23",
         "AD8BFC204C0F14E4",
         "2020-12-07",
         "EU",
         "Android"
        ],
        [
         "24",
         "18BFE6138D1740ED",
         "2020-12-07",
         "APAC",
         "iPhone"
        ],
        [
         "25",
         "6B2F726BFD5F8220",
         "2020-12-07",
         "EU",
         "Android"
        ],
        [
         "26",
         "5C31FA76D6418867",
         "2020-12-07",
         "CIS",
         "PC"
        ],
        [
         "27",
         "160121894010711F",
         "2020-12-07",
         "N.America",
         "iPhone"
        ],
        [
         "28",
         "7713F4DD96975E70",
         "2020-12-07",
         "EU",
         "Android"
        ],
        [
         "29",
         "BEB37715AACF53B0",
         "2020-12-07",
         "EU",
         "Android"
        ],
        [
         "30",
         "BA9A0549BDF2DC7D",
         "2020-12-07",
         "EU",
         "PC"
        ],
        [
         "31",
         "C99BCDCDA7C0A2B5",
         "2020-12-07",
         "EU",
         "PC"
        ],
        [
         "32",
         "914FF952E23F1E75",
         "2020-12-07",
         "EU",
         "PC"
        ],
        [
         "33",
         "C297F41C2EAB90F9",
         "2020-12-07",
         "EU",
         "iPhone"
        ],
        [
         "34",
         "5DFA5DCA1EAB4A61",
         "2020-12-07",
         "EU",
         "PC"
        ],
        [
         "35",
         "B5FA27F582227197",
         "2020-12-07",
         "N.America",
         "Mac"
        ],
        [
         "36",
         "26D11E1624C22789",
         "2020-12-07",
         "EU",
         "iPhone"
        ],
        [
         "37",
         "756030430BF8A8ED",
         "2020-12-07",
         "EU",
         "Mac"
        ],
        [
         "38",
         "4CB179C7F847320B",
         "2020-12-07",
         "EU",
         "iPhone"
        ],
        [
         "39",
         "29C92313A98B1176",
         "2020-12-07",
         "APAC",
         "Android"
        ],
        [
         "40",
         "F9DA742C045C0540",
         "2020-12-07",
         "EU",
         "Android"
        ],
        [
         "41",
         "718AE30161496626",
         "2020-12-07",
         "CIS",
         "Android"
        ],
        [
         "42",
         "12E224E9F736290C",
         "2020-12-07",
         "CIS",
         "Android"
        ],
        [
         "43",
         "A92195E3CFB83DBD",
         "2020-12-07",
         "EU",
         "Android"
        ],
        [
         "44",
         "7D1BFB181017EB46",
         "2020-12-07",
         "CIS",
         "PC"
        ],
        [
         "45",
         "72293AD2DCF3D634",
         "2020-12-07",
         "EU",
         "PC"
        ],
        [
         "46",
         "E2E76A8B3389127C",
         "2020-12-07",
         "EU",
         "iPhone"
        ],
        [
         "47",
         "CDC3949A0F713D89",
         "2020-12-07",
         "EU",
         "PC"
        ],
        [
         "48",
         "C8D792687FC90372",
         "2020-12-07",
         "EU",
         "PC"
        ],
        [
         "49",
         "10B478AFB18AFF23",
         "2020-12-07",
         "EU",
         "PC"
        ]
       ],
       "shape": {
        "columns": 4,
        "rows": 58703
       }
      },
      "text/html": [
       "<div>\n",
       "<style scoped>\n",
       "    .dataframe tbody tr th:only-of-type {\n",
       "        vertical-align: middle;\n",
       "    }\n",
       "\n",
       "    .dataframe tbody tr th {\n",
       "        vertical-align: top;\n",
       "    }\n",
       "\n",
       "    .dataframe thead th {\n",
       "        text-align: right;\n",
       "    }\n",
       "</style>\n",
       "<table border=\"1\" class=\"dataframe\">\n",
       "  <thead>\n",
       "    <tr style=\"text-align: right;\">\n",
       "      <th></th>\n",
       "      <th>user_id</th>\n",
       "      <th>first_date</th>\n",
       "      <th>region</th>\n",
       "      <th>device</th>\n",
       "    </tr>\n",
       "  </thead>\n",
       "  <tbody>\n",
       "    <tr>\n",
       "      <th>0</th>\n",
       "      <td>D72A72121175D8BE</td>\n",
       "      <td>2020-12-07</td>\n",
       "      <td>EU</td>\n",
       "      <td>PC</td>\n",
       "    </tr>\n",
       "    <tr>\n",
       "      <th>1</th>\n",
       "      <td>F1C668619DFE6E65</td>\n",
       "      <td>2020-12-07</td>\n",
       "      <td>N.America</td>\n",
       "      <td>Android</td>\n",
       "    </tr>\n",
       "    <tr>\n",
       "      <th>2</th>\n",
       "      <td>2E1BF1D4C37EA01F</td>\n",
       "      <td>2020-12-07</td>\n",
       "      <td>EU</td>\n",
       "      <td>PC</td>\n",
       "    </tr>\n",
       "    <tr>\n",
       "      <th>3</th>\n",
       "      <td>50734A22C0C63768</td>\n",
       "      <td>2020-12-07</td>\n",
       "      <td>EU</td>\n",
       "      <td>iPhone</td>\n",
       "    </tr>\n",
       "    <tr>\n",
       "      <th>4</th>\n",
       "      <td>E1BDDCE0DAFA2679</td>\n",
       "      <td>2020-12-07</td>\n",
       "      <td>N.America</td>\n",
       "      <td>iPhone</td>\n",
       "    </tr>\n",
       "    <tr>\n",
       "      <th>...</th>\n",
       "      <td>...</td>\n",
       "      <td>...</td>\n",
       "      <td>...</td>\n",
       "      <td>...</td>\n",
       "    </tr>\n",
       "    <tr>\n",
       "      <th>58698</th>\n",
       "      <td>1DB53B933257165D</td>\n",
       "      <td>2020-12-20</td>\n",
       "      <td>EU</td>\n",
       "      <td>Android</td>\n",
       "    </tr>\n",
       "    <tr>\n",
       "      <th>58699</th>\n",
       "      <td>538643EB4527ED03</td>\n",
       "      <td>2020-12-20</td>\n",
       "      <td>EU</td>\n",
       "      <td>Mac</td>\n",
       "    </tr>\n",
       "    <tr>\n",
       "      <th>58700</th>\n",
       "      <td>7ADEE837D5D8CBBD</td>\n",
       "      <td>2020-12-20</td>\n",
       "      <td>EU</td>\n",
       "      <td>PC</td>\n",
       "    </tr>\n",
       "    <tr>\n",
       "      <th>58701</th>\n",
       "      <td>1C7D23927835213F</td>\n",
       "      <td>2020-12-20</td>\n",
       "      <td>EU</td>\n",
       "      <td>iPhone</td>\n",
       "    </tr>\n",
       "    <tr>\n",
       "      <th>58702</th>\n",
       "      <td>8F04273BB2860229</td>\n",
       "      <td>2020-12-20</td>\n",
       "      <td>EU</td>\n",
       "      <td>Android</td>\n",
       "    </tr>\n",
       "  </tbody>\n",
       "</table>\n",
       "<p>58703 rows × 4 columns</p>\n",
       "</div>"
      ],
      "text/plain": [
       "                user_id  first_date     region   device\n",
       "0      D72A72121175D8BE  2020-12-07         EU       PC\n",
       "1      F1C668619DFE6E65  2020-12-07  N.America  Android\n",
       "2      2E1BF1D4C37EA01F  2020-12-07         EU       PC\n",
       "3      50734A22C0C63768  2020-12-07         EU   iPhone\n",
       "4      E1BDDCE0DAFA2679  2020-12-07  N.America   iPhone\n",
       "...                 ...         ...        ...      ...\n",
       "58698  1DB53B933257165D  2020-12-20         EU  Android\n",
       "58699  538643EB4527ED03  2020-12-20         EU      Mac\n",
       "58700  7ADEE837D5D8CBBD  2020-12-20         EU       PC\n",
       "58701  1C7D23927835213F  2020-12-20         EU   iPhone\n",
       "58702  8F04273BB2860229  2020-12-20         EU  Android\n",
       "\n",
       "[58703 rows x 4 columns]"
      ]
     },
     "execution_count": 9,
     "metadata": {},
     "output_type": "execute_result"
    }
   ],
   "source": [
    "df_users_registration = normalize_string_format(df_users_registration, include=['region', 'device'])\n",
    "df_users_registration"
   ]
  },
  {
   "cell_type": "markdown",
   "id": "610e2d7e",
   "metadata": {},
   "source": [
    "##### **4.3** Explicit Duplicate Removal"
   ]
  },
  {
   "cell_type": "code",
   "execution_count": 11,
   "id": "781efbde",
   "metadata": {},
   "outputs": [
    {
     "data": {
      "text/html": [
       "> Explicit duplicates in <i>df_mkt_events</i>: <b>0</b>"
      ],
      "text/plain": [
       "<IPython.core.display.HTML object>"
      ]
     },
     "metadata": {},
     "output_type": "display_data"
    },
    {
     "name": "stdout",
     "output_type": "stream",
     "text": [
      "\n"
     ]
    },
    {
     "data": {
      "text/html": [
       "> Explicit duplicates in <i>df_users_registration</i>: <b>0</b>"
      ],
      "text/plain": [
       "<IPython.core.display.HTML object>"
      ]
     },
     "metadata": {},
     "output_type": "display_data"
    },
    {
     "name": "stdout",
     "output_type": "stream",
     "text": [
      "\n"
     ]
    },
    {
     "data": {
      "text/html": [
       "> Explicit duplicates in <i>df_user_events</i>: <b>0</b>"
      ],
      "text/plain": [
       "<IPython.core.display.HTML object>"
      ]
     },
     "metadata": {},
     "output_type": "display_data"
    },
    {
     "name": "stdout",
     "output_type": "stream",
     "text": [
      "\n"
     ]
    },
    {
     "data": {
      "text/html": [
       "> Explicit duplicates in <i>df_user_test</i>: <b>0</b>"
      ],
      "text/plain": [
       "<IPython.core.display.HTML object>"
      ]
     },
     "metadata": {},
     "output_type": "display_data"
    }
   ],
   "source": [
    "display(HTML(f\"> Explicit duplicates in <i>df_mkt_events</i>: <b>{df_mkt_events.duplicated().sum()}</b>\"))\n",
    "print()\n",
    "display(HTML(f\"> Explicit duplicates in <i>df_users_registration</i>: <b>{df_users_registration.duplicated().sum()}</b>\"))\n",
    "print()\n",
    "display(HTML(f\"> Explicit duplicates in <i>df_user_events</i>: <b>{df_user_events.duplicated().sum()}</b>\"))\n",
    "print()\n",
    "display(HTML(f\"> Explicit duplicates in <i>df_user_test</i>: <b>{df_user_test.duplicated().sum()}</b>\"))"
   ]
  },
  {
   "cell_type": "markdown",
   "id": "263a3de8",
   "metadata": {},
   "source": [
    "##### **4.4** Missing Value Analysis"
   ]
  },
  {
   "cell_type": "code",
   "execution_count": 12,
   "id": "68a0c72c",
   "metadata": {},
   "outputs": [
    {
     "data": {
      "text/html": [
       "<h4>Scanning for Non-Standard Missing Values</h4>"
      ],
      "text/plain": [
       "<IPython.core.display.HTML object>"
      ]
     },
     "metadata": {},
     "output_type": "display_data"
    },
    {
     "data": {
      "text/html": [
       "> Missing values in column <i>'name'</i>: None"
      ],
      "text/plain": [
       "<IPython.core.display.HTML object>"
      ]
     },
     "metadata": {},
     "output_type": "display_data"
    },
    {
     "data": {
      "text/html": [
       "> Missing values in column <i>'regions'</i>: None"
      ],
      "text/plain": [
       "<IPython.core.display.HTML object>"
      ]
     },
     "metadata": {},
     "output_type": "display_data"
    },
    {
     "data": {
      "text/html": [
       "> Missing values in column <i>'start_dt'</i>: None"
      ],
      "text/plain": [
       "<IPython.core.display.HTML object>"
      ]
     },
     "metadata": {},
     "output_type": "display_data"
    },
    {
     "data": {
      "text/html": [
       "> Missing values in column <i>'finish_dt'</i>: None"
      ],
      "text/plain": [
       "<IPython.core.display.HTML object>"
      ]
     },
     "metadata": {},
     "output_type": "display_data"
    },
    {
     "name": "stdout",
     "output_type": "stream",
     "text": [
      "\n"
     ]
    }
   ],
   "source": [
    "check_existing_missing_values(df_mkt_events)"
   ]
  },
  {
   "cell_type": "code",
   "execution_count": 13,
   "id": "e2ce962b",
   "metadata": {},
   "outputs": [
    {
     "data": {
      "text/html": [
       "<h4>Scanning for Non-Standard Missing Values</h4>"
      ],
      "text/plain": [
       "<IPython.core.display.HTML object>"
      ]
     },
     "metadata": {},
     "output_type": "display_data"
    },
    {
     "data": {
      "text/html": [
       "> Missing values in column <i>'user_id'</i>: None"
      ],
      "text/plain": [
       "<IPython.core.display.HTML object>"
      ]
     },
     "metadata": {},
     "output_type": "display_data"
    },
    {
     "data": {
      "text/html": [
       "> Missing values in column <i>'first_date'</i>: None"
      ],
      "text/plain": [
       "<IPython.core.display.HTML object>"
      ]
     },
     "metadata": {},
     "output_type": "display_data"
    },
    {
     "data": {
      "text/html": [
       "> Missing values in column <i>'region'</i>: None"
      ],
      "text/plain": [
       "<IPython.core.display.HTML object>"
      ]
     },
     "metadata": {},
     "output_type": "display_data"
    },
    {
     "data": {
      "text/html": [
       "> Missing values in column <i>'device'</i>: None"
      ],
      "text/plain": [
       "<IPython.core.display.HTML object>"
      ]
     },
     "metadata": {},
     "output_type": "display_data"
    },
    {
     "name": "stdout",
     "output_type": "stream",
     "text": [
      "\n"
     ]
    }
   ],
   "source": [
    "check_existing_missing_values(df_users_registration)"
   ]
  },
  {
   "cell_type": "code",
   "execution_count": 14,
   "id": "71d576f7",
   "metadata": {},
   "outputs": [
    {
     "data": {
      "text/html": [
       "<h4>Scanning for Non-Standard Missing Values</h4>"
      ],
      "text/plain": [
       "<IPython.core.display.HTML object>"
      ]
     },
     "metadata": {},
     "output_type": "display_data"
    },
    {
     "data": {
      "text/html": [
       "> Missing values in column <i>'name'</i>: None"
      ],
      "text/plain": [
       "<IPython.core.display.HTML object>"
      ]
     },
     "metadata": {},
     "output_type": "display_data"
    },
    {
     "data": {
      "text/html": [
       "> Missing values in column <i>'regions'</i>: None"
      ],
      "text/plain": [
       "<IPython.core.display.HTML object>"
      ]
     },
     "metadata": {},
     "output_type": "display_data"
    },
    {
     "data": {
      "text/html": [
       "> Missing values in column <i>'start_dt'</i>: None"
      ],
      "text/plain": [
       "<IPython.core.display.HTML object>"
      ]
     },
     "metadata": {},
     "output_type": "display_data"
    },
    {
     "data": {
      "text/html": [
       "> Missing values in column <i>'finish_dt'</i>: None"
      ],
      "text/plain": [
       "<IPython.core.display.HTML object>"
      ]
     },
     "metadata": {},
     "output_type": "display_data"
    },
    {
     "name": "stdout",
     "output_type": "stream",
     "text": [
      "\n"
     ]
    }
   ],
   "source": [
    "check_existing_missing_values(df_mkt_events)"
   ]
  },
  {
   "cell_type": "code",
   "execution_count": 15,
   "id": "2df27677",
   "metadata": {},
   "outputs": [
    {
     "data": {
      "text/html": [
       "<h4>Scanning for Non-Standard Missing Values</h4>"
      ],
      "text/plain": [
       "<IPython.core.display.HTML object>"
      ]
     },
     "metadata": {},
     "output_type": "display_data"
    },
    {
     "data": {
      "text/html": [
       "> Missing values in column <i>'user_id'</i>: None"
      ],
      "text/plain": [
       "<IPython.core.display.HTML object>"
      ]
     },
     "metadata": {},
     "output_type": "display_data"
    },
    {
     "data": {
      "text/html": [
       "> Missing values in column <i>'group'</i>: None"
      ],
      "text/plain": [
       "<IPython.core.display.HTML object>"
      ]
     },
     "metadata": {},
     "output_type": "display_data"
    },
    {
     "data": {
      "text/html": [
       "> Missing values in column <i>'ab_test'</i>: None"
      ],
      "text/plain": [
       "<IPython.core.display.HTML object>"
      ]
     },
     "metadata": {},
     "output_type": "display_data"
    },
    {
     "name": "stdout",
     "output_type": "stream",
     "text": [
      "\n"
     ]
    }
   ],
   "source": [
    "check_existing_missing_values(df_user_test)"
   ]
  },
  {
   "cell_type": "markdown",
   "id": "8c6168a9",
   "metadata": {},
   "source": [
    "##### **4.5** Casting Datatypes"
   ]
  },
  {
   "cell_type": "code",
   "execution_count": 19,
   "id": "741e035d",
   "metadata": {},
   "outputs": [
    {
     "data": {
      "application/vnd.microsoft.datawrangler.viewer.v0+json": {
       "columns": [
        {
         "name": "index",
         "rawType": "int64",
         "type": "integer"
        },
        {
         "name": "name",
         "rawType": "object",
         "type": "string"
        },
        {
         "name": "regions",
         "rawType": "object",
         "type": "string"
        },
        {
         "name": "start_dt",
         "rawType": "object",
         "type": "unknown"
        },
        {
         "name": "finish_dt",
         "rawType": "object",
         "type": "unknown"
        }
       ],
       "ref": "225c8e4d-abde-4d62-9a15-c6323a3f6bc4",
       "rows": [
        [
         "0",
         "Christmas_New_Year_Promo",
         "EU_N.America",
         "2020-12-25",
         "2020-12-25"
        ],
        [
         "1",
         "St._Valentine_s_Day_Giveaway",
         "EU_CIS_APAC_N.America",
         "2020-02-14",
         "2020-02-14"
        ],
        [
         "2",
         "St._Patric_s_Day_Promo",
         "EU_N.America",
         "2020-03-17",
         "2020-03-17"
        ],
        [
         "3",
         "Easter_Promo",
         "EU_CIS_APAC_N.America",
         "2020-04-12",
         "2020-04-12"
        ],
        [
         "4",
         "4th_of_July_Promo",
         "N.America",
         "2020-07-04",
         "2020-07-04"
        ],
        [
         "5",
         "Black_Friday_Ads_Campaign",
         "EU_CIS_APAC_N.America",
         "2020-11-26",
         "2020-11-26"
        ],
        [
         "6",
         "Chinese_New_Year_Promo",
         "APAC",
         "2020-01-25",
         "2020-01-25"
        ],
        [
         "7",
         "Labor_day_May_1st_Ads_Campaign",
         "EU_CIS_APAC",
         "2020-05-01",
         "2020-05-01"
        ],
        [
         "8",
         "International_Women_s_Day_Promo",
         "EU_CIS_APAC",
         "2020-03-08",
         "2020-03-08"
        ],
        [
         "9",
         "Victory_Day_CIS_May_9th_Event",
         "CIS",
         "2020-05-09",
         "2020-05-09"
        ],
        [
         "10",
         "CIS_New_Year_Gift_Lottery",
         "CIS",
         "2020-12-30",
         "2020-12-30"
        ],
        [
         "11",
         "Dragon_Boat_Festival_Giveaway",
         "APAC",
         "2020-06-25",
         "2020-06-25"
        ],
        [
         "12",
         "Single_s_Day_Gift_Promo",
         "APAC",
         "2020-11-11",
         "2020-11-11"
        ],
        [
         "13",
         "Chinese_Moon_Festival",
         "APAC",
         "2020-10-01",
         "2020-10-01"
        ]
       ],
       "shape": {
        "columns": 4,
        "rows": 14
       }
      },
      "text/html": [
       "<div>\n",
       "<style scoped>\n",
       "    .dataframe tbody tr th:only-of-type {\n",
       "        vertical-align: middle;\n",
       "    }\n",
       "\n",
       "    .dataframe tbody tr th {\n",
       "        vertical-align: top;\n",
       "    }\n",
       "\n",
       "    .dataframe thead th {\n",
       "        text-align: right;\n",
       "    }\n",
       "</style>\n",
       "<table border=\"1\" class=\"dataframe\">\n",
       "  <thead>\n",
       "    <tr style=\"text-align: right;\">\n",
       "      <th></th>\n",
       "      <th>name</th>\n",
       "      <th>regions</th>\n",
       "      <th>start_dt</th>\n",
       "      <th>finish_dt</th>\n",
       "    </tr>\n",
       "  </thead>\n",
       "  <tbody>\n",
       "    <tr>\n",
       "      <th>0</th>\n",
       "      <td>Christmas_New_Year_Promo</td>\n",
       "      <td>EU_N.America</td>\n",
       "      <td>2020-12-25</td>\n",
       "      <td>2020-12-25</td>\n",
       "    </tr>\n",
       "    <tr>\n",
       "      <th>1</th>\n",
       "      <td>St._Valentine_s_Day_Giveaway</td>\n",
       "      <td>EU_CIS_APAC_N.America</td>\n",
       "      <td>2020-02-14</td>\n",
       "      <td>2020-02-14</td>\n",
       "    </tr>\n",
       "    <tr>\n",
       "      <th>2</th>\n",
       "      <td>St._Patric_s_Day_Promo</td>\n",
       "      <td>EU_N.America</td>\n",
       "      <td>2020-03-17</td>\n",
       "      <td>2020-03-17</td>\n",
       "    </tr>\n",
       "    <tr>\n",
       "      <th>3</th>\n",
       "      <td>Easter_Promo</td>\n",
       "      <td>EU_CIS_APAC_N.America</td>\n",
       "      <td>2020-04-12</td>\n",
       "      <td>2020-04-12</td>\n",
       "    </tr>\n",
       "    <tr>\n",
       "      <th>4</th>\n",
       "      <td>4th_of_July_Promo</td>\n",
       "      <td>N.America</td>\n",
       "      <td>2020-07-04</td>\n",
       "      <td>2020-07-04</td>\n",
       "    </tr>\n",
       "    <tr>\n",
       "      <th>5</th>\n",
       "      <td>Black_Friday_Ads_Campaign</td>\n",
       "      <td>EU_CIS_APAC_N.America</td>\n",
       "      <td>2020-11-26</td>\n",
       "      <td>2020-11-26</td>\n",
       "    </tr>\n",
       "    <tr>\n",
       "      <th>6</th>\n",
       "      <td>Chinese_New_Year_Promo</td>\n",
       "      <td>APAC</td>\n",
       "      <td>2020-01-25</td>\n",
       "      <td>2020-01-25</td>\n",
       "    </tr>\n",
       "    <tr>\n",
       "      <th>7</th>\n",
       "      <td>Labor_day_May_1st_Ads_Campaign</td>\n",
       "      <td>EU_CIS_APAC</td>\n",
       "      <td>2020-05-01</td>\n",
       "      <td>2020-05-01</td>\n",
       "    </tr>\n",
       "    <tr>\n",
       "      <th>8</th>\n",
       "      <td>International_Women_s_Day_Promo</td>\n",
       "      <td>EU_CIS_APAC</td>\n",
       "      <td>2020-03-08</td>\n",
       "      <td>2020-03-08</td>\n",
       "    </tr>\n",
       "    <tr>\n",
       "      <th>9</th>\n",
       "      <td>Victory_Day_CIS_May_9th_Event</td>\n",
       "      <td>CIS</td>\n",
       "      <td>2020-05-09</td>\n",
       "      <td>2020-05-09</td>\n",
       "    </tr>\n",
       "    <tr>\n",
       "      <th>10</th>\n",
       "      <td>CIS_New_Year_Gift_Lottery</td>\n",
       "      <td>CIS</td>\n",
       "      <td>2020-12-30</td>\n",
       "      <td>2020-12-30</td>\n",
       "    </tr>\n",
       "    <tr>\n",
       "      <th>11</th>\n",
       "      <td>Dragon_Boat_Festival_Giveaway</td>\n",
       "      <td>APAC</td>\n",
       "      <td>2020-06-25</td>\n",
       "      <td>2020-06-25</td>\n",
       "    </tr>\n",
       "    <tr>\n",
       "      <th>12</th>\n",
       "      <td>Single_s_Day_Gift_Promo</td>\n",
       "      <td>APAC</td>\n",
       "      <td>2020-11-11</td>\n",
       "      <td>2020-11-11</td>\n",
       "    </tr>\n",
       "    <tr>\n",
       "      <th>13</th>\n",
       "      <td>Chinese_Moon_Festival</td>\n",
       "      <td>APAC</td>\n",
       "      <td>2020-10-01</td>\n",
       "      <td>2020-10-01</td>\n",
       "    </tr>\n",
       "  </tbody>\n",
       "</table>\n",
       "</div>"
      ],
      "text/plain": [
       "                               name                regions    start_dt  \\\n",
       "0          Christmas_New_Year_Promo           EU_N.America  2020-12-25   \n",
       "1      St._Valentine_s_Day_Giveaway  EU_CIS_APAC_N.America  2020-02-14   \n",
       "2            St._Patric_s_Day_Promo           EU_N.America  2020-03-17   \n",
       "3                      Easter_Promo  EU_CIS_APAC_N.America  2020-04-12   \n",
       "4                 4th_of_July_Promo              N.America  2020-07-04   \n",
       "5         Black_Friday_Ads_Campaign  EU_CIS_APAC_N.America  2020-11-26   \n",
       "6            Chinese_New_Year_Promo                   APAC  2020-01-25   \n",
       "7    Labor_day_May_1st_Ads_Campaign            EU_CIS_APAC  2020-05-01   \n",
       "8   International_Women_s_Day_Promo            EU_CIS_APAC  2020-03-08   \n",
       "9     Victory_Day_CIS_May_9th_Event                    CIS  2020-05-09   \n",
       "10        CIS_New_Year_Gift_Lottery                    CIS  2020-12-30   \n",
       "11    Dragon_Boat_Festival_Giveaway                   APAC  2020-06-25   \n",
       "12          Single_s_Day_Gift_Promo                   APAC  2020-11-11   \n",
       "13            Chinese_Moon_Festival                   APAC  2020-10-01   \n",
       "\n",
       "     finish_dt  \n",
       "0   2020-12-25  \n",
       "1   2020-02-14  \n",
       "2   2020-03-17  \n",
       "3   2020-04-12  \n",
       "4   2020-07-04  \n",
       "5   2020-11-26  \n",
       "6   2020-01-25  \n",
       "7   2020-05-01  \n",
       "8   2020-03-08  \n",
       "9   2020-05-09  \n",
       "10  2020-12-30  \n",
       "11  2020-06-25  \n",
       "12  2020-11-11  \n",
       "13  2020-10-01  "
      ]
     },
     "execution_count": 19,
     "metadata": {},
     "output_type": "execute_result"
    }
   ],
   "source": [
    "# Cast to datetime\n",
    "df_mkt_events['start_dt'] = pd.to_datetime(df_mkt_events['start_dt'], errors='coerce').dt.date\n",
    "df_mkt_events['finish_dt'] = pd.to_datetime(df_mkt_events['start_dt'], errors='coerce').dt.date\n",
    "df_mkt_events"
   ]
  },
  {
   "cell_type": "code",
   "execution_count": 27,
   "id": "9629d958",
   "metadata": {},
   "outputs": [
    {
     "data": {
      "application/vnd.microsoft.datawrangler.viewer.v0+json": {
       "columns": [
        {
         "name": "index",
         "rawType": "int64",
         "type": "integer"
        },
        {
         "name": "user_id",
         "rawType": "object",
         "type": "string"
        },
        {
         "name": "first_date",
         "rawType": "object",
         "type": "unknown"
        },
        {
         "name": "region",
         "rawType": "object",
         "type": "string"
        },
        {
         "name": "device",
         "rawType": "object",
         "type": "string"
        }
       ],
       "ref": "c868ff35-e11f-46b3-9161-86701b892c35",
       "rows": [
        [
         "0",
         "D72A72121175D8BE",
         "2020-12-07",
         "EU",
         "PC"
        ],
        [
         "1",
         "F1C668619DFE6E65",
         "2020-12-07",
         "N.America",
         "Android"
        ],
        [
         "2",
         "2E1BF1D4C37EA01F",
         "2020-12-07",
         "EU",
         "PC"
        ],
        [
         "3",
         "50734A22C0C63768",
         "2020-12-07",
         "EU",
         "iPhone"
        ],
        [
         "4",
         "E1BDDCE0DAFA2679",
         "2020-12-07",
         "N.America",
         "iPhone"
        ],
        [
         "5",
         "137119F5A9E69421",
         "2020-12-07",
         "N.America",
         "iPhone"
        ],
        [
         "6",
         "62F0C741CC42D0CC",
         "2020-12-07",
         "APAC",
         "iPhone"
        ],
        [
         "7",
         "8942E64218C9A1ED",
         "2020-12-07",
         "EU",
         "PC"
        ],
        [
         "8",
         "499AFACF904BBAE3",
         "2020-12-07",
         "N.America",
         "iPhone"
        ],
        [
         "9",
         "FFCEA1179C253104",
         "2020-12-07",
         "EU",
         "Android"
        ],
        [
         "10",
         "5EB159DA9DC94DBA",
         "2020-12-07",
         "APAC",
         "PC"
        ],
        [
         "11",
         "084A22B980BA8169",
         "2020-12-07",
         "EU",
         "Android"
        ],
        [
         "12",
         "8ACC2420471B31E4",
         "2020-12-07",
         "EU",
         "PC"
        ],
        [
         "13",
         "5BE017E9C8CC42F8",
         "2020-12-07",
         "EU",
         "Android"
        ],
        [
         "14",
         "7B6452F081F49504",
         "2020-12-07",
         "EU",
         "iPhone"
        ],
        [
         "15",
         "0FC21E6F8FAA8DEC",
         "2020-12-07",
         "EU",
         "PC"
        ],
        [
         "16",
         "9CD9F34546DF254C",
         "2020-12-07",
         "N.America",
         "iPhone"
        ],
        [
         "17",
         "96F27A054B191457",
         "2020-12-07",
         "EU",
         "iPhone"
        ],
        [
         "18",
         "1FD7660FDF94CA1F",
         "2020-12-07",
         "EU",
         "Android"
        ],
        [
         "19",
         "DD4352CDCF8C3D57",
         "2020-12-07",
         "EU",
         "Android"
        ],
        [
         "20",
         "E6AF85675078215D",
         "2020-12-07",
         "EU",
         "Android"
        ],
        [
         "21",
         "CF3A409ADCA5F68F",
         "2020-12-07",
         "EU",
         "iPhone"
        ],
        [
         "22",
         "831887FE7F2D6CBA",
         "2020-12-07",
         "EU",
         "Android"
        ],
        [
         "23",
         "AD8BFC204C0F14E4",
         "2020-12-07",
         "EU",
         "Android"
        ],
        [
         "24",
         "18BFE6138D1740ED",
         "2020-12-07",
         "APAC",
         "iPhone"
        ],
        [
         "25",
         "6B2F726BFD5F8220",
         "2020-12-07",
         "EU",
         "Android"
        ],
        [
         "26",
         "5C31FA76D6418867",
         "2020-12-07",
         "CIS",
         "PC"
        ],
        [
         "27",
         "160121894010711F",
         "2020-12-07",
         "N.America",
         "iPhone"
        ],
        [
         "28",
         "7713F4DD96975E70",
         "2020-12-07",
         "EU",
         "Android"
        ],
        [
         "29",
         "BEB37715AACF53B0",
         "2020-12-07",
         "EU",
         "Android"
        ],
        [
         "30",
         "BA9A0549BDF2DC7D",
         "2020-12-07",
         "EU",
         "PC"
        ],
        [
         "31",
         "C99BCDCDA7C0A2B5",
         "2020-12-07",
         "EU",
         "PC"
        ],
        [
         "32",
         "914FF952E23F1E75",
         "2020-12-07",
         "EU",
         "PC"
        ],
        [
         "33",
         "C297F41C2EAB90F9",
         "2020-12-07",
         "EU",
         "iPhone"
        ],
        [
         "34",
         "5DFA5DCA1EAB4A61",
         "2020-12-07",
         "EU",
         "PC"
        ],
        [
         "35",
         "B5FA27F582227197",
         "2020-12-07",
         "N.America",
         "Mac"
        ],
        [
         "36",
         "26D11E1624C22789",
         "2020-12-07",
         "EU",
         "iPhone"
        ],
        [
         "37",
         "756030430BF8A8ED",
         "2020-12-07",
         "EU",
         "Mac"
        ],
        [
         "38",
         "4CB179C7F847320B",
         "2020-12-07",
         "EU",
         "iPhone"
        ],
        [
         "39",
         "29C92313A98B1176",
         "2020-12-07",
         "APAC",
         "Android"
        ],
        [
         "40",
         "F9DA742C045C0540",
         "2020-12-07",
         "EU",
         "Android"
        ],
        [
         "41",
         "718AE30161496626",
         "2020-12-07",
         "CIS",
         "Android"
        ],
        [
         "42",
         "12E224E9F736290C",
         "2020-12-07",
         "CIS",
         "Android"
        ],
        [
         "43",
         "A92195E3CFB83DBD",
         "2020-12-07",
         "EU",
         "Android"
        ],
        [
         "44",
         "7D1BFB181017EB46",
         "2020-12-07",
         "CIS",
         "PC"
        ],
        [
         "45",
         "72293AD2DCF3D634",
         "2020-12-07",
         "EU",
         "PC"
        ],
        [
         "46",
         "E2E76A8B3389127C",
         "2020-12-07",
         "EU",
         "iPhone"
        ],
        [
         "47",
         "CDC3949A0F713D89",
         "2020-12-07",
         "EU",
         "PC"
        ],
        [
         "48",
         "C8D792687FC90372",
         "2020-12-07",
         "EU",
         "PC"
        ],
        [
         "49",
         "10B478AFB18AFF23",
         "2020-12-07",
         "EU",
         "PC"
        ]
       ],
       "shape": {
        "columns": 4,
        "rows": 58703
       }
      },
      "text/html": [
       "<div>\n",
       "<style scoped>\n",
       "    .dataframe tbody tr th:only-of-type {\n",
       "        vertical-align: middle;\n",
       "    }\n",
       "\n",
       "    .dataframe tbody tr th {\n",
       "        vertical-align: top;\n",
       "    }\n",
       "\n",
       "    .dataframe thead th {\n",
       "        text-align: right;\n",
       "    }\n",
       "</style>\n",
       "<table border=\"1\" class=\"dataframe\">\n",
       "  <thead>\n",
       "    <tr style=\"text-align: right;\">\n",
       "      <th></th>\n",
       "      <th>user_id</th>\n",
       "      <th>first_date</th>\n",
       "      <th>region</th>\n",
       "      <th>device</th>\n",
       "    </tr>\n",
       "  </thead>\n",
       "  <tbody>\n",
       "    <tr>\n",
       "      <th>0</th>\n",
       "      <td>D72A72121175D8BE</td>\n",
       "      <td>2020-12-07</td>\n",
       "      <td>EU</td>\n",
       "      <td>PC</td>\n",
       "    </tr>\n",
       "    <tr>\n",
       "      <th>1</th>\n",
       "      <td>F1C668619DFE6E65</td>\n",
       "      <td>2020-12-07</td>\n",
       "      <td>N.America</td>\n",
       "      <td>Android</td>\n",
       "    </tr>\n",
       "    <tr>\n",
       "      <th>2</th>\n",
       "      <td>2E1BF1D4C37EA01F</td>\n",
       "      <td>2020-12-07</td>\n",
       "      <td>EU</td>\n",
       "      <td>PC</td>\n",
       "    </tr>\n",
       "    <tr>\n",
       "      <th>3</th>\n",
       "      <td>50734A22C0C63768</td>\n",
       "      <td>2020-12-07</td>\n",
       "      <td>EU</td>\n",
       "      <td>iPhone</td>\n",
       "    </tr>\n",
       "    <tr>\n",
       "      <th>4</th>\n",
       "      <td>E1BDDCE0DAFA2679</td>\n",
       "      <td>2020-12-07</td>\n",
       "      <td>N.America</td>\n",
       "      <td>iPhone</td>\n",
       "    </tr>\n",
       "    <tr>\n",
       "      <th>...</th>\n",
       "      <td>...</td>\n",
       "      <td>...</td>\n",
       "      <td>...</td>\n",
       "      <td>...</td>\n",
       "    </tr>\n",
       "    <tr>\n",
       "      <th>58698</th>\n",
       "      <td>1DB53B933257165D</td>\n",
       "      <td>2020-12-20</td>\n",
       "      <td>EU</td>\n",
       "      <td>Android</td>\n",
       "    </tr>\n",
       "    <tr>\n",
       "      <th>58699</th>\n",
       "      <td>538643EB4527ED03</td>\n",
       "      <td>2020-12-20</td>\n",
       "      <td>EU</td>\n",
       "      <td>Mac</td>\n",
       "    </tr>\n",
       "    <tr>\n",
       "      <th>58700</th>\n",
       "      <td>7ADEE837D5D8CBBD</td>\n",
       "      <td>2020-12-20</td>\n",
       "      <td>EU</td>\n",
       "      <td>PC</td>\n",
       "    </tr>\n",
       "    <tr>\n",
       "      <th>58701</th>\n",
       "      <td>1C7D23927835213F</td>\n",
       "      <td>2020-12-20</td>\n",
       "      <td>EU</td>\n",
       "      <td>iPhone</td>\n",
       "    </tr>\n",
       "    <tr>\n",
       "      <th>58702</th>\n",
       "      <td>8F04273BB2860229</td>\n",
       "      <td>2020-12-20</td>\n",
       "      <td>EU</td>\n",
       "      <td>Android</td>\n",
       "    </tr>\n",
       "  </tbody>\n",
       "</table>\n",
       "<p>58703 rows × 4 columns</p>\n",
       "</div>"
      ],
      "text/plain": [
       "                user_id  first_date     region   device\n",
       "0      D72A72121175D8BE  2020-12-07         EU       PC\n",
       "1      F1C668619DFE6E65  2020-12-07  N.America  Android\n",
       "2      2E1BF1D4C37EA01F  2020-12-07         EU       PC\n",
       "3      50734A22C0C63768  2020-12-07         EU   iPhone\n",
       "4      E1BDDCE0DAFA2679  2020-12-07  N.America   iPhone\n",
       "...                 ...         ...        ...      ...\n",
       "58698  1DB53B933257165D  2020-12-20         EU  Android\n",
       "58699  538643EB4527ED03  2020-12-20         EU      Mac\n",
       "58700  7ADEE837D5D8CBBD  2020-12-20         EU       PC\n",
       "58701  1C7D23927835213F  2020-12-20         EU   iPhone\n",
       "58702  8F04273BB2860229  2020-12-20         EU  Android\n",
       "\n",
       "[58703 rows x 4 columns]"
      ]
     },
     "execution_count": 27,
     "metadata": {},
     "output_type": "execute_result"
    }
   ],
   "source": [
    "df_users_registration['first_date'] = pd.to_datetime(df_users_registration['first_date'], errors='coerce').dt.date\n",
    "df_users_registration"
   ]
  },
  {
   "cell_type": "code",
   "execution_count": null,
   "id": "84202fe6",
   "metadata": {},
   "outputs": [],
   "source": []
  },
  {
   "cell_type": "code",
   "execution_count": 23,
   "id": "aed994a7",
   "metadata": {},
   "outputs": [
    {
     "data": {
      "application/vnd.microsoft.datawrangler.viewer.v0+json": {
       "columns": [
        {
         "name": "index",
         "rawType": "int64",
         "type": "integer"
        },
        {
         "name": "name",
         "rawType": "object",
         "type": "string"
        },
        {
         "name": "regions",
         "rawType": "category",
         "type": "unknown"
        },
        {
         "name": "start_dt",
         "rawType": "object",
         "type": "unknown"
        },
        {
         "name": "finish_dt",
         "rawType": "object",
         "type": "unknown"
        }
       ],
       "ref": "e9f993bc-d507-4977-8d6a-782b6fe37759",
       "rows": [
        [
         "0",
         "Christmas_New_Year_Promo",
         "EU_N.America",
         "2020-12-25",
         "2020-12-25"
        ],
        [
         "1",
         "St._Valentine_s_Day_Giveaway",
         "EU_CIS_APAC_N.America",
         "2020-02-14",
         "2020-02-14"
        ],
        [
         "2",
         "St._Patric_s_Day_Promo",
         "EU_N.America",
         "2020-03-17",
         "2020-03-17"
        ],
        [
         "3",
         "Easter_Promo",
         "EU_CIS_APAC_N.America",
         "2020-04-12",
         "2020-04-12"
        ],
        [
         "4",
         "4th_of_July_Promo",
         "N.America",
         "2020-07-04",
         "2020-07-04"
        ],
        [
         "5",
         "Black_Friday_Ads_Campaign",
         "EU_CIS_APAC_N.America",
         "2020-11-26",
         "2020-11-26"
        ],
        [
         "6",
         "Chinese_New_Year_Promo",
         "APAC",
         "2020-01-25",
         "2020-01-25"
        ],
        [
         "7",
         "Labor_day_May_1st_Ads_Campaign",
         "EU_CIS_APAC",
         "2020-05-01",
         "2020-05-01"
        ],
        [
         "8",
         "International_Women_s_Day_Promo",
         "EU_CIS_APAC",
         "2020-03-08",
         "2020-03-08"
        ],
        [
         "9",
         "Victory_Day_CIS_May_9th_Event",
         "CIS",
         "2020-05-09",
         "2020-05-09"
        ],
        [
         "10",
         "CIS_New_Year_Gift_Lottery",
         "CIS",
         "2020-12-30",
         "2020-12-30"
        ],
        [
         "11",
         "Dragon_Boat_Festival_Giveaway",
         "APAC",
         "2020-06-25",
         "2020-06-25"
        ],
        [
         "12",
         "Single_s_Day_Gift_Promo",
         "APAC",
         "2020-11-11",
         "2020-11-11"
        ],
        [
         "13",
         "Chinese_Moon_Festival",
         "APAC",
         "2020-10-01",
         "2020-10-01"
        ]
       ],
       "shape": {
        "columns": 4,
        "rows": 14
       }
      },
      "text/html": [
       "<div>\n",
       "<style scoped>\n",
       "    .dataframe tbody tr th:only-of-type {\n",
       "        vertical-align: middle;\n",
       "    }\n",
       "\n",
       "    .dataframe tbody tr th {\n",
       "        vertical-align: top;\n",
       "    }\n",
       "\n",
       "    .dataframe thead th {\n",
       "        text-align: right;\n",
       "    }\n",
       "</style>\n",
       "<table border=\"1\" class=\"dataframe\">\n",
       "  <thead>\n",
       "    <tr style=\"text-align: right;\">\n",
       "      <th></th>\n",
       "      <th>name</th>\n",
       "      <th>regions</th>\n",
       "      <th>start_dt</th>\n",
       "      <th>finish_dt</th>\n",
       "    </tr>\n",
       "  </thead>\n",
       "  <tbody>\n",
       "    <tr>\n",
       "      <th>0</th>\n",
       "      <td>Christmas_New_Year_Promo</td>\n",
       "      <td>EU_N.America</td>\n",
       "      <td>2020-12-25</td>\n",
       "      <td>2020-12-25</td>\n",
       "    </tr>\n",
       "    <tr>\n",
       "      <th>1</th>\n",
       "      <td>St._Valentine_s_Day_Giveaway</td>\n",
       "      <td>EU_CIS_APAC_N.America</td>\n",
       "      <td>2020-02-14</td>\n",
       "      <td>2020-02-14</td>\n",
       "    </tr>\n",
       "    <tr>\n",
       "      <th>2</th>\n",
       "      <td>St._Patric_s_Day_Promo</td>\n",
       "      <td>EU_N.America</td>\n",
       "      <td>2020-03-17</td>\n",
       "      <td>2020-03-17</td>\n",
       "    </tr>\n",
       "    <tr>\n",
       "      <th>3</th>\n",
       "      <td>Easter_Promo</td>\n",
       "      <td>EU_CIS_APAC_N.America</td>\n",
       "      <td>2020-04-12</td>\n",
       "      <td>2020-04-12</td>\n",
       "    </tr>\n",
       "    <tr>\n",
       "      <th>4</th>\n",
       "      <td>4th_of_July_Promo</td>\n",
       "      <td>N.America</td>\n",
       "      <td>2020-07-04</td>\n",
       "      <td>2020-07-04</td>\n",
       "    </tr>\n",
       "    <tr>\n",
       "      <th>5</th>\n",
       "      <td>Black_Friday_Ads_Campaign</td>\n",
       "      <td>EU_CIS_APAC_N.America</td>\n",
       "      <td>2020-11-26</td>\n",
       "      <td>2020-11-26</td>\n",
       "    </tr>\n",
       "    <tr>\n",
       "      <th>6</th>\n",
       "      <td>Chinese_New_Year_Promo</td>\n",
       "      <td>APAC</td>\n",
       "      <td>2020-01-25</td>\n",
       "      <td>2020-01-25</td>\n",
       "    </tr>\n",
       "    <tr>\n",
       "      <th>7</th>\n",
       "      <td>Labor_day_May_1st_Ads_Campaign</td>\n",
       "      <td>EU_CIS_APAC</td>\n",
       "      <td>2020-05-01</td>\n",
       "      <td>2020-05-01</td>\n",
       "    </tr>\n",
       "    <tr>\n",
       "      <th>8</th>\n",
       "      <td>International_Women_s_Day_Promo</td>\n",
       "      <td>EU_CIS_APAC</td>\n",
       "      <td>2020-03-08</td>\n",
       "      <td>2020-03-08</td>\n",
       "    </tr>\n",
       "    <tr>\n",
       "      <th>9</th>\n",
       "      <td>Victory_Day_CIS_May_9th_Event</td>\n",
       "      <td>CIS</td>\n",
       "      <td>2020-05-09</td>\n",
       "      <td>2020-05-09</td>\n",
       "    </tr>\n",
       "    <tr>\n",
       "      <th>10</th>\n",
       "      <td>CIS_New_Year_Gift_Lottery</td>\n",
       "      <td>CIS</td>\n",
       "      <td>2020-12-30</td>\n",
       "      <td>2020-12-30</td>\n",
       "    </tr>\n",
       "    <tr>\n",
       "      <th>11</th>\n",
       "      <td>Dragon_Boat_Festival_Giveaway</td>\n",
       "      <td>APAC</td>\n",
       "      <td>2020-06-25</td>\n",
       "      <td>2020-06-25</td>\n",
       "    </tr>\n",
       "    <tr>\n",
       "      <th>12</th>\n",
       "      <td>Single_s_Day_Gift_Promo</td>\n",
       "      <td>APAC</td>\n",
       "      <td>2020-11-11</td>\n",
       "      <td>2020-11-11</td>\n",
       "    </tr>\n",
       "    <tr>\n",
       "      <th>13</th>\n",
       "      <td>Chinese_Moon_Festival</td>\n",
       "      <td>APAC</td>\n",
       "      <td>2020-10-01</td>\n",
       "      <td>2020-10-01</td>\n",
       "    </tr>\n",
       "  </tbody>\n",
       "</table>\n",
       "</div>"
      ],
      "text/plain": [
       "                               name                regions    start_dt  \\\n",
       "0          Christmas_New_Year_Promo           EU_N.America  2020-12-25   \n",
       "1      St._Valentine_s_Day_Giveaway  EU_CIS_APAC_N.America  2020-02-14   \n",
       "2            St._Patric_s_Day_Promo           EU_N.America  2020-03-17   \n",
       "3                      Easter_Promo  EU_CIS_APAC_N.America  2020-04-12   \n",
       "4                 4th_of_July_Promo              N.America  2020-07-04   \n",
       "5         Black_Friday_Ads_Campaign  EU_CIS_APAC_N.America  2020-11-26   \n",
       "6            Chinese_New_Year_Promo                   APAC  2020-01-25   \n",
       "7    Labor_day_May_1st_Ads_Campaign            EU_CIS_APAC  2020-05-01   \n",
       "8   International_Women_s_Day_Promo            EU_CIS_APAC  2020-03-08   \n",
       "9     Victory_Day_CIS_May_9th_Event                    CIS  2020-05-09   \n",
       "10        CIS_New_Year_Gift_Lottery                    CIS  2020-12-30   \n",
       "11    Dragon_Boat_Festival_Giveaway                   APAC  2020-06-25   \n",
       "12          Single_s_Day_Gift_Promo                   APAC  2020-11-11   \n",
       "13            Chinese_Moon_Festival                   APAC  2020-10-01   \n",
       "\n",
       "     finish_dt  \n",
       "0   2020-12-25  \n",
       "1   2020-02-14  \n",
       "2   2020-03-17  \n",
       "3   2020-04-12  \n",
       "4   2020-07-04  \n",
       "5   2020-11-26  \n",
       "6   2020-01-25  \n",
       "7   2020-05-01  \n",
       "8   2020-03-08  \n",
       "9   2020-05-09  \n",
       "10  2020-12-30  \n",
       "11  2020-06-25  \n",
       "12  2020-11-11  \n",
       "13  2020-10-01  "
      ]
     },
     "execution_count": 23,
     "metadata": {},
     "output_type": "execute_result"
    }
   ],
   "source": [
    "# Cast to category\n",
    "df_mkt_events['regions'] = df_mkt_events['regions'].astype('category')\n",
    "df_mkt_events"
   ]
  },
  {
   "cell_type": "code",
   "execution_count": 28,
   "id": "fe9cc949",
   "metadata": {},
   "outputs": [
    {
     "data": {
      "application/vnd.microsoft.datawrangler.viewer.v0+json": {
       "columns": [
        {
         "name": "index",
         "rawType": "int64",
         "type": "integer"
        },
        {
         "name": "user_id",
         "rawType": "object",
         "type": "string"
        },
        {
         "name": "first_date",
         "rawType": "object",
         "type": "unknown"
        },
        {
         "name": "region",
         "rawType": "category",
         "type": "unknown"
        },
        {
         "name": "device",
         "rawType": "category",
         "type": "unknown"
        }
       ],
       "ref": "153f3dac-83d8-4996-a052-9bf46336b087",
       "rows": [
        [
         "0",
         "D72A72121175D8BE",
         "2020-12-07",
         "EU",
         "PC"
        ],
        [
         "1",
         "F1C668619DFE6E65",
         "2020-12-07",
         "N.America",
         "Android"
        ],
        [
         "2",
         "2E1BF1D4C37EA01F",
         "2020-12-07",
         "EU",
         "PC"
        ],
        [
         "3",
         "50734A22C0C63768",
         "2020-12-07",
         "EU",
         "iPhone"
        ],
        [
         "4",
         "E1BDDCE0DAFA2679",
         "2020-12-07",
         "N.America",
         "iPhone"
        ],
        [
         "5",
         "137119F5A9E69421",
         "2020-12-07",
         "N.America",
         "iPhone"
        ],
        [
         "6",
         "62F0C741CC42D0CC",
         "2020-12-07",
         "APAC",
         "iPhone"
        ],
        [
         "7",
         "8942E64218C9A1ED",
         "2020-12-07",
         "EU",
         "PC"
        ],
        [
         "8",
         "499AFACF904BBAE3",
         "2020-12-07",
         "N.America",
         "iPhone"
        ],
        [
         "9",
         "FFCEA1179C253104",
         "2020-12-07",
         "EU",
         "Android"
        ],
        [
         "10",
         "5EB159DA9DC94DBA",
         "2020-12-07",
         "APAC",
         "PC"
        ],
        [
         "11",
         "084A22B980BA8169",
         "2020-12-07",
         "EU",
         "Android"
        ],
        [
         "12",
         "8ACC2420471B31E4",
         "2020-12-07",
         "EU",
         "PC"
        ],
        [
         "13",
         "5BE017E9C8CC42F8",
         "2020-12-07",
         "EU",
         "Android"
        ],
        [
         "14",
         "7B6452F081F49504",
         "2020-12-07",
         "EU",
         "iPhone"
        ],
        [
         "15",
         "0FC21E6F8FAA8DEC",
         "2020-12-07",
         "EU",
         "PC"
        ],
        [
         "16",
         "9CD9F34546DF254C",
         "2020-12-07",
         "N.America",
         "iPhone"
        ],
        [
         "17",
         "96F27A054B191457",
         "2020-12-07",
         "EU",
         "iPhone"
        ],
        [
         "18",
         "1FD7660FDF94CA1F",
         "2020-12-07",
         "EU",
         "Android"
        ],
        [
         "19",
         "DD4352CDCF8C3D57",
         "2020-12-07",
         "EU",
         "Android"
        ],
        [
         "20",
         "E6AF85675078215D",
         "2020-12-07",
         "EU",
         "Android"
        ],
        [
         "21",
         "CF3A409ADCA5F68F",
         "2020-12-07",
         "EU",
         "iPhone"
        ],
        [
         "22",
         "831887FE7F2D6CBA",
         "2020-12-07",
         "EU",
         "Android"
        ],
        [
         "23",
         "AD8BFC204C0F14E4",
         "2020-12-07",
         "EU",
         "Android"
        ],
        [
         "24",
         "18BFE6138D1740ED",
         "2020-12-07",
         "APAC",
         "iPhone"
        ],
        [
         "25",
         "6B2F726BFD5F8220",
         "2020-12-07",
         "EU",
         "Android"
        ],
        [
         "26",
         "5C31FA76D6418867",
         "2020-12-07",
         "CIS",
         "PC"
        ],
        [
         "27",
         "160121894010711F",
         "2020-12-07",
         "N.America",
         "iPhone"
        ],
        [
         "28",
         "7713F4DD96975E70",
         "2020-12-07",
         "EU",
         "Android"
        ],
        [
         "29",
         "BEB37715AACF53B0",
         "2020-12-07",
         "EU",
         "Android"
        ],
        [
         "30",
         "BA9A0549BDF2DC7D",
         "2020-12-07",
         "EU",
         "PC"
        ],
        [
         "31",
         "C99BCDCDA7C0A2B5",
         "2020-12-07",
         "EU",
         "PC"
        ],
        [
         "32",
         "914FF952E23F1E75",
         "2020-12-07",
         "EU",
         "PC"
        ],
        [
         "33",
         "C297F41C2EAB90F9",
         "2020-12-07",
         "EU",
         "iPhone"
        ],
        [
         "34",
         "5DFA5DCA1EAB4A61",
         "2020-12-07",
         "EU",
         "PC"
        ],
        [
         "35",
         "B5FA27F582227197",
         "2020-12-07",
         "N.America",
         "Mac"
        ],
        [
         "36",
         "26D11E1624C22789",
         "2020-12-07",
         "EU",
         "iPhone"
        ],
        [
         "37",
         "756030430BF8A8ED",
         "2020-12-07",
         "EU",
         "Mac"
        ],
        [
         "38",
         "4CB179C7F847320B",
         "2020-12-07",
         "EU",
         "iPhone"
        ],
        [
         "39",
         "29C92313A98B1176",
         "2020-12-07",
         "APAC",
         "Android"
        ],
        [
         "40",
         "F9DA742C045C0540",
         "2020-12-07",
         "EU",
         "Android"
        ],
        [
         "41",
         "718AE30161496626",
         "2020-12-07",
         "CIS",
         "Android"
        ],
        [
         "42",
         "12E224E9F736290C",
         "2020-12-07",
         "CIS",
         "Android"
        ],
        [
         "43",
         "A92195E3CFB83DBD",
         "2020-12-07",
         "EU",
         "Android"
        ],
        [
         "44",
         "7D1BFB181017EB46",
         "2020-12-07",
         "CIS",
         "PC"
        ],
        [
         "45",
         "72293AD2DCF3D634",
         "2020-12-07",
         "EU",
         "PC"
        ],
        [
         "46",
         "E2E76A8B3389127C",
         "2020-12-07",
         "EU",
         "iPhone"
        ],
        [
         "47",
         "CDC3949A0F713D89",
         "2020-12-07",
         "EU",
         "PC"
        ],
        [
         "48",
         "C8D792687FC90372",
         "2020-12-07",
         "EU",
         "PC"
        ],
        [
         "49",
         "10B478AFB18AFF23",
         "2020-12-07",
         "EU",
         "PC"
        ]
       ],
       "shape": {
        "columns": 4,
        "rows": 58703
       }
      },
      "text/html": [
       "<div>\n",
       "<style scoped>\n",
       "    .dataframe tbody tr th:only-of-type {\n",
       "        vertical-align: middle;\n",
       "    }\n",
       "\n",
       "    .dataframe tbody tr th {\n",
       "        vertical-align: top;\n",
       "    }\n",
       "\n",
       "    .dataframe thead th {\n",
       "        text-align: right;\n",
       "    }\n",
       "</style>\n",
       "<table border=\"1\" class=\"dataframe\">\n",
       "  <thead>\n",
       "    <tr style=\"text-align: right;\">\n",
       "      <th></th>\n",
       "      <th>user_id</th>\n",
       "      <th>first_date</th>\n",
       "      <th>region</th>\n",
       "      <th>device</th>\n",
       "    </tr>\n",
       "  </thead>\n",
       "  <tbody>\n",
       "    <tr>\n",
       "      <th>0</th>\n",
       "      <td>D72A72121175D8BE</td>\n",
       "      <td>2020-12-07</td>\n",
       "      <td>EU</td>\n",
       "      <td>PC</td>\n",
       "    </tr>\n",
       "    <tr>\n",
       "      <th>1</th>\n",
       "      <td>F1C668619DFE6E65</td>\n",
       "      <td>2020-12-07</td>\n",
       "      <td>N.America</td>\n",
       "      <td>Android</td>\n",
       "    </tr>\n",
       "    <tr>\n",
       "      <th>2</th>\n",
       "      <td>2E1BF1D4C37EA01F</td>\n",
       "      <td>2020-12-07</td>\n",
       "      <td>EU</td>\n",
       "      <td>PC</td>\n",
       "    </tr>\n",
       "    <tr>\n",
       "      <th>3</th>\n",
       "      <td>50734A22C0C63768</td>\n",
       "      <td>2020-12-07</td>\n",
       "      <td>EU</td>\n",
       "      <td>iPhone</td>\n",
       "    </tr>\n",
       "    <tr>\n",
       "      <th>4</th>\n",
       "      <td>E1BDDCE0DAFA2679</td>\n",
       "      <td>2020-12-07</td>\n",
       "      <td>N.America</td>\n",
       "      <td>iPhone</td>\n",
       "    </tr>\n",
       "    <tr>\n",
       "      <th>...</th>\n",
       "      <td>...</td>\n",
       "      <td>...</td>\n",
       "      <td>...</td>\n",
       "      <td>...</td>\n",
       "    </tr>\n",
       "    <tr>\n",
       "      <th>58698</th>\n",
       "      <td>1DB53B933257165D</td>\n",
       "      <td>2020-12-20</td>\n",
       "      <td>EU</td>\n",
       "      <td>Android</td>\n",
       "    </tr>\n",
       "    <tr>\n",
       "      <th>58699</th>\n",
       "      <td>538643EB4527ED03</td>\n",
       "      <td>2020-12-20</td>\n",
       "      <td>EU</td>\n",
       "      <td>Mac</td>\n",
       "    </tr>\n",
       "    <tr>\n",
       "      <th>58700</th>\n",
       "      <td>7ADEE837D5D8CBBD</td>\n",
       "      <td>2020-12-20</td>\n",
       "      <td>EU</td>\n",
       "      <td>PC</td>\n",
       "    </tr>\n",
       "    <tr>\n",
       "      <th>58701</th>\n",
       "      <td>1C7D23927835213F</td>\n",
       "      <td>2020-12-20</td>\n",
       "      <td>EU</td>\n",
       "      <td>iPhone</td>\n",
       "    </tr>\n",
       "    <tr>\n",
       "      <th>58702</th>\n",
       "      <td>8F04273BB2860229</td>\n",
       "      <td>2020-12-20</td>\n",
       "      <td>EU</td>\n",
       "      <td>Android</td>\n",
       "    </tr>\n",
       "  </tbody>\n",
       "</table>\n",
       "<p>58703 rows × 4 columns</p>\n",
       "</div>"
      ],
      "text/plain": [
       "                user_id  first_date     region   device\n",
       "0      D72A72121175D8BE  2020-12-07         EU       PC\n",
       "1      F1C668619DFE6E65  2020-12-07  N.America  Android\n",
       "2      2E1BF1D4C37EA01F  2020-12-07         EU       PC\n",
       "3      50734A22C0C63768  2020-12-07         EU   iPhone\n",
       "4      E1BDDCE0DAFA2679  2020-12-07  N.America   iPhone\n",
       "...                 ...         ...        ...      ...\n",
       "58698  1DB53B933257165D  2020-12-20         EU  Android\n",
       "58699  538643EB4527ED03  2020-12-20         EU      Mac\n",
       "58700  7ADEE837D5D8CBBD  2020-12-20         EU       PC\n",
       "58701  1C7D23927835213F  2020-12-20         EU   iPhone\n",
       "58702  8F04273BB2860229  2020-12-20         EU  Android\n",
       "\n",
       "[58703 rows x 4 columns]"
      ]
     },
     "execution_count": 28,
     "metadata": {},
     "output_type": "execute_result"
    }
   ],
   "source": [
    "df_users_registration['region'] = df_users_registration['region'].astype('category')\n",
    "df_users_registration['device'] = df_users_registration['device'].astype('category')\n",
    "df_users_registration"
   ]
  },
  {
   "cell_type": "code",
   "execution_count": null,
   "id": "e71ba54d",
   "metadata": {},
   "outputs": [
    {
     "data": {
      "application/vnd.microsoft.datawrangler.viewer.v0+json": {
       "columns": [
        {
         "name": "index",
         "rawType": "object",
         "type": "string"
        },
        {
         "name": "0",
         "rawType": "object",
         "type": "unknown"
        }
       ],
       "ref": "4e30738b-d18d-4aba-88c1-fdd4a5734c51",
       "rows": [
        [
         "name",
         "object"
        ],
        [
         "regions",
         "category"
        ],
        [
         "start_dt",
         "object"
        ],
        [
         "finish_dt",
         "object"
        ]
       ],
       "shape": {
        "columns": 1,
        "rows": 4
       }
      },
      "text/plain": [
       "name           object\n",
       "regions      category\n",
       "start_dt       object\n",
       "finish_dt      object\n",
       "dtype: object"
      ]
     },
     "execution_count": 24,
     "metadata": {},
     "output_type": "execute_result"
    }
   ],
   "source": [
    "# Check dtypes\n",
    "df_mkt_events.dtypes"
   ]
  },
  {
   "cell_type": "code",
   "execution_count": 29,
   "id": "314a09c3",
   "metadata": {},
   "outputs": [
    {
     "data": {
      "application/vnd.microsoft.datawrangler.viewer.v0+json": {
       "columns": [
        {
         "name": "index",
         "rawType": "object",
         "type": "string"
        },
        {
         "name": "0",
         "rawType": "object",
         "type": "unknown"
        }
       ],
       "ref": "49d3cf57-f6eb-45d4-b044-d477141085ee",
       "rows": [
        [
         "user_id",
         "object"
        ],
        [
         "first_date",
         "object"
        ],
        [
         "region",
         "category"
        ],
        [
         "device",
         "category"
        ]
       ],
       "shape": {
        "columns": 1,
        "rows": 4
       }
      },
      "text/plain": [
       "user_id         object\n",
       "first_date      object\n",
       "region        category\n",
       "device        category\n",
       "dtype: object"
      ]
     },
     "execution_count": 29,
     "metadata": {},
     "output_type": "execute_result"
    }
   ],
   "source": [
    "df_users_registration.dtypes"
   ]
  }
 ],
 "metadata": {
  "kernelspec": {
   "display_name": "ai_dataAnalysis",
   "language": "python",
   "name": "python3"
  },
  "language_info": {
   "codemirror_mode": {
    "name": "ipython",
    "version": 3
   },
   "file_extension": ".py",
   "mimetype": "text/x-python",
   "name": "python",
   "nbconvert_exporter": "python",
   "pygments_lexer": "ipython3",
   "version": "3.10.18"
  }
 },
 "nbformat": 4,
 "nbformat_minor": 5
}
