{
 "cells": [
  {
   "cell_type": "markdown",
   "id": "c593cc8a",
   "metadata": {},
   "source": [
    "### 🧭 __Action Plan: Ineffective Operator Analysis for CallMeMaybe__\n",
    "\n",
    "1. Introduction & Problem Definition   \n",
    "__Objective__: Identify ineffective operators based on missed calls, long wait times, and low outbound activity.   \n",
    "\n",
    "* Why it matters:\n",
    "\n",
    "    - Helps supervisors optimize team performance.\n",
    "    - Reduces customer dissatisfaction due to missed or delayed calls.\n",
    "    - Enables data-driven decisions for staffing and training.\n",
    "\n",
    "2. Library Setup   \n",
    "__Action__: Import essential libraries (e.g., pandas, numpy, matplotlib, seaborn, scipy, plotly, dash).\n",
    "\n",
    "* Justification:\n",
    "\n",
    "    - Ensures access to powerful tools for data manipulation, visualization, and statistical analysis.\n",
    "    - Promotes modular, readable, and efficient code.\n",
    "\n",
    "3. Custom Function Definitions   \n",
    "__Action__: Define reusable functions for cleaning, plotting, and analysis.\n",
    "\n",
    "* Justification:\n",
    "\n",
    "    - Improves code reusability and maintainability.\n",
    "    - Speeds up repetitive tasks and enforces consistency across analysis steps.\n",
    "\n",
    "4. Data Loading   \n",
    "__Action__: Load telecom_dataset_us.csv and telecom_clients_us.csv.\n",
    "\n",
    "* Justification:\n",
    "\n",
    "    - Centralizes all relevant data for analysis.\n",
    "    - Enables merging and cross-referencing between operator activity and client metadata.\n",
    "\n",
    "5. Data Cleanup   \n",
    "__Action__:\n",
    "\n",
    "- Convert column names to snake_case.\n",
    "- Remove duplicates.\n",
    "- Handle missing values via imputation or deletion.\n",
    "- Visualize nulls using heatmaps.\n",
    "\n",
    "* Justification:\n",
    "\n",
    "    - Standardizes data for easier manipulation.\n",
    "    - Prevents bias or errors due to incomplete or redundant records.\n",
    "    - Heatmaps help identify patterns in missingness.\n",
    "\n",
    "6. Data Type Casting   \n",
    "__Action__: Convert columns to appropriate types (e.g., dates, booleans, categories).\n",
    "\n",
    "* Justification:\n",
    "\n",
    "    - Enables accurate filtering, grouping, and time-based analysis.\n",
    "    - Reduces memory usage and improves performance.\n",
    "\n",
    "7. Exploratory Data Analysis (EDA) – Descriptive Statistics   \n",
    "__Action__:\n",
    "\n",
    "- Use .describe() for quantitative and qualitative variables.\n",
    "- Analyze mean, median, skewness, coefficient of variation.\n",
    "- Visualize distributions with histograms and boxplots.\n",
    "\n",
    "* Justification:\n",
    "\n",
    "    - Reveals central tendencies and variability.\n",
    "    - Identifies outliers and data quality issues.\n",
    "    - Supports hypothesis generation and feature engineering.\n",
    "\n",
    "8. Feature Engineering   \n",
    "__Action__: Create new features to capture operator efficiency, call ratios, missed call rates, etc.\n",
    "\n",
    "* Justification:\n",
    "\n",
    "    - Enhances model interpretability and predictive power.\n",
    "    - Simplifies identification of trends and inefficiencies.\n",
    "    - Tailors metrics to business goals.\n",
    "\n",
    "9. Outlier Processing   \n",
    "__Action__: Detect and handle outliers using statistical thresholds or domain logic.\n",
    "\n",
    "* Justification:\n",
    "\n",
    "    - Prevents distortion of statistical results and visualizations.\n",
    "    - Improves robustness of models and insights.\n",
    "\n",
    "10. Cleaned EDA & Distribution Analysis   \n",
    "__Action__:\n",
    "\n",
    "- Re-run EDA on cleaned data.\n",
    "- Use QQ plots to assess normality.\n",
    "\n",
    "* Justification:\n",
    "\n",
    "    - Validates data quality post-cleanup.\n",
    "    - Guides choice of statistical tests (parametric vs non-parametric).\n",
    "\n",
    "11. Operator Efficiency Visualization   \n",
    "__Action__:\n",
    "\n",
    "- Build a dedicated dataframe for operator metrics.\n",
    "- Define and calculate efficiency score.\n",
    "- Visualize trends using bar charts, scatter plots, etc.\n",
    "\n",
    "* Justification:\n",
    "\n",
    "    - Makes inefficiencies visible and actionable.\n",
    "    - Supports ranking and segmentation of operators.\n",
    "    - Facilitates stakeholder communication.\n",
    "\n",
    "12. Supporting Visualizations with Raw Data   \n",
    "__Action__: Use original data to reinforce findings and provide context.\n",
    "\n",
    "* Justification:\n",
    "\n",
    "    - Ensures transparency and traceability.\n",
    "    - Helps validate engineered features against raw behavior.\n",
    "\n",
    "13. Statistical Inference   \n",
    "__Action__:\n",
    "\n",
    "- Formulate hypotheses .\n",
    "    - The average wait time is equal between incoming and outgoing calls\n",
    "    - The proportion of missed calls is equal between tariff A and tariff C\n",
    "    - The average number of missed calls is the same on all days of the week\n",
    "- Apply appropriate tests (t-test, ANOVA, z-test).\n",
    "\n",
    "* Justification:\n",
    "\n",
    "    - Quantifies significance of observed patterns.\n",
    "    - Supports data-driven recommendations with statistical rigor.\n",
    "\n",
    "14. Dashboard Creation (Dash)   \n",
    "__Action__: Build an interactive dashboard to display key metrics and visualizations.\n",
    "\n",
    "* Justification:\n",
    "\n",
    "    - Empowers supervisors with real-time insights.\n",
    "    - Enhances usability and decision-making.\n",
    "    - Facilitates stakeholder engagement and feedback.\n",
    "\n",
    "15. Data Export for Tableau   \n",
    "__Action__: Save cleaned and enriched datasets for external visualization tools.\n",
    "\n",
    "* Justification:\n",
    "\n",
    "    - Enables advanced reporting and storytelling.\n",
    "    - Supports integration with enterprise BI platforms."
   ]
  },
  {
   "cell_type": "markdown",
   "id": "2d50323a",
   "metadata": {},
   "source": [
    "### 🧭 __Telecommunications: Identifying ineffective operators__\n",
    "\n",
    "The virtual phone service CallMeMaybe is developing a new feature that will provide supervisors with insight into the least effective operators. An operator is considered ineffective if they have a high number of missed incoming calls (internal and external) and a long wait time for incoming calls. Furthermore, if an operator is supposed to make outgoing calls, a low number of them will also be a sign of ineffectiveness.\n",
    "\n",
    "- Conduct exploratory data analysis\n",
    "- Identify ineffective operators\n",
    "- Test statistical hypotheses"
   ]
  },
  {
   "cell_type": "markdown",
   "id": "d155335f",
   "metadata": {},
   "source": [
    "#### 🧾 __Data Dictionary__\n",
    "\n",
    "The datasets contain information about the use of the CallMeMaybe virtual phone service. Its customers are organizations that need to distribute large numbers of incoming calls among multiple carriers or make outgoing calls through their carriers. Carriers can also make internal calls to communicate with each other. These calls are made through the CallMeMaybe network.\n",
    "\n",
    "The compressed dataset `telecom_dataset_us.csv` contains the following columns:\n",
    "\n",
    "- `user_id`: Customer account ID\n",
    "- `date`: Date statistics were retrieved\n",
    "- `direction`: Call direction (`out` for outgoing, `in` for incoming)\n",
    "- `internal`: Whether the call was internal (between a customer's operators)\n",
    "- `operator_id`: Operator ID\n",
    "- `is_missed_call`: Whether the call was missed\n",
    "- `calls_count`: Number of calls\n",
    "- `call_duration`: Call duration (excluding hold time)\n",
    "- `total_call_duration`: Call duration (including hold time)\n",
    "\n",
    "The `telecom_clients_us.csv` dataset has the following columns:\n",
    "\n",
    "- `user_id`: User ID\n",
    "- `tariff_plan`: Customer's current rate\n",
    "- `date_start`: customer registration date"
   ]
  },
  {
   "cell_type": "markdown",
   "id": "10f9d8a5",
   "metadata": {},
   "source": [
    "### 💻 __1. Libraries__"
   ]
  },
  {
   "cell_type": "code",
   "execution_count": null,
   "id": "1959fddf",
   "metadata": {},
   "outputs": [],
   "source": []
  },
  {
   "cell_type": "markdown",
   "id": "69693b71",
   "metadata": {},
   "source": [
    "### 🛠️ __2. Functions__"
   ]
  },
  {
   "cell_type": "code",
   "execution_count": null,
   "id": "9313a7ea",
   "metadata": {},
   "outputs": [],
   "source": []
  },
  {
   "cell_type": "markdown",
   "id": "a85c72e9",
   "metadata": {},
   "source": [
    "### 🔁 __3. Data Loading__"
   ]
  },
  {
   "cell_type": "code",
   "execution_count": null,
   "id": "cc1e7ae6",
   "metadata": {},
   "outputs": [],
   "source": [
    "# Load Dataset from telecom_dataset_new.csv"
   ]
  },
  {
   "cell_type": "code",
   "execution_count": null,
   "id": "3a7c9dd5",
   "metadata": {},
   "outputs": [],
   "source": [
    "# Load Dataset from telecom_clients.csv"
   ]
  },
  {
   "cell_type": "markdown",
   "id": "96f6604f",
   "metadata": {},
   "source": [
    "##### `LSPL`\n",
    "\n",
    "**_Note_:**\n",
    "\n",
    "`\"keep_default_na=False\"` is used so that missing values ​​are later converted to \"pd.NA\". This is convenient because \"pd.NA\" provides:\n",
    "\n",
    "- Consistency between data types\n",
    "- Preservation of type integrity\n",
    "- Cleaner logical operations\n",
    "- Better control over missing data.\n",
    "\n",
    "Since high performance and heavy computation are not required, it is appropriate to use \"pd.NA\"."
   ]
  },
  {
   "cell_type": "markdown",
   "id": "e406e928",
   "metadata": {},
   "source": [
    "### 🧹 __4. Data Cleanup__"
   ]
  },
  {
   "cell_type": "code",
   "execution_count": null,
   "id": "5d66c1aa",
   "metadata": {},
   "outputs": [],
   "source": [
    "# Show Dataframe from telecom_dataset_new.csv using .info()"
   ]
  },
  {
   "cell_type": "code",
   "execution_count": null,
   "id": "ad164511",
   "metadata": {},
   "outputs": [],
   "source": [
    "# Show Dataframe from telecom_clients.csv using .info()"
   ]
  },
  {
   "cell_type": "markdown",
   "id": "1a0d266d",
   "metadata": {},
   "source": [
    "##### **4.1** Normalize String data"
   ]
  },
  {
   "cell_type": "code",
   "execution_count": null,
   "id": "32524e6f",
   "metadata": {},
   "outputs": [],
   "source": [
    "# Standardize dataframe's titles and data with dtype object or string as snake_case dataframe from telecom_dataset_new.csv"
   ]
  },
  {
   "cell_type": "code",
   "execution_count": null,
   "id": "8d01ec5d",
   "metadata": {},
   "outputs": [],
   "source": [
    "# Standardize dataframe's titles and data with dtype object or string as snake_case dataframe from telecom_clients.csv"
   ]
  },
  {
   "cell_type": "markdown",
   "id": "e0e52e9b",
   "metadata": {},
   "source": [
    "##### **4.2** Explicit Duplicate Removal"
   ]
  },
  {
   "cell_type": "code",
   "execution_count": null,
   "id": "6431971a",
   "metadata": {},
   "outputs": [],
   "source": [
    "# Checking for explicit duplicate values ​​in a DataFrame\n"
   ]
  },
  {
   "cell_type": "markdown",
   "id": "45f6d183",
   "metadata": {},
   "source": [
    "##### **4.3** Missing values processing"
   ]
  },
  {
   "cell_type": "code",
   "execution_count": null,
   "id": "f654d7dc",
   "metadata": {},
   "outputs": [],
   "source": [
    "# Check missing values for telecom_dataset_new.csv\n"
   ]
  },
  {
   "cell_type": "code",
   "execution_count": null,
   "id": "9c7a730a",
   "metadata": {},
   "outputs": [],
   "source": [
    "# Check missing values for telecom_clients.csv"
   ]
  },
  {
   "cell_type": "code",
   "execution_count": null,
   "id": "a43b57cd",
   "metadata": {},
   "outputs": [],
   "source": [
    "# Set missing values to pd.NA for telecom_dataset_new.csv\n"
   ]
  },
  {
   "cell_type": "code",
   "execution_count": null,
   "id": "fb8f21ca",
   "metadata": {},
   "outputs": [],
   "source": [
    "# Show missing values rate for telecom_clients.csv\n"
   ]
  },
  {
   "cell_type": "code",
   "execution_count": null,
   "id": "8e49c32b",
   "metadata": {},
   "outputs": [],
   "source": [
    "# Show missing values heatmap for telecom_dataset_new.csv\n"
   ]
  },
  {
   "cell_type": "code",
   "execution_count": null,
   "id": "da0418ad",
   "metadata": {},
   "outputs": [],
   "source": [
    "# Show missing values heatmap for telecom_clients.csv"
   ]
  },
  {
   "cell_type": "markdown",
   "id": "ad6890b5",
   "metadata": {},
   "source": [
    "##### `LSPL`\n",
    "\n",
    "**_Note_:**   \n",
    "Describe how to handle missing values data imputation\n"
   ]
  },
  {
   "cell_type": "code",
   "execution_count": null,
   "id": "ae5fa7e2",
   "metadata": {},
   "outputs": [],
   "source": [
    "# Check missing values for df_telecom_data\n"
   ]
  },
  {
   "cell_type": "markdown",
   "id": "15db4327",
   "metadata": {},
   "source": [
    "### 📦 __5. Casting Data types__"
   ]
  },
  {
   "cell_type": "code",
   "execution_count": null,
   "id": "481d5285",
   "metadata": {},
   "outputs": [],
   "source": [
    "# Cast into datetime\n"
   ]
  },
  {
   "cell_type": "code",
   "execution_count": null,
   "id": "660fe4d8",
   "metadata": {},
   "outputs": [],
   "source": [
    "# Cast into category\n",
    "\n"
   ]
  },
  {
   "cell_type": "code",
   "execution_count": null,
   "id": "0a1035c5",
   "metadata": {},
   "outputs": [],
   "source": [
    "# Cast into boolean\n",
    "\n"
   ]
  },
  {
   "cell_type": "code",
   "execution_count": null,
   "id": "1a1050a0",
   "metadata": {},
   "outputs": [],
   "source": [
    "# Double check casting performed correctly\n"
   ]
  },
  {
   "cell_type": "markdown",
   "id": "ac390642",
   "metadata": {},
   "source": [
    "### 📚 __6. EDA Descriptive Statistics__"
   ]
  },
  {
   "cell_type": "markdown",
   "id": "7f0e6014",
   "metadata": {},
   "source": [
    "##### **6.1** Descriptive statistics for quantitative data"
   ]
  },
  {
   "cell_type": "code",
   "execution_count": null,
   "id": "d2da1d28",
   "metadata": {},
   "outputs": [],
   "source": [
    "# Show descriptive statistics for quantitative data with .describe() for telecom_dataset_new.csv"
   ]
  },
  {
   "cell_type": "code",
   "execution_count": null,
   "id": "0e8b8d02",
   "metadata": {},
   "outputs": [],
   "source": [
    "# Show descriptive statistics for quantitative data with .describe() for telecom_clients.csv"
   ]
  },
  {
   "cell_type": "code",
   "execution_count": null,
   "id": "0a5702a4",
   "metadata": {},
   "outputs": [],
   "source": [
    "# Evaluate central trend values such as  mean, median, coefficient of variation, skewness for  telecom_dataset_new.csv\n"
   ]
  },
  {
   "cell_type": "code",
   "execution_count": null,
   "id": "eb817f07",
   "metadata": {},
   "outputs": [],
   "source": [
    "# Evaluate central trend values such as  mean, median, coefficient of variation, skewness for  telecom_clients.csv"
   ]
  },
  {
   "cell_type": "code",
   "execution_count": null,
   "id": "992a625d",
   "metadata": {},
   "outputs": [],
   "source": [
    "# Plot Histogram for telecom_dataset_new.csv quantitative data\n"
   ]
  },
  {
   "cell_type": "code",
   "execution_count": null,
   "id": "51fab670",
   "metadata": {},
   "outputs": [],
   "source": [
    "# Plot Boxplot for telecom_dataset_new.csv quantitative data so that outliers can be found easily\n"
   ]
  },
  {
   "cell_type": "code",
   "execution_count": null,
   "id": "c0d62b3d",
   "metadata": {},
   "outputs": [],
   "source": [
    "# Plot Histogram for telecom_clients.csv quantitative data"
   ]
  },
  {
   "cell_type": "code",
   "execution_count": null,
   "id": "5622f4b6",
   "metadata": {},
   "outputs": [],
   "source": [
    "# Plot Boxplot for telecom_clients.csv quantitative data so that outliers can be found easily"
   ]
  },
  {
   "cell_type": "markdown",
   "id": "1bf474e2",
   "metadata": {},
   "source": [
    "##### **6.2** Descriptive statistics for qualitative data"
   ]
  },
  {
   "cell_type": "code",
   "execution_count": null,
   "id": "df4c8f5f",
   "metadata": {},
   "outputs": [],
   "source": [
    "# Show descriptive statistics for qualitative data with .describe(include=['object', 'boolean', 'category']) for telecom_dataset_new.csv"
   ]
  },
  {
   "cell_type": "code",
   "execution_count": null,
   "id": "7d546916",
   "metadata": {},
   "outputs": [],
   "source": [
    "# Plot histogram for qualitative data in order to show data distribution for telecom_dataset_new.csv\n"
   ]
  },
  {
   "cell_type": "code",
   "execution_count": null,
   "id": "69dd6c0c",
   "metadata": {},
   "outputs": [],
   "source": [
    "# Show descriptive statistics for qualitative data with .describe(include=['object', 'boolean', 'category']) for telecom_clientscsv"
   ]
  },
  {
   "cell_type": "code",
   "execution_count": null,
   "id": "9c34df4a",
   "metadata": {},
   "outputs": [],
   "source": [
    "# Plot histogram for qualitative data in order to show data distribution for telecom_clients.csv"
   ]
  },
  {
   "cell_type": "markdown",
   "id": "0120db41",
   "metadata": {},
   "source": [
    "### 🛠️ __7. Feature engineering__"
   ]
  },
  {
   "cell_type": "code",
   "execution_count": null,
   "id": "90ea75f4",
   "metadata": {},
   "outputs": [],
   "source": [
    "# Enrich Data as needed in order to ease the findings of trends and insights"
   ]
  },
  {
   "cell_type": "markdown",
   "id": "0eab806d",
   "metadata": {},
   "source": [
    "### 🛠️ __8. Outliers__"
   ]
  },
  {
   "cell_type": "code",
   "execution_count": null,
   "id": "e78bb7ee",
   "metadata": {},
   "outputs": [],
   "source": [
    "# Show Outliers for telecom_dataset_new.csv\n"
   ]
  },
  {
   "cell_type": "code",
   "execution_count": null,
   "id": "797264f7",
   "metadata": {},
   "outputs": [],
   "source": [
    "# Show Outliers for telecom_clients.csv"
   ]
  },
  {
   "cell_type": "markdown",
   "id": "c61b250e",
   "metadata": {},
   "source": [
    "`LSPL`\n",
    "\n",
    "__Note:__   \n",
    "\n",
    "Describe any actions for outliers data imputation or deletion according to the data findings\n"
   ]
  },
  {
   "cell_type": "code",
   "execution_count": null,
   "id": "64343c0a",
   "metadata": {},
   "outputs": [],
   "source": [
    "# Get rid off or imputate invalid data and fit outliers\n"
   ]
  },
  {
   "cell_type": "markdown",
   "id": "16675d8d",
   "metadata": {},
   "source": [
    "### 🛠️ __9. EDA - Processed Dataset__"
   ]
  },
  {
   "cell_type": "code",
   "execution_count": null,
   "id": "5f32f32b",
   "metadata": {},
   "outputs": [],
   "source": [
    "# Show related histograms after outliers imputation or deletion (work with relevant data) for telecom_dataset_new.csv\n"
   ]
  },
  {
   "cell_type": "code",
   "execution_count": null,
   "id": "95ca230c",
   "metadata": {},
   "outputs": [],
   "source": [
    "# Show a QQ Plot so that it can be visualized easily if the distribution of the data is normal or not telecom_dataset_new.csv\n"
   ]
  },
  {
   "cell_type": "code",
   "execution_count": null,
   "id": "792b77da",
   "metadata": {},
   "outputs": [],
   "source": [
    "# Show related histograms after outliers imputation or deletion (work with relevant data) for telecom_clients.csv"
   ]
  },
  {
   "cell_type": "code",
   "execution_count": null,
   "id": "e8e798c7",
   "metadata": {},
   "outputs": [],
   "source": [
    "# Show a QQ Plot so that it can be visualized easily if the distribution of the data is normal or not telecom_clients.csv"
   ]
  },
  {
   "cell_type": "markdown",
   "id": "0d39d0c1",
   "metadata": {},
   "source": [
    "### 📊 __10. EDA - Data Visualization__"
   ]
  },
  {
   "cell_type": "markdown",
   "id": "bf1cfc10",
   "metadata": {},
   "source": [
    "##### **10.1** Operators Efficiency"
   ]
  },
  {
   "cell_type": "code",
   "execution_count": null,
   "id": "cd8a8acc",
   "metadata": {},
   "outputs": [],
   "source": [
    "# build an Operator efficiency dataframe\n"
   ]
  },
  {
   "cell_type": "markdown",
   "id": "ea5554dc",
   "metadata": {},
   "source": [
    "`LSPL`\n",
    "\n",
    "__Note:__ Efficiency calculation\n",
    "\n",
    "Describe how ill Operator Efficiency calculation wil be handled and shown"
   ]
  },
  {
   "cell_type": "code",
   "execution_count": null,
   "id": "ab025467",
   "metadata": {},
   "outputs": [],
   "source": [
    "# Apply Opperators efficiency calculation to the Dataset\n"
   ]
  },
  {
   "cell_type": "code",
   "execution_count": null,
   "id": "167253d2",
   "metadata": {},
   "outputs": [],
   "source": [
    "# Plota a graph to show Operator´s efficiency\n"
   ]
  },
  {
   "cell_type": "markdown",
   "id": "11307371",
   "metadata": {},
   "source": [
    "##### **10.2** Operators Efficiency EDA Visualizations"
   ]
  },
  {
   "cell_type": "code",
   "execution_count": null,
   "id": "77ac4fd0",
   "metadata": {},
   "outputs": [],
   "source": [
    "# Prepare data for Operator efficiency visualizations to support the Opperator efficiency calculation previously generated\n"
   ]
  },
  {
   "cell_type": "code",
   "execution_count": null,
   "id": "67952cf9",
   "metadata": {},
   "outputs": [],
   "source": [
    "# Plot a graph to ease insights and trends with ease\n",
    "\n"
   ]
  },
  {
   "cell_type": "markdown",
   "id": "a685d42f",
   "metadata": {},
   "source": [
    "### 🧪 __11. Inferential Statistics__"
   ]
  },
  {
   "cell_type": "markdown",
   "id": "61ec87cb",
   "metadata": {},
   "source": [
    "##### **11.1** Propose Hypotheses regarding the Operators and users calling activity.\n"
   ]
  },
  {
   "cell_type": "code",
   "execution_count": null,
   "id": "887d3b52",
   "metadata": {},
   "outputs": [],
   "source": [
    "# Process and show Hypotheses\n",
    "\n"
   ]
  },
  {
   "cell_type": "markdown",
   "id": "5de014db",
   "metadata": {},
   "source": [
    "### 📊 __12. Dashboard__"
   ]
  },
  {
   "cell_type": "code",
   "execution_count": null,
   "id": "41359cf3",
   "metadata": {},
   "outputs": [],
   "source": [
    "# Create a Dashboard on Dash and Tableau based on Projects requirements and advices"
   ]
  },
  {
   "cell_type": "markdown",
   "id": "bd947af1",
   "metadata": {},
   "source": [
    "### __13. Generate a new clean Data set .csv file__"
   ]
  },
  {
   "cell_type": "code",
   "execution_count": null,
   "id": "43227f2c",
   "metadata": {},
   "outputs": [],
   "source": [
    "# Save cleaned and transfomed dataset to csv file in order to be used with Tableau\n"
   ]
  }
 ],
 "metadata": {
  "kernelspec": {
   "display_name": "ai_dataAnalysis",
   "language": "python",
   "name": "python3"
  },
  "language_info": {
   "codemirror_mode": {
    "name": "ipython",
    "version": 3
   },
   "file_extension": ".py",
   "mimetype": "text/x-python",
   "name": "python",
   "nbconvert_exporter": "python",
   "pygments_lexer": "ipython3",
   "version": "3.10.18"
  }
 },
 "nbformat": 4,
 "nbformat_minor": 5
}
