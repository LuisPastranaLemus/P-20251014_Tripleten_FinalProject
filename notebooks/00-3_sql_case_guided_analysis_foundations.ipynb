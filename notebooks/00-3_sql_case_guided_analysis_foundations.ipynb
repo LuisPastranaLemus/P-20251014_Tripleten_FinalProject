{
 "cells": [
  {
   "cell_type": "markdown",
   "id": "8d7a16e8",
   "metadata": {},
   "source": [
    "### 🧭 SQL Project__\n",
    "\n",
    "The coronavirus took the entire world by surprise, changing everyone's daily routine. City dwellers were no longer spending their free time outside, going to cafes and shopping malls; instead, more people were staying home, reading books. This attracted the attention of startups, who rushed to develop new apps for book lovers.\n",
    "\n",
    "You have been given a database from one of the services competing in this market. It contains data on books, publishers, authors, and customer ratings and book reviews. This information will be used to generate a value proposition for a new product."
   ]
  },
  {
   "cell_type": "markdown",
   "id": "70e53b21",
   "metadata": {},
   "source": [
    "#### 🧾 __Data Dictionary__\n",
    "\n",
    "- `books` (Contains data about books)\n",
    "\n",
    "    - `book_id`: book ID\n",
    "    - `author_id`: author ID\n",
    "    - `title`: title\n",
    "    - `num_pages`: number of pages\n",
    "    - `publication_date`: publication date\n",
    "    - `publisher_id`: publisher ID\n",
    "\n",
    "- `authors` (Contains data about authors)\n",
    "\n",
    "    - `author_id`: author ID\n",
    "    - `author`: the author\n",
    "\n",
    "- `publishers` (Contains data about publishers)\n",
    "\n",
    "    - `publisher_id`: publisher ID\n",
    "    - `publisher`: the publisher\n",
    "\n",
    "- `ratings` (Contains data about user ratings)\n",
    "\n",
    "    - `rating_id`: rating ID\n",
    "    - `book_id`: book ID\n",
    "    - `username`: the name of the user who reviewed the book\n",
    "    - `rating`: rating\n",
    "\n",
    "- `reviews` (Contains data about customer reviews)\n",
    "\n",
    "    - `review_id`: review ID\n",
    "    - `book_id`: book ID\n",
    "    - `username`: the name of the user who reviewed the book\n",
    "    - `text`: the text of the the review"
   ]
  },
  {
   "cell_type": "markdown",
   "id": "716b58ec",
   "metadata": {},
   "source": [
    "### 🧮 __DB Relationships__\n",
    "\n",
    "![Pics](../data/DB_relations.png)"
   ]
  },
  {
   "cell_type": "markdown",
   "id": "05ea0783",
   "metadata": {},
   "source": [
    "### 💻 __1. Libraries__"
   ]
  },
  {
   "cell_type": "code",
   "execution_count": 1,
   "id": "9198c150",
   "metadata": {},
   "outputs": [],
   "source": [
    " # import libraries\n",
    " import pandas as pd\n",
    " from sqlalchemy import create_engine\n",
    " "
   ]
  },
  {
   "cell_type": "markdown",
   "id": "ddb9e39c",
   "metadata": {},
   "source": [
    "### 🔁 __2. Connection to PostgreSQL DB__"
   ]
  },
  {
   "cell_type": "code",
   "execution_count": 2,
   "id": "c4139d27",
   "metadata": {},
   "outputs": [],
   "source": [
    "db_config = {'user': 'practicum_student', # username\n",
    "              'pwd': 'QnmDH8Sc2TQLvy2G3Vvh7', # password\n",
    "              'host': 'yp-trainers-practicum.cluster-czs0gxyx2d8w.us-east-1.rds.amazonaws.com', \n",
    "              'port': 5432, # connection port\n",
    "              'db': 'data-analyst-final-project-db' # the name of the database\n",
    "              }\n",
    " \n",
    "connection_string = 'postgresql://{}:{}@{}:{}/{}'.format(db_config['user'],\n",
    "                                                         db_config['pwd'],\n",
    "                                                         db_config['host'],\n",
    "                                                         db_config['port'],\n",
    "                                                         db_config['db'])\n",
    " \n",
    "engine = create_engine(connection_string, connect_args={'sslmode':'require'})"
   ]
  },
  {
   "cell_type": "markdown",
   "id": "cb9b741a",
   "metadata": {},
   "source": [
    "### 📦 __3. PostgreSQL Overview Queries__"
   ]
  },
  {
   "cell_type": "code",
   "execution_count": 14,
   "id": "512f79bf",
   "metadata": {},
   "outputs": [
    {
     "data": {
      "application/vnd.microsoft.datawrangler.viewer.v0+json": {
       "columns": [
        {
         "name": "index",
         "rawType": "int64",
         "type": "integer"
        },
        {
         "name": "author_id",
         "rawType": "int64",
         "type": "integer"
        },
        {
         "name": "author",
         "rawType": "object",
         "type": "string"
        }
       ],
       "ref": "bb444937-d3fc-4889-8f5f-f926cb180c27",
       "rows": [
        [
         "0",
         "1",
         "A.S. Byatt"
        ],
        [
         "1",
         "2",
         "Aesop/Laura Harris/Laura Gibbs"
        ],
        [
         "2",
         "3",
         "Agatha Christie"
        ],
        [
         "3",
         "4",
         "Alan Brennert"
        ],
        [
         "4",
         "5",
         "Alan Moore/David   Lloyd"
        ],
        [
         "5",
         "6",
         "Alan Paton"
        ],
        [
         "6",
         "7",
         "Albert Camus/Justin O'Brien"
        ],
        [
         "7",
         "8",
         "Aldous Huxley"
        ],
        [
         "8",
         "9",
         "Aldous Huxley/Christopher Hitchens"
        ],
        [
         "9",
         "10",
         "Aleksandr Solzhenitsyn/H.T. Willetts"
        ],
        [
         "10",
         "11",
         "Alexander McCall Smith"
        ],
        [
         "11",
         "12",
         "Alexander Pushkin/James E. Falen"
        ],
        [
         "12",
         "13",
         "Alexandre Dumas/Robin Buss"
        ],
        [
         "13",
         "14",
         "Alice Hoffman"
        ],
        [
         "14",
         "15",
         "Alice Walker"
        ],
        [
         "15",
         "16",
         "Alison Bechdel"
        ],
        [
         "16",
         "17",
         "Allen Ginsberg/William Carlos Williams"
        ],
        [
         "17",
         "18",
         "Amy Sedaris"
        ],
        [
         "18",
         "19",
         "Amy Tan"
        ],
        [
         "19",
         "20",
         "Andy Warhol"
        ],
        [
         "20",
         "21",
         "Anita Diamant"
        ],
        [
         "21",
         "22",
         "Anita Shreve"
        ],
        [
         "22",
         "23",
         "Ann Brashares"
        ],
        [
         "23",
         "24",
         "Ann Patchett"
        ],
        [
         "24",
         "25",
         "Ann Rule"
        ]
       ],
       "shape": {
        "columns": 2,
        "rows": 25
       }
      },
      "text/html": [
       "<div>\n",
       "<style scoped>\n",
       "    .dataframe tbody tr th:only-of-type {\n",
       "        vertical-align: middle;\n",
       "    }\n",
       "\n",
       "    .dataframe tbody tr th {\n",
       "        vertical-align: top;\n",
       "    }\n",
       "\n",
       "    .dataframe thead th {\n",
       "        text-align: right;\n",
       "    }\n",
       "</style>\n",
       "<table border=\"1\" class=\"dataframe\">\n",
       "  <thead>\n",
       "    <tr style=\"text-align: right;\">\n",
       "      <th></th>\n",
       "      <th>author_id</th>\n",
       "      <th>author</th>\n",
       "    </tr>\n",
       "  </thead>\n",
       "  <tbody>\n",
       "    <tr>\n",
       "      <th>0</th>\n",
       "      <td>1</td>\n",
       "      <td>A.S. Byatt</td>\n",
       "    </tr>\n",
       "    <tr>\n",
       "      <th>1</th>\n",
       "      <td>2</td>\n",
       "      <td>Aesop/Laura Harris/Laura Gibbs</td>\n",
       "    </tr>\n",
       "    <tr>\n",
       "      <th>2</th>\n",
       "      <td>3</td>\n",
       "      <td>Agatha Christie</td>\n",
       "    </tr>\n",
       "    <tr>\n",
       "      <th>3</th>\n",
       "      <td>4</td>\n",
       "      <td>Alan Brennert</td>\n",
       "    </tr>\n",
       "    <tr>\n",
       "      <th>4</th>\n",
       "      <td>5</td>\n",
       "      <td>Alan Moore/David   Lloyd</td>\n",
       "    </tr>\n",
       "    <tr>\n",
       "      <th>5</th>\n",
       "      <td>6</td>\n",
       "      <td>Alan Paton</td>\n",
       "    </tr>\n",
       "    <tr>\n",
       "      <th>6</th>\n",
       "      <td>7</td>\n",
       "      <td>Albert Camus/Justin O'Brien</td>\n",
       "    </tr>\n",
       "    <tr>\n",
       "      <th>7</th>\n",
       "      <td>8</td>\n",
       "      <td>Aldous Huxley</td>\n",
       "    </tr>\n",
       "    <tr>\n",
       "      <th>8</th>\n",
       "      <td>9</td>\n",
       "      <td>Aldous Huxley/Christopher Hitchens</td>\n",
       "    </tr>\n",
       "    <tr>\n",
       "      <th>9</th>\n",
       "      <td>10</td>\n",
       "      <td>Aleksandr Solzhenitsyn/H.T. Willetts</td>\n",
       "    </tr>\n",
       "    <tr>\n",
       "      <th>10</th>\n",
       "      <td>11</td>\n",
       "      <td>Alexander McCall Smith</td>\n",
       "    </tr>\n",
       "    <tr>\n",
       "      <th>11</th>\n",
       "      <td>12</td>\n",
       "      <td>Alexander Pushkin/James E. Falen</td>\n",
       "    </tr>\n",
       "    <tr>\n",
       "      <th>12</th>\n",
       "      <td>13</td>\n",
       "      <td>Alexandre Dumas/Robin Buss</td>\n",
       "    </tr>\n",
       "    <tr>\n",
       "      <th>13</th>\n",
       "      <td>14</td>\n",
       "      <td>Alice Hoffman</td>\n",
       "    </tr>\n",
       "    <tr>\n",
       "      <th>14</th>\n",
       "      <td>15</td>\n",
       "      <td>Alice Walker</td>\n",
       "    </tr>\n",
       "    <tr>\n",
       "      <th>15</th>\n",
       "      <td>16</td>\n",
       "      <td>Alison Bechdel</td>\n",
       "    </tr>\n",
       "    <tr>\n",
       "      <th>16</th>\n",
       "      <td>17</td>\n",
       "      <td>Allen Ginsberg/William Carlos Williams</td>\n",
       "    </tr>\n",
       "    <tr>\n",
       "      <th>17</th>\n",
       "      <td>18</td>\n",
       "      <td>Amy Sedaris</td>\n",
       "    </tr>\n",
       "    <tr>\n",
       "      <th>18</th>\n",
       "      <td>19</td>\n",
       "      <td>Amy Tan</td>\n",
       "    </tr>\n",
       "    <tr>\n",
       "      <th>19</th>\n",
       "      <td>20</td>\n",
       "      <td>Andy Warhol</td>\n",
       "    </tr>\n",
       "    <tr>\n",
       "      <th>20</th>\n",
       "      <td>21</td>\n",
       "      <td>Anita Diamant</td>\n",
       "    </tr>\n",
       "    <tr>\n",
       "      <th>21</th>\n",
       "      <td>22</td>\n",
       "      <td>Anita Shreve</td>\n",
       "    </tr>\n",
       "    <tr>\n",
       "      <th>22</th>\n",
       "      <td>23</td>\n",
       "      <td>Ann Brashares</td>\n",
       "    </tr>\n",
       "    <tr>\n",
       "      <th>23</th>\n",
       "      <td>24</td>\n",
       "      <td>Ann Patchett</td>\n",
       "    </tr>\n",
       "    <tr>\n",
       "      <th>24</th>\n",
       "      <td>25</td>\n",
       "      <td>Ann Rule</td>\n",
       "    </tr>\n",
       "  </tbody>\n",
       "</table>\n",
       "</div>"
      ],
      "text/plain": [
       "    author_id                                  author\n",
       "0           1                              A.S. Byatt\n",
       "1           2          Aesop/Laura Harris/Laura Gibbs\n",
       "2           3                         Agatha Christie\n",
       "3           4                           Alan Brennert\n",
       "4           5                Alan Moore/David   Lloyd\n",
       "5           6                              Alan Paton\n",
       "6           7             Albert Camus/Justin O'Brien\n",
       "7           8                           Aldous Huxley\n",
       "8           9      Aldous Huxley/Christopher Hitchens\n",
       "9          10    Aleksandr Solzhenitsyn/H.T. Willetts\n",
       "10         11                  Alexander McCall Smith\n",
       "11         12        Alexander Pushkin/James E. Falen\n",
       "12         13              Alexandre Dumas/Robin Buss\n",
       "13         14                           Alice Hoffman\n",
       "14         15                            Alice Walker\n",
       "15         16                          Alison Bechdel\n",
       "16         17  Allen Ginsberg/William Carlos Williams\n",
       "17         18                             Amy Sedaris\n",
       "18         19                                 Amy Tan\n",
       "19         20                             Andy Warhol\n",
       "20         21                           Anita Diamant\n",
       "21         22                            Anita Shreve\n",
       "22         23                           Ann Brashares\n",
       "23         24                            Ann Patchett\n",
       "24         25                                Ann Rule"
      ]
     },
     "execution_count": 14,
     "metadata": {},
     "output_type": "execute_result"
    }
   ],
   "source": [
    "# Show the first 25 records in 'authors' Table\n",
    "query = 'SELECT * FROM authors \\\n",
    "         LIMIT 25;'\n",
    "         \n",
    "pd.io.sql.read_sql(query, con = engine)"
   ]
  },
  {
   "cell_type": "code",
   "execution_count": 15,
   "id": "4b66facd",
   "metadata": {},
   "outputs": [
    {
     "data": {
      "application/vnd.microsoft.datawrangler.viewer.v0+json": {
       "columns": [
        {
         "name": "index",
         "rawType": "int64",
         "type": "integer"
        },
        {
         "name": "book_id",
         "rawType": "int64",
         "type": "integer"
        },
        {
         "name": "author_id",
         "rawType": "int64",
         "type": "integer"
        },
        {
         "name": "title",
         "rawType": "object",
         "type": "string"
        },
        {
         "name": "num_pages",
         "rawType": "int64",
         "type": "integer"
        },
        {
         "name": "publication_date",
         "rawType": "object",
         "type": "unknown"
        },
        {
         "name": "publisher_id",
         "rawType": "int64",
         "type": "integer"
        }
       ],
       "ref": "a02e69aa-b28d-49ae-a7de-662b17369db3",
       "rows": [
        [
         "0",
         "1",
         "546",
         "'Salem's Lot",
         "594",
         "2005-11-01",
         "93"
        ],
        [
         "1",
         "2",
         "465",
         "1 000 Places to See Before You Die",
         "992",
         "2003-05-22",
         "336"
        ],
        [
         "2",
         "3",
         "407",
         "13 Little Blue Envelopes (Little Blue Envelope  #1)",
         "322",
         "2010-12-21",
         "135"
        ],
        [
         "3",
         "4",
         "82",
         "1491: New Revelations of the Americas Before Columbus",
         "541",
         "2006-10-10",
         "309"
        ],
        [
         "4",
         "5",
         "125",
         "1776",
         "386",
         "2006-07-04",
         "268"
        ],
        [
         "5",
         "6",
         "257",
         "1st to Die (Women's Murder Club  #1)",
         "424",
         "2005-05-20",
         "116"
        ],
        [
         "6",
         "7",
         "258",
         "2nd Chance (Women's Murder Club  #2)",
         "400",
         "2005-05-20",
         "116"
        ],
        [
         "7",
         "8",
         "260",
         "4th of July (Women's Murder Club  #4)",
         "448",
         "2006-06-01",
         "318"
        ],
        [
         "8",
         "9",
         "563",
         "A Beautiful Mind",
         "461",
         "2002-02-04",
         "104"
        ],
        [
         "9",
         "10",
         "445",
         "A Bend in the Road",
         "341",
         "2005-04-01",
         "116"
        ],
        [
         "10",
         "11",
         "130",
         "A Breath of Snow and Ashes (Outlander  #6)",
         "980",
         "2006-08-29",
         "83"
        ],
        [
         "11",
         "12",
         "541",
         "A Brief History of Time",
         "212",
         "1998-09-01",
         "36"
        ],
        [
         "12",
         "13",
         "359",
         "A Caress of Twilight (Merry Gentry  #2)",
         "348",
         "2005-03-15",
         "33"
        ],
        [
         "13",
         "14",
         "85",
         "A Christmas Carol and Other Christmas Writings",
         "288",
         "2003-10-30",
         "217"
        ],
        [
         "14",
         "15",
         "198",
         "A Clash of Kings  (A Song of Ice and Fire  #2)",
         "969",
         "2002-05-28",
         "35"
        ],
        [
         "15",
         "16",
         "505",
         "A Crown of Swords (The Wheel of Time  #7)",
         "880",
         "1997-11-15",
         "297"
        ],
        [
         "16",
         "17",
         "94",
         "A Dirty Job (Grim Reaper  #1)",
         "387",
         "2006-03-21",
         "331"
        ],
        [
         "17",
         "18",
         "129",
         "A Drink Before the War (Kenzie & Gennaro  #1)",
         "282",
         "2003-09-15",
         "178"
        ],
        [
         "18",
         "19",
         "517",
         "A Fine Balance",
         "603",
         "2001-11-30",
         "309"
        ],
        [
         "19",
         "20",
         "349",
         "A Fistful of Charms (The Hollows  #4)",
         "510",
         "2006-06-27",
         "143"
        ],
        [
         "20",
         "21",
         "440",
         "A Game of You (The Sandman  #5)",
         "192",
         "1999-03-10",
         "305"
        ],
        [
         "21",
         "22",
         "368",
         "A Great and Terrible Beauty (Gemma Doyle #1)",
         "403",
         "2003-12-09",
         "276"
        ],
        [
         "22",
         "23",
         "571",
         "A Hat Full of Sky (Discworld  #32; Tiffany Aching  #2)",
         "352",
         "2005-05-05",
         "66"
        ],
        [
         "23",
         "24",
         "118",
         "A Heartbreaking Work of Staggering Genius",
         "485",
         "2001-02-13",
         "309"
        ],
        [
         "24",
         "25",
         "333",
         "A History of God: The 4 000-Year Quest of Judaism  Christianity  and Islam",
         "460",
         "2004-03-02",
         "115"
        ]
       ],
       "shape": {
        "columns": 6,
        "rows": 25
       }
      },
      "text/html": [
       "<div>\n",
       "<style scoped>\n",
       "    .dataframe tbody tr th:only-of-type {\n",
       "        vertical-align: middle;\n",
       "    }\n",
       "\n",
       "    .dataframe tbody tr th {\n",
       "        vertical-align: top;\n",
       "    }\n",
       "\n",
       "    .dataframe thead th {\n",
       "        text-align: right;\n",
       "    }\n",
       "</style>\n",
       "<table border=\"1\" class=\"dataframe\">\n",
       "  <thead>\n",
       "    <tr style=\"text-align: right;\">\n",
       "      <th></th>\n",
       "      <th>book_id</th>\n",
       "      <th>author_id</th>\n",
       "      <th>title</th>\n",
       "      <th>num_pages</th>\n",
       "      <th>publication_date</th>\n",
       "      <th>publisher_id</th>\n",
       "    </tr>\n",
       "  </thead>\n",
       "  <tbody>\n",
       "    <tr>\n",
       "      <th>0</th>\n",
       "      <td>1</td>\n",
       "      <td>546</td>\n",
       "      <td>'Salem's Lot</td>\n",
       "      <td>594</td>\n",
       "      <td>2005-11-01</td>\n",
       "      <td>93</td>\n",
       "    </tr>\n",
       "    <tr>\n",
       "      <th>1</th>\n",
       "      <td>2</td>\n",
       "      <td>465</td>\n",
       "      <td>1 000 Places to See Before You Die</td>\n",
       "      <td>992</td>\n",
       "      <td>2003-05-22</td>\n",
       "      <td>336</td>\n",
       "    </tr>\n",
       "    <tr>\n",
       "      <th>2</th>\n",
       "      <td>3</td>\n",
       "      <td>407</td>\n",
       "      <td>13 Little Blue Envelopes (Little Blue Envelope...</td>\n",
       "      <td>322</td>\n",
       "      <td>2010-12-21</td>\n",
       "      <td>135</td>\n",
       "    </tr>\n",
       "    <tr>\n",
       "      <th>3</th>\n",
       "      <td>4</td>\n",
       "      <td>82</td>\n",
       "      <td>1491: New Revelations of the Americas Before C...</td>\n",
       "      <td>541</td>\n",
       "      <td>2006-10-10</td>\n",
       "      <td>309</td>\n",
       "    </tr>\n",
       "    <tr>\n",
       "      <th>4</th>\n",
       "      <td>5</td>\n",
       "      <td>125</td>\n",
       "      <td>1776</td>\n",
       "      <td>386</td>\n",
       "      <td>2006-07-04</td>\n",
       "      <td>268</td>\n",
       "    </tr>\n",
       "    <tr>\n",
       "      <th>5</th>\n",
       "      <td>6</td>\n",
       "      <td>257</td>\n",
       "      <td>1st to Die (Women's Murder Club  #1)</td>\n",
       "      <td>424</td>\n",
       "      <td>2005-05-20</td>\n",
       "      <td>116</td>\n",
       "    </tr>\n",
       "    <tr>\n",
       "      <th>6</th>\n",
       "      <td>7</td>\n",
       "      <td>258</td>\n",
       "      <td>2nd Chance (Women's Murder Club  #2)</td>\n",
       "      <td>400</td>\n",
       "      <td>2005-05-20</td>\n",
       "      <td>116</td>\n",
       "    </tr>\n",
       "    <tr>\n",
       "      <th>7</th>\n",
       "      <td>8</td>\n",
       "      <td>260</td>\n",
       "      <td>4th of July (Women's Murder Club  #4)</td>\n",
       "      <td>448</td>\n",
       "      <td>2006-06-01</td>\n",
       "      <td>318</td>\n",
       "    </tr>\n",
       "    <tr>\n",
       "      <th>8</th>\n",
       "      <td>9</td>\n",
       "      <td>563</td>\n",
       "      <td>A Beautiful Mind</td>\n",
       "      <td>461</td>\n",
       "      <td>2002-02-04</td>\n",
       "      <td>104</td>\n",
       "    </tr>\n",
       "    <tr>\n",
       "      <th>9</th>\n",
       "      <td>10</td>\n",
       "      <td>445</td>\n",
       "      <td>A Bend in the Road</td>\n",
       "      <td>341</td>\n",
       "      <td>2005-04-01</td>\n",
       "      <td>116</td>\n",
       "    </tr>\n",
       "    <tr>\n",
       "      <th>10</th>\n",
       "      <td>11</td>\n",
       "      <td>130</td>\n",
       "      <td>A Breath of Snow and Ashes (Outlander  #6)</td>\n",
       "      <td>980</td>\n",
       "      <td>2006-08-29</td>\n",
       "      <td>83</td>\n",
       "    </tr>\n",
       "    <tr>\n",
       "      <th>11</th>\n",
       "      <td>12</td>\n",
       "      <td>541</td>\n",
       "      <td>A Brief History of Time</td>\n",
       "      <td>212</td>\n",
       "      <td>1998-09-01</td>\n",
       "      <td>36</td>\n",
       "    </tr>\n",
       "    <tr>\n",
       "      <th>12</th>\n",
       "      <td>13</td>\n",
       "      <td>359</td>\n",
       "      <td>A Caress of Twilight (Merry Gentry  #2)</td>\n",
       "      <td>348</td>\n",
       "      <td>2005-03-15</td>\n",
       "      <td>33</td>\n",
       "    </tr>\n",
       "    <tr>\n",
       "      <th>13</th>\n",
       "      <td>14</td>\n",
       "      <td>85</td>\n",
       "      <td>A Christmas Carol and Other Christmas Writings</td>\n",
       "      <td>288</td>\n",
       "      <td>2003-10-30</td>\n",
       "      <td>217</td>\n",
       "    </tr>\n",
       "    <tr>\n",
       "      <th>14</th>\n",
       "      <td>15</td>\n",
       "      <td>198</td>\n",
       "      <td>A Clash of Kings  (A Song of Ice and Fire  #2)</td>\n",
       "      <td>969</td>\n",
       "      <td>2002-05-28</td>\n",
       "      <td>35</td>\n",
       "    </tr>\n",
       "    <tr>\n",
       "      <th>15</th>\n",
       "      <td>16</td>\n",
       "      <td>505</td>\n",
       "      <td>A Crown of Swords (The Wheel of Time  #7)</td>\n",
       "      <td>880</td>\n",
       "      <td>1997-11-15</td>\n",
       "      <td>297</td>\n",
       "    </tr>\n",
       "    <tr>\n",
       "      <th>16</th>\n",
       "      <td>17</td>\n",
       "      <td>94</td>\n",
       "      <td>A Dirty Job (Grim Reaper  #1)</td>\n",
       "      <td>387</td>\n",
       "      <td>2006-03-21</td>\n",
       "      <td>331</td>\n",
       "    </tr>\n",
       "    <tr>\n",
       "      <th>17</th>\n",
       "      <td>18</td>\n",
       "      <td>129</td>\n",
       "      <td>A Drink Before the War (Kenzie &amp; Gennaro  #1)</td>\n",
       "      <td>282</td>\n",
       "      <td>2003-09-15</td>\n",
       "      <td>178</td>\n",
       "    </tr>\n",
       "    <tr>\n",
       "      <th>18</th>\n",
       "      <td>19</td>\n",
       "      <td>517</td>\n",
       "      <td>A Fine Balance</td>\n",
       "      <td>603</td>\n",
       "      <td>2001-11-30</td>\n",
       "      <td>309</td>\n",
       "    </tr>\n",
       "    <tr>\n",
       "      <th>19</th>\n",
       "      <td>20</td>\n",
       "      <td>349</td>\n",
       "      <td>A Fistful of Charms (The Hollows  #4)</td>\n",
       "      <td>510</td>\n",
       "      <td>2006-06-27</td>\n",
       "      <td>143</td>\n",
       "    </tr>\n",
       "    <tr>\n",
       "      <th>20</th>\n",
       "      <td>21</td>\n",
       "      <td>440</td>\n",
       "      <td>A Game of You (The Sandman  #5)</td>\n",
       "      <td>192</td>\n",
       "      <td>1999-03-10</td>\n",
       "      <td>305</td>\n",
       "    </tr>\n",
       "    <tr>\n",
       "      <th>21</th>\n",
       "      <td>22</td>\n",
       "      <td>368</td>\n",
       "      <td>A Great and Terrible Beauty (Gemma Doyle #1)</td>\n",
       "      <td>403</td>\n",
       "      <td>2003-12-09</td>\n",
       "      <td>276</td>\n",
       "    </tr>\n",
       "    <tr>\n",
       "      <th>22</th>\n",
       "      <td>23</td>\n",
       "      <td>571</td>\n",
       "      <td>A Hat Full of Sky (Discworld  #32; Tiffany Ach...</td>\n",
       "      <td>352</td>\n",
       "      <td>2005-05-05</td>\n",
       "      <td>66</td>\n",
       "    </tr>\n",
       "    <tr>\n",
       "      <th>23</th>\n",
       "      <td>24</td>\n",
       "      <td>118</td>\n",
       "      <td>A Heartbreaking Work of Staggering Genius</td>\n",
       "      <td>485</td>\n",
       "      <td>2001-02-13</td>\n",
       "      <td>309</td>\n",
       "    </tr>\n",
       "    <tr>\n",
       "      <th>24</th>\n",
       "      <td>25</td>\n",
       "      <td>333</td>\n",
       "      <td>A History of God: The 4 000-Year Quest of Juda...</td>\n",
       "      <td>460</td>\n",
       "      <td>2004-03-02</td>\n",
       "      <td>115</td>\n",
       "    </tr>\n",
       "  </tbody>\n",
       "</table>\n",
       "</div>"
      ],
      "text/plain": [
       "    book_id  author_id                                              title  \\\n",
       "0         1        546                                       'Salem's Lot   \n",
       "1         2        465                 1 000 Places to See Before You Die   \n",
       "2         3        407  13 Little Blue Envelopes (Little Blue Envelope...   \n",
       "3         4         82  1491: New Revelations of the Americas Before C...   \n",
       "4         5        125                                               1776   \n",
       "5         6        257               1st to Die (Women's Murder Club  #1)   \n",
       "6         7        258               2nd Chance (Women's Murder Club  #2)   \n",
       "7         8        260              4th of July (Women's Murder Club  #4)   \n",
       "8         9        563                                   A Beautiful Mind   \n",
       "9        10        445                                 A Bend in the Road   \n",
       "10       11        130         A Breath of Snow and Ashes (Outlander  #6)   \n",
       "11       12        541                            A Brief History of Time   \n",
       "12       13        359            A Caress of Twilight (Merry Gentry  #2)   \n",
       "13       14         85     A Christmas Carol and Other Christmas Writings   \n",
       "14       15        198     A Clash of Kings  (A Song of Ice and Fire  #2)   \n",
       "15       16        505          A Crown of Swords (The Wheel of Time  #7)   \n",
       "16       17         94                      A Dirty Job (Grim Reaper  #1)   \n",
       "17       18        129      A Drink Before the War (Kenzie & Gennaro  #1)   \n",
       "18       19        517                                     A Fine Balance   \n",
       "19       20        349              A Fistful of Charms (The Hollows  #4)   \n",
       "20       21        440                    A Game of You (The Sandman  #5)   \n",
       "21       22        368       A Great and Terrible Beauty (Gemma Doyle #1)   \n",
       "22       23        571  A Hat Full of Sky (Discworld  #32; Tiffany Ach...   \n",
       "23       24        118          A Heartbreaking Work of Staggering Genius   \n",
       "24       25        333  A History of God: The 4 000-Year Quest of Juda...   \n",
       "\n",
       "    num_pages publication_date  publisher_id  \n",
       "0         594       2005-11-01            93  \n",
       "1         992       2003-05-22           336  \n",
       "2         322       2010-12-21           135  \n",
       "3         541       2006-10-10           309  \n",
       "4         386       2006-07-04           268  \n",
       "5         424       2005-05-20           116  \n",
       "6         400       2005-05-20           116  \n",
       "7         448       2006-06-01           318  \n",
       "8         461       2002-02-04           104  \n",
       "9         341       2005-04-01           116  \n",
       "10        980       2006-08-29            83  \n",
       "11        212       1998-09-01            36  \n",
       "12        348       2005-03-15            33  \n",
       "13        288       2003-10-30           217  \n",
       "14        969       2002-05-28            35  \n",
       "15        880       1997-11-15           297  \n",
       "16        387       2006-03-21           331  \n",
       "17        282       2003-09-15           178  \n",
       "18        603       2001-11-30           309  \n",
       "19        510       2006-06-27           143  \n",
       "20        192       1999-03-10           305  \n",
       "21        403       2003-12-09           276  \n",
       "22        352       2005-05-05            66  \n",
       "23        485       2001-02-13           309  \n",
       "24        460       2004-03-02           115  "
      ]
     },
     "execution_count": 15,
     "metadata": {},
     "output_type": "execute_result"
    }
   ],
   "source": [
    "# Show the first 25 records in 'books' Table\n",
    "query = 'SELECT * FROM books \\\n",
    "         LIMIT 25;'\n",
    "         \n",
    "pd.io.sql.read_sql(query, con = engine)"
   ]
  },
  {
   "cell_type": "code",
   "execution_count": 16,
   "id": "14e27069",
   "metadata": {},
   "outputs": [
    {
     "data": {
      "application/vnd.microsoft.datawrangler.viewer.v0+json": {
       "columns": [
        {
         "name": "index",
         "rawType": "int64",
         "type": "integer"
        },
        {
         "name": "publisher_id",
         "rawType": "int64",
         "type": "integer"
        },
        {
         "name": "publisher",
         "rawType": "object",
         "type": "string"
        }
       ],
       "ref": "8234d077-e838-421e-abac-f289f4beb316",
       "rows": [
        [
         "0",
         "1",
         "Ace"
        ],
        [
         "1",
         "2",
         "Ace Book"
        ],
        [
         "2",
         "3",
         "Ace Books"
        ],
        [
         "3",
         "4",
         "Ace Hardcover"
        ],
        [
         "4",
         "5",
         "Addison Wesley Publishing Company"
        ],
        [
         "5",
         "6",
         "Aladdin"
        ],
        [
         "6",
         "7",
         "Aladdin Paperbacks"
        ],
        [
         "7",
         "8",
         "Albin Michel"
        ],
        [
         "8",
         "9",
         "Alfred A. Knopf"
        ],
        [
         "9",
         "10",
         "Alfred A. Knopf Books for Young Readers"
        ],
        [
         "10",
         "11",
         "Alfred A. Knopf Borzoi Books"
        ],
        [
         "11",
         "12",
         "Algonquin Books"
        ],
        [
         "12",
         "13",
         "Allen & Ulwin"
        ],
        [
         "13",
         "14",
         "Amistad"
        ],
        [
         "14",
         "15",
         "Anchor"
        ],
        [
         "15",
         "16",
         "Anchor Books"
        ],
        [
         "16",
         "17",
         "Anchor Books/Knopf Doubleday Publishing Group"
        ],
        [
         "17",
         "18",
         "Andrews McMeel Publishing"
        ],
        [
         "18",
         "19",
         "Applewood Books"
        ],
        [
         "19",
         "20",
         "Arrow"
        ],
        [
         "20",
         "21",
         "Arrow Books"
        ],
        [
         "21",
         "22",
         "Arrow Books Ltd"
        ],
        [
         "22",
         "23",
         "Arthur A. Levine Books"
        ],
        [
         "23",
         "24",
         "Arthur A. Levine Books / Scholastic Inc."
        ],
        [
         "24",
         "25",
         "Atheneum Books for Young Readers"
        ]
       ],
       "shape": {
        "columns": 2,
        "rows": 25
       }
      },
      "text/html": [
       "<div>\n",
       "<style scoped>\n",
       "    .dataframe tbody tr th:only-of-type {\n",
       "        vertical-align: middle;\n",
       "    }\n",
       "\n",
       "    .dataframe tbody tr th {\n",
       "        vertical-align: top;\n",
       "    }\n",
       "\n",
       "    .dataframe thead th {\n",
       "        text-align: right;\n",
       "    }\n",
       "</style>\n",
       "<table border=\"1\" class=\"dataframe\">\n",
       "  <thead>\n",
       "    <tr style=\"text-align: right;\">\n",
       "      <th></th>\n",
       "      <th>publisher_id</th>\n",
       "      <th>publisher</th>\n",
       "    </tr>\n",
       "  </thead>\n",
       "  <tbody>\n",
       "    <tr>\n",
       "      <th>0</th>\n",
       "      <td>1</td>\n",
       "      <td>Ace</td>\n",
       "    </tr>\n",
       "    <tr>\n",
       "      <th>1</th>\n",
       "      <td>2</td>\n",
       "      <td>Ace Book</td>\n",
       "    </tr>\n",
       "    <tr>\n",
       "      <th>2</th>\n",
       "      <td>3</td>\n",
       "      <td>Ace Books</td>\n",
       "    </tr>\n",
       "    <tr>\n",
       "      <th>3</th>\n",
       "      <td>4</td>\n",
       "      <td>Ace Hardcover</td>\n",
       "    </tr>\n",
       "    <tr>\n",
       "      <th>4</th>\n",
       "      <td>5</td>\n",
       "      <td>Addison Wesley Publishing Company</td>\n",
       "    </tr>\n",
       "    <tr>\n",
       "      <th>5</th>\n",
       "      <td>6</td>\n",
       "      <td>Aladdin</td>\n",
       "    </tr>\n",
       "    <tr>\n",
       "      <th>6</th>\n",
       "      <td>7</td>\n",
       "      <td>Aladdin Paperbacks</td>\n",
       "    </tr>\n",
       "    <tr>\n",
       "      <th>7</th>\n",
       "      <td>8</td>\n",
       "      <td>Albin Michel</td>\n",
       "    </tr>\n",
       "    <tr>\n",
       "      <th>8</th>\n",
       "      <td>9</td>\n",
       "      <td>Alfred A. Knopf</td>\n",
       "    </tr>\n",
       "    <tr>\n",
       "      <th>9</th>\n",
       "      <td>10</td>\n",
       "      <td>Alfred A. Knopf Books for Young Readers</td>\n",
       "    </tr>\n",
       "    <tr>\n",
       "      <th>10</th>\n",
       "      <td>11</td>\n",
       "      <td>Alfred A. Knopf Borzoi Books</td>\n",
       "    </tr>\n",
       "    <tr>\n",
       "      <th>11</th>\n",
       "      <td>12</td>\n",
       "      <td>Algonquin Books</td>\n",
       "    </tr>\n",
       "    <tr>\n",
       "      <th>12</th>\n",
       "      <td>13</td>\n",
       "      <td>Allen &amp; Ulwin</td>\n",
       "    </tr>\n",
       "    <tr>\n",
       "      <th>13</th>\n",
       "      <td>14</td>\n",
       "      <td>Amistad</td>\n",
       "    </tr>\n",
       "    <tr>\n",
       "      <th>14</th>\n",
       "      <td>15</td>\n",
       "      <td>Anchor</td>\n",
       "    </tr>\n",
       "    <tr>\n",
       "      <th>15</th>\n",
       "      <td>16</td>\n",
       "      <td>Anchor Books</td>\n",
       "    </tr>\n",
       "    <tr>\n",
       "      <th>16</th>\n",
       "      <td>17</td>\n",
       "      <td>Anchor Books/Knopf Doubleday Publishing Group</td>\n",
       "    </tr>\n",
       "    <tr>\n",
       "      <th>17</th>\n",
       "      <td>18</td>\n",
       "      <td>Andrews McMeel Publishing</td>\n",
       "    </tr>\n",
       "    <tr>\n",
       "      <th>18</th>\n",
       "      <td>19</td>\n",
       "      <td>Applewood Books</td>\n",
       "    </tr>\n",
       "    <tr>\n",
       "      <th>19</th>\n",
       "      <td>20</td>\n",
       "      <td>Arrow</td>\n",
       "    </tr>\n",
       "    <tr>\n",
       "      <th>20</th>\n",
       "      <td>21</td>\n",
       "      <td>Arrow Books</td>\n",
       "    </tr>\n",
       "    <tr>\n",
       "      <th>21</th>\n",
       "      <td>22</td>\n",
       "      <td>Arrow Books Ltd</td>\n",
       "    </tr>\n",
       "    <tr>\n",
       "      <th>22</th>\n",
       "      <td>23</td>\n",
       "      <td>Arthur A. Levine Books</td>\n",
       "    </tr>\n",
       "    <tr>\n",
       "      <th>23</th>\n",
       "      <td>24</td>\n",
       "      <td>Arthur A. Levine Books / Scholastic Inc.</td>\n",
       "    </tr>\n",
       "    <tr>\n",
       "      <th>24</th>\n",
       "      <td>25</td>\n",
       "      <td>Atheneum Books for Young Readers</td>\n",
       "    </tr>\n",
       "  </tbody>\n",
       "</table>\n",
       "</div>"
      ],
      "text/plain": [
       "    publisher_id                                      publisher\n",
       "0              1                                            Ace\n",
       "1              2                                       Ace Book\n",
       "2              3                                      Ace Books\n",
       "3              4                                  Ace Hardcover\n",
       "4              5              Addison Wesley Publishing Company\n",
       "5              6                                        Aladdin\n",
       "6              7                             Aladdin Paperbacks\n",
       "7              8                                   Albin Michel\n",
       "8              9                                Alfred A. Knopf\n",
       "9             10        Alfred A. Knopf Books for Young Readers\n",
       "10            11                   Alfred A. Knopf Borzoi Books\n",
       "11            12                                Algonquin Books\n",
       "12            13                                  Allen & Ulwin\n",
       "13            14                                        Amistad\n",
       "14            15                                         Anchor\n",
       "15            16                                   Anchor Books\n",
       "16            17  Anchor Books/Knopf Doubleday Publishing Group\n",
       "17            18                      Andrews McMeel Publishing\n",
       "18            19                                Applewood Books\n",
       "19            20                                          Arrow\n",
       "20            21                                    Arrow Books\n",
       "21            22                                Arrow Books Ltd\n",
       "22            23                         Arthur A. Levine Books\n",
       "23            24       Arthur A. Levine Books / Scholastic Inc.\n",
       "24            25               Atheneum Books for Young Readers"
      ]
     },
     "execution_count": 16,
     "metadata": {},
     "output_type": "execute_result"
    }
   ],
   "source": [
    "# Show the first 25 records in 'publishers' Table\n",
    "query = 'SELECT * FROM publishers \\\n",
    "         LIMIT 25;'\n",
    "         \n",
    "pd.io.sql.read_sql(query, con = engine)"
   ]
  },
  {
   "cell_type": "code",
   "execution_count": 17,
   "id": "c63bb9af",
   "metadata": {},
   "outputs": [
    {
     "data": {
      "application/vnd.microsoft.datawrangler.viewer.v0+json": {
       "columns": [
        {
         "name": "index",
         "rawType": "int64",
         "type": "integer"
        },
        {
         "name": "rating_id",
         "rawType": "int64",
         "type": "integer"
        },
        {
         "name": "book_id",
         "rawType": "int64",
         "type": "integer"
        },
        {
         "name": "username",
         "rawType": "object",
         "type": "string"
        },
        {
         "name": "rating",
         "rawType": "int64",
         "type": "integer"
        }
       ],
       "ref": "0155cc34-0971-4e2e-8712-4b678052a5e2",
       "rows": [
        [
         "0",
         "1",
         "1",
         "ryanfranco",
         "4"
        ],
        [
         "1",
         "2",
         "1",
         "grantpatricia",
         "2"
        ],
        [
         "2",
         "3",
         "1",
         "brandtandrea",
         "5"
        ],
        [
         "3",
         "4",
         "2",
         "lorichen",
         "3"
        ],
        [
         "4",
         "5",
         "2",
         "mariokeller",
         "2"
        ],
        [
         "5",
         "6",
         "3",
         "johnsonamanda",
         "4"
        ],
        [
         "6",
         "7",
         "3",
         "scotttamara",
         "5"
        ],
        [
         "7",
         "8",
         "3",
         "lesliegibbs",
         "5"
        ],
        [
         "8",
         "9",
         "4",
         "abbottjames",
         "5"
        ],
        [
         "9",
         "10",
         "4",
         "valenciaanne",
         "4"
        ],
        [
         "10",
         "11",
         "5",
         "jeromebowen",
         "4"
        ],
        [
         "11",
         "12",
         "5",
         "staylor",
         "4"
        ],
        [
         "12",
         "13",
         "5",
         "susan85",
         "3"
        ],
        [
         "13",
         "14",
         "5",
         "npowers",
         "4"
        ],
        [
         "14",
         "15",
         "5",
         "znelson",
         "5"
        ],
        [
         "15",
         "16",
         "5",
         "thomas49",
         "4"
        ],
        [
         "16",
         "17",
         "6",
         "eallen",
         "2"
        ],
        [
         "17",
         "18",
         "6",
         "shermannatalie",
         "3"
        ],
        [
         "18",
         "19",
         "6",
         "martinadam",
         "3"
        ],
        [
         "19",
         "20",
         "6",
         "serranoangela",
         "5"
        ],
        [
         "20",
         "21",
         "6",
         "adamsabigail",
         "5"
        ],
        [
         "21",
         "22",
         "6",
         "sfitzgerald",
         "3"
        ],
        [
         "22",
         "23",
         "6",
         "walter49",
         "4"
        ],
        [
         "23",
         "24",
         "6",
         "jasongoodman",
         "2"
        ],
        [
         "24",
         "25",
         "6",
         "jeromebowen",
         "4"
        ]
       ],
       "shape": {
        "columns": 4,
        "rows": 25
       }
      },
      "text/html": [
       "<div>\n",
       "<style scoped>\n",
       "    .dataframe tbody tr th:only-of-type {\n",
       "        vertical-align: middle;\n",
       "    }\n",
       "\n",
       "    .dataframe tbody tr th {\n",
       "        vertical-align: top;\n",
       "    }\n",
       "\n",
       "    .dataframe thead th {\n",
       "        text-align: right;\n",
       "    }\n",
       "</style>\n",
       "<table border=\"1\" class=\"dataframe\">\n",
       "  <thead>\n",
       "    <tr style=\"text-align: right;\">\n",
       "      <th></th>\n",
       "      <th>rating_id</th>\n",
       "      <th>book_id</th>\n",
       "      <th>username</th>\n",
       "      <th>rating</th>\n",
       "    </tr>\n",
       "  </thead>\n",
       "  <tbody>\n",
       "    <tr>\n",
       "      <th>0</th>\n",
       "      <td>1</td>\n",
       "      <td>1</td>\n",
       "      <td>ryanfranco</td>\n",
       "      <td>4</td>\n",
       "    </tr>\n",
       "    <tr>\n",
       "      <th>1</th>\n",
       "      <td>2</td>\n",
       "      <td>1</td>\n",
       "      <td>grantpatricia</td>\n",
       "      <td>2</td>\n",
       "    </tr>\n",
       "    <tr>\n",
       "      <th>2</th>\n",
       "      <td>3</td>\n",
       "      <td>1</td>\n",
       "      <td>brandtandrea</td>\n",
       "      <td>5</td>\n",
       "    </tr>\n",
       "    <tr>\n",
       "      <th>3</th>\n",
       "      <td>4</td>\n",
       "      <td>2</td>\n",
       "      <td>lorichen</td>\n",
       "      <td>3</td>\n",
       "    </tr>\n",
       "    <tr>\n",
       "      <th>4</th>\n",
       "      <td>5</td>\n",
       "      <td>2</td>\n",
       "      <td>mariokeller</td>\n",
       "      <td>2</td>\n",
       "    </tr>\n",
       "    <tr>\n",
       "      <th>5</th>\n",
       "      <td>6</td>\n",
       "      <td>3</td>\n",
       "      <td>johnsonamanda</td>\n",
       "      <td>4</td>\n",
       "    </tr>\n",
       "    <tr>\n",
       "      <th>6</th>\n",
       "      <td>7</td>\n",
       "      <td>3</td>\n",
       "      <td>scotttamara</td>\n",
       "      <td>5</td>\n",
       "    </tr>\n",
       "    <tr>\n",
       "      <th>7</th>\n",
       "      <td>8</td>\n",
       "      <td>3</td>\n",
       "      <td>lesliegibbs</td>\n",
       "      <td>5</td>\n",
       "    </tr>\n",
       "    <tr>\n",
       "      <th>8</th>\n",
       "      <td>9</td>\n",
       "      <td>4</td>\n",
       "      <td>abbottjames</td>\n",
       "      <td>5</td>\n",
       "    </tr>\n",
       "    <tr>\n",
       "      <th>9</th>\n",
       "      <td>10</td>\n",
       "      <td>4</td>\n",
       "      <td>valenciaanne</td>\n",
       "      <td>4</td>\n",
       "    </tr>\n",
       "    <tr>\n",
       "      <th>10</th>\n",
       "      <td>11</td>\n",
       "      <td>5</td>\n",
       "      <td>jeromebowen</td>\n",
       "      <td>4</td>\n",
       "    </tr>\n",
       "    <tr>\n",
       "      <th>11</th>\n",
       "      <td>12</td>\n",
       "      <td>5</td>\n",
       "      <td>staylor</td>\n",
       "      <td>4</td>\n",
       "    </tr>\n",
       "    <tr>\n",
       "      <th>12</th>\n",
       "      <td>13</td>\n",
       "      <td>5</td>\n",
       "      <td>susan85</td>\n",
       "      <td>3</td>\n",
       "    </tr>\n",
       "    <tr>\n",
       "      <th>13</th>\n",
       "      <td>14</td>\n",
       "      <td>5</td>\n",
       "      <td>npowers</td>\n",
       "      <td>4</td>\n",
       "    </tr>\n",
       "    <tr>\n",
       "      <th>14</th>\n",
       "      <td>15</td>\n",
       "      <td>5</td>\n",
       "      <td>znelson</td>\n",
       "      <td>5</td>\n",
       "    </tr>\n",
       "    <tr>\n",
       "      <th>15</th>\n",
       "      <td>16</td>\n",
       "      <td>5</td>\n",
       "      <td>thomas49</td>\n",
       "      <td>4</td>\n",
       "    </tr>\n",
       "    <tr>\n",
       "      <th>16</th>\n",
       "      <td>17</td>\n",
       "      <td>6</td>\n",
       "      <td>eallen</td>\n",
       "      <td>2</td>\n",
       "    </tr>\n",
       "    <tr>\n",
       "      <th>17</th>\n",
       "      <td>18</td>\n",
       "      <td>6</td>\n",
       "      <td>shermannatalie</td>\n",
       "      <td>3</td>\n",
       "    </tr>\n",
       "    <tr>\n",
       "      <th>18</th>\n",
       "      <td>19</td>\n",
       "      <td>6</td>\n",
       "      <td>martinadam</td>\n",
       "      <td>3</td>\n",
       "    </tr>\n",
       "    <tr>\n",
       "      <th>19</th>\n",
       "      <td>20</td>\n",
       "      <td>6</td>\n",
       "      <td>serranoangela</td>\n",
       "      <td>5</td>\n",
       "    </tr>\n",
       "    <tr>\n",
       "      <th>20</th>\n",
       "      <td>21</td>\n",
       "      <td>6</td>\n",
       "      <td>adamsabigail</td>\n",
       "      <td>5</td>\n",
       "    </tr>\n",
       "    <tr>\n",
       "      <th>21</th>\n",
       "      <td>22</td>\n",
       "      <td>6</td>\n",
       "      <td>sfitzgerald</td>\n",
       "      <td>3</td>\n",
       "    </tr>\n",
       "    <tr>\n",
       "      <th>22</th>\n",
       "      <td>23</td>\n",
       "      <td>6</td>\n",
       "      <td>walter49</td>\n",
       "      <td>4</td>\n",
       "    </tr>\n",
       "    <tr>\n",
       "      <th>23</th>\n",
       "      <td>24</td>\n",
       "      <td>6</td>\n",
       "      <td>jasongoodman</td>\n",
       "      <td>2</td>\n",
       "    </tr>\n",
       "    <tr>\n",
       "      <th>24</th>\n",
       "      <td>25</td>\n",
       "      <td>6</td>\n",
       "      <td>jeromebowen</td>\n",
       "      <td>4</td>\n",
       "    </tr>\n",
       "  </tbody>\n",
       "</table>\n",
       "</div>"
      ],
      "text/plain": [
       "    rating_id  book_id        username  rating\n",
       "0           1        1      ryanfranco       4\n",
       "1           2        1   grantpatricia       2\n",
       "2           3        1    brandtandrea       5\n",
       "3           4        2        lorichen       3\n",
       "4           5        2     mariokeller       2\n",
       "5           6        3   johnsonamanda       4\n",
       "6           7        3     scotttamara       5\n",
       "7           8        3     lesliegibbs       5\n",
       "8           9        4     abbottjames       5\n",
       "9          10        4    valenciaanne       4\n",
       "10         11        5     jeromebowen       4\n",
       "11         12        5         staylor       4\n",
       "12         13        5         susan85       3\n",
       "13         14        5         npowers       4\n",
       "14         15        5         znelson       5\n",
       "15         16        5        thomas49       4\n",
       "16         17        6          eallen       2\n",
       "17         18        6  shermannatalie       3\n",
       "18         19        6      martinadam       3\n",
       "19         20        6   serranoangela       5\n",
       "20         21        6    adamsabigail       5\n",
       "21         22        6     sfitzgerald       3\n",
       "22         23        6        walter49       4\n",
       "23         24        6    jasongoodman       2\n",
       "24         25        6     jeromebowen       4"
      ]
     },
     "execution_count": 17,
     "metadata": {},
     "output_type": "execute_result"
    }
   ],
   "source": [
    "# Show the first 25 records in 'ratings' Table\n",
    "query = 'SELECT * FROM ratings \\\n",
    "         LIMIT 25;'\n",
    "         \n",
    "pd.io.sql.read_sql(query, con = engine)"
   ]
  },
  {
   "cell_type": "code",
   "execution_count": 18,
   "id": "6e8bfcd7",
   "metadata": {},
   "outputs": [
    {
     "data": {
      "application/vnd.microsoft.datawrangler.viewer.v0+json": {
       "columns": [
        {
         "name": "index",
         "rawType": "int64",
         "type": "integer"
        },
        {
         "name": "review_id",
         "rawType": "int64",
         "type": "integer"
        },
        {
         "name": "book_id",
         "rawType": "int64",
         "type": "integer"
        },
        {
         "name": "username",
         "rawType": "object",
         "type": "string"
        },
        {
         "name": "text",
         "rawType": "object",
         "type": "string"
        }
       ],
       "ref": "4ff12d45-fde5-451f-92c8-fc455ab8d375",
       "rows": [
        [
         "0",
         "1",
         "1",
         "brandtandrea",
         "Mention society tell send professor analysis. Over provide race technology continue these."
        ],
        [
         "1",
         "2",
         "1",
         "ryanfranco",
         "Foot glass pretty audience hit themselves. Among admit investment argue security."
        ],
        [
         "2",
         "3",
         "2",
         "lorichen",
         "Listen treat keep worry. Miss husband tax but person sport treatment industry. Kitchen decision deep the. Social party body the."
        ],
        [
         "3",
         "4",
         "3",
         "johnsonamanda",
         "Finally month interesting blue could nature cultural bit. Prepare beat finish grow that smile teach. Dream me play near."
        ],
        [
         "4",
         "5",
         "3",
         "scotttamara",
         "Nation purpose heavy give wait song will. List dinner another whole positive radio fast. Music staff many green."
        ],
        [
         "5",
         "6",
         "3",
         "lesliegibbs",
         "Analysis no several cause international."
        ],
        [
         "6",
         "7",
         "4",
         "valenciaanne",
         "One there cost another. Say type save. With personal where occur direction foot. Half sit role want."
        ],
        [
         "7",
         "8",
         "4",
         "abbottjames",
         "Within enough mother. There at system full recent play recognize."
        ],
        [
         "8",
         "9",
         "5",
         "npowers",
         "Thank now focus realize economy focus fly. Item step fine war. Western service history anything."
        ],
        [
         "9",
         "10",
         "5",
         "staylor",
         "Game push lot reduce where remember. Including song travel hair foot. Director always myself past story chance reason."
        ],
        [
         "10",
         "11",
         "5",
         "thomas49",
         "Their physical over rise. Couple doctor seven western. Word compare financial late."
        ],
        [
         "11",
         "12",
         "5",
         "znelson",
         "Explain individual record wonder we must turn memory. Southern culture recently day."
        ],
        [
         "12",
         "13",
         "6",
         "walter49",
         "Western anyone until executive. Add teach ago ten me firm brother. Include her which when role kitchen but father. Economic east record though above west."
        ],
        [
         "13",
         "14",
         "6",
         "jasongoodman",
         "Much responsibility feel fund media. Wind music property buy. Game real every bill four general."
        ],
        [
         "14",
         "15",
         "6",
         "eallen",
         "Money arm first above."
        ],
        [
         "15",
         "16",
         "6",
         "sfitzgerald",
         "Miss effort gun strong surface civil. Resource young behind teach."
        ],
        [
         "16",
         "17",
         "7",
         "carla64",
         "Poor have radio environment it reduce build. Senior institution these necessary may word. Talk admit popular street door shake professor."
        ],
        [
         "17",
         "18",
         "7",
         "kevin78",
         "Feel really serve quickly fight. Anyone daughter office remain. Rule I system tell mind talk everything."
        ],
        [
         "18",
         "19",
         "7",
         "robert56",
         "Energy doctor cup. Nice low room out other."
        ],
        [
         "19",
         "20",
         "8",
         "richard89",
         "Sister statement than reflect. Crime hot guess sometimes all walk else."
        ],
        [
         "20",
         "21",
         "8",
         "cassandra90",
         "Blue at simple ok project. Film old firm away."
        ],
        [
         "21",
         "22",
         "8",
         "williamsangela",
         "Organization record might. Various loss political front suffer safe."
        ],
        [
         "22",
         "23",
         "9",
         "williamsangela",
         "Plan doctor man admit news. Market thousand truth voice set why. Often several system read across scientist view to."
        ],
        [
         "23",
         "24",
         "9",
         "lesliegibbs",
         "This station bad edge rather perform. Senior indeed say. Worker factor wear see between together."
        ],
        [
         "24",
         "25",
         "10",
         "ehall",
         "Blue girl check. American fill social happy. Enjoy region Congress your ok. Region environmental set."
        ]
       ],
       "shape": {
        "columns": 4,
        "rows": 25
       }
      },
      "text/html": [
       "<div>\n",
       "<style scoped>\n",
       "    .dataframe tbody tr th:only-of-type {\n",
       "        vertical-align: middle;\n",
       "    }\n",
       "\n",
       "    .dataframe tbody tr th {\n",
       "        vertical-align: top;\n",
       "    }\n",
       "\n",
       "    .dataframe thead th {\n",
       "        text-align: right;\n",
       "    }\n",
       "</style>\n",
       "<table border=\"1\" class=\"dataframe\">\n",
       "  <thead>\n",
       "    <tr style=\"text-align: right;\">\n",
       "      <th></th>\n",
       "      <th>review_id</th>\n",
       "      <th>book_id</th>\n",
       "      <th>username</th>\n",
       "      <th>text</th>\n",
       "    </tr>\n",
       "  </thead>\n",
       "  <tbody>\n",
       "    <tr>\n",
       "      <th>0</th>\n",
       "      <td>1</td>\n",
       "      <td>1</td>\n",
       "      <td>brandtandrea</td>\n",
       "      <td>Mention society tell send professor analysis. ...</td>\n",
       "    </tr>\n",
       "    <tr>\n",
       "      <th>1</th>\n",
       "      <td>2</td>\n",
       "      <td>1</td>\n",
       "      <td>ryanfranco</td>\n",
       "      <td>Foot glass pretty audience hit themselves. Amo...</td>\n",
       "    </tr>\n",
       "    <tr>\n",
       "      <th>2</th>\n",
       "      <td>3</td>\n",
       "      <td>2</td>\n",
       "      <td>lorichen</td>\n",
       "      <td>Listen treat keep worry. Miss husband tax but ...</td>\n",
       "    </tr>\n",
       "    <tr>\n",
       "      <th>3</th>\n",
       "      <td>4</td>\n",
       "      <td>3</td>\n",
       "      <td>johnsonamanda</td>\n",
       "      <td>Finally month interesting blue could nature cu...</td>\n",
       "    </tr>\n",
       "    <tr>\n",
       "      <th>4</th>\n",
       "      <td>5</td>\n",
       "      <td>3</td>\n",
       "      <td>scotttamara</td>\n",
       "      <td>Nation purpose heavy give wait song will. List...</td>\n",
       "    </tr>\n",
       "    <tr>\n",
       "      <th>5</th>\n",
       "      <td>6</td>\n",
       "      <td>3</td>\n",
       "      <td>lesliegibbs</td>\n",
       "      <td>Analysis no several cause international.</td>\n",
       "    </tr>\n",
       "    <tr>\n",
       "      <th>6</th>\n",
       "      <td>7</td>\n",
       "      <td>4</td>\n",
       "      <td>valenciaanne</td>\n",
       "      <td>One there cost another. Say type save. With pe...</td>\n",
       "    </tr>\n",
       "    <tr>\n",
       "      <th>7</th>\n",
       "      <td>8</td>\n",
       "      <td>4</td>\n",
       "      <td>abbottjames</td>\n",
       "      <td>Within enough mother. There at system full rec...</td>\n",
       "    </tr>\n",
       "    <tr>\n",
       "      <th>8</th>\n",
       "      <td>9</td>\n",
       "      <td>5</td>\n",
       "      <td>npowers</td>\n",
       "      <td>Thank now focus realize economy focus fly. Ite...</td>\n",
       "    </tr>\n",
       "    <tr>\n",
       "      <th>9</th>\n",
       "      <td>10</td>\n",
       "      <td>5</td>\n",
       "      <td>staylor</td>\n",
       "      <td>Game push lot reduce where remember. Including...</td>\n",
       "    </tr>\n",
       "    <tr>\n",
       "      <th>10</th>\n",
       "      <td>11</td>\n",
       "      <td>5</td>\n",
       "      <td>thomas49</td>\n",
       "      <td>Their physical over rise. Couple doctor seven ...</td>\n",
       "    </tr>\n",
       "    <tr>\n",
       "      <th>11</th>\n",
       "      <td>12</td>\n",
       "      <td>5</td>\n",
       "      <td>znelson</td>\n",
       "      <td>Explain individual record wonder we must turn ...</td>\n",
       "    </tr>\n",
       "    <tr>\n",
       "      <th>12</th>\n",
       "      <td>13</td>\n",
       "      <td>6</td>\n",
       "      <td>walter49</td>\n",
       "      <td>Western anyone until executive. Add teach ago ...</td>\n",
       "    </tr>\n",
       "    <tr>\n",
       "      <th>13</th>\n",
       "      <td>14</td>\n",
       "      <td>6</td>\n",
       "      <td>jasongoodman</td>\n",
       "      <td>Much responsibility feel fund media. Wind musi...</td>\n",
       "    </tr>\n",
       "    <tr>\n",
       "      <th>14</th>\n",
       "      <td>15</td>\n",
       "      <td>6</td>\n",
       "      <td>eallen</td>\n",
       "      <td>Money arm first above.</td>\n",
       "    </tr>\n",
       "    <tr>\n",
       "      <th>15</th>\n",
       "      <td>16</td>\n",
       "      <td>6</td>\n",
       "      <td>sfitzgerald</td>\n",
       "      <td>Miss effort gun strong surface civil. Resource...</td>\n",
       "    </tr>\n",
       "    <tr>\n",
       "      <th>16</th>\n",
       "      <td>17</td>\n",
       "      <td>7</td>\n",
       "      <td>carla64</td>\n",
       "      <td>Poor have radio environment it reduce build. S...</td>\n",
       "    </tr>\n",
       "    <tr>\n",
       "      <th>17</th>\n",
       "      <td>18</td>\n",
       "      <td>7</td>\n",
       "      <td>kevin78</td>\n",
       "      <td>Feel really serve quickly fight. Anyone daught...</td>\n",
       "    </tr>\n",
       "    <tr>\n",
       "      <th>18</th>\n",
       "      <td>19</td>\n",
       "      <td>7</td>\n",
       "      <td>robert56</td>\n",
       "      <td>Energy doctor cup. Nice low room out other.</td>\n",
       "    </tr>\n",
       "    <tr>\n",
       "      <th>19</th>\n",
       "      <td>20</td>\n",
       "      <td>8</td>\n",
       "      <td>richard89</td>\n",
       "      <td>Sister statement than reflect. Crime hot guess...</td>\n",
       "    </tr>\n",
       "    <tr>\n",
       "      <th>20</th>\n",
       "      <td>21</td>\n",
       "      <td>8</td>\n",
       "      <td>cassandra90</td>\n",
       "      <td>Blue at simple ok project. Film old firm away.</td>\n",
       "    </tr>\n",
       "    <tr>\n",
       "      <th>21</th>\n",
       "      <td>22</td>\n",
       "      <td>8</td>\n",
       "      <td>williamsangela</td>\n",
       "      <td>Organization record might. Various loss politi...</td>\n",
       "    </tr>\n",
       "    <tr>\n",
       "      <th>22</th>\n",
       "      <td>23</td>\n",
       "      <td>9</td>\n",
       "      <td>williamsangela</td>\n",
       "      <td>Plan doctor man admit news. Market thousand tr...</td>\n",
       "    </tr>\n",
       "    <tr>\n",
       "      <th>23</th>\n",
       "      <td>24</td>\n",
       "      <td>9</td>\n",
       "      <td>lesliegibbs</td>\n",
       "      <td>This station bad edge rather perform. Senior i...</td>\n",
       "    </tr>\n",
       "    <tr>\n",
       "      <th>24</th>\n",
       "      <td>25</td>\n",
       "      <td>10</td>\n",
       "      <td>ehall</td>\n",
       "      <td>Blue girl check. American fill social happy. E...</td>\n",
       "    </tr>\n",
       "  </tbody>\n",
       "</table>\n",
       "</div>"
      ],
      "text/plain": [
       "    review_id  book_id        username  \\\n",
       "0           1        1    brandtandrea   \n",
       "1           2        1      ryanfranco   \n",
       "2           3        2        lorichen   \n",
       "3           4        3   johnsonamanda   \n",
       "4           5        3     scotttamara   \n",
       "5           6        3     lesliegibbs   \n",
       "6           7        4    valenciaanne   \n",
       "7           8        4     abbottjames   \n",
       "8           9        5         npowers   \n",
       "9          10        5         staylor   \n",
       "10         11        5        thomas49   \n",
       "11         12        5         znelson   \n",
       "12         13        6        walter49   \n",
       "13         14        6    jasongoodman   \n",
       "14         15        6          eallen   \n",
       "15         16        6     sfitzgerald   \n",
       "16         17        7         carla64   \n",
       "17         18        7         kevin78   \n",
       "18         19        7        robert56   \n",
       "19         20        8       richard89   \n",
       "20         21        8     cassandra90   \n",
       "21         22        8  williamsangela   \n",
       "22         23        9  williamsangela   \n",
       "23         24        9     lesliegibbs   \n",
       "24         25       10           ehall   \n",
       "\n",
       "                                                 text  \n",
       "0   Mention society tell send professor analysis. ...  \n",
       "1   Foot glass pretty audience hit themselves. Amo...  \n",
       "2   Listen treat keep worry. Miss husband tax but ...  \n",
       "3   Finally month interesting blue could nature cu...  \n",
       "4   Nation purpose heavy give wait song will. List...  \n",
       "5            Analysis no several cause international.  \n",
       "6   One there cost another. Say type save. With pe...  \n",
       "7   Within enough mother. There at system full rec...  \n",
       "8   Thank now focus realize economy focus fly. Ite...  \n",
       "9   Game push lot reduce where remember. Including...  \n",
       "10  Their physical over rise. Couple doctor seven ...  \n",
       "11  Explain individual record wonder we must turn ...  \n",
       "12  Western anyone until executive. Add teach ago ...  \n",
       "13  Much responsibility feel fund media. Wind musi...  \n",
       "14                             Money arm first above.  \n",
       "15  Miss effort gun strong surface civil. Resource...  \n",
       "16  Poor have radio environment it reduce build. S...  \n",
       "17  Feel really serve quickly fight. Anyone daught...  \n",
       "18        Energy doctor cup. Nice low room out other.  \n",
       "19  Sister statement than reflect. Crime hot guess...  \n",
       "20     Blue at simple ok project. Film old firm away.  \n",
       "21  Organization record might. Various loss politi...  \n",
       "22  Plan doctor man admit news. Market thousand tr...  \n",
       "23  This station bad edge rather perform. Senior i...  \n",
       "24  Blue girl check. American fill social happy. E...  "
      ]
     },
     "execution_count": 18,
     "metadata": {},
     "output_type": "execute_result"
    }
   ],
   "source": [
    "# Show the first 25 records in 'reviews' Table\n",
    "query = 'SELECT * FROM reviews \\\n",
    "         LIMIT 25;'\n",
    "         \n",
    "pd.io.sql.read_sql(query, con = engine)"
   ]
  },
  {
   "cell_type": "markdown",
   "id": "767f396b",
   "metadata": {},
   "source": [
    "### 🔍 __4. PostgreSQL Queries__ "
   ]
  },
  {
   "cell_type": "code",
   "execution_count": 19,
   "id": "896ceacd",
   "metadata": {},
   "outputs": [
    {
     "data": {
      "application/vnd.microsoft.datawrangler.viewer.v0+json": {
       "columns": [
        {
         "name": "index",
         "rawType": "int64",
         "type": "integer"
        },
        {
         "name": "total_books",
         "rawType": "int64",
         "type": "integer"
        }
       ],
       "ref": "e60b7d71-eeff-47d8-a064-ef6cfd9222b3",
       "rows": [
        [
         "0",
         "819"
        ]
       ],
       "shape": {
        "columns": 1,
        "rows": 1
       }
      },
      "text/html": [
       "<div>\n",
       "<style scoped>\n",
       "    .dataframe tbody tr th:only-of-type {\n",
       "        vertical-align: middle;\n",
       "    }\n",
       "\n",
       "    .dataframe tbody tr th {\n",
       "        vertical-align: top;\n",
       "    }\n",
       "\n",
       "    .dataframe thead th {\n",
       "        text-align: right;\n",
       "    }\n",
       "</style>\n",
       "<table border=\"1\" class=\"dataframe\">\n",
       "  <thead>\n",
       "    <tr style=\"text-align: right;\">\n",
       "      <th></th>\n",
       "      <th>total_books</th>\n",
       "    </tr>\n",
       "  </thead>\n",
       "  <tbody>\n",
       "    <tr>\n",
       "      <th>0</th>\n",
       "      <td>819</td>\n",
       "    </tr>\n",
       "  </tbody>\n",
       "</table>\n",
       "</div>"
      ],
      "text/plain": [
       "   total_books\n",
       "0          819"
      ]
     },
     "execution_count": 19,
     "metadata": {},
     "output_type": "execute_result"
    }
   ],
   "source": [
    "# Find the number of books published after January 1, 2000\n",
    "query = \"SELECT COUNT (book_id) AS total_books \\\n",
    "         FROM books \\\n",
    "         WHERE publication_date > '2000-01-01';\"\n",
    "         \n",
    "pd.io.sql.read_sql(query, con = engine)"
   ]
  },
  {
   "cell_type": "code",
   "execution_count": 20,
   "id": "96bff3c0",
   "metadata": {},
   "outputs": [
    {
     "data": {
      "application/vnd.microsoft.datawrangler.viewer.v0+json": {
       "columns": [
        {
         "name": "index",
         "rawType": "int64",
         "type": "integer"
        },
        {
         "name": "book_id",
         "rawType": "int64",
         "type": "integer"
        },
        {
         "name": "title",
         "rawType": "object",
         "type": "string"
        },
        {
         "name": "total_reviews",
         "rawType": "int64",
         "type": "integer"
        },
        {
         "name": "average_rating",
         "rawType": "float64",
         "type": "float"
        }
       ],
       "ref": "e173c832-89f4-4c61-a5a6-c146699e2cf7",
       "rows": [
        [
         "0",
         "1",
         "'Salem's Lot",
         "2",
         "3.6666666666666665"
        ],
        [
         "1",
         "2",
         "1 000 Places to See Before You Die",
         "1",
         "2.5"
        ],
        [
         "2",
         "3",
         "13 Little Blue Envelopes (Little Blue Envelope  #1)",
         "3",
         "4.666666666666667"
        ],
        [
         "3",
         "4",
         "1491: New Revelations of the Americas Before Columbus",
         "2",
         "4.5"
        ],
        [
         "4",
         "5",
         "1776",
         "4",
         "4.0"
        ],
        [
         "5",
         "6",
         "1st to Die (Women's Murder Club  #1)",
         "4",
         "3.5"
        ],
        [
         "6",
         "7",
         "2nd Chance (Women's Murder Club  #2)",
         "3",
         "3.0"
        ],
        [
         "7",
         "8",
         "4th of July (Women's Murder Club  #4)",
         "3",
         "4.0"
        ],
        [
         "8",
         "9",
         "A Beautiful Mind",
         "2",
         "4.25"
        ],
        [
         "9",
         "10",
         "A Bend in the Road",
         "3",
         "3.2"
        ],
        [
         "10",
         "11",
         "A Breath of Snow and Ashes (Outlander  #6)",
         "3",
         "4.25"
        ],
        [
         "11",
         "12",
         "A Brief History of Time",
         "4",
         "4.0"
        ],
        [
         "12",
         "13",
         "A Caress of Twilight (Merry Gentry  #2)",
         "2",
         "3.0"
        ],
        [
         "13",
         "14",
         "A Christmas Carol and Other Christmas Writings",
         "1",
         "4.5"
        ],
        [
         "14",
         "15",
         "A Clash of Kings  (A Song of Ice and Fire  #2)",
         "5",
         "4.391304347826087"
        ],
        [
         "15",
         "16",
         "A Crown of Swords (The Wheel of Time  #7)",
         "3",
         "4.5"
        ],
        [
         "16",
         "17",
         "A Dirty Job (Grim Reaper  #1)",
         "4",
         "5.0"
        ],
        [
         "17",
         "18",
         "A Drink Before the War (Kenzie & Gennaro  #1)",
         "2",
         "4.0"
        ],
        [
         "18",
         "19",
         "A Fine Balance",
         "4",
         "4.0"
        ],
        [
         "19",
         "20",
         "A Fistful of Charms (The Hollows  #4)",
         "2",
         "5.0"
        ],
        [
         "20",
         "21",
         "A Game of You (The Sandman  #5)",
         "2",
         "4.5"
        ],
        [
         "21",
         "22",
         "A Great and Terrible Beauty (Gemma Doyle #1)",
         "4",
         "3.2857142857142856"
        ],
        [
         "22",
         "23",
         "A Hat Full of Sky (Discworld  #32; Tiffany Aching  #2)",
         "2",
         "4.0"
        ],
        [
         "23",
         "24",
         "A Heartbreaking Work of Staggering Genius",
         "4",
         "4.166666666666667"
        ],
        [
         "24",
         "25",
         "A History of God: The 4 000-Year Quest of Judaism  Christianity  and Islam",
         "2",
         "4.0"
        ],
        [
         "25",
         "26",
         "A Hunger Like No Other (Immortals After Dark  #1)",
         "2",
         "4.0"
        ],
        [
         "26",
         "27",
         "A Lesson Before Dying",
         "2",
         "4.5"
        ],
        [
         "27",
         "28",
         "A Light in the Attic",
         "3",
         "4.076923076923077"
        ],
        [
         "28",
         "29",
         "A Little Princess",
         "4",
         "3.888888888888889"
        ],
        [
         "29",
         "30",
         "A Long Way Down",
         "3",
         "3.0"
        ],
        [
         "30",
         "31",
         "A Long Way Gone: Memoirs of a Boy Soldier",
         "4",
         "4.166666666666667"
        ],
        [
         "31",
         "32",
         "A Long Way from Chicago (A Long Way from Chicago  #1)",
         "2",
         "3.5"
        ],
        [
         "32",
         "33",
         "A Man Without a Country",
         "2",
         "4.0"
        ],
        [
         "33",
         "34",
         "A Map of the World",
         "2",
         "3.6666666666666665"
        ],
        [
         "34",
         "35",
         "A Million Little Pieces",
         "4",
         "3.75"
        ],
        [
         "35",
         "36",
         "A Moveable Feast",
         "3",
         "4.666666666666667"
        ],
        [
         "36",
         "37",
         "A Murder Is Announced (Miss Marple  #5)",
         "2",
         "4.0"
        ],
        [
         "37",
         "38",
         "A Painted House",
         "3",
         "4.0"
        ],
        [
         "38",
         "39",
         "A Passage to India",
         "2",
         "3.5"
        ],
        [
         "39",
         "40",
         "A People's History of the United States",
         "4",
         "4.0"
        ],
        [
         "40",
         "41",
         "A Portrait of the Artist as a Young Man",
         "3",
         "4.25"
        ],
        [
         "41",
         "42",
         "A Princess of Mars (Barsoom  #1)",
         "2",
         "4.5"
        ],
        [
         "42",
         "43",
         "A Quick Bite (Argeneau #1)",
         "2",
         "4.5"
        ],
        [
         "43",
         "44",
         "A Room of One's Own",
         "3",
         "4.0"
        ],
        [
         "44",
         "45",
         "A Room with a View",
         "3",
         "3.8"
        ],
        [
         "45",
         "46",
         "A Scanner Darkly",
         "3",
         "3.6666666666666665"
        ],
        [
         "46",
         "47",
         "A Separate Peace",
         "4",
         "3.2857142857142856"
        ],
        [
         "47",
         "48",
         "A Short History of Nearly Everything",
         "4",
         "4.0"
        ],
        [
         "48",
         "49",
         "A Streetcar Named Desire",
         "3",
         "3.6666666666666665"
        ],
        [
         "49",
         "50",
         "A Thousand Acres",
         "2",
         "3.5"
        ]
       ],
       "shape": {
        "columns": 4,
        "rows": 1000
       }
      },
      "text/html": [
       "<div>\n",
       "<style scoped>\n",
       "    .dataframe tbody tr th:only-of-type {\n",
       "        vertical-align: middle;\n",
       "    }\n",
       "\n",
       "    .dataframe tbody tr th {\n",
       "        vertical-align: top;\n",
       "    }\n",
       "\n",
       "    .dataframe thead th {\n",
       "        text-align: right;\n",
       "    }\n",
       "</style>\n",
       "<table border=\"1\" class=\"dataframe\">\n",
       "  <thead>\n",
       "    <tr style=\"text-align: right;\">\n",
       "      <th></th>\n",
       "      <th>book_id</th>\n",
       "      <th>title</th>\n",
       "      <th>total_reviews</th>\n",
       "      <th>average_rating</th>\n",
       "    </tr>\n",
       "  </thead>\n",
       "  <tbody>\n",
       "    <tr>\n",
       "      <th>0</th>\n",
       "      <td>1</td>\n",
       "      <td>'Salem's Lot</td>\n",
       "      <td>2</td>\n",
       "      <td>3.666667</td>\n",
       "    </tr>\n",
       "    <tr>\n",
       "      <th>1</th>\n",
       "      <td>2</td>\n",
       "      <td>1 000 Places to See Before You Die</td>\n",
       "      <td>1</td>\n",
       "      <td>2.500000</td>\n",
       "    </tr>\n",
       "    <tr>\n",
       "      <th>2</th>\n",
       "      <td>3</td>\n",
       "      <td>13 Little Blue Envelopes (Little Blue Envelope...</td>\n",
       "      <td>3</td>\n",
       "      <td>4.666667</td>\n",
       "    </tr>\n",
       "    <tr>\n",
       "      <th>3</th>\n",
       "      <td>4</td>\n",
       "      <td>1491: New Revelations of the Americas Before C...</td>\n",
       "      <td>2</td>\n",
       "      <td>4.500000</td>\n",
       "    </tr>\n",
       "    <tr>\n",
       "      <th>4</th>\n",
       "      <td>5</td>\n",
       "      <td>1776</td>\n",
       "      <td>4</td>\n",
       "      <td>4.000000</td>\n",
       "    </tr>\n",
       "    <tr>\n",
       "      <th>...</th>\n",
       "      <td>...</td>\n",
       "      <td>...</td>\n",
       "      <td>...</td>\n",
       "      <td>...</td>\n",
       "    </tr>\n",
       "    <tr>\n",
       "      <th>995</th>\n",
       "      <td>996</td>\n",
       "      <td>Wyrd Sisters (Discworld  #6; Witches #2)</td>\n",
       "      <td>3</td>\n",
       "      <td>3.666667</td>\n",
       "    </tr>\n",
       "    <tr>\n",
       "      <th>996</th>\n",
       "      <td>997</td>\n",
       "      <td>Xenocide (Ender's Saga  #3)</td>\n",
       "      <td>3</td>\n",
       "      <td>3.400000</td>\n",
       "    </tr>\n",
       "    <tr>\n",
       "      <th>997</th>\n",
       "      <td>998</td>\n",
       "      <td>Year of Wonders</td>\n",
       "      <td>4</td>\n",
       "      <td>3.200000</td>\n",
       "    </tr>\n",
       "    <tr>\n",
       "      <th>998</th>\n",
       "      <td>999</td>\n",
       "      <td>You Suck (A Love Story  #2)</td>\n",
       "      <td>2</td>\n",
       "      <td>4.500000</td>\n",
       "    </tr>\n",
       "    <tr>\n",
       "      <th>999</th>\n",
       "      <td>1000</td>\n",
       "      <td>Zen and the Art of Motorcycle Maintenance: An ...</td>\n",
       "      <td>4</td>\n",
       "      <td>3.833333</td>\n",
       "    </tr>\n",
       "  </tbody>\n",
       "</table>\n",
       "<p>1000 rows × 4 columns</p>\n",
       "</div>"
      ],
      "text/plain": [
       "     book_id                                              title  \\\n",
       "0          1                                       'Salem's Lot   \n",
       "1          2                 1 000 Places to See Before You Die   \n",
       "2          3  13 Little Blue Envelopes (Little Blue Envelope...   \n",
       "3          4  1491: New Revelations of the Americas Before C...   \n",
       "4          5                                               1776   \n",
       "..       ...                                                ...   \n",
       "995      996           Wyrd Sisters (Discworld  #6; Witches #2)   \n",
       "996      997                        Xenocide (Ender's Saga  #3)   \n",
       "997      998                                    Year of Wonders   \n",
       "998      999                        You Suck (A Love Story  #2)   \n",
       "999     1000  Zen and the Art of Motorcycle Maintenance: An ...   \n",
       "\n",
       "     total_reviews  average_rating  \n",
       "0                2        3.666667  \n",
       "1                1        2.500000  \n",
       "2                3        4.666667  \n",
       "3                2        4.500000  \n",
       "4                4        4.000000  \n",
       "..             ...             ...  \n",
       "995              3        3.666667  \n",
       "996              3        3.400000  \n",
       "997              4        3.200000  \n",
       "998              2        4.500000  \n",
       "999              4        3.833333  \n",
       "\n",
       "[1000 rows x 4 columns]"
      ]
     },
     "execution_count": 20,
     "metadata": {},
     "output_type": "execute_result"
    }
   ],
   "source": [
    "# Find the number of user reviews and the average rating for each book.\n",
    "query = \"SELECT b.book_id, b.title, COUNT(DISTINCT r.review_id) AS total_reviews, AVG(rt.rating) AS average_rating \\\n",
    "         FROM books b \\\n",
    "         LEFT JOIN reviews r ON b.book_id = r.book_id \\\n",
    "         LEFT JOIN ratings rt ON b.book_id = rt.book_id \\\n",
    "         GROUP BY b.book_id, b.title \\\n",
    "         ORDER BY b.book_id;\"\n",
    "         \n",
    "pd.io.sql.read_sql(query, con = engine)"
   ]
  },
  {
   "cell_type": "code",
   "execution_count": 22,
   "id": "aaa9e855",
   "metadata": {},
   "outputs": [
    {
     "data": {
      "application/vnd.microsoft.datawrangler.viewer.v0+json": {
       "columns": [
        {
         "name": "index",
         "rawType": "int64",
         "type": "integer"
        },
        {
         "name": "publisher_id",
         "rawType": "int64",
         "type": "integer"
        },
        {
         "name": "publisher",
         "rawType": "object",
         "type": "string"
        },
        {
         "name": "total_books",
         "rawType": "int64",
         "type": "integer"
        }
       ],
       "ref": "018f93dd-f080-49a8-8475-7347c640f72d",
       "rows": [
        [
         "0",
         "212",
         "Penguin Books",
         "42"
        ]
       ],
       "shape": {
        "columns": 3,
        "rows": 1
       }
      },
      "text/html": [
       "<div>\n",
       "<style scoped>\n",
       "    .dataframe tbody tr th:only-of-type {\n",
       "        vertical-align: middle;\n",
       "    }\n",
       "\n",
       "    .dataframe tbody tr th {\n",
       "        vertical-align: top;\n",
       "    }\n",
       "\n",
       "    .dataframe thead th {\n",
       "        text-align: right;\n",
       "    }\n",
       "</style>\n",
       "<table border=\"1\" class=\"dataframe\">\n",
       "  <thead>\n",
       "    <tr style=\"text-align: right;\">\n",
       "      <th></th>\n",
       "      <th>publisher_id</th>\n",
       "      <th>publisher</th>\n",
       "      <th>total_books</th>\n",
       "    </tr>\n",
       "  </thead>\n",
       "  <tbody>\n",
       "    <tr>\n",
       "      <th>0</th>\n",
       "      <td>212</td>\n",
       "      <td>Penguin Books</td>\n",
       "      <td>42</td>\n",
       "    </tr>\n",
       "  </tbody>\n",
       "</table>\n",
       "</div>"
      ],
      "text/plain": [
       "   publisher_id      publisher  total_books\n",
       "0           212  Penguin Books           42"
      ]
     },
     "execution_count": 22,
     "metadata": {},
     "output_type": "execute_result"
    }
   ],
   "source": [
    "# Identify the publisher that has published the largest number of books with more than 50 pages (this will help you exclude pamphlets and \n",
    "# similar publications from your analysis).\n",
    "query = \"SELECT p.publisher_id, p.publisher, COUNT(*) AS total_books \\\n",
    "         FROM books b \\\n",
    "         INNER JOIN publishers p ON b.publisher_id = p.publisher_id \\\n",
    "         WHERE b.num_pages > 50 \\\n",
    "         GROUP BY p.publisher_id, p.publisher \\\n",
    "         ORDER BY total_books DESC \\\n",
    "         LIMIT 1;\"\n",
    "\n",
    "pd.io.sql.read_sql(query, con = engine)"
   ]
  },
  {
   "cell_type": "code",
   "execution_count": 23,
   "id": "e46e6f0f",
   "metadata": {},
   "outputs": [
    {
     "data": {
      "application/vnd.microsoft.datawrangler.viewer.v0+json": {
       "columns": [
        {
         "name": "index",
         "rawType": "int64",
         "type": "integer"
        },
        {
         "name": "author_id",
         "rawType": "int64",
         "type": "integer"
        },
        {
         "name": "author",
         "rawType": "object",
         "type": "string"
        },
        {
         "name": "author_avg_rating",
         "rawType": "float64",
         "type": "float"
        }
       ],
       "ref": "9cbf1373-835f-4f68-a8c6-becb416d4ff6",
       "rows": [
        [
         "0",
         "236",
         "J.K. Rowling/Mary GrandPré",
         "4.283844038868471"
        ]
       ],
       "shape": {
        "columns": 3,
        "rows": 1
       }
      },
      "text/html": [
       "<div>\n",
       "<style scoped>\n",
       "    .dataframe tbody tr th:only-of-type {\n",
       "        vertical-align: middle;\n",
       "    }\n",
       "\n",
       "    .dataframe tbody tr th {\n",
       "        vertical-align: top;\n",
       "    }\n",
       "\n",
       "    .dataframe thead th {\n",
       "        text-align: right;\n",
       "    }\n",
       "</style>\n",
       "<table border=\"1\" class=\"dataframe\">\n",
       "  <thead>\n",
       "    <tr style=\"text-align: right;\">\n",
       "      <th></th>\n",
       "      <th>author_id</th>\n",
       "      <th>author</th>\n",
       "      <th>author_avg_rating</th>\n",
       "    </tr>\n",
       "  </thead>\n",
       "  <tbody>\n",
       "    <tr>\n",
       "      <th>0</th>\n",
       "      <td>236</td>\n",
       "      <td>J.K. Rowling/Mary GrandPré</td>\n",
       "      <td>4.283844</td>\n",
       "    </tr>\n",
       "  </tbody>\n",
       "</table>\n",
       "</div>"
      ],
      "text/plain": [
       "   author_id                      author  author_avg_rating\n",
       "0        236  J.K. Rowling/Mary GrandPré           4.283844"
      ]
     },
     "execution_count": 23,
     "metadata": {},
     "output_type": "execute_result"
    }
   ],
   "source": [
    "# Identify the author with the highest average book rating: Look only at books with at least 50 ratings.\n",
    "query = \"SELECT a.author_id, a.author, AVG(book_avg.rating_avg) AS author_avg_rating \\\n",
    "         FROM (SELECT b.book_id, b.author_id, AVG(r.rating) AS rating_avg, COUNT(r.rating_id) AS rating_count \\\n",
    "               FROM books b \\\n",
    "               JOIN ratings r ON b.book_id = r.book_id \\\n",
    "               GROUP BY b.book_id, b.author_id \\\n",
    "               HAVING COUNT(r.rating_id) >= 50) AS book_avg \\\n",
    "         JOIN authors a ON book_avg.author_id = a.author_id \\\n",
    "         GROUP BY a.author_id, a.author \\\n",
    "         ORDER BY author_avg_rating DESC \\\n",
    "         LIMIT 1;\"\n",
    "         \n",
    "pd.io.sql.read_sql(query, con = engine)"
   ]
  },
  {
   "cell_type": "code",
   "execution_count": 24,
   "id": "8c45aec8",
   "metadata": {},
   "outputs": [
    {
     "data": {
      "application/vnd.microsoft.datawrangler.viewer.v0+json": {
       "columns": [
        {
         "name": "index",
         "rawType": "int64",
         "type": "integer"
        },
        {
         "name": "avg_text_reviews",
         "rawType": "float64",
         "type": "float"
        }
       ],
       "ref": "b70bc8f3-8f5e-46b2-9b7c-240d19a927e5",
       "rows": [
        [
         "0",
         "719.75625"
        ]
       ],
       "shape": {
        "columns": 1,
        "rows": 1
       }
      },
      "text/html": [
       "<div>\n",
       "<style scoped>\n",
       "    .dataframe tbody tr th:only-of-type {\n",
       "        vertical-align: middle;\n",
       "    }\n",
       "\n",
       "    .dataframe tbody tr th {\n",
       "        vertical-align: top;\n",
       "    }\n",
       "\n",
       "    .dataframe thead th {\n",
       "        text-align: right;\n",
       "    }\n",
       "</style>\n",
       "<table border=\"1\" class=\"dataframe\">\n",
       "  <thead>\n",
       "    <tr style=\"text-align: right;\">\n",
       "      <th></th>\n",
       "      <th>avg_text_reviews</th>\n",
       "    </tr>\n",
       "  </thead>\n",
       "  <tbody>\n",
       "    <tr>\n",
       "      <th>0</th>\n",
       "      <td>719.75625</td>\n",
       "    </tr>\n",
       "  </tbody>\n",
       "</table>\n",
       "</div>"
      ],
      "text/plain": [
       "   avg_text_reviews\n",
       "0         719.75625"
      ]
     },
     "execution_count": 24,
     "metadata": {},
     "output_type": "execute_result"
    }
   ],
   "source": [
    "# Find the average number of text reviews among users who rated more than 50 books.\n",
    "query = \"SELECT AVG(user_review_count) AS avg_text_reviews \\\n",
    "         FROM (SELECT r.username, COUNT(rv.review_id) AS user_review_count \\\n",
    "               FROM ratings r \\\n",
    "               JOIN reviews rv ON r.username = rv.username \\\n",
    "               GROUP BY r.username \\\n",
    "               HAVING COUNT(r.rating_id) > 50) AS qualified_users;\"\n",
    "\n",
    "pd.io.sql.read_sql(query, con = engine)"
   ]
  },
  {
   "cell_type": "code",
   "execution_count": 15,
   "id": "e01b965f",
   "metadata": {},
   "outputs": [],
   "source": [
    "df = pd.read_sql(query, con=engine)\n",
    "df.to_csv(\"../data/raw/da_fp_reviews.csv\", index=False)"
   ]
  }
 ],
 "metadata": {
  "kernelspec": {
   "display_name": "ai_dataAnalysis",
   "language": "python",
   "name": "python3"
  },
  "language_info": {
   "codemirror_mode": {
    "name": "ipython",
    "version": 3
   },
   "file_extension": ".py",
   "mimetype": "text/x-python",
   "name": "python",
   "nbconvert_exporter": "python",
   "pygments_lexer": "ipython3",
   "version": "3.10.18"
  }
 },
 "nbformat": 4,
 "nbformat_minor": 5
}
